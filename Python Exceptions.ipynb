{
 "cells": [
  {
   "cell_type": "markdown",
   "metadata": {},
   "source": [
    "https://www.programiz.com/python-programming/exceptions"
   ]
  },
  {
   "cell_type": "markdown",
   "metadata": {},
   "source": [
    "**Python Errors and Built-in Exceptions**"
   ]
  },
  {
   "cell_type": "markdown",
   "metadata": {},
   "source": [
    "We make certain mistakes while writing a program that lead to errors when we try to run it. A python program terminates as soon as it encounters an unhandled error. \n",
    "\n",
    "These errors can be broadly classified into two classes:\n",
    "\n",
    "1. Syntax errors\n",
    "\n",
    "2. Logical errors (Exceptions)"
   ]
  },
  {
   "cell_type": "markdown",
   "metadata": {},
   "source": [
    "**Python Syntax Errors**"
   ]
  },
  {
   "cell_type": "markdown",
   "metadata": {},
   "source": [
    "Error caused by not following the proper structure (syntax) of the language is called syntax error or parsing error."
   ]
  },
  {
   "cell_type": "code",
   "execution_count": 1,
   "metadata": {},
   "outputs": [
    {
     "ename": "SyntaxError",
     "evalue": "invalid syntax (<ipython-input-1-9d7852119e02>, line 1)",
     "output_type": "error",
     "traceback": [
      "\u001b[1;36m  File \u001b[1;32m\"<ipython-input-1-9d7852119e02>\"\u001b[1;36m, line \u001b[1;32m1\u001b[0m\n\u001b[1;33m    if a < 3\u001b[0m\n\u001b[1;37m            ^\u001b[0m\n\u001b[1;31mSyntaxError\u001b[0m\u001b[1;31m:\u001b[0m invalid syntax\n"
     ]
    }
   ],
   "source": [
    "if a < 3\n",
    "File \"<interactive input>\", line 1\n",
    "    if a < 3"
   ]
  },
  {
   "cell_type": "markdown",
   "metadata": {},
   "source": [
    "As shown in the example, an arrow indicates where the parser ran into the syntax error.\n",
    "\n",
    "We can notice here that a colon : is missing in the if statement."
   ]
  },
  {
   "cell_type": "markdown",
   "metadata": {},
   "source": [
    "**Python Logical Errors (Exceptions)**"
   ]
  },
  {
   "cell_type": "markdown",
   "metadata": {},
   "source": [
    "Errors that occur at runtime (after passing the syntax test) are called exceptions or logical errors.\n",
    "\n",
    "For instance, they occur when we try to open a file(for reading) that does not exist (FileNotFoundError), try to divide a number by zero (ZeroDivisionError), or try to import a module that does not exist (ImportError)."
   ]
  },
  {
   "cell_type": "markdown",
   "metadata": {},
   "source": [
    "Whenever these types of runtime errors occur, Python creates an exception object. \n",
    "\n",
    "If not handled properly, it prints a traceback to that error along with some details about why that error occurred."
   ]
  },
  {
   "cell_type": "code",
   "execution_count": 2,
   "metadata": {},
   "outputs": [
    {
     "ename": "ZeroDivisionError",
     "evalue": "division by zero",
     "output_type": "error",
     "traceback": [
      "\u001b[1;31m---------------------------------------------------------------------------\u001b[0m",
      "\u001b[1;31mZeroDivisionError\u001b[0m                         Traceback (most recent call last)",
      "\u001b[1;32m<ipython-input-2-9e1622b385b6>\u001b[0m in \u001b[0;36m<module>\u001b[1;34m\u001b[0m\n\u001b[1;32m----> 1\u001b[1;33m \u001b[1;36m1\u001b[0m\u001b[1;33m/\u001b[0m\u001b[1;36m0\u001b[0m\u001b[1;33m\u001b[0m\u001b[1;33m\u001b[0m\u001b[0m\n\u001b[0m",
      "\u001b[1;31mZeroDivisionError\u001b[0m: division by zero"
     ]
    }
   ],
   "source": [
    "1/0"
   ]
  },
  {
   "cell_type": "code",
   "execution_count": 3,
   "metadata": {},
   "outputs": [
    {
     "ename": "FileNotFoundError",
     "evalue": "[Errno 2] No such file or directory: 'imaginary.txt'",
     "output_type": "error",
     "traceback": [
      "\u001b[1;31m---------------------------------------------------------------------------\u001b[0m",
      "\u001b[1;31mFileNotFoundError\u001b[0m                         Traceback (most recent call last)",
      "\u001b[1;32m<ipython-input-3-2bedf9c67314>\u001b[0m in \u001b[0;36m<module>\u001b[1;34m\u001b[0m\n\u001b[1;32m----> 1\u001b[1;33m \u001b[0mopen\u001b[0m\u001b[1;33m(\u001b[0m\u001b[1;34m\"imaginary.txt\"\u001b[0m\u001b[1;33m)\u001b[0m\u001b[1;33m\u001b[0m\u001b[1;33m\u001b[0m\u001b[0m\n\u001b[0m",
      "\u001b[1;31mFileNotFoundError\u001b[0m: [Errno 2] No such file or directory: 'imaginary.txt'"
     ]
    }
   ],
   "source": [
    "open(\"imaginary.txt\")"
   ]
  },
  {
   "cell_type": "markdown",
   "metadata": {},
   "source": [
    "**Python Built-in Exceptions**"
   ]
  },
  {
   "cell_type": "markdown",
   "metadata": {},
   "source": [
    "Illegal operations can raise exceptions. \n",
    "\n",
    "There are plenty of built-in exceptions in Python that are raised when corresponding errors occur. \n",
    "\n",
    "We can view all the built-in exceptions using the built-in local() function as follows:"
   ]
  },
  {
   "cell_type": "code",
   "execution_count": 4,
   "metadata": {},
   "outputs": [
    {
     "name": "stdout",
     "output_type": "stream",
     "text": [
      "['ArithmeticError', 'AssertionError', 'AttributeError', 'BaseException', 'BlockingIOError', 'BrokenPipeError', 'BufferError', 'BytesWarning', 'ChildProcessError', 'ConnectionAbortedError', 'ConnectionError', 'ConnectionRefusedError', 'ConnectionResetError', 'DeprecationWarning', 'EOFError', 'Ellipsis', 'EnvironmentError', 'Exception', 'False', 'FileExistsError', 'FileNotFoundError', 'FloatingPointError', 'FutureWarning', 'GeneratorExit', 'IOError', 'ImportError', 'ImportWarning', 'IndentationError', 'IndexError', 'InterruptedError', 'IsADirectoryError', 'KeyError', 'KeyboardInterrupt', 'LookupError', 'MemoryError', 'ModuleNotFoundError', 'NameError', 'None', 'NotADirectoryError', 'NotImplemented', 'NotImplementedError', 'OSError', 'OverflowError', 'PendingDeprecationWarning', 'PermissionError', 'ProcessLookupError', 'RecursionError', 'ReferenceError', 'ResourceWarning', 'RuntimeError', 'RuntimeWarning', 'StopAsyncIteration', 'StopIteration', 'SyntaxError', 'SyntaxWarning', 'SystemError', 'SystemExit', 'TabError', 'TimeoutError', 'True', 'TypeError', 'UnboundLocalError', 'UnicodeDecodeError', 'UnicodeEncodeError', 'UnicodeError', 'UnicodeTranslateError', 'UnicodeWarning', 'UserWarning', 'ValueError', 'Warning', 'WindowsError', 'ZeroDivisionError', '__IPYTHON__', '__build_class__', '__debug__', '__doc__', '__import__', '__loader__', '__name__', '__package__', '__spec__', 'abs', 'all', 'any', 'ascii', 'bin', 'bool', 'breakpoint', 'bytearray', 'bytes', 'callable', 'chr', 'classmethod', 'compile', 'complex', 'copyright', 'credits', 'delattr', 'dict', 'dir', 'display', 'divmod', 'enumerate', 'eval', 'exec', 'filter', 'float', 'format', 'frozenset', 'get_ipython', 'getattr', 'globals', 'hasattr', 'hash', 'help', 'hex', 'id', 'input', 'int', 'isinstance', 'issubclass', 'iter', 'len', 'license', 'list', 'locals', 'map', 'max', 'memoryview', 'min', 'next', 'object', 'oct', 'open', 'ord', 'pow', 'print', 'property', 'range', 'repr', 'reversed', 'round', 'set', 'setattr', 'slice', 'sorted', 'staticmethod', 'str', 'sum', 'super', 'tuple', 'type', 'vars', 'zip']\n"
     ]
    }
   ],
   "source": [
    "print(dir(locals()['__builtins__']))"
   ]
  },
  {
   "cell_type": "code",
   "execution_count": 5,
   "metadata": {},
   "outputs": [
    {
     "data": {
      "text/plain": [
       "154"
      ]
     },
     "execution_count": 5,
     "metadata": {},
     "output_type": "execute_result"
    }
   ],
   "source": [
    "len(dir(locals()['__builtins__']))"
   ]
  },
  {
   "cell_type": "code",
   "execution_count": 6,
   "metadata": {},
   "outputs": [
    {
     "data": {
      "text/plain": [
       "{'__name__': '__main__',\n",
       " '__doc__': 'Automatically created module for IPython interactive environment',\n",
       " '__package__': None,\n",
       " '__loader__': None,\n",
       " '__spec__': None,\n",
       " '__builtin__': <module 'builtins' (built-in)>,\n",
       " '__builtins__': <module 'builtins' (built-in)>,\n",
       " '_ih': ['',\n",
       "  'if a < 3\\nFile \"<interactive input>\", line 1\\n    if a < 3',\n",
       "  '1/0',\n",
       "  'open(\"imaginary.txt\")',\n",
       "  \"print(dir(locals()['__builtins__']))\",\n",
       "  \"len(dir(locals()['__builtins__']))\",\n",
       "  'locals()'],\n",
       " '_oh': {5: 154},\n",
       " '_dh': ['C:\\\\Users\\\\siddhi Golatkar\\\\Desktop\\\\Python'],\n",
       " 'In': ['',\n",
       "  'if a < 3\\nFile \"<interactive input>\", line 1\\n    if a < 3',\n",
       "  '1/0',\n",
       "  'open(\"imaginary.txt\")',\n",
       "  \"print(dir(locals()['__builtins__']))\",\n",
       "  \"len(dir(locals()['__builtins__']))\",\n",
       "  'locals()'],\n",
       " 'Out': {5: 154},\n",
       " 'get_ipython': <bound method InteractiveShell.get_ipython of <ipykernel.zmqshell.ZMQInteractiveShell object at 0x000001B919068C48>>,\n",
       " 'exit': <IPython.core.autocall.ZMQExitAutocall at 0x1b9190b0948>,\n",
       " 'quit': <IPython.core.autocall.ZMQExitAutocall at 0x1b9190b0948>,\n",
       " '_': 154,\n",
       " '__': '',\n",
       " '___': '',\n",
       " '_i': \"len(dir(locals()['__builtins__']))\",\n",
       " '_ii': \"print(dir(locals()['__builtins__']))\",\n",
       " '_iii': 'open(\"imaginary.txt\")',\n",
       " '_i1': 'if a < 3\\nFile \"<interactive input>\", line 1\\n    if a < 3',\n",
       " '_i2': '1/0',\n",
       " '_i3': 'open(\"imaginary.txt\")',\n",
       " '_i4': \"print(dir(locals()['__builtins__']))\",\n",
       " '_i5': \"len(dir(locals()['__builtins__']))\",\n",
       " '_5': 154,\n",
       " '_i6': 'locals()'}"
      ]
     },
     "execution_count": 6,
     "metadata": {},
     "output_type": "execute_result"
    }
   ],
   "source": [
    "locals()"
   ]
  },
  {
   "cell_type": "code",
   "execution_count": 7,
   "metadata": {},
   "outputs": [
    {
     "data": {
      "text/plain": [
       "['__class__',\n",
       " '__contains__',\n",
       " '__delattr__',\n",
       " '__delitem__',\n",
       " '__dir__',\n",
       " '__doc__',\n",
       " '__eq__',\n",
       " '__format__',\n",
       " '__ge__',\n",
       " '__getattribute__',\n",
       " '__getitem__',\n",
       " '__gt__',\n",
       " '__hash__',\n",
       " '__init__',\n",
       " '__init_subclass__',\n",
       " '__iter__',\n",
       " '__le__',\n",
       " '__len__',\n",
       " '__lt__',\n",
       " '__ne__',\n",
       " '__new__',\n",
       " '__reduce__',\n",
       " '__reduce_ex__',\n",
       " '__repr__',\n",
       " '__setattr__',\n",
       " '__setitem__',\n",
       " '__sizeof__',\n",
       " '__str__',\n",
       " '__subclasshook__',\n",
       " 'clear',\n",
       " 'copy',\n",
       " 'fromkeys',\n",
       " 'get',\n",
       " 'items',\n",
       " 'keys',\n",
       " 'pop',\n",
       " 'popitem',\n",
       " 'setdefault',\n",
       " 'update',\n",
       " 'values']"
      ]
     },
     "execution_count": 7,
     "metadata": {},
     "output_type": "execute_result"
    }
   ],
   "source": [
    "dir(locals())"
   ]
  },
  {
   "cell_type": "markdown",
   "metadata": {},
   "source": [
    "Some of the common built-in exceptions in Python programming along with the error that cause them are listed below:"
   ]
  },
  {
   "cell_type": "markdown",
   "metadata": {},
   "source": [
    "**AssertionError**\t Raised when an assert statement fails.\n",
    "\n",
    "**AttributeError**\tRaised when attribute assignment or reference fails.\n",
    "\n",
    "**EOFError**\tRaised when the input() function hits end-of-file condition.\n",
    "\n",
    "**FloatingPointError**\tRaised when a floating point operation fails.\n",
    "\n",
    "**GeneratorExit**\tRaise when a generator's close() method is called.\n",
    "\n",
    "**ImportError**\tRaised when the imported module is not found.\n",
    "\n",
    "**IndexError**\tRaised when the index of a sequence is out of range.\n",
    "\n",
    "**KeyError**\tRaised when a key is not found in a dictionary.\n",
    "\n",
    "**KeyboardInterrupt**\tRaised when the user hits the interrupt key (Ctrl+C or Delete).\n",
    "\n",
    "**MemoryError**\tRaised when an operation runs out of memory.\n",
    "\n",
    "**NameError**\tRaised when a variable is not found in local or global scope.\n",
    "\n",
    "**NotImplementedError**\tRaised by abstract methods.\n",
    "\n",
    "**OSError**\tRaised when system operation causes system related error.\n",
    "\n",
    "**OverflowError**\tRaised when the result of an arithmetic operation is too large to be represented.\n",
    "\n",
    "**ReferenceError**\tRaised when a weak reference proxy is used to access a garbage collected referent.\n",
    "\n",
    "**RuntimeError**\tRaised when an error does not fall under any other category.\n",
    "\n",
    "**StopIteration**\tRaised by next() function to indicate that there is no further item to be returned                     by iterator.\n",
    "\n",
    "**SyntaxError**\tRaised by parser when syntax error is encountered.\n",
    "\n",
    "**IndentationError**\tRaised when there is incorrect indentation.\n",
    "\n",
    "**TabError**\tRaised when indentation consists of inconsistent tabs and spaces.\n",
    "\n",
    "**SystemError**\tRaised when interpreter detects internal error.\n",
    "\n",
    "**SystemExit**\tRaised by sys.exit() function.\n",
    "\n",
    "**TypeError**\tRaised when a function or operation is applied to an object of incorrect type.\n",
    "\n",
    "**UnboundLocalError**\tRaised when a reference is made to a local variable in a function or method,                           but no value has been bound to that variable.\n",
    "\n",
    "**UnicodeError**\tRaised when a Unicode-related encoding or decoding error occurs.\n",
    "\n",
    "**UnicodeEncodeError**\tRaised when a Unicode-related error occurs during encoding.\n",
    "\n",
    "**UnicodeDecodeError**\tRaised when a Unicode-related error occurs during decoding.\n",
    "\n",
    "**UnicodeTranslateError**\tRaised when a Unicode-related error occurs during translating.\n",
    "\n",
    "**ValueError**\tRaised when a function gets an argument of correct type but improper value.\n",
    "\n",
    "**ZeroDivisionError**\tRaised when the second operand of division or modulo operation is zero."
   ]
  },
  {
   "cell_type": "code",
   "execution_count": 11,
   "metadata": {},
   "outputs": [
    {
     "name": "stdout",
     "output_type": "stream",
     "text": [
      "The entry is a\n",
      "Oops! <class 'ValueError'> occurred.\n",
      "Next entry.\n",
      "\n",
      "The entry is 0\n",
      "Oops! <class 'ZeroDivisionError'> occurred.\n",
      "Next entry.\n",
      "\n",
      "The entry is 2\n",
      "The reciprocal of 2 is 0.5\n"
     ]
    }
   ],
   "source": [
    "# import module sys to get the type of exception\n",
    "\n",
    "import sys\n",
    "\n",
    "randomList = ['a', 0, 2]\n",
    "\n",
    "for entry in randomList:\n",
    "    try:\n",
    "        print(\"The entry is\", entry)\n",
    "        r = 1/int(entry)\n",
    "        break\n",
    "    except:\n",
    "        print(\"Oops!\", sys.exc_info()[0], \"occurred.\")\n",
    "        print(\"Next entry.\")\n",
    "        print()\n",
    "print(\"The reciprocal of\", entry, \"is\", r)"
   ]
  },
  {
   "cell_type": "code",
   "execution_count": 13,
   "metadata": {},
   "outputs": [
    {
     "data": {
      "text/plain": [
       "\"This module provides access to some objects used or maintained by the\\ninterpreter and to functions that interact strongly with the interpreter.\\n\\nDynamic objects:\\n\\nargv -- command line arguments; argv[0] is the script pathname if known\\npath -- module search path; path[0] is the script directory, else ''\\nmodules -- dictionary of loaded modules\\n\\ndisplayhook -- called to show results in an interactive session\\nexcepthook -- called to handle any uncaught exception other than SystemExit\\n  To customize printing in an interactive session or to install a custom\\n  top-level exception handler, assign other functions to replace these.\\n\\nstdin -- standard input file object; used by input()\\nstdout -- standard output file object; used by print()\\nstderr -- standard error object; used for error messages\\n  By assigning other file objects (or objects that behave like files)\\n  to these, it is possible to redirect all of the interpreter's I/O.\\n\\nlast_type -- type of last uncaught exception\\nlast_value -- value of last uncaught exception\\nlast_traceback -- traceback of last uncaught exception\\n  These three are only available in an interactive session after a\\n  traceback has been printed.\\n\\nStatic objects:\\n\\nbuiltin_module_names -- tuple of module names built into this interpreter\\ncopyright -- copyright notice pertaining to this interpreter\\nexec_prefix -- prefix used to find the machine-specific Python library\\nexecutable -- absolute path of the executable binary of the Python interpreter\\nfloat_info -- a named tuple with information about the float implementation.\\nfloat_repr_style -- string indicating the style of repr() output for floats\\nhash_info -- a named tuple with information about the hash algorithm.\\nhexversion -- version information encoded as a single integer\\nimplementation -- Python implementation information.\\nint_info -- a named tuple with information about the int implementation.\\nmaxsize -- the largest supported length of containers.\\nmaxunicode -- the value of the largest Unicode code point\\nplatform -- platform identifier\\nprefix -- prefix used to find the Python library\\nthread_info -- a named tuple with information about the thread implementation.\\nversion -- the version of this interpreter as a string\\nversion_info -- version information as a named tuple\\ndllhandle -- [Windows only] integer handle of the Python DLL\\nwinver -- [Windows only] version number of the Python DLL\\n_enablelegacywindowsfsencoding -- [Windows only] \\n__stdin__ -- the original stdin; don't touch!\\n__stdout__ -- the original stdout; don't touch!\\n__stderr__ -- the original stderr; don't touch!\\n__displayhook__ -- the original displayhook; don't touch!\\n__excepthook__ -- the original excepthook; don't touch!\\n\\nFunctions:\\n\\ndisplayhook() -- print an object to the screen, and save it in builtins._\\nexcepthook() -- print an exception and its traceback to sys.stderr\\nexc_info() -- return thread-safe information about the current exception\\nexit() -- exit the interpreter by raising SystemExit\\ngetdlopenflags() -- returns flags to be used for dlopen() calls\\ngetprofile() -- get the global profiling function\\ngetrefcount() -- return the reference count for an object (plus one :-)\\ngetrecursionlimit() -- return the max recursion depth for the interpreter\\ngetsizeof() -- return the size of an object in bytes\\ngettrace() -- get the global debug tracing function\\nsetcheckinterval() -- control how often the interpreter checks for events\\nsetdlopenflags() -- set the flags to be used for dlopen() calls\\nsetprofile() -- set the global profiling function\\nsetrecursionlimit() -- set the max recursion depth for the interpreter\\nsettrace() -- set the global debug tracing function\\n\""
      ]
     },
     "execution_count": 13,
     "metadata": {},
     "output_type": "execute_result"
    }
   ],
   "source": [
    "sys.__doc__"
   ]
  },
  {
   "cell_type": "markdown",
   "metadata": {},
   "source": [
    "Since every exception in Python inherits from the base Exception class, we can also perform the above task in the following way:"
   ]
  },
  {
   "cell_type": "code",
   "execution_count": 14,
   "metadata": {},
   "outputs": [
    {
     "name": "stdout",
     "output_type": "stream",
     "text": [
      "The entry is a\n",
      "Oops! <class 'ValueError'> occurred.\n",
      "Next entry.\n",
      "\n",
      "The entry is 0\n",
      "Oops! <class 'ZeroDivisionError'> occurred.\n",
      "Next entry.\n",
      "\n",
      "The entry is 2\n",
      "The reciprocal of 2 is 0.5\n"
     ]
    }
   ],
   "source": [
    "# import module sys to get the type of exception\n",
    "\n",
    "import sys\n",
    "\n",
    "randomList = ['a', 0, 2]\n",
    "\n",
    "for entry in randomList:\n",
    "    try:\n",
    "        print(\"The entry is\", entry)\n",
    "        r = 1/int(entry)\n",
    "        break\n",
    "    except Exception as e:\n",
    "        print(\"Oops!\", e.__class__, \"occurred.\")\n",
    "        print(\"Next entry.\")\n",
    "        print()\n",
    "print(\"The reciprocal of\", entry, \"is\", r)\n"
   ]
  },
  {
   "cell_type": "markdown",
   "metadata": {},
   "source": [
    "This program has the same output as the above program."
   ]
  },
  {
   "cell_type": "code",
   "execution_count": 15,
   "metadata": {},
   "outputs": [
    {
     "ename": "KeyboardInterrupt",
     "evalue": "",
     "output_type": "error",
     "traceback": [
      "\u001b[1;31m---------------------------------------------------------------------------\u001b[0m",
      "\u001b[1;31mKeyboardInterrupt\u001b[0m                         Traceback (most recent call last)",
      "\u001b[1;32m<ipython-input-15-c761920b81b0>\u001b[0m in \u001b[0;36m<module>\u001b[1;34m\u001b[0m\n\u001b[1;32m----> 1\u001b[1;33m \u001b[1;32mraise\u001b[0m \u001b[0mKeyboardInterrupt\u001b[0m\u001b[1;33m\u001b[0m\u001b[1;33m\u001b[0m\u001b[0m\n\u001b[0m",
      "\u001b[1;31mKeyboardInterrupt\u001b[0m: "
     ]
    }
   ],
   "source": [
    "raise KeyboardInterrupt"
   ]
  },
  {
   "cell_type": "code",
   "execution_count": 16,
   "metadata": {},
   "outputs": [
    {
     "ename": "MemoryError",
     "evalue": "This is an argument",
     "output_type": "error",
     "traceback": [
      "\u001b[1;31m---------------------------------------------------------------------------\u001b[0m",
      "\u001b[1;31mMemoryError\u001b[0m                               Traceback (most recent call last)",
      "\u001b[1;32m<ipython-input-16-51782e52f201>\u001b[0m in \u001b[0;36m<module>\u001b[1;34m\u001b[0m\n\u001b[1;32m----> 1\u001b[1;33m \u001b[1;32mraise\u001b[0m \u001b[0mMemoryError\u001b[0m\u001b[1;33m(\u001b[0m\u001b[1;34m\"This is an argument\"\u001b[0m\u001b[1;33m)\u001b[0m\u001b[1;33m\u001b[0m\u001b[1;33m\u001b[0m\u001b[0m\n\u001b[0m",
      "\u001b[1;31mMemoryError\u001b[0m: This is an argument"
     ]
    }
   ],
   "source": [
    "raise MemoryError(\"This is an argument\")"
   ]
  },
  {
   "cell_type": "code",
   "execution_count": 17,
   "metadata": {},
   "outputs": [
    {
     "name": "stdout",
     "output_type": "stream",
     "text": [
      "Enter a positive integer: -2\n",
      "That is not a positive number!\n"
     ]
    }
   ],
   "source": [
    " try:\n",
    "...     a = int(input(\"Enter a positive integer: \"))\n",
    "...     if a <= 0:\n",
    "...         raise ValueError(\"That is not a positive number!\")\n",
    "... except ValueError as ve:\n",
    "...     print(ve)\n",
    "...    \n"
   ]
  },
  {
   "cell_type": "code",
   "execution_count": 18,
   "metadata": {},
   "outputs": [
    {
     "name": "stdout",
     "output_type": "stream",
     "text": [
      "Enter a number: 1\n",
      "Not an even number!\n"
     ]
    }
   ],
   "source": [
    "# program to print the reciprocal of even numbers\n",
    "\n",
    "try:\n",
    "    num = int(input(\"Enter a number: \"))\n",
    "    assert num % 2 == 0\n",
    "except:\n",
    "    print(\"Not an even number!\")\n",
    "else:\n",
    "    reciprocal = 1/num\n",
    "    print(reciprocal)"
   ]
  },
  {
   "cell_type": "code",
   "execution_count": 19,
   "metadata": {},
   "outputs": [
    {
     "name": "stdout",
     "output_type": "stream",
     "text": [
      "Enter a number: 4\n",
      "0.25\n"
     ]
    }
   ],
   "source": [
    "# program to print the reciprocal of even numbers\n",
    "\n",
    "try:\n",
    "    num = int(input(\"Enter a number: \"))\n",
    "    assert num % 2 == 0\n",
    "except:\n",
    "    print(\"Not an even number!\")\n",
    "else:\n",
    "    reciprocal = 1/num\n",
    "    print(reciprocal)"
   ]
  },
  {
   "cell_type": "markdown",
   "metadata": {},
   "source": [
    "**Creating Custom Exceptions**"
   ]
  },
  {
   "cell_type": "markdown",
   "metadata": {},
   "source": [
    "In Python, users can define custom exceptions by creating a new class. \n",
    "\n",
    "This exception class has to be derived, either directly or indirectly, from the built-in Exception class. \n",
    "\n",
    "Most of the built-in exceptions are also derived from this class."
   ]
  },
  {
   "cell_type": "code",
   "execution_count": 20,
   "metadata": {},
   "outputs": [],
   "source": [
    "class CustomError(Exception):\n",
    "    pass"
   ]
  },
  {
   "cell_type": "code",
   "execution_count": 23,
   "metadata": {},
   "outputs": [
    {
     "ename": "CustomError",
     "evalue": "",
     "output_type": "error",
     "traceback": [
      "\u001b[1;31m---------------------------------------------------------------------------\u001b[0m",
      "\u001b[1;31mCustomError\u001b[0m                               Traceback (most recent call last)",
      "\u001b[1;32m<ipython-input-23-dfca0b041b3d>\u001b[0m in \u001b[0;36m<module>\u001b[1;34m\u001b[0m\n\u001b[1;32m----> 1\u001b[1;33m \u001b[1;32mraise\u001b[0m \u001b[0mCustomError\u001b[0m\u001b[1;33m\u001b[0m\u001b[1;33m\u001b[0m\u001b[0m\n\u001b[0m",
      "\u001b[1;31mCustomError\u001b[0m: "
     ]
    }
   ],
   "source": [
    "raise CustomError"
   ]
  },
  {
   "cell_type": "code",
   "execution_count": 24,
   "metadata": {},
   "outputs": [
    {
     "ename": "CustomError",
     "evalue": "An error occurred",
     "output_type": "error",
     "traceback": [
      "\u001b[1;31m---------------------------------------------------------------------------\u001b[0m",
      "\u001b[1;31mCustomError\u001b[0m                               Traceback (most recent call last)",
      "\u001b[1;32m<ipython-input-24-d75c9779269a>\u001b[0m in \u001b[0;36m<module>\u001b[1;34m\u001b[0m\n\u001b[1;32m----> 1\u001b[1;33m \u001b[1;32mraise\u001b[0m \u001b[0mCustomError\u001b[0m\u001b[1;33m(\u001b[0m\u001b[1;34m\"An error occurred\"\u001b[0m\u001b[1;33m)\u001b[0m\u001b[1;33m\u001b[0m\u001b[1;33m\u001b[0m\u001b[0m\n\u001b[0m",
      "\u001b[1;31mCustomError\u001b[0m: An error occurred"
     ]
    }
   ],
   "source": [
    "raise CustomError(\"An error occurred\")"
   ]
  },
  {
   "cell_type": "markdown",
   "metadata": {},
   "source": [
    "Here, we have created a user-defined exception called CustomError which inherits from the Exception class.\n",
    "\n",
    "This new exception, like other exceptions, can be raised using the raise statement with an optional error message."
   ]
  },
  {
   "cell_type": "markdown",
   "metadata": {},
   "source": [
    "When we are developing a large Python program, it is a good practice to place all the user-defined exceptions that our program raises in a separate file. \n",
    "\n",
    "Many standard modules do this. \n",
    "\n",
    "They define their exceptions separately as exceptions.py or errors.py (generally but not always)."
   ]
  },
  {
   "cell_type": "markdown",
   "metadata": {},
   "source": [
    "**User-Defined Exception in Python**"
   ]
  },
  {
   "cell_type": "markdown",
   "metadata": {},
   "source": [
    "user-defined exceptions can be used in a program to raise and catch errors."
   ]
  },
  {
   "cell_type": "markdown",
   "metadata": {},
   "source": [
    "This program will ask the user to enter a number until they guess a stored number correctly. \n",
    "\n",
    "To help them figure it out, a hint is provided whether their guess is greater than or less than the stored number."
   ]
  },
  {
   "cell_type": "code",
   "execution_count": 25,
   "metadata": {},
   "outputs": [
    {
     "name": "stdout",
     "output_type": "stream",
     "text": [
      "Enter a number: 5\n",
      "This value is too small, try again!\n",
      "\n",
      "Enter a number: 7\n",
      "This value is too small, try again!\n",
      "\n",
      "Enter a number: 0\n",
      "This value is too small, try again!\n",
      "\n",
      "Enter a number: 15\n",
      "This value is too large, try again!\n",
      "\n",
      "Enter a number: 12\n",
      "This value is too large, try again!\n",
      "\n",
      "Enter a number: 10\n",
      "Congratulations! You guessed it correctly.\n"
     ]
    }
   ],
   "source": [
    "# define Python user-defined exceptions\n",
    "\n",
    "class Error(Exception):\n",
    "    \"\"\"Base class for other exceptions\"\"\"\n",
    "    pass\n",
    "\n",
    "\n",
    "class ValueTooSmallError(Error):\n",
    "    \"\"\"Raised when the input value is too small\"\"\"\n",
    "    pass\n",
    "\n",
    "\n",
    "class ValueTooLargeError(Error):\n",
    "    \"\"\"Raised when the input value is too large\"\"\"\n",
    "    pass\n",
    "\n",
    "\n",
    "# you need to guess this number\n",
    "number = 10\n",
    "\n",
    "# user guesses a number until he/she gets it right\n",
    "while True:\n",
    "    try:\n",
    "        i_num = int(input(\"Enter a number: \"))\n",
    "        if i_num < number:\n",
    "            raise ValueTooSmallError\n",
    "        elif i_num > number:\n",
    "            raise ValueTooLargeError\n",
    "        break\n",
    "    except ValueTooSmallError:\n",
    "        print(\"This value is too small, try again!\")\n",
    "        print()\n",
    "    except ValueTooLargeError:\n",
    "        print(\"This value is too large, try again!\")\n",
    "        print()\n",
    "\n",
    "print(\"Congratulations! You guessed it correctly.\")"
   ]
  },
  {
   "cell_type": "markdown",
   "metadata": {},
   "source": [
    "**Customizing Exception Classes**"
   ]
  },
  {
   "cell_type": "markdown",
   "metadata": {},
   "source": [
    "To learn about customizing the Exception classes, you need to have the basic knowledge of Object-Oriented programming."
   ]
  },
  {
   "cell_type": "code",
   "execution_count": 29,
   "metadata": {},
   "outputs": [
    {
     "name": "stdout",
     "output_type": "stream",
     "text": [
      "Enter salary amount: 500\n"
     ]
    }
   ],
   "source": [
    "class SalaryNotInRangeError(Exception):\n",
    "    \"\"\"Exception raised for errors in the input salary.\n",
    "\n",
    "    Attributes:\n",
    "        salary -- input salary which caused the error\n",
    "        message -- explanation of the error\n",
    "    \"\"\"\n",
    "\n",
    "    def __init__(self, salary, message=\"Salary is not in (5000, 15000) range\"):\n",
    "        self.salary = salary\n",
    "        self.message = message\n",
    "        super().__init__(self.message)\n",
    "\n",
    "\n",
    "salary = int(input(\"Enter salary amount: \"))\n"
   ]
  },
  {
   "cell_type": "code",
   "execution_count": 27,
   "metadata": {},
   "outputs": [
    {
     "name": "stdout",
     "output_type": "stream",
     "text": [
      "Enter salary amount: 500\n"
     ]
    },
    {
     "ename": "SalaryNotInRangeError",
     "evalue": "Salary is not in (5000, 15000) range",
     "output_type": "error",
     "traceback": [
      "\u001b[1;31m---------------------------------------------------------------------------\u001b[0m",
      "\u001b[1;31mSalaryNotInRangeError\u001b[0m                     Traceback (most recent call last)",
      "\u001b[1;32m<ipython-input-27-6ab0f28c63a7>\u001b[0m in \u001b[0;36m<module>\u001b[1;34m\u001b[0m\n\u001b[0;32m     15\u001b[0m \u001b[0msalary\u001b[0m \u001b[1;33m=\u001b[0m \u001b[0mint\u001b[0m\u001b[1;33m(\u001b[0m\u001b[0minput\u001b[0m\u001b[1;33m(\u001b[0m\u001b[1;34m\"Enter salary amount: \"\u001b[0m\u001b[1;33m)\u001b[0m\u001b[1;33m)\u001b[0m\u001b[1;33m\u001b[0m\u001b[1;33m\u001b[0m\u001b[0m\n\u001b[0;32m     16\u001b[0m \u001b[1;32mif\u001b[0m \u001b[1;32mnot\u001b[0m \u001b[1;36m5000\u001b[0m \u001b[1;33m<\u001b[0m \u001b[0msalary\u001b[0m \u001b[1;33m<\u001b[0m \u001b[1;36m15000\u001b[0m\u001b[1;33m:\u001b[0m\u001b[1;33m\u001b[0m\u001b[1;33m\u001b[0m\u001b[0m\n\u001b[1;32m---> 17\u001b[1;33m     \u001b[1;32mraise\u001b[0m \u001b[0mSalaryNotInRangeError\u001b[0m\u001b[1;33m(\u001b[0m\u001b[0msalary\u001b[0m\u001b[1;33m)\u001b[0m\u001b[1;33m\u001b[0m\u001b[1;33m\u001b[0m\u001b[0m\n\u001b[0m",
      "\u001b[1;31mSalaryNotInRangeError\u001b[0m: Salary is not in (5000, 15000) range"
     ]
    }
   ],
   "source": [
    "class SalaryNotInRangeError(Exception):\n",
    "    \"\"\"Exception raised for errors in the input salary.\n",
    "\n",
    "    Attributes:\n",
    "        salary -- input salary which caused the error\n",
    "        message -- explanation of the error\n",
    "    \"\"\"\n",
    "\n",
    "    def __init__(self, salary, message=\"Salary is not in (5000, 15000) range\"):\n",
    "        self.salary = salary\n",
    "        self.message = message\n",
    "        super().__init__(self.message)\n",
    "\n",
    "\n",
    "salary = int(input(\"Enter salary amount: \"))\n",
    "if not 5000 < salary < 15000:\n",
    "    raise SalaryNotInRangeError(salary)"
   ]
  },
  {
   "cell_type": "code",
   "execution_count": 28,
   "metadata": {},
   "outputs": [
    {
     "name": "stdout",
     "output_type": "stream",
     "text": [
      "Enter salary amount: 5000\n"
     ]
    },
    {
     "ename": "SalaryNotInRangeError",
     "evalue": "Salary is not in (5000, 15000) range",
     "output_type": "error",
     "traceback": [
      "\u001b[1;31m---------------------------------------------------------------------------\u001b[0m",
      "\u001b[1;31mSalaryNotInRangeError\u001b[0m                     Traceback (most recent call last)",
      "\u001b[1;32m<ipython-input-28-6ab0f28c63a7>\u001b[0m in \u001b[0;36m<module>\u001b[1;34m\u001b[0m\n\u001b[0;32m     15\u001b[0m \u001b[0msalary\u001b[0m \u001b[1;33m=\u001b[0m \u001b[0mint\u001b[0m\u001b[1;33m(\u001b[0m\u001b[0minput\u001b[0m\u001b[1;33m(\u001b[0m\u001b[1;34m\"Enter salary amount: \"\u001b[0m\u001b[1;33m)\u001b[0m\u001b[1;33m)\u001b[0m\u001b[1;33m\u001b[0m\u001b[1;33m\u001b[0m\u001b[0m\n\u001b[0;32m     16\u001b[0m \u001b[1;32mif\u001b[0m \u001b[1;32mnot\u001b[0m \u001b[1;36m5000\u001b[0m \u001b[1;33m<\u001b[0m \u001b[0msalary\u001b[0m \u001b[1;33m<\u001b[0m \u001b[1;36m15000\u001b[0m\u001b[1;33m:\u001b[0m\u001b[1;33m\u001b[0m\u001b[1;33m\u001b[0m\u001b[0m\n\u001b[1;32m---> 17\u001b[1;33m     \u001b[1;32mraise\u001b[0m \u001b[0mSalaryNotInRangeError\u001b[0m\u001b[1;33m(\u001b[0m\u001b[0msalary\u001b[0m\u001b[1;33m)\u001b[0m\u001b[1;33m\u001b[0m\u001b[1;33m\u001b[0m\u001b[0m\n\u001b[0m",
      "\u001b[1;31mSalaryNotInRangeError\u001b[0m: Salary is not in (5000, 15000) range"
     ]
    }
   ],
   "source": [
    "class SalaryNotInRangeError(Exception):\n",
    "    \"\"\"Exception raised for errors in the input salary.\n",
    "\n",
    "    Attributes:\n",
    "        salary -- input salary which caused the error\n",
    "        message -- explanation of the error\n",
    "    \"\"\"\n",
    "\n",
    "    def __init__(self, salary, message=\"Salary is not in (5000, 15000) range\"):\n",
    "        self.salary = salary\n",
    "        self.message = message\n",
    "        super().__init__(self.message)\n",
    "\n",
    "\n",
    "salary = int(input(\"Enter salary amount: \"))\n",
    "if not 5000 < salary < 15000:\n",
    "    raise SalaryNotInRangeError(salary)"
   ]
  },
  {
   "cell_type": "code",
   "execution_count": 30,
   "metadata": {},
   "outputs": [
    {
     "name": "stdout",
     "output_type": "stream",
     "text": [
      "Enter salary amount: 15000\n"
     ]
    },
    {
     "ename": "SalaryNotInRangeError",
     "evalue": "Salary is not in (5000, 15000) range",
     "output_type": "error",
     "traceback": [
      "\u001b[1;31m---------------------------------------------------------------------------\u001b[0m",
      "\u001b[1;31mSalaryNotInRangeError\u001b[0m                     Traceback (most recent call last)",
      "\u001b[1;32m<ipython-input-30-6ab0f28c63a7>\u001b[0m in \u001b[0;36m<module>\u001b[1;34m\u001b[0m\n\u001b[0;32m     15\u001b[0m \u001b[0msalary\u001b[0m \u001b[1;33m=\u001b[0m \u001b[0mint\u001b[0m\u001b[1;33m(\u001b[0m\u001b[0minput\u001b[0m\u001b[1;33m(\u001b[0m\u001b[1;34m\"Enter salary amount: \"\u001b[0m\u001b[1;33m)\u001b[0m\u001b[1;33m)\u001b[0m\u001b[1;33m\u001b[0m\u001b[1;33m\u001b[0m\u001b[0m\n\u001b[0;32m     16\u001b[0m \u001b[1;32mif\u001b[0m \u001b[1;32mnot\u001b[0m \u001b[1;36m5000\u001b[0m \u001b[1;33m<\u001b[0m \u001b[0msalary\u001b[0m \u001b[1;33m<\u001b[0m \u001b[1;36m15000\u001b[0m\u001b[1;33m:\u001b[0m\u001b[1;33m\u001b[0m\u001b[1;33m\u001b[0m\u001b[0m\n\u001b[1;32m---> 17\u001b[1;33m     \u001b[1;32mraise\u001b[0m \u001b[0mSalaryNotInRangeError\u001b[0m\u001b[1;33m(\u001b[0m\u001b[0msalary\u001b[0m\u001b[1;33m)\u001b[0m\u001b[1;33m\u001b[0m\u001b[1;33m\u001b[0m\u001b[0m\n\u001b[0m",
      "\u001b[1;31mSalaryNotInRangeError\u001b[0m: Salary is not in (5000, 15000) range"
     ]
    }
   ],
   "source": [
    "class SalaryNotInRangeError(Exception):\n",
    "    \"\"\"Exception raised for errors in the input salary.\n",
    "\n",
    "    Attributes:\n",
    "        salary -- input salary which caused the error\n",
    "        message -- explanation of the error\n",
    "    \"\"\"\n",
    "\n",
    "    def __init__(self, salary, message=\"Salary is not in (5000, 15000) range\"):\n",
    "        self.salary = salary\n",
    "        self.message = message\n",
    "        super().__init__(self.message)\n",
    "\n",
    "\n",
    "salary = int(input(\"Enter salary amount: \"))\n",
    "if not 5000 < salary < 15000:\n",
    "    raise SalaryNotInRangeError(salary)"
   ]
  },
  {
   "cell_type": "code",
   "execution_count": 31,
   "metadata": {},
   "outputs": [
    {
     "name": "stdout",
     "output_type": "stream",
     "text": [
      "Enter salary amount: 10000\n"
     ]
    }
   ],
   "source": [
    "class SalaryNotInRangeError(Exception):\n",
    "    \"\"\"Exception raised for errors in the input salary.\n",
    "\n",
    "    Attributes:\n",
    "        salary -- input salary which caused the error\n",
    "        message -- explanation of the error\n",
    "    \"\"\"\n",
    "\n",
    "    def __init__(self, salary, message=\"Salary is not in (5000, 15000) range\"):\n",
    "        self.salary = salary\n",
    "        self.message = message\n",
    "        super().__init__(self.message)\n",
    "\n",
    "\n",
    "salary = int(input(\"Enter salary amount: \"))\n",
    "if not 5000 < salary < 15000:\n",
    "    raise SalaryNotInRangeError(salary)"
   ]
  },
  {
   "cell_type": "code",
   "execution_count": 32,
   "metadata": {},
   "outputs": [
    {
     "name": "stdout",
     "output_type": "stream",
     "text": [
      "Enter salary amount: 200\n"
     ]
    },
    {
     "ename": "SalaryNotInRangeError",
     "evalue": "Salary is not in (5000, 15000) range",
     "output_type": "error",
     "traceback": [
      "\u001b[1;31m---------------------------------------------------------------------------\u001b[0m",
      "\u001b[1;31mSalaryNotInRangeError\u001b[0m                     Traceback (most recent call last)",
      "\u001b[1;32m<ipython-input-32-69fb9589daca>\u001b[0m in \u001b[0;36m<module>\u001b[1;34m\u001b[0m\n\u001b[0;32m      1\u001b[0m \u001b[0msalary\u001b[0m \u001b[1;33m=\u001b[0m \u001b[0mint\u001b[0m\u001b[1;33m(\u001b[0m\u001b[0minput\u001b[0m\u001b[1;33m(\u001b[0m\u001b[1;34m\"Enter salary amount: \"\u001b[0m\u001b[1;33m)\u001b[0m\u001b[1;33m)\u001b[0m\u001b[1;33m\u001b[0m\u001b[1;33m\u001b[0m\u001b[0m\n\u001b[0;32m      2\u001b[0m \u001b[1;32mif\u001b[0m \u001b[1;32mnot\u001b[0m \u001b[1;36m5000\u001b[0m \u001b[1;33m<\u001b[0m \u001b[0msalary\u001b[0m \u001b[1;33m<\u001b[0m \u001b[1;36m15000\u001b[0m\u001b[1;33m:\u001b[0m\u001b[1;33m\u001b[0m\u001b[1;33m\u001b[0m\u001b[0m\n\u001b[1;32m----> 3\u001b[1;33m     \u001b[1;32mraise\u001b[0m \u001b[0mSalaryNotInRangeError\u001b[0m\u001b[1;33m(\u001b[0m\u001b[0msalary\u001b[0m\u001b[1;33m)\u001b[0m\u001b[1;33m\u001b[0m\u001b[1;33m\u001b[0m\u001b[0m\n\u001b[0m",
      "\u001b[1;31mSalaryNotInRangeError\u001b[0m: Salary is not in (5000, 15000) range"
     ]
    }
   ],
   "source": [
    "salary = int(input(\"Enter salary amount: \"))\n",
    "if not 5000 < salary < 15000:\n",
    "    raise SalaryNotInRangeError(salary)"
   ]
  },
  {
   "cell_type": "code",
   "execution_count": 33,
   "metadata": {},
   "outputs": [
    {
     "name": "stdout",
     "output_type": "stream",
     "text": [
      "Enter salary amount: 7000\n"
     ]
    }
   ],
   "source": [
    "salary = int(input(\"Enter salary amount: \"))\n",
    "if not 5000 < salary < 15000:\n",
    "    raise SalaryNotInRangeError(salary)"
   ]
  },
  {
   "cell_type": "code",
   "execution_count": 35,
   "metadata": {},
   "outputs": [],
   "source": [
    "class SalaryNotInRangeError(Exception):\n",
    "    \"\"\"Exception raised for errors in the input salary.\n",
    "\n",
    "    Attributes:\n",
    "        salary -- input salary which caused the error\n",
    "        message -- explanation of the error\n",
    "    \"\"\""
   ]
  },
  {
   "cell_type": "code",
   "execution_count": 34,
   "metadata": {},
   "outputs": [],
   "source": [
    "def __init__(self, salary, message=\"Salary is not in (5000, 15000) range\"):\n",
    "        self.salary = salary\n",
    "        self.message = message\n",
    "        super().__init__(self.message)"
   ]
  },
  {
   "cell_type": "markdown",
   "metadata": {},
   "source": [
    "We can also customize the __str__ method itself by overriding it."
   ]
  },
  {
   "cell_type": "code",
   "execution_count": 36,
   "metadata": {},
   "outputs": [
    {
     "name": "stdout",
     "output_type": "stream",
     "text": [
      "Enter salary amount: 800\n"
     ]
    },
    {
     "ename": "SalaryNotInRangeError",
     "evalue": "800 -> Salary is not in (5000, 15000) range",
     "output_type": "error",
     "traceback": [
      "\u001b[1;31m---------------------------------------------------------------------------\u001b[0m",
      "\u001b[1;31mSalaryNotInRangeError\u001b[0m                     Traceback (most recent call last)",
      "\u001b[1;32m<ipython-input-36-c454c1331524>\u001b[0m in \u001b[0;36m<module>\u001b[1;34m\u001b[0m\n\u001b[0;32m     18\u001b[0m \u001b[0msalary\u001b[0m \u001b[1;33m=\u001b[0m \u001b[0mint\u001b[0m\u001b[1;33m(\u001b[0m\u001b[0minput\u001b[0m\u001b[1;33m(\u001b[0m\u001b[1;34m\"Enter salary amount: \"\u001b[0m\u001b[1;33m)\u001b[0m\u001b[1;33m)\u001b[0m\u001b[1;33m\u001b[0m\u001b[1;33m\u001b[0m\u001b[0m\n\u001b[0;32m     19\u001b[0m \u001b[1;32mif\u001b[0m \u001b[1;32mnot\u001b[0m \u001b[1;36m5000\u001b[0m \u001b[1;33m<\u001b[0m \u001b[0msalary\u001b[0m \u001b[1;33m<\u001b[0m \u001b[1;36m15000\u001b[0m\u001b[1;33m:\u001b[0m\u001b[1;33m\u001b[0m\u001b[1;33m\u001b[0m\u001b[0m\n\u001b[1;32m---> 20\u001b[1;33m     \u001b[1;32mraise\u001b[0m \u001b[0mSalaryNotInRangeError\u001b[0m\u001b[1;33m(\u001b[0m\u001b[0msalary\u001b[0m\u001b[1;33m)\u001b[0m\u001b[1;33m\u001b[0m\u001b[1;33m\u001b[0m\u001b[0m\n\u001b[0m",
      "\u001b[1;31mSalaryNotInRangeError\u001b[0m: 800 -> Salary is not in (5000, 15000) range"
     ]
    }
   ],
   "source": [
    "class SalaryNotInRangeError(Exception):\n",
    "    \"\"\"Exception raised for errors in the input salary.\n",
    "\n",
    "    Attributes:\n",
    "        salary -- input salary which caused the error\n",
    "        message -- explanation of the error\n",
    "    \"\"\"\n",
    "\n",
    "    def __init__(self, salary, message=\"Salary is not in (5000, 15000) range\"):\n",
    "        self.salary = salary\n",
    "        self.message = message\n",
    "        super().__init__(self.message)\n",
    "\n",
    "    def __str__(self):\n",
    "        return f'{self.salary} -> {self.message}'\n",
    "\n",
    "\n",
    "salary = int(input(\"Enter salary amount: \"))\n",
    "if not 5000 < salary < 15000:\n",
    "    raise SalaryNotInRangeError(salary)"
   ]
  },
  {
   "cell_type": "code",
   "execution_count": 37,
   "metadata": {},
   "outputs": [],
   "source": [
    " def __str__(self):\n",
    "        return f'{self.salary} -> {self.message}'"
   ]
  },
  {
   "cell_type": "code",
   "execution_count": null,
   "metadata": {},
   "outputs": [],
   "source": []
  }
 ],
 "metadata": {
  "kernelspec": {
   "display_name": "Python 3",
   "language": "python",
   "name": "python3"
  },
  "language_info": {
   "codemirror_mode": {
    "name": "ipython",
    "version": 3
   },
   "file_extension": ".py",
   "mimetype": "text/x-python",
   "name": "python",
   "nbconvert_exporter": "python",
   "pygments_lexer": "ipython3",
   "version": "3.7.6"
  }
 },
 "nbformat": 4,
 "nbformat_minor": 4
}
