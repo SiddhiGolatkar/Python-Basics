{
 "cells": [
  {
   "cell_type": "markdown",
   "metadata": {},
   "source": [
    "## Python Built-in Functions"
   ]
  },
  {
   "cell_type": "markdown",
   "metadata": {},
   "source": [
    "https://www.programiz.com/python-programming/methods/built-in"
   ]
  },
  {
   "cell_type": "markdown",
   "metadata": {},
   "source": [
    "### 1. Python abs()"
   ]
  },
  {
   "cell_type": "markdown",
   "metadata": {},
   "source": [
    "The abs() method returns the absolute value of the given number. \n",
    "\n",
    "If the number is a complex number, abs() returns its magnitude."
   ]
  },
  {
   "cell_type": "markdown",
   "metadata": {},
   "source": [
    "The syntax of abs() method is:\n",
    "    abs(num)"
   ]
  },
  {
   "cell_type": "markdown",
   "metadata": {},
   "source": [
    "**abs() Parameters**"
   ]
  },
  {
   "cell_type": "markdown",
   "metadata": {},
   "source": [
    "abs() method takes a single argument:\n",
    "\n",
    "num - a number whose absolute value is to be returned. \n",
    "\n",
    "The number can be:\n",
    "\n",
    "- integer\n",
    "\n",
    "- floating number\n",
    "\n",
    "- complex number"
   ]
  },
  {
   "cell_type": "markdown",
   "metadata": {},
   "source": [
    "**Return value from abs()**\n",
    "\n",
    "abs() method returns the absolute value of the given number.\n",
    "\n",
    "- For integers - integer absolute value is returned\n",
    "\n",
    "- For floating numbers - floating absolute value is returned\n",
    "\n",
    "- For complex numbers - magnitude of the number is returned"
   ]
  },
  {
   "cell_type": "code",
   "execution_count": 1,
   "metadata": {},
   "outputs": [
    {
     "name": "stdout",
     "output_type": "stream",
     "text": [
      "Absolute value of -20 is: 20\n"
     ]
    }
   ],
   "source": [
    "# Example 1: Get absolute value of a number\n",
    "\n",
    "# random integer\n",
    "\n",
    "integer = -20\n",
    "\n",
    "print('Absolute value of -20 is:', abs(integer))"
   ]
  },
  {
   "cell_type": "code",
   "execution_count": 2,
   "metadata": {},
   "outputs": [
    {
     "name": "stdout",
     "output_type": "stream",
     "text": [
      "Absolute value of -30.33 is: 30.33\n"
     ]
    }
   ],
   "source": [
    "#random floating number\n",
    "\n",
    "floating = -30.33\n",
    "\n",
    "print('Absolute value of -30.33 is:', abs(floating))"
   ]
  },
  {
   "cell_type": "code",
   "execution_count": 3,
   "metadata": {},
   "outputs": [
    {
     "name": "stdout",
     "output_type": "stream",
     "text": [
      "Magnitude of 3 - 4j is: 5.0\n"
     ]
    }
   ],
   "source": [
    "# Example 2: Get magnitude of a complex number\n",
    "\n",
    "# random complex number\n",
    "\n",
    "complex = (3 - 4j)\n",
    "\n",
    "print('Magnitude of 3 - 4j is:', abs(complex))"
   ]
  },
  {
   "cell_type": "markdown",
   "metadata": {},
   "source": [
    "### 2. Python any()"
   ]
  },
  {
   "cell_type": "markdown",
   "metadata": {},
   "source": [
    "The any() function returns True if any element of an iterable is True. If not, any() returns False."
   ]
  },
  {
   "cell_type": "markdown",
   "metadata": {},
   "source": [
    "The syntax of any() is:\n",
    "    any(iterable)"
   ]
  },
  {
   "cell_type": "markdown",
   "metadata": {},
   "source": [
    "**Parameters for the any() function**"
   ]
  },
  {
   "cell_type": "markdown",
   "metadata": {},
   "source": [
    "The any() function takes an iterable (list, string, dictionary etc.) in Python."
   ]
  },
  {
   "cell_type": "markdown",
   "metadata": {},
   "source": [
    "**Value Returned by the any() function**\n",
    "\n",
    "The any() function returns a boolean value:\n",
    "\n",
    "- True if at least one element of an iterable is true\n",
    "\n",
    "- False if all elements are false or if an iterable is empty"
   ]
  },
  {
   "cell_type": "code",
   "execution_count": 7,
   "metadata": {},
   "outputs": [
    {
     "name": "stdout",
     "output_type": "stream",
     "text": [
      "True\n"
     ]
    }
   ],
   "source": [
    "# Example 1: Using any() on Python Lists\n",
    "\n",
    "# True since 1,3 and 4 (at least one) is true\n",
    "\n",
    "l = [1, 3, 4, 0]\n",
    "print(any(l))"
   ]
  },
  {
   "cell_type": "code",
   "execution_count": 8,
   "metadata": {},
   "outputs": [
    {
     "name": "stdout",
     "output_type": "stream",
     "text": [
      "False\n"
     ]
    }
   ],
   "source": [
    "# False since both are False\n",
    "l = [0, False]\n",
    "print(any(l))"
   ]
  },
  {
   "cell_type": "code",
   "execution_count": 9,
   "metadata": {},
   "outputs": [
    {
     "name": "stdout",
     "output_type": "stream",
     "text": [
      "True\n"
     ]
    }
   ],
   "source": [
    "# True since 5 is true\n",
    "l = [0, False, 5]\n",
    "print(any(l))"
   ]
  },
  {
   "cell_type": "code",
   "execution_count": 10,
   "metadata": {},
   "outputs": [
    {
     "name": "stdout",
     "output_type": "stream",
     "text": [
      "False\n"
     ]
    }
   ],
   "source": [
    "# False since iterable is empty\n",
    "l = []\n",
    "print(any(l))"
   ]
  },
  {
   "cell_type": "markdown",
   "metadata": {},
   "source": [
    "The any() method works in a similar way for tuples and sets like lists."
   ]
  },
  {
   "cell_type": "code",
   "execution_count": 11,
   "metadata": {},
   "outputs": [
    {
     "name": "stdout",
     "output_type": "stream",
     "text": [
      "True\n"
     ]
    }
   ],
   "source": [
    "# Example 2: Using any() on Python Strings\n",
    "\n",
    "# Atleast one (in fact all) elements are True\n",
    "\n",
    "s = \"This is good\"\n",
    "print(any(s))"
   ]
  },
  {
   "cell_type": "code",
   "execution_count": 12,
   "metadata": {},
   "outputs": [
    {
     "name": "stdout",
     "output_type": "stream",
     "text": [
      "True\n"
     ]
    }
   ],
   "source": [
    "# 0 is False\n",
    "# '0' is True since its a string character\n",
    "\n",
    "s = '000'\n",
    "print(any(s))"
   ]
  },
  {
   "cell_type": "code",
   "execution_count": 13,
   "metadata": {},
   "outputs": [
    {
     "name": "stdout",
     "output_type": "stream",
     "text": [
      "False\n"
     ]
    }
   ],
   "source": [
    "# False since empty iterable\n",
    "s = ''\n",
    "print(any(s))"
   ]
  },
  {
   "cell_type": "markdown",
   "metadata": {},
   "source": [
    "**Example 3: Using any() with Python Dictionaries**\n",
    "\n",
    "In the case of dictionaries, if all keys (not values) are false or the dictionary is empty, any() returns False. \n",
    "\n",
    "If at least one key is true, any() returns True."
   ]
  },
  {
   "cell_type": "code",
   "execution_count": 14,
   "metadata": {},
   "outputs": [
    {
     "name": "stdout",
     "output_type": "stream",
     "text": [
      "False\n"
     ]
    }
   ],
   "source": [
    "# 0 is False\n",
    "d = {0: 'False'}\n",
    "print(any(d))"
   ]
  },
  {
   "cell_type": "code",
   "execution_count": 15,
   "metadata": {},
   "outputs": [
    {
     "name": "stdout",
     "output_type": "stream",
     "text": [
      "True\n"
     ]
    }
   ],
   "source": [
    "# 1 is True\n",
    "d = {0: 'False', 1: 'True'}\n",
    "print(any(d))"
   ]
  },
  {
   "cell_type": "code",
   "execution_count": 16,
   "metadata": {},
   "outputs": [
    {
     "name": "stdout",
     "output_type": "stream",
     "text": [
      "False\n"
     ]
    }
   ],
   "source": [
    "# 0 and False are false\n",
    "d = {0: 'False', False: 0}\n",
    "print(any(d))"
   ]
  },
  {
   "cell_type": "code",
   "execution_count": 17,
   "metadata": {},
   "outputs": [
    {
     "name": "stdout",
     "output_type": "stream",
     "text": [
      "False\n"
     ]
    }
   ],
   "source": [
    "# iterable is empty\n",
    "d = {}\n",
    "print(any(d))"
   ]
  },
  {
   "cell_type": "code",
   "execution_count": 18,
   "metadata": {},
   "outputs": [
    {
     "name": "stdout",
     "output_type": "stream",
     "text": [
      "True\n"
     ]
    }
   ],
   "source": [
    "# 0 is False\n",
    "# '0' is True\n",
    "\n",
    "d = {'0': 'False'}\n",
    "\n",
    "print(any(d))"
   ]
  },
  {
   "cell_type": "markdown",
   "metadata": {},
   "source": [
    "### 3. Python all()"
   ]
  },
  {
   "cell_type": "markdown",
   "metadata": {},
   "source": [
    "The all() method returns True when all elements in the given iterable are true. \n",
    "\n",
    "If not, it returns False."
   ]
  },
  {
   "cell_type": "markdown",
   "metadata": {},
   "source": [
    "The syntax of all() method is:\n",
    "    all(iterable)"
   ]
  },
  {
   "cell_type": "markdown",
   "metadata": {},
   "source": [
    "**all() Parameters**\n",
    "\n",
    "all() method takes a single parameter:\n",
    "\n",
    "iterable - any iterable (list, tuple, dictionary, etc.) which contains the elements"
   ]
  },
  {
   "cell_type": "markdown",
   "metadata": {},
   "source": [
    "**Return Value from all()**\n",
    "\n",
    "all() method returns:\n",
    "\n",
    "- True - If all elements in an iterable are true\n",
    "\n",
    "- False - If any element in an iterable is false"
   ]
  },
  {
   "cell_type": "code",
   "execution_count": 21,
   "metadata": {},
   "outputs": [
    {
     "name": "stdout",
     "output_type": "stream",
     "text": [
      "True\n"
     ]
    }
   ],
   "source": [
    "# Example 1: How all() works for lists?\n",
    "\n",
    "# all values true\n",
    "\n",
    "l = [1, 3, 4, 5]\n",
    "\n",
    "print(all(l))"
   ]
  },
  {
   "cell_type": "code",
   "execution_count": 22,
   "metadata": {},
   "outputs": [
    {
     "name": "stdout",
     "output_type": "stream",
     "text": [
      "False\n"
     ]
    }
   ],
   "source": [
    "# all values false\n",
    "\n",
    "l = [0, False]\n",
    "\n",
    "print(all(l))"
   ]
  },
  {
   "cell_type": "code",
   "execution_count": 23,
   "metadata": {},
   "outputs": [
    {
     "name": "stdout",
     "output_type": "stream",
     "text": [
      "False\n"
     ]
    }
   ],
   "source": [
    "# one false value\n",
    "\n",
    "l = [1, 3, 4, 0]\n",
    "\n",
    "print(all(l))"
   ]
  },
  {
   "cell_type": "code",
   "execution_count": 24,
   "metadata": {},
   "outputs": [
    {
     "name": "stdout",
     "output_type": "stream",
     "text": [
      "False\n"
     ]
    }
   ],
   "source": [
    "# one true value\n",
    "\n",
    "l = [0, False, 5]\n",
    "\n",
    "print(all(l))"
   ]
  },
  {
   "cell_type": "code",
   "execution_count": 25,
   "metadata": {},
   "outputs": [
    {
     "name": "stdout",
     "output_type": "stream",
     "text": [
      "True\n"
     ]
    }
   ],
   "source": [
    "# empty iterable\n",
    "\n",
    "l = []\n",
    "\n",
    "print(all(l))"
   ]
  },
  {
   "cell_type": "markdown",
   "metadata": {},
   "source": [
    "all() method works in a similar way for tuples and sets like lists."
   ]
  },
  {
   "cell_type": "code",
   "execution_count": 26,
   "metadata": {},
   "outputs": [
    {
     "name": "stdout",
     "output_type": "stream",
     "text": [
      "True\n",
      "True\n",
      "True\n"
     ]
    }
   ],
   "source": [
    "# Example 2: How all() works for strings?\n",
    "\n",
    "s = \"This is good\"\n",
    "print(all(s))\n",
    "\n",
    "# 0 is False\n",
    "# '0' is True\n",
    "s = '000'\n",
    "print(all(s))\n",
    "\n",
    "s = ''\n",
    "print(all(s))"
   ]
  },
  {
   "cell_type": "markdown",
   "metadata": {},
   "source": [
    "**Example 3: How all() works with Python dictionaries?**\n",
    "\n",
    "In case of dictionaries, if all keys (not values) are true or the dictionary is empty, all() returns True.\n",
    "\n",
    "Else, it returns false for all other cases.."
   ]
  },
  {
   "cell_type": "code",
   "execution_count": 27,
   "metadata": {},
   "outputs": [
    {
     "name": "stdout",
     "output_type": "stream",
     "text": [
      "False\n",
      "True\n",
      "False\n",
      "True\n",
      "True\n"
     ]
    }
   ],
   "source": [
    "s = {0: 'False', 1: 'False'}\n",
    "print(all(s))\n",
    "\n",
    "s = {1: 'True', 2: 'True'}\n",
    "print(all(s))\n",
    "\n",
    "s = {1: 'True', False: 0}\n",
    "print(all(s))\n",
    "\n",
    "s = {}\n",
    "print(all(s))\n",
    "\n",
    "# 0 is False\n",
    "# '0' is True\n",
    "s = {'0': 'True'}\n",
    "print(all(s))"
   ]
  },
  {
   "cell_type": "markdown",
   "metadata": {},
   "source": [
    "### 4. Python ascii()"
   ]
  },
  {
   "cell_type": "markdown",
   "metadata": {},
   "source": [
    "The ascii() method returns a string containing a printable representation of an object. \n",
    "\n",
    "It escapes the non-ASCII characters in the string using \\x, \\u or \\U escapes."
   ]
  },
  {
   "cell_type": "markdown",
   "metadata": {},
   "source": [
    "The syntax of ascii() is:\n",
    "    ascii(object)"
   ]
  },
  {
   "cell_type": "markdown",
   "metadata": {},
   "source": [
    "**ascii() Parameters**\n",
    "\n",
    "ascii() method takes an object (like: strings, list etc)."
   ]
  },
  {
   "cell_type": "markdown",
   "metadata": {},
   "source": [
    "**Return Value from ascii()**\n",
    "\n",
    "It returns a string containing a printable representation of an object.\n",
    "\n",
    "For example, ö is changed to \\xf6n, √ is changed to \\u221a\n",
    "\n",
    "The non-ASCII characters in the string are escaped using \\x, \\u or \\U."
   ]
  },
  {
   "cell_type": "code",
   "execution_count": 29,
   "metadata": {},
   "outputs": [
    {
     "name": "stdout",
     "output_type": "stream",
     "text": [
      "'Python is interesting'\n"
     ]
    }
   ],
   "source": [
    "# Example 1: How ascii() method works?\n",
    "\n",
    "normalText = 'Python is interesting'\n",
    "\n",
    "print(ascii(normalText))"
   ]
  },
  {
   "cell_type": "code",
   "execution_count": 30,
   "metadata": {},
   "outputs": [
    {
     "name": "stdout",
     "output_type": "stream",
     "text": [
      "'Pyth\\xf6n is interesting'\n"
     ]
    }
   ],
   "source": [
    "otherText = 'Pythön is interesting'\n",
    "print(ascii(otherText))"
   ]
  },
  {
   "cell_type": "code",
   "execution_count": 31,
   "metadata": {},
   "outputs": [
    {
     "name": "stdout",
     "output_type": "stream",
     "text": [
      "Pythön is interesting\n"
     ]
    }
   ],
   "source": [
    "print('Pyth\\xf6n is interesting')"
   ]
  },
  {
   "cell_type": "code",
   "execution_count": 32,
   "metadata": {},
   "outputs": [
    {
     "name": "stdout",
     "output_type": "stream",
     "text": [
      "['Python', 'Pyth\\xf6n', 5]\n"
     ]
    }
   ],
   "source": [
    "randomList = ['Python', 'Pythön', 5]\n",
    "print(ascii(randomList))"
   ]
  },
  {
   "cell_type": "markdown",
   "metadata": {},
   "source": [
    "### 5. Python bin()"
   ]
  },
  {
   "cell_type": "markdown",
   "metadata": {},
   "source": [
    "The bin() method converts and returns the binary equivalent string of a given integer. \n",
    "\n",
    "If the parameter isn't an integer, it has to implement __index__() method to return an integer."
   ]
  },
  {
   "cell_type": "markdown",
   "metadata": {},
   "source": [
    "The syntax of bin() method is:\n",
    "    bin(num)"
   ]
  },
  {
   "cell_type": "markdown",
   "metadata": {},
   "source": [
    "**bin() Parameters**"
   ]
  },
  {
   "cell_type": "markdown",
   "metadata": {},
   "source": [
    "bin() method takes a single parameter:\n",
    "\n",
    "num - an integer number whose binary equivalent is to be calculated.\n",
    "\n",
    "If not an integer, should implement __index__() method to return an integer."
   ]
  },
  {
   "cell_type": "markdown",
   "metadata": {},
   "source": [
    "**Return value from bin()**"
   ]
  },
  {
   "cell_type": "markdown",
   "metadata": {},
   "source": [
    "bin() method returns the binary string equivalent to the given integer.\n",
    "\n",
    "If not specified an integer, it raises a TypeError exception highlighting the type cannot be interpreted as an integer."
   ]
  },
  {
   "cell_type": "code",
   "execution_count": 33,
   "metadata": {},
   "outputs": [
    {
     "name": "stdout",
     "output_type": "stream",
     "text": [
      "The binary equivalent of 5 is: 0b101\n"
     ]
    }
   ],
   "source": [
    "# Example 1: Convert integer to binary using bin()\n",
    "\n",
    "number = 5\n",
    "print('The binary equivalent of 5 is:', bin(number))"
   ]
  },
  {
   "cell_type": "markdown",
   "metadata": {},
   "source": [
    "**The prefix 0b represents that the result is a binary string.**"
   ]
  },
  {
   "cell_type": "code",
   "execution_count": 34,
   "metadata": {},
   "outputs": [
    {
     "name": "stdout",
     "output_type": "stream",
     "text": [
      "The binary equivalent of quantity is: 0b101\n"
     ]
    }
   ],
   "source": [
    "# Example 2: Convert an object to binary implementing __index__() method\n",
    "\n",
    "class Quantity:\n",
    "    apple = 1\n",
    "    orange = 2\n",
    "    grapes = 2\n",
    "    \n",
    "    def __index__(self):\n",
    "        return self.apple + self.orange + self.grapes\n",
    "        \n",
    "print('The binary equivalent of quantity is:', bin(Quantity()))"
   ]
  },
  {
   "cell_type": "markdown",
   "metadata": {},
   "source": [
    "### 6. Python bool()"
   ]
  },
  {
   "cell_type": "markdown",
   "metadata": {},
   "source": [
    "The bool() method converts a value to Boolean (True or False) using the standard truth testing procedure."
   ]
  },
  {
   "cell_type": "markdown",
   "metadata": {},
   "source": [
    "The syntax of bool() is:\n",
    "    bool([value])"
   ]
  },
  {
   "cell_type": "markdown",
   "metadata": {},
   "source": [
    "**bool() parameters**"
   ]
  },
  {
   "cell_type": "markdown",
   "metadata": {},
   "source": [
    "It's not mandatory to pass a value to bool(). \n",
    "\n",
    "If you do not pass a value, bool() returns False.\n",
    "\n",
    "In general use, bool() takes a single parameter value."
   ]
  },
  {
   "cell_type": "markdown",
   "metadata": {},
   "source": [
    "**Return Value from bool()**\n",
    "\n",
    "bool() returns:\n",
    "\n",
    "False if the value is omitted or false\n",
    "\n",
    "True if the value is true"
   ]
  },
  {
   "cell_type": "markdown",
   "metadata": {},
   "source": [
    "The following values are considered false in Python:\n",
    "\n",
    "- None\n",
    "\n",
    "- False\n",
    "\n",
    "- Zero of any numeric type. For example, 0, 0.0, 0j\n",
    "\n",
    "- Empty sequence. For example, (), [], ''.\n",
    "\n",
    "- Empty mapping. For example, {}\n",
    "\n",
    "- objects of Classes which has __bool__() or __len()__ method which returns 0 or False\n",
    "\n",
    "- All other values except these values are considered true."
   ]
  },
  {
   "cell_type": "code",
   "execution_count": 37,
   "metadata": {},
   "outputs": [
    {
     "name": "stdout",
     "output_type": "stream",
     "text": [
      "[] is False\n"
     ]
    }
   ],
   "source": [
    "# Example: How bool() works?\n",
    "\n",
    "test = []\n",
    "print(test,'is',bool(test))"
   ]
  },
  {
   "cell_type": "code",
   "execution_count": 38,
   "metadata": {},
   "outputs": [
    {
     "name": "stdout",
     "output_type": "stream",
     "text": [
      "[0] is True\n"
     ]
    }
   ],
   "source": [
    "test = [0]\n",
    "print(test,'is',bool(test))"
   ]
  },
  {
   "cell_type": "code",
   "execution_count": 39,
   "metadata": {},
   "outputs": [
    {
     "name": "stdout",
     "output_type": "stream",
     "text": [
      "0.0 is False\n"
     ]
    }
   ],
   "source": [
    "test = 0.0\n",
    "print(test,'is',bool(test))"
   ]
  },
  {
   "cell_type": "code",
   "execution_count": 40,
   "metadata": {},
   "outputs": [
    {
     "name": "stdout",
     "output_type": "stream",
     "text": [
      "None is False\n"
     ]
    }
   ],
   "source": [
    "test = None\n",
    "print(test,'is',bool(test))"
   ]
  },
  {
   "cell_type": "code",
   "execution_count": 41,
   "metadata": {},
   "outputs": [
    {
     "name": "stdout",
     "output_type": "stream",
     "text": [
      "True is True\n"
     ]
    }
   ],
   "source": [
    "test = True\n",
    "print(test,'is',bool(test))"
   ]
  },
  {
   "cell_type": "code",
   "execution_count": 42,
   "metadata": {},
   "outputs": [
    {
     "name": "stdout",
     "output_type": "stream",
     "text": [
      "Easy string is True\n"
     ]
    }
   ],
   "source": [
    "test = 'Easy string'\n",
    "print(test,'is',bool(test))"
   ]
  },
  {
   "cell_type": "code",
   "execution_count": 43,
   "metadata": {},
   "outputs": [
    {
     "name": "stdout",
     "output_type": "stream",
     "text": [
      "  is True\n"
     ]
    }
   ],
   "source": [
    "test = ' '\n",
    "print(test,'is',bool(test))"
   ]
  },
  {
   "cell_type": "code",
   "execution_count": 44,
   "metadata": {},
   "outputs": [
    {
     "name": "stdout",
     "output_type": "stream",
     "text": [
      "() is False\n"
     ]
    }
   ],
   "source": [
    "test = ()\n",
    "print(test,'is',bool(test))"
   ]
  },
  {
   "cell_type": "markdown",
   "metadata": {},
   "source": [
    "### 7. Python bytearray()"
   ]
  },
  {
   "cell_type": "markdown",
   "metadata": {},
   "source": [
    "The bytearray() method returns a bytearray object which is an array of the given bytes."
   ]
  },
  {
   "cell_type": "markdown",
   "metadata": {},
   "source": [
    "The syntax of bytearray() method is:\n",
    "    bytearray([source[, encoding[, errors]]])"
   ]
  },
  {
   "cell_type": "markdown",
   "metadata": {},
   "source": [
    "bytearray() method returns a bytearray object which is mutable (can be modified) sequence of integers in the range 0 <= x < 256.\n",
    "\n",
    "If you want the immutable version, use bytes() method."
   ]
  },
  {
   "cell_type": "markdown",
   "metadata": {},
   "source": [
    "**bytearray() Parameters**\n",
    "\n",
    "bytearray() takes three optional parameters:\n",
    "\n",
    "- source (Optional) - source to initialize the array of bytes.\n",
    "\n",
    "- encoding (Optional) - if the source is a string, the encoding of the string.\n",
    "\n",
    "- errors (Optional) - if the source is a string, the action to take when the encoding conversion fails (Read more: String encoding)"
   ]
  },
  {
   "cell_type": "markdown",
   "metadata": {},
   "source": [
    "**Return value from bytearray()**\n",
    "\n",
    "bytearray() method returns an array of bytes of the given size and initialization values."
   ]
  },
  {
   "cell_type": "code",
   "execution_count": 46,
   "metadata": {},
   "outputs": [
    {
     "name": "stdout",
     "output_type": "stream",
     "text": [
      "bytearray(b'Python is interesting.')\n"
     ]
    }
   ],
   "source": [
    "# Example 1: Array of bytes from a string\n",
    "\n",
    "string = \"Python is interesting.\"\n",
    "\n",
    "# string with encoding 'utf-8'\n",
    "\n",
    "arr = bytearray(string, 'utf-8')\n",
    "\n",
    "print(arr)"
   ]
  },
  {
   "cell_type": "code",
   "execution_count": 47,
   "metadata": {},
   "outputs": [
    {
     "name": "stdout",
     "output_type": "stream",
     "text": [
      "bytearray(b'\\x00\\x00\\x00\\x00\\x00')\n"
     ]
    }
   ],
   "source": [
    "# Example 2: Array of bytes of given integer size\n",
    "\n",
    "size = 5\n",
    "\n",
    "arr = bytearray(size)\n",
    "\n",
    "print(arr)   "
   ]
  },
  {
   "cell_type": "code",
   "execution_count": 48,
   "metadata": {},
   "outputs": [
    {
     "name": "stdout",
     "output_type": "stream",
     "text": [
      "bytearray(b'\\x01\\x02\\x03\\x04\\x05')\n"
     ]
    }
   ],
   "source": [
    "# Example 3: Array of bytes from an iterable list\n",
    "\n",
    "rList = [1, 2, 3, 4, 5]\n",
    "\n",
    "arr = bytearray(rList)\n",
    "\n",
    "print(arr)"
   ]
  },
  {
   "cell_type": "markdown",
   "metadata": {},
   "source": [
    "### 8. Python callable()"
   ]
  },
  {
   "cell_type": "markdown",
   "metadata": {},
   "source": [
    "The callable() method returns True if the object passed appears callable. If not, it returns False."
   ]
  },
  {
   "cell_type": "markdown",
   "metadata": {},
   "source": [
    "The syntax of callable() is:\n",
    "    callable(object)"
   ]
  },
  {
   "cell_type": "markdown",
   "metadata": {},
   "source": [
    "**callable() Parameters**\n",
    "\n",
    "callable() method takes a single argument object."
   ]
  },
  {
   "cell_type": "markdown",
   "metadata": {},
   "source": [
    "**Return value from callable()**"
   ]
  },
  {
   "cell_type": "markdown",
   "metadata": {},
   "source": [
    "callable() method returns:\n",
    "\n",
    "True - if the object appears callable\n",
    "\n",
    "False - if the object is not callable.\n",
    "\n",
    "It is important to remember that, even if callable() is True, call to the object may still fail.\n",
    "\n",
    "However, if callable() returns False, call to the object will certainly fail."
   ]
  },
  {
   "cell_type": "code",
   "execution_count": 50,
   "metadata": {},
   "outputs": [
    {
     "name": "stdout",
     "output_type": "stream",
     "text": [
      "False\n"
     ]
    }
   ],
   "source": [
    "# Example 1: How callable() works?\n",
    "\n",
    "x = 5\n",
    "print(callable(x))"
   ]
  },
  {
   "cell_type": "code",
   "execution_count": 51,
   "metadata": {},
   "outputs": [
    {
     "name": "stdout",
     "output_type": "stream",
     "text": [
      "True\n"
     ]
    }
   ],
   "source": [
    "def testFunction():\n",
    "    print(\"Test\")\n",
    "\n",
    "y = testFunction\n",
    "print(callable(y))"
   ]
  },
  {
   "cell_type": "markdown",
   "metadata": {},
   "source": [
    "Here, the object x is not callable. And, the object y appears to be callable (but may not be callable)."
   ]
  },
  {
   "cell_type": "code",
   "execution_count": 53,
   "metadata": {},
   "outputs": [
    {
     "name": "stdout",
     "output_type": "stream",
     "text": [
      "False\n"
     ]
    }
   ],
   "source": [
    "y = 'Function'\n",
    "print(callable(y))"
   ]
  },
  {
   "cell_type": "code",
   "execution_count": 55,
   "metadata": {},
   "outputs": [
    {
     "ename": "NameError",
     "evalue": "name 'Function' is not defined",
     "output_type": "error",
     "traceback": [
      "\u001b[1;31m---------------------------------------------------------------------------\u001b[0m",
      "\u001b[1;31mNameError\u001b[0m                                 Traceback (most recent call last)",
      "\u001b[1;32m<ipython-input-55-1318543ab6e3>\u001b[0m in \u001b[0;36m<module>\u001b[1;34m\u001b[0m\n\u001b[1;32m----> 1\u001b[1;33m \u001b[0my\u001b[0m \u001b[1;33m=\u001b[0m \u001b[0mFunction\u001b[0m\u001b[1;33m\u001b[0m\u001b[1;33m\u001b[0m\u001b[0m\n\u001b[0m\u001b[0;32m      2\u001b[0m \u001b[0mprint\u001b[0m\u001b[1;33m(\u001b[0m\u001b[0mcallable\u001b[0m\u001b[1;33m(\u001b[0m\u001b[0my\u001b[0m\u001b[1;33m)\u001b[0m\u001b[1;33m)\u001b[0m\u001b[1;33m\u001b[0m\u001b[1;33m\u001b[0m\u001b[0m\n",
      "\u001b[1;31mNameError\u001b[0m: name 'Function' is not defined"
     ]
    }
   ],
   "source": [
    "y = Function\n",
    "print(callable(y))"
   ]
  },
  {
   "cell_type": "code",
   "execution_count": 57,
   "metadata": {},
   "outputs": [
    {
     "name": "stdout",
     "output_type": "stream",
     "text": [
      "True\n"
     ]
    }
   ],
   "source": [
    "# Example 2: Callable Object \n",
    "\n",
    "class Foo:\n",
    "    def __call__(self):\n",
    "        print('Print Something')\n",
    "\n",
    "print(callable(Foo))"
   ]
  },
  {
   "cell_type": "code",
   "execution_count": 58,
   "metadata": {},
   "outputs": [],
   "source": [
    "class Foo:\n",
    "    def __call__(self):\n",
    "        print('Print Something')\n",
    "\n",
    "InstanceOfFoo = Foo()"
   ]
  },
  {
   "cell_type": "code",
   "execution_count": 59,
   "metadata": {},
   "outputs": [
    {
     "name": "stdout",
     "output_type": "stream",
     "text": [
      "Print Something\n"
     ]
    }
   ],
   "source": [
    "InstanceOfFoo()"
   ]
  },
  {
   "cell_type": "code",
   "execution_count": 60,
   "metadata": {},
   "outputs": [
    {
     "name": "stdout",
     "output_type": "stream",
     "text": [
      "True\n"
     ]
    }
   ],
   "source": [
    "# Example 3: Object Appears to be Callable but isn't callable.\n",
    "\n",
    "class Foo:\n",
    "    def printLine(self):\n",
    "        print('Print Something')\n",
    "\n",
    "print(callable(Foo))"
   ]
  },
  {
   "cell_type": "markdown",
   "metadata": {},
   "source": [
    "The instance of Foo class appears to be callable but it's not callable. \n",
    "\n",
    "The following code will raise an error."
   ]
  },
  {
   "cell_type": "code",
   "execution_count": 61,
   "metadata": {},
   "outputs": [
    {
     "name": "stdout",
     "output_type": "stream",
     "text": [
      "True\n"
     ]
    }
   ],
   "source": [
    "class Foo:\n",
    "    def printLine(self):\n",
    "        print('Print Something')\n",
    "\n",
    "print(callable(Foo))\n",
    "\n",
    "InstanceOfFoo = Foo()"
   ]
  },
  {
   "cell_type": "code",
   "execution_count": 63,
   "metadata": {},
   "outputs": [
    {
     "ename": "TypeError",
     "evalue": "'Foo' object is not callable",
     "output_type": "error",
     "traceback": [
      "\u001b[1;31m---------------------------------------------------------------------------\u001b[0m",
      "\u001b[1;31mTypeError\u001b[0m                                 Traceback (most recent call last)",
      "\u001b[1;32m<ipython-input-63-59463fb53398>\u001b[0m in \u001b[0;36m<module>\u001b[1;34m\u001b[0m\n\u001b[1;32m----> 1\u001b[1;33m \u001b[0mInstanceOfFoo\u001b[0m\u001b[1;33m(\u001b[0m\u001b[1;33m)\u001b[0m\u001b[1;33m\u001b[0m\u001b[1;33m\u001b[0m\u001b[0m\n\u001b[0m",
      "\u001b[1;31mTypeError\u001b[0m: 'Foo' object is not callable"
     ]
    }
   ],
   "source": [
    "InstanceOfFoo()"
   ]
  },
  {
   "cell_type": "markdown",
   "metadata": {},
   "source": [
    "### 9. Python bytes()"
   ]
  },
  {
   "cell_type": "markdown",
   "metadata": {},
   "source": [
    "The bytes() method returns a immutable bytes object initialized with the given size and data."
   ]
  },
  {
   "cell_type": "markdown",
   "metadata": {},
   "source": [
    "The syntax of bytes() method is:\n",
    "    bytes([source[, encoding[, errors]]])"
   ]
  },
  {
   "cell_type": "markdown",
   "metadata": {},
   "source": [
    "bytes() method returns a bytes object which is an immutable (cannot be modified) sequence of integers in the range 0 <=x < 256.\n",
    "\n",
    "If you want to use the mutable version, use bytearray() method."
   ]
  },
  {
   "cell_type": "markdown",
   "metadata": {},
   "source": [
    "**bytes() Parameters**\n",
    "\n",
    "bytes() takes three optional parameters:\n",
    "\n",
    "source (Optional) - source to initialize the array of bytes.\n",
    "\n",
    "encoding (Optional) - if the source is a string, the encoding of the string.\n",
    "\n",
    "errors (Optional) - if the source is a string, the action to take when the encoding conversion fails (Read more: String encoding)"
   ]
  },
  {
   "cell_type": "markdown",
   "metadata": {},
   "source": [
    "**Return value from bytes()**\n",
    "\n",
    "The bytes() method returns a bytes object of the given size and initialization values."
   ]
  },
  {
   "cell_type": "code",
   "execution_count": 64,
   "metadata": {},
   "outputs": [
    {
     "name": "stdout",
     "output_type": "stream",
     "text": [
      "b'Python is interesting.'\n"
     ]
    }
   ],
   "source": [
    "# Example 1: Convert string to bytes\n",
    "\n",
    "string = \"Python is interesting.\"\n",
    "\n",
    "# string with encoding 'utf-8'\n",
    "\n",
    "arr = bytes(string, 'utf-8')\n",
    "\n",
    "print(arr)"
   ]
  },
  {
   "cell_type": "code",
   "execution_count": 65,
   "metadata": {},
   "outputs": [
    {
     "name": "stdout",
     "output_type": "stream",
     "text": [
      "b'\\x00\\x00\\x00\\x00\\x00'\n"
     ]
    }
   ],
   "source": [
    "# Example 2: Create a byte of given integer size\n",
    "\n",
    "size = 5\n",
    "\n",
    "arr = bytes(size)\n",
    "print(arr)"
   ]
  },
  {
   "cell_type": "code",
   "execution_count": 66,
   "metadata": {},
   "outputs": [
    {
     "name": "stdout",
     "output_type": "stream",
     "text": [
      "b'\\x01\\x02\\x03\\x04\\x05'\n"
     ]
    }
   ],
   "source": [
    "# Example 3: Convert iterable list to bytes\n",
    "\n",
    "rList = [1, 2, 3, 4, 5]\n",
    "\n",
    "arr = bytes(rList)\n",
    "\n",
    "print(arr)"
   ]
  },
  {
   "cell_type": "markdown",
   "metadata": {},
   "source": [
    "### 10. Python chr()"
   ]
  },
  {
   "cell_type": "markdown",
   "metadata": {},
   "source": [
    "The chr() method returns a character (a string) from an integer (represents unicode code point of the character)."
   ]
  },
  {
   "cell_type": "markdown",
   "metadata": {},
   "source": [
    "The syntax of chr() is:\n",
    "    chr(i)"
   ]
  },
  {
   "cell_type": "markdown",
   "metadata": {},
   "source": [
    "**chr() Parameters**\n",
    "\n",
    "chr() method takes a single parameter, an integer i.\n",
    "\n",
    "The valid range of the integer is from 0 through 1,114,111."
   ]
  },
  {
   "cell_type": "markdown",
   "metadata": {},
   "source": [
    "**Return Value from chr()**\n",
    "\n",
    "chr() returns:\n",
    "\n",
    "a character (a string) whose Unicode code point is the integer i\n",
    "If the integer i is outside the range, ValueError will be raised."
   ]
  },
  {
   "cell_type": "code",
   "execution_count": 68,
   "metadata": {},
   "outputs": [
    {
     "name": "stdout",
     "output_type": "stream",
     "text": [
      "a\n",
      "A\n",
      "Ұ\n"
     ]
    }
   ],
   "source": [
    "# Example 1: How chr() works?\n",
    "\n",
    "print(chr(97))\n",
    "print(chr(65))\n",
    "print(chr(1200))"
   ]
  },
  {
   "cell_type": "code",
   "execution_count": 69,
   "metadata": {},
   "outputs": [
    {
     "ename": "ValueError",
     "evalue": "chr() arg not in range(0x110000)",
     "output_type": "error",
     "traceback": [
      "\u001b[1;31m---------------------------------------------------------------------------\u001b[0m",
      "\u001b[1;31mValueError\u001b[0m                                Traceback (most recent call last)",
      "\u001b[1;32m<ipython-input-69-69e1273d6507>\u001b[0m in \u001b[0;36m<module>\u001b[1;34m\u001b[0m\n\u001b[0;32m      1\u001b[0m \u001b[1;31m# Example 2: Integer passed to chr() is out of the range\u001b[0m\u001b[1;33m\u001b[0m\u001b[1;33m\u001b[0m\u001b[1;33m\u001b[0m\u001b[0m\n\u001b[0;32m      2\u001b[0m \u001b[1;33m\u001b[0m\u001b[0m\n\u001b[1;32m----> 3\u001b[1;33m \u001b[0mprint\u001b[0m\u001b[1;33m(\u001b[0m\u001b[0mchr\u001b[0m\u001b[1;33m(\u001b[0m\u001b[1;33m-\u001b[0m\u001b[1;36m1\u001b[0m\u001b[1;33m)\u001b[0m\u001b[1;33m)\u001b[0m\u001b[1;33m\u001b[0m\u001b[1;33m\u001b[0m\u001b[0m\n\u001b[0m",
      "\u001b[1;31mValueError\u001b[0m: chr() arg not in range(0x110000)"
     ]
    }
   ],
   "source": [
    "# Example 2: Integer passed to chr() is out of the range\n",
    "\n",
    "print(chr(-1))"
   ]
  },
  {
   "cell_type": "code",
   "execution_count": 70,
   "metadata": {},
   "outputs": [
    {
     "name": "stdout",
     "output_type": "stream",
     "text": [
      "<class 'str'>\n"
     ]
    }
   ],
   "source": [
    "print(type(chr(65)))"
   ]
  },
  {
   "cell_type": "markdown",
   "metadata": {},
   "source": [
    "### 11. Python compile()"
   ]
  },
  {
   "cell_type": "markdown",
   "metadata": {},
   "source": [
    "The compile() method returns a Python code object from the source (normal string, a byte string, or an AST object)."
   ]
  },
  {
   "cell_type": "markdown",
   "metadata": {},
   "source": [
    "The syntax of compile() is:\n",
    "    compile(source, filename, mode, flags=0, dont_inherit=False, optimize=-1)"
   ]
  },
  {
   "cell_type": "markdown",
   "metadata": {},
   "source": [
    "compile() method is used if the Python code is in string form or is an AST object, and you want to change it to a code object.\n",
    "\n",
    "The code object returned by compile() method can later be called using methods like: exec() and eval() which will execute dynamically generated Python code."
   ]
  },
  {
   "cell_type": "markdown",
   "metadata": {},
   "source": [
    "**compile() Parameters**"
   ]
  },
  {
   "cell_type": "markdown",
   "metadata": {},
   "source": [
    "source - a normal string, a byte string, or an AST object\n",
    "\n",
    "filename - file from which the code was read. If it wasn't read from a file, you can give a name yourself\n",
    "\n",
    "mode - Either exec or eval or single.\n",
    "\n",
    "eval - accepts only a single expression.\n",
    "\n",
    "exec - It can take a code block that has Python statements, class and functions, and so on.\n",
    "\n",
    "single - if it consists of a single interactive statement\n",
    "\n",
    "flags (optional) and dont_inherit (optional) - controls which future statements affect the compilation of the source. Default Value: 0\n",
    "\n",
    "optimize (optional) - optimization level of the compiler. Default value -1."
   ]
  },
  {
   "cell_type": "markdown",
   "metadata": {},
   "source": [
    "**Return Value from compile()**\n",
    "\n",
    "compile() method returns a Python code object."
   ]
  },
  {
   "cell_type": "code",
   "execution_count": 71,
   "metadata": {},
   "outputs": [
    {
     "name": "stdout",
     "output_type": "stream",
     "text": [
      "sum = 11\n"
     ]
    }
   ],
   "source": [
    "# Example: How compile() works?\n",
    "\n",
    "codeInString = 'a = 5\\nb=6\\nsum=a+b\\nprint(\"sum =\",sum)'\n",
    "\n",
    "codeObejct = compile(codeInString, 'sumstring', 'exec')\n",
    "\n",
    "exec(codeObejct)"
   ]
  },
  {
   "cell_type": "markdown",
   "metadata": {},
   "source": [
    "Here, source is in normal string form. \n",
    "\n",
    "The filename is sumstring.\n",
    "\n",
    "And, the exec mode later allows the use of exec() method.\n",
    "\n",
    "compile() method converts the string to Python code object.\n",
    "\n",
    "The code object is then executed using exec() method."
   ]
  },
  {
   "cell_type": "markdown",
   "metadata": {},
   "source": [
    "### 12. Python classmethod()"
   ]
  },
  {
   "cell_type": "markdown",
   "metadata": {},
   "source": [
    "The syntax of classmethod() method is: classmethod(function)"
   ]
  },
  {
   "cell_type": "markdown",
   "metadata": {},
   "source": [
    "**classmethod() Parameters**\n",
    "\n",
    "classmethod() method takes a single parameter:\n",
    "\n",
    "function - Function that needs to be converted into a class method"
   ]
  },
  {
   "cell_type": "markdown",
   "metadata": {},
   "source": [
    "**Return value from classmethod()**\n",
    "\n",
    "classmethod() method returns a class method for the given function."
   ]
  },
  {
   "cell_type": "code",
   "execution_count": 1,
   "metadata": {},
   "outputs": [
    {
     "name": "stdout",
     "output_type": "stream",
     "text": [
      "The age is: 25\n"
     ]
    }
   ],
   "source": [
    "# Example 1: Create class method using classmethod()\n",
    "\n",
    "class Person:\n",
    "    age = 25\n",
    "\n",
    "    def printAge(cls):\n",
    "        print('The age is:', cls.age)\n",
    "\n",
    "# create printAge class method\n",
    "Person.printAge = classmethod(Person.printAge)\n",
    "\n",
    "Person.printAge()"
   ]
  },
  {
   "cell_type": "code",
   "execution_count": 3,
   "metadata": {},
   "outputs": [
    {
     "name": "stdout",
     "output_type": "stream",
     "text": [
      "Adam's age is: 19\n",
      "John's age is: 35\n"
     ]
    }
   ],
   "source": [
    "# Create factory method using class method\n",
    "\n",
    "from datetime import date\n",
    "\n",
    "# random Person\n",
    "class Person:\n",
    "    def __init__(self, name, age):\n",
    "        self.name = name\n",
    "        self.age = age\n",
    "\n",
    "    @classmethod\n",
    "    def fromBirthYear(cls, name, birthYear):\n",
    "        return cls(name, date.today().year - birthYear)\n",
    "\n",
    "    def display(self):\n",
    "        print(self.name + \"'s age is: \" + str(self.age))\n",
    "\n",
    "person = Person('Adam', 19)\n",
    "person.display()\n",
    "\n",
    "person1 = Person.fromBirthYear('John',  1985)\n",
    "person1.display()"
   ]
  },
  {
   "cell_type": "code",
   "execution_count": 4,
   "metadata": {},
   "outputs": [
    {
     "name": "stdout",
     "output_type": "stream",
     "text": [
      "True\n",
      "False\n"
     ]
    }
   ],
   "source": [
    "# Example 3: How the class method works for the inheritance?\n",
    "\n",
    "from datetime import date\n",
    "\n",
    "# random Person\n",
    "class Person:\n",
    "    def __init__(self, name, age):\n",
    "        self.name = name\n",
    "        self.age = age\n",
    "\n",
    "    @staticmethod\n",
    "    def fromFathersAge(name, fatherAge, fatherPersonAgeDiff):\n",
    "        return Person(name, date.today().year - fatherAge + fatherPersonAgeDiff)\n",
    "\n",
    "    @classmethod\n",
    "    def fromBirthYear(cls, name, birthYear):\n",
    "        return cls(name, date.today().year - birthYear)\n",
    "\n",
    "    def display(self):\n",
    "        print(self.name + \"'s age is: \" + str(self.age))\n",
    "\n",
    "class Man(Person):\n",
    "    sex = 'Male'\n",
    "\n",
    "man = Man.fromBirthYear('John', 1985)\n",
    "print(isinstance(man, Man))\n",
    "\n",
    "man1 = Man.fromFathersAge('John', 1965, 20)\n",
    "print(isinstance(man1, Man))"
   ]
  },
  {
   "cell_type": "markdown",
   "metadata": {},
   "source": [
    "### 13. Python complex()"
   ]
  },
  {
   "cell_type": "markdown",
   "metadata": {},
   "source": [
    "The complex() method returns a complex number when real and imaginary parts are provided, or it converts a string to a complex number."
   ]
  },
  {
   "cell_type": "markdown",
   "metadata": {},
   "source": [
    "The syntax of complex() is: complex([real[, imag]])"
   ]
  },
  {
   "cell_type": "markdown",
   "metadata": {},
   "source": [
    "**Return Value from complex()**\n",
    "\n",
    "As suggested by the name, complex() method returns a complex number.\n",
    "\n",
    "If the string passed to this method is not a valid complex number, ValueError exception is raised.\n",
    "\n",
    "Note: The string passed to complex() should be in the form real+imagj or real+imagJ"
   ]
  },
  {
   "cell_type": "code",
   "execution_count": 6,
   "metadata": {},
   "outputs": [
    {
     "name": "stdout",
     "output_type": "stream",
     "text": [
      "(2-3j)\n"
     ]
    }
   ],
   "source": [
    "# Example 1: How to create a complex number in Python?\n",
    "\n",
    "z = complex(2, -3)\n",
    "print(z)"
   ]
  },
  {
   "cell_type": "code",
   "execution_count": 7,
   "metadata": {},
   "outputs": [
    {
     "name": "stdout",
     "output_type": "stream",
     "text": [
      "(1+0j)\n"
     ]
    }
   ],
   "source": [
    "z = complex(1)\n",
    "print(z)"
   ]
  },
  {
   "cell_type": "code",
   "execution_count": 8,
   "metadata": {},
   "outputs": [
    {
     "name": "stdout",
     "output_type": "stream",
     "text": [
      "0j\n"
     ]
    }
   ],
   "source": [
    "z = complex()\n",
    "print(z)"
   ]
  },
  {
   "cell_type": "code",
   "execution_count": 9,
   "metadata": {},
   "outputs": [
    {
     "name": "stdout",
     "output_type": "stream",
     "text": [
      "(5-9j)\n"
     ]
    }
   ],
   "source": [
    "z = complex('5-9j')\n",
    "print(z)"
   ]
  },
  {
   "cell_type": "code",
   "execution_count": 10,
   "metadata": {},
   "outputs": [
    {
     "name": "stdout",
     "output_type": "stream",
     "text": [
      "a = (2+3j)\n",
      "Type of a is <class 'complex'>\n"
     ]
    }
   ],
   "source": [
    "# Example 2: Create complex Number Without Using complex()\n",
    "\n",
    "a = 2+3j\n",
    "print('a =',a)\n",
    "print('Type of a is',type(a))"
   ]
  },
  {
   "cell_type": "code",
   "execution_count": 12,
   "metadata": {},
   "outputs": [
    {
     "name": "stdout",
     "output_type": "stream",
     "text": [
      "b = (-0-2j)\n",
      "Type of b is <class 'complex'>\n"
     ]
    }
   ],
   "source": [
    "b = -2j\n",
    "print('b =',b)\n",
    "print('Type of b is',type(b))"
   ]
  },
  {
   "cell_type": "code",
   "execution_count": 13,
   "metadata": {},
   "outputs": [
    {
     "name": "stdout",
     "output_type": "stream",
     "text": [
      "c = 0j\n",
      "Type of c is <class 'complex'>\n"
     ]
    }
   ],
   "source": [
    "c = 0j\n",
    "print('c =',c)\n",
    "print('Type of c is',type(c))"
   ]
  },
  {
   "cell_type": "markdown",
   "metadata": {},
   "source": [
    "### 14. Python delattr()"
   ]
  },
  {
   "cell_type": "markdown",
   "metadata": {},
   "source": [
    "The delattr() deletes an attribute from the object (if the object allows it)."
   ]
  },
  {
   "cell_type": "markdown",
   "metadata": {},
   "source": [
    "The syntax of delattr() is: delattr(object, name)"
   ]
  },
  {
   "cell_type": "markdown",
   "metadata": {},
   "source": [
    "**delattr() Parameters**\n",
    "\n",
    "delattr() takes two parameters:\n",
    "\n",
    "object - the object from which name attribute is to be removed\n",
    "\n",
    "name -  a string which must be the name of the attribute to be removed from the object"
   ]
  },
  {
   "cell_type": "markdown",
   "metadata": {},
   "source": [
    "**Return Value from delattr()**\n",
    "\n",
    "delattr() doesn't return any value (returns None). It only removes an attribute (if the object allows it)."
   ]
  },
  {
   "cell_type": "code",
   "execution_count": 15,
   "metadata": {},
   "outputs": [
    {
     "name": "stdout",
     "output_type": "stream",
     "text": [
      "x =  10\n",
      "y =  -5\n",
      "z =  0\n"
     ]
    }
   ],
   "source": [
    "# Example 1: How delattr() works?\n",
    "\n",
    "class Coordinate:\n",
    "    x = 10\n",
    "    y = -5\n",
    "    z = 0\n",
    "\n",
    "point1 = Coordinate() \n",
    "\n",
    "print('x = ',point1.x)\n",
    "print('y = ',point1.y)\n",
    "print('z = ',point1.z) "
   ]
  },
  {
   "cell_type": "code",
   "execution_count": 17,
   "metadata": {},
   "outputs": [
    {
     "ename": "AttributeError",
     "evalue": "z",
     "output_type": "error",
     "traceback": [
      "\u001b[1;31m---------------------------------------------------------------------------\u001b[0m",
      "\u001b[1;31mAttributeError\u001b[0m                            Traceback (most recent call last)",
      "\u001b[1;32m<ipython-input-17-7dbcca96edbb>\u001b[0m in \u001b[0;36m<module>\u001b[1;34m\u001b[0m\n\u001b[1;32m----> 1\u001b[1;33m \u001b[0mdelattr\u001b[0m\u001b[1;33m(\u001b[0m\u001b[0mCoordinate\u001b[0m\u001b[1;33m,\u001b[0m \u001b[1;34m'z'\u001b[0m\u001b[1;33m)\u001b[0m\u001b[1;33m\u001b[0m\u001b[1;33m\u001b[0m\u001b[0m\n\u001b[0m\u001b[0;32m      2\u001b[0m \u001b[1;33m\u001b[0m\u001b[0m\n\u001b[0;32m      3\u001b[0m \u001b[0mprint\u001b[0m\u001b[1;33m(\u001b[0m\u001b[1;34m'--After deleting z attribute--'\u001b[0m\u001b[1;33m)\u001b[0m\u001b[1;33m\u001b[0m\u001b[1;33m\u001b[0m\u001b[0m\n\u001b[0;32m      4\u001b[0m \u001b[0mprint\u001b[0m\u001b[1;33m(\u001b[0m\u001b[1;34m'x = '\u001b[0m\u001b[1;33m,\u001b[0m\u001b[0mpoint1\u001b[0m\u001b[1;33m.\u001b[0m\u001b[0mx\u001b[0m\u001b[1;33m)\u001b[0m\u001b[1;33m\u001b[0m\u001b[1;33m\u001b[0m\u001b[0m\n\u001b[0;32m      5\u001b[0m \u001b[0mprint\u001b[0m\u001b[1;33m(\u001b[0m\u001b[1;34m'y = '\u001b[0m\u001b[1;33m,\u001b[0m\u001b[0mpoint1\u001b[0m\u001b[1;33m.\u001b[0m\u001b[0my\u001b[0m\u001b[1;33m)\u001b[0m\u001b[1;33m\u001b[0m\u001b[1;33m\u001b[0m\u001b[0m\n",
      "\u001b[1;31mAttributeError\u001b[0m: z"
     ]
    }
   ],
   "source": [
    "delattr(Coordinate, 'z')\n",
    "\n",
    "print('--After deleting z attribute--')\n",
    "print('x = ',point1.x)\n",
    "print('y = ',point1.y)"
   ]
  },
  {
   "cell_type": "code",
   "execution_count": 18,
   "metadata": {},
   "outputs": [
    {
     "ename": "AttributeError",
     "evalue": "'Coordinate' object has no attribute 'z'",
     "output_type": "error",
     "traceback": [
      "\u001b[1;31m---------------------------------------------------------------------------\u001b[0m",
      "\u001b[1;31mAttributeError\u001b[0m                            Traceback (most recent call last)",
      "\u001b[1;32m<ipython-input-18-e30da8bef45a>\u001b[0m in \u001b[0;36m<module>\u001b[1;34m\u001b[0m\n\u001b[0;32m      1\u001b[0m \u001b[1;31m# Raises Error\u001b[0m\u001b[1;33m\u001b[0m\u001b[1;33m\u001b[0m\u001b[1;33m\u001b[0m\u001b[0m\n\u001b[1;32m----> 2\u001b[1;33m \u001b[0mprint\u001b[0m\u001b[1;33m(\u001b[0m\u001b[1;34m'z = '\u001b[0m\u001b[1;33m,\u001b[0m\u001b[0mpoint1\u001b[0m\u001b[1;33m.\u001b[0m\u001b[0mz\u001b[0m\u001b[1;33m)\u001b[0m\u001b[1;33m\u001b[0m\u001b[1;33m\u001b[0m\u001b[0m\n\u001b[0m",
      "\u001b[1;31mAttributeError\u001b[0m: 'Coordinate' object has no attribute 'z'"
     ]
    }
   ],
   "source": [
    "# Raises Error\n",
    "print('z = ',point1.z)"
   ]
  },
  {
   "cell_type": "code",
   "execution_count": 19,
   "metadata": {},
   "outputs": [
    {
     "name": "stdout",
     "output_type": "stream",
     "text": [
      "x =  10\n",
      "y =  -5\n",
      "z =  0\n"
     ]
    }
   ],
   "source": [
    "# Example 2: Deleting Attribute Using del Operator\n",
    "\n",
    "class Coordinate:\n",
    "  x = 10\n",
    "  y = -5\n",
    "  z = 0\n",
    "\n",
    "point1 = Coordinate() \n",
    "\n",
    "print('x = ',point1.x)\n",
    "print('y = ',point1.y)\n",
    "print('z = ',point1.z)"
   ]
  },
  {
   "cell_type": "code",
   "execution_count": 20,
   "metadata": {},
   "outputs": [],
   "source": [
    "# Deleting attribute z\n",
    "del Coordinate.z"
   ]
  },
  {
   "cell_type": "code",
   "execution_count": 21,
   "metadata": {},
   "outputs": [
    {
     "name": "stdout",
     "output_type": "stream",
     "text": [
      "--After deleting z attribute--\n",
      "x =  10\n",
      "y =  -5\n"
     ]
    }
   ],
   "source": [
    "print('--After deleting z attribute--')\n",
    "print('x = ',point1.x)\n",
    "print('y = ',point1.y)"
   ]
  },
  {
   "cell_type": "code",
   "execution_count": 22,
   "metadata": {},
   "outputs": [
    {
     "ename": "AttributeError",
     "evalue": "'Coordinate' object has no attribute 'z'",
     "output_type": "error",
     "traceback": [
      "\u001b[1;31m---------------------------------------------------------------------------\u001b[0m",
      "\u001b[1;31mAttributeError\u001b[0m                            Traceback (most recent call last)",
      "\u001b[1;32m<ipython-input-22-3b1cdfba0b68>\u001b[0m in \u001b[0;36m<module>\u001b[1;34m\u001b[0m\n\u001b[0;32m      1\u001b[0m \u001b[1;31m# Raises Attribute Error\u001b[0m\u001b[1;33m\u001b[0m\u001b[1;33m\u001b[0m\u001b[1;33m\u001b[0m\u001b[0m\n\u001b[0;32m      2\u001b[0m \u001b[1;33m\u001b[0m\u001b[0m\n\u001b[1;32m----> 3\u001b[1;33m \u001b[0mprint\u001b[0m\u001b[1;33m(\u001b[0m\u001b[1;34m'z = '\u001b[0m\u001b[1;33m,\u001b[0m\u001b[0mpoint1\u001b[0m\u001b[1;33m.\u001b[0m\u001b[0mz\u001b[0m\u001b[1;33m)\u001b[0m\u001b[1;33m\u001b[0m\u001b[1;33m\u001b[0m\u001b[0m\n\u001b[0m",
      "\u001b[1;31mAttributeError\u001b[0m: 'Coordinate' object has no attribute 'z'"
     ]
    }
   ],
   "source": [
    "# Raises Attribute Error\n",
    "\n",
    "print('z = ',point1.z)"
   ]
  },
  {
   "cell_type": "markdown",
   "metadata": {},
   "source": [
    "The output of the program will be the same as above."
   ]
  },
  {
   "cell_type": "markdown",
   "metadata": {},
   "source": [
    "### 15. Python dict()"
   ]
  },
  {
   "cell_type": "markdown",
   "metadata": {},
   "source": [
    "The dict() constructor creates a dictionary in Python."
   ]
  },
  {
   "cell_type": "markdown",
   "metadata": {},
   "source": [
    "Different forms of dict() constructors are:\n",
    "\n",
    "- class dict(**kwarg)\n",
    "\n",
    "- class dict(mapping, **kwarg)\n",
    "\n",
    "- class dict(iterable, **kwarg)"
   ]
  },
  {
   "cell_type": "markdown",
   "metadata": {},
   "source": [
    "Note: **kwarg let you take an arbitrary number of keyword arguments"
   ]
  },
  {
   "cell_type": "code",
   "execution_count": 23,
   "metadata": {},
   "outputs": [
    {
     "name": "stdout",
     "output_type": "stream",
     "text": [
      "numbers = {'x': 5, 'y': 0}\n",
      "<class 'dict'>\n"
     ]
    }
   ],
   "source": [
    "# Example 1: Create Dictionary Using keyword arguments only\n",
    "\n",
    "numbers = dict(x=5, y=0)\n",
    "print('numbers =', numbers)\n",
    "print(type(numbers))"
   ]
  },
  {
   "cell_type": "code",
   "execution_count": 24,
   "metadata": {},
   "outputs": [
    {
     "name": "stdout",
     "output_type": "stream",
     "text": [
      "empty = {}\n",
      "<class 'dict'>\n"
     ]
    }
   ],
   "source": [
    "empty = dict()\n",
    "print('empty =', empty)\n",
    "print(type(empty))"
   ]
  },
  {
   "cell_type": "code",
   "execution_count": 25,
   "metadata": {},
   "outputs": [
    {
     "name": "stdout",
     "output_type": "stream",
     "text": [
      "numbers1 = {'x': 5, 'y': -5}\n"
     ]
    }
   ],
   "source": [
    "# Example 2: Create Dictionary Using Iterable\n",
    "\n",
    "# keyword argument is not passed\n",
    "\n",
    "numbers1 = dict([('x', 5), ('y', -5)])\n",
    "print('numbers1 =',numbers1)"
   ]
  },
  {
   "cell_type": "code",
   "execution_count": 26,
   "metadata": {},
   "outputs": [
    {
     "name": "stdout",
     "output_type": "stream",
     "text": [
      "numbers2 = {'x': 5, 'y': -5, 'z': 8}\n"
     ]
    }
   ],
   "source": [
    "#  keyword argument is also passed\n",
    "\n",
    "numbers2 = dict([('x', 5), ('y', -5)], z=8)\n",
    "\n",
    "print('numbers2 =',numbers2)"
   ]
  },
  {
   "cell_type": "code",
   "execution_count": 27,
   "metadata": {},
   "outputs": [
    {
     "name": "stdout",
     "output_type": "stream",
     "text": [
      "numbers3 = {'x': 1, 'y': 2, 'z': 3}\n"
     ]
    }
   ],
   "source": [
    "# zip() creates an iterable in Python 3\n",
    "\n",
    "numbers3 = dict(dict(zip(['x', 'y', 'z'], [1, 2, 3])))\n",
    "\n",
    "print('numbers3 =',numbers3)"
   ]
  },
  {
   "cell_type": "code",
   "execution_count": 30,
   "metadata": {},
   "outputs": [
    {
     "name": "stdout",
     "output_type": "stream",
     "text": [
      "numbers4 = {'x': 1, 'y': 2, 'z': 3}\n"
     ]
    }
   ],
   "source": [
    "numbers4 = dict(zip(['x', 'y', 'z'], [1, 2, 3]))\n",
    "print('numbers4 =',numbers4)"
   ]
  },
  {
   "cell_type": "code",
   "execution_count": 31,
   "metadata": {},
   "outputs": [
    {
     "name": "stdout",
     "output_type": "stream",
     "text": [
      "numbers1 = {'x': 4, 'y': 5}\n"
     ]
    }
   ],
   "source": [
    "# Example 3: Create Dictionary Using Mapping\n",
    "\n",
    "numbers1 = dict({'x': 4, 'y': 5})\n",
    "\n",
    "print('numbers1 =',numbers1)"
   ]
  },
  {
   "cell_type": "code",
   "execution_count": 32,
   "metadata": {},
   "outputs": [
    {
     "name": "stdout",
     "output_type": "stream",
     "text": [
      "numbers2 = {'x': 4, 'y': 5}\n"
     ]
    }
   ],
   "source": [
    "# you don't need to use dict() in above code\n",
    "\n",
    "numbers2 = {'x': 4, 'y': 5}\n",
    "\n",
    "print('numbers2 =',numbers2)"
   ]
  },
  {
   "cell_type": "code",
   "execution_count": 33,
   "metadata": {},
   "outputs": [
    {
     "name": "stdout",
     "output_type": "stream",
     "text": [
      "numbers3 = {'x': 4, 'y': 5, 'z': 8}\n"
     ]
    }
   ],
   "source": [
    "# keyword argument is also passed\n",
    "\n",
    "numbers3 = dict({'x': 4, 'y': 5}, z=8)\n",
    "\n",
    "print('numbers3 =',numbers3)"
   ]
  },
  {
   "cell_type": "markdown",
   "metadata": {},
   "source": [
    "### 16. Python dir()"
   ]
  },
  {
   "cell_type": "markdown",
   "metadata": {},
   "source": [
    "The dir() method tries to return a list of valid attributes of the object."
   ]
  },
  {
   "cell_type": "markdown",
   "metadata": {},
   "source": [
    "The syntax of dir() is:\n",
    "dir([object])"
   ]
  },
  {
   "cell_type": "markdown",
   "metadata": {},
   "source": [
    "**dir() Parameters**\n",
    "\n",
    "dir() takes maximum of one object.\n",
    "\n",
    "object (optional) - dir() attempts to return all attributes of this object."
   ]
  },
  {
   "cell_type": "markdown",
   "metadata": {},
   "source": [
    "**Return Value from dir()**\n",
    "\n",
    "dir() tries to return a list of valid attributes of the object.\n",
    "\n",
    "If the object has __dir__() method, the method will be called and must return the list of attributes.\n",
    "\n",
    "If the object doesn't have __dir__() method, this method tries to find information from the __dict__ attribute (if defined), and from type object.\n",
    "\n",
    "In this case, the list returned from dir() may not be complete.\n"
   ]
  },
  {
   "cell_type": "markdown",
   "metadata": {},
   "source": [
    "If an object is not passed to dir() method, it returns the list of names in the current local scope."
   ]
  },
  {
   "cell_type": "code",
   "execution_count": 35,
   "metadata": {},
   "outputs": [
    {
     "data": {
      "text/plain": [
       "['Coordinate',\n",
       " 'In',\n",
       " 'Man',\n",
       " 'Out',\n",
       " 'Person',\n",
       " '_',\n",
       " '__',\n",
       " '___',\n",
       " '__builtin__',\n",
       " '__builtins__',\n",
       " '__doc__',\n",
       " '__loader__',\n",
       " '__name__',\n",
       " '__package__',\n",
       " '__spec__',\n",
       " '_dh',\n",
       " '_i',\n",
       " '_i1',\n",
       " '_i10',\n",
       " '_i11',\n",
       " '_i12',\n",
       " '_i13',\n",
       " '_i14',\n",
       " '_i15',\n",
       " '_i16',\n",
       " '_i17',\n",
       " '_i18',\n",
       " '_i19',\n",
       " '_i2',\n",
       " '_i20',\n",
       " '_i21',\n",
       " '_i22',\n",
       " '_i23',\n",
       " '_i24',\n",
       " '_i25',\n",
       " '_i26',\n",
       " '_i27',\n",
       " '_i28',\n",
       " '_i29',\n",
       " '_i3',\n",
       " '_i30',\n",
       " '_i31',\n",
       " '_i32',\n",
       " '_i33',\n",
       " '_i34',\n",
       " '_i35',\n",
       " '_i4',\n",
       " '_i5',\n",
       " '_i6',\n",
       " '_i7',\n",
       " '_i8',\n",
       " '_i9',\n",
       " '_ih',\n",
       " '_ii',\n",
       " '_iii',\n",
       " '_oh',\n",
       " 'a',\n",
       " 'b',\n",
       " 'c',\n",
       " 'date',\n",
       " 'empty',\n",
       " 'exit',\n",
       " 'get_ipython',\n",
       " 'man',\n",
       " 'man1',\n",
       " 'numbers',\n",
       " 'numbers1',\n",
       " 'numbers2',\n",
       " 'numbers3',\n",
       " 'numbers4',\n",
       " 'person',\n",
       " 'person1',\n",
       " 'point1',\n",
       " 'quit',\n",
       " 'z']"
      ]
     },
     "execution_count": 35,
     "metadata": {},
     "output_type": "execute_result"
    }
   ],
   "source": [
    "dir()"
   ]
  },
  {
   "cell_type": "code",
   "execution_count": 36,
   "metadata": {},
   "outputs": [
    {
     "name": "stdout",
     "output_type": "stream",
     "text": [
      "['__add__', '__class__', '__contains__', '__delattr__', '__delitem__', '__dir__', '__doc__', '__eq__', '__format__', '__ge__', '__getattribute__', '__getitem__', '__gt__', '__hash__', '__iadd__', '__imul__', '__init__', '__init_subclass__', '__iter__', '__le__', '__len__', '__lt__', '__mul__', '__ne__', '__new__', '__reduce__', '__reduce_ex__', '__repr__', '__reversed__', '__rmul__', '__setattr__', '__setitem__', '__sizeof__', '__str__', '__subclasshook__', 'append', 'clear', 'copy', 'count', 'extend', 'index', 'insert', 'pop', 'remove', 'reverse', 'sort']\n"
     ]
    }
   ],
   "source": [
    "# Example 1: How dir() works?\n",
    "\n",
    "number = [1, 2, 3]\n",
    "print(dir(number))"
   ]
  },
  {
   "cell_type": "code",
   "execution_count": 37,
   "metadata": {},
   "outputs": [
    {
     "name": "stdout",
     "output_type": "stream",
     "text": [
      "\n",
      "Return Value from empty dir()\n",
      "['Coordinate', 'In', 'Man', 'Out', 'Person', '_', '_35', '__', '___', '__builtin__', '__builtins__', '__doc__', '__loader__', '__name__', '__package__', '__spec__', '_dh', '_i', '_i1', '_i10', '_i11', '_i12', '_i13', '_i14', '_i15', '_i16', '_i17', '_i18', '_i19', '_i2', '_i20', '_i21', '_i22', '_i23', '_i24', '_i25', '_i26', '_i27', '_i28', '_i29', '_i3', '_i30', '_i31', '_i32', '_i33', '_i34', '_i35', '_i36', '_i37', '_i4', '_i5', '_i6', '_i7', '_i8', '_i9', '_ih', '_ii', '_iii', '_oh', 'a', 'b', 'c', 'date', 'empty', 'exit', 'get_ipython', 'man', 'man1', 'number', 'numbers', 'numbers1', 'numbers2', 'numbers3', 'numbers4', 'person', 'person1', 'point1', 'quit', 'z']\n"
     ]
    }
   ],
   "source": [
    "print('\\nReturn Value from empty dir()')\n",
    "print(dir())"
   ]
  },
  {
   "cell_type": "code",
   "execution_count": 38,
   "metadata": {},
   "outputs": [],
   "source": [
    "# Example 2: dir() on User-defined Object\n",
    "\n",
    "class Person:\n",
    "    def __dir__(self):\n",
    "        return ['age', 'name', 'salary']"
   ]
  },
  {
   "cell_type": "code",
   "execution_count": 39,
   "metadata": {},
   "outputs": [
    {
     "name": "stdout",
     "output_type": "stream",
     "text": [
      "['age', 'name', 'salary']\n"
     ]
    }
   ],
   "source": [
    "teacher = Person()\n",
    "\n",
    "print(dir(teacher))"
   ]
  },
  {
   "cell_type": "markdown",
   "metadata": {},
   "source": [
    "### 17. Python divmod()"
   ]
  },
  {
   "cell_type": "markdown",
   "metadata": {},
   "source": [
    "The divmod() method takes two numbers and returns a pair of numbers (a tuple) consisting of their quotient and remainder."
   ]
  },
  {
   "cell_type": "markdown",
   "metadata": {},
   "source": [
    "The syntax of divmod() is:\n",
    "divmod(x, y)"
   ]
  },
  {
   "cell_type": "markdown",
   "metadata": {},
   "source": [
    "**divmod() Parameters**\n",
    "\n",
    "ivmod() takes two parameters:\n",
    "\n",
    "x - a non-complex number (numerator)\n",
    "\n",
    "y - a non-complex number (denominator)\n"
   ]
  },
  {
   "cell_type": "markdown",
   "metadata": {},
   "source": [
    "**Return Value from divmod()**\n",
    "\n",
    "divmod() returns\n",
    "\n",
    "(q, r) - a pair of numbers (a tuple) consisting of quotient q and remainder r\n",
    "If x and y are integers, the return value from divmod() is same as (a // b, x % y).\n",
    "\n",
    "If either x or y is a float, the result is (q, x%y). Here, q is the whole part of the quotient."
   ]
  },
  {
   "cell_type": "code",
   "execution_count": 41,
   "metadata": {},
   "outputs": [
    {
     "name": "stdout",
     "output_type": "stream",
     "text": [
      "divmod(8, 3) =  (2, 2)\n"
     ]
    }
   ],
   "source": [
    "# Example: How divmod() works in Python?\n",
    "\n",
    "print('divmod(8, 3) = ', divmod(8, 3))"
   ]
  },
  {
   "cell_type": "code",
   "execution_count": 42,
   "metadata": {},
   "outputs": [
    {
     "name": "stdout",
     "output_type": "stream",
     "text": [
      "divmod(3, 8) =  (0, 3)\n"
     ]
    }
   ],
   "source": [
    "print('divmod(3, 8) = ', divmod(3, 8))"
   ]
  },
  {
   "cell_type": "code",
   "execution_count": 43,
   "metadata": {},
   "outputs": [
    {
     "name": "stdout",
     "output_type": "stream",
     "text": [
      "divmod(5, 5) =  (1, 0)\n"
     ]
    }
   ],
   "source": [
    "print('divmod(5, 5) = ', divmod(5, 5))"
   ]
  },
  {
   "cell_type": "code",
   "execution_count": 44,
   "metadata": {},
   "outputs": [
    {
     "name": "stdout",
     "output_type": "stream",
     "text": [
      "divmod(8.0, 3) =  (2.0, 2.0)\n"
     ]
    }
   ],
   "source": [
    "# divmod() with Floats\n",
    "\n",
    "print('divmod(8.0, 3) = ', divmod(8.0, 3))"
   ]
  },
  {
   "cell_type": "code",
   "execution_count": 45,
   "metadata": {},
   "outputs": [
    {
     "name": "stdout",
     "output_type": "stream",
     "text": [
      "divmod(3, 8.0) =  (0.0, 3.0)\n"
     ]
    }
   ],
   "source": [
    "print('divmod(3, 8.0) = ', divmod(3, 8.0))"
   ]
  },
  {
   "cell_type": "code",
   "execution_count": 46,
   "metadata": {},
   "outputs": [
    {
     "name": "stdout",
     "output_type": "stream",
     "text": [
      "divmod(7.5, 2.5) =  (3.0, 0.0)\n"
     ]
    }
   ],
   "source": [
    "print('divmod(7.5, 2.5) = ', divmod(7.5, 2.5))"
   ]
  },
  {
   "cell_type": "code",
   "execution_count": 47,
   "metadata": {},
   "outputs": [
    {
     "name": "stdout",
     "output_type": "stream",
     "text": [
      "divmod(2.6, 0.5) =  (5.0, 0.10000000000000009)\n"
     ]
    }
   ],
   "source": [
    "print('divmod(2.6, 0.5) = ', divmod(2.6, 0.5))"
   ]
  },
  {
   "cell_type": "markdown",
   "metadata": {},
   "source": [
    "### 18. Python enumerate()"
   ]
  },
  {
   "cell_type": "markdown",
   "metadata": {},
   "source": [
    "The enumerate() method adds counter to an iterable and returns it (the enumerate object)."
   ]
  },
  {
   "cell_type": "markdown",
   "metadata": {},
   "source": [
    "The syntax of enumerate() is:\n",
    "enumerate(iterable, start=0)"
   ]
  },
  {
   "cell_type": "markdown",
   "metadata": {},
   "source": [
    "**enumerate() Parameters**\n",
    "\n",
    "enumerate() method takes two parameters:\n",
    "\n",
    "iterable - a sequence, an iterator, or objects that supports iteration\n",
    "\n",
    "start (optional) - enumerate() starts counting from this number. \n",
    "\n",
    "If start is omitted, 0 is taken as start."
   ]
  },
  {
   "cell_type": "markdown",
   "metadata": {},
   "source": [
    "**Return Value from enumerate()**\n",
    "\n",
    "enumerate() method adds counter to an iterable and returns it. \n",
    "\n",
    "The returned object is a enumerate object.\n",
    "\n",
    "You can convert enumerate objects to list and tuple using list() and tuple() method respectively."
   ]
  },
  {
   "cell_type": "code",
   "execution_count": 48,
   "metadata": {},
   "outputs": [
    {
     "name": "stdout",
     "output_type": "stream",
     "text": [
      "<class 'enumerate'>\n"
     ]
    }
   ],
   "source": [
    "# Example 1: How enumerate() works in Python?\n",
    "\n",
    "grocery = ['bread', 'milk', 'butter']\n",
    "enumerateGrocery = enumerate(grocery)\n",
    "\n",
    "print(type(enumerateGrocery))"
   ]
  },
  {
   "cell_type": "code",
   "execution_count": 52,
   "metadata": {},
   "outputs": [
    {
     "data": {
      "text/plain": [
       "[(0, 'bread'), (1, 'milk'), (2, 'butter')]"
      ]
     },
     "execution_count": 52,
     "metadata": {},
     "output_type": "execute_result"
    }
   ],
   "source": [
    "# converting to list\n",
    "\n",
    "list(enumerateGrocery)"
   ]
  },
  {
   "cell_type": "code",
   "execution_count": 53,
   "metadata": {},
   "outputs": [
    {
     "name": "stdout",
     "output_type": "stream",
     "text": [
      "[(10, 'bread'), (11, 'milk'), (12, 'butter')]\n"
     ]
    }
   ],
   "source": [
    "# changing the default counter\n",
    "\n",
    "enumerateGrocery = enumerate(grocery, 10)\n",
    "\n",
    "print(list(enumerateGrocery))"
   ]
  },
  {
   "cell_type": "code",
   "execution_count": 54,
   "metadata": {},
   "outputs": [
    {
     "name": "stdout",
     "output_type": "stream",
     "text": [
      "(0, 'bread')\n",
      "(1, 'milk')\n",
      "(2, 'butter')\n"
     ]
    }
   ],
   "source": [
    "# Example 2: Looping Over an Enumerate object\n",
    "\n",
    "grocery = ['bread', 'milk', 'butter']\n",
    "\n",
    "for item in enumerate(grocery):\n",
    "    print(item)"
   ]
  },
  {
   "cell_type": "code",
   "execution_count": 55,
   "metadata": {},
   "outputs": [
    {
     "name": "stdout",
     "output_type": "stream",
     "text": [
      "\n",
      "\n",
      "0 bread\n",
      "1 milk\n",
      "2 butter\n"
     ]
    }
   ],
   "source": [
    "print('\\n')\n",
    "for count, item in enumerate(grocery):\n",
    "    print(count, item)"
   ]
  },
  {
   "cell_type": "code",
   "execution_count": 56,
   "metadata": {},
   "outputs": [
    {
     "name": "stdout",
     "output_type": "stream",
     "text": [
      "0 bread\n",
      "1 milk\n",
      "2 butter\n"
     ]
    }
   ],
   "source": [
    "for count, item in enumerate(grocery):\n",
    "    print(count, item)"
   ]
  },
  {
   "cell_type": "code",
   "execution_count": 57,
   "metadata": {},
   "outputs": [
    {
     "name": "stdout",
     "output_type": "stream",
     "text": [
      "100 bread\n",
      "101 milk\n",
      "102 butter\n"
     ]
    }
   ],
   "source": [
    "for count, item in enumerate(grocery, 100):\n",
    "    print(count, item)"
   ]
  },
  {
   "cell_type": "markdown",
   "metadata": {},
   "source": [
    "### 19. Python staticmethod()"
   ]
  },
  {
   "cell_type": "markdown",
   "metadata": {},
   "source": [
    "The syntax of staticmethod() is:\n",
    "staticmethod(function)"
   ]
  },
  {
   "cell_type": "markdown",
   "metadata": {},
   "source": [
    "Using staticmethod() is considered a un-Pythonic way of creating a static function.\n",
    "\n",
    "Hence, in newer versions of Python, you can use the @staticmethod decorator."
   ]
  },
  {
   "cell_type": "markdown",
   "metadata": {},
   "source": [
    "**staticmethod() Parameters**\n",
    "\n",
    "The staticmethod() method takes a single parameter:\n",
    "\n",
    "function - function that needs to be converted to a static method"
   ]
  },
  {
   "cell_type": "markdown",
   "metadata": {},
   "source": [
    "**Return value from staticmethod()**\n",
    "\n",
    "The staticmethod() returns a static method for a function passed as the parameter."
   ]
  },
  {
   "cell_type": "code",
   "execution_count": 59,
   "metadata": {},
   "outputs": [
    {
     "name": "stdout",
     "output_type": "stream",
     "text": [
      "The sum is: 15\n"
     ]
    }
   ],
   "source": [
    "# Example 1: Create a static method using staticmethod()\n",
    "\n",
    "class Mathematics:\n",
    "\n",
    "    def addNumbers(x, y):\n",
    "        return x + y\n",
    "\n",
    "# create addNumbers static method\n",
    "Mathematics.addNumbers = staticmethod(Mathematics.addNumbers)\n",
    "\n",
    "print('The sum is:', Mathematics.addNumbers(5, 10))"
   ]
  },
  {
   "cell_type": "code",
   "execution_count": 60,
   "metadata": {},
   "outputs": [],
   "source": [
    "# Example 2: Create a utility function as a static method\n",
    "\n",
    "class Dates:\n",
    "    def __init__(self, date):\n",
    "        self.date = date\n",
    "        \n",
    "    def getDate(self):\n",
    "        return self.date\n",
    "\n",
    "    @staticmethod\n",
    "    def toDashDate(date):\n",
    "        return date.replace(\"/\", \"-\")"
   ]
  },
  {
   "cell_type": "code",
   "execution_count": 61,
   "metadata": {},
   "outputs": [
    {
     "name": "stdout",
     "output_type": "stream",
     "text": [
      "Equal\n"
     ]
    }
   ],
   "source": [
    "date = Dates(\"15-12-2016\")\n",
    "dateFromDB = \"15/12/2016\"\n",
    "dateWithDash = Dates.toDashDate(dateFromDB)\n",
    "\n",
    "if(date.getDate() == dateWithDash):\n",
    "    print(\"Equal\")\n",
    "else:\n",
    "    print(\"Unequal\")"
   ]
  },
  {
   "cell_type": "code",
   "execution_count": 62,
   "metadata": {},
   "outputs": [],
   "source": [
    "# Example 3: How inheritance works with static method?\n",
    "\n",
    "class Dates:\n",
    "    def __init__(self, date):\n",
    "        self.date = date\n",
    "        \n",
    "    def getDate(self):\n",
    "        return self.date\n",
    "\n",
    "    @staticmethod\n",
    "    def toDashDate(date):\n",
    "        return date.replace(\"/\", \"-\")"
   ]
  },
  {
   "cell_type": "code",
   "execution_count": 63,
   "metadata": {},
   "outputs": [
    {
     "name": "stdout",
     "output_type": "stream",
     "text": [
      "Equal\n"
     ]
    }
   ],
   "source": [
    "class DatesWithSlashes(Dates):\n",
    "    def getDate(self):\n",
    "        return Dates.toDashDate(self.date)\n",
    "\n",
    "date = Dates(\"15-12-2016\")\n",
    "dateFromDB = DatesWithSlashes(\"15/12/2016\")\n",
    "\n",
    "if(date.getDate() == dateFromDB.getDate()):\n",
    "    print(\"Equal\")\n",
    "else:\n",
    "    print(\"Unequal\")"
   ]
  },
  {
   "cell_type": "markdown",
   "metadata": {},
   "source": [
    "### 20. Python filter()"
   ]
  },
  {
   "cell_type": "markdown",
   "metadata": {},
   "source": [
    "The syntax of filter() method is:\n",
    "filter(function, iterable)"
   ]
  },
  {
   "cell_type": "markdown",
   "metadata": {},
   "source": [
    "**filter() Parameters**\n",
    "\n",
    "filter() method takes two parameters:\n",
    "\n",
    "function - function that tests if elements of an iterable return true or false\n",
    "\n",
    "If None, the function defaults to Identity function - which returns false if any elements are false\n",
    "\n",
    "iterable - iterable which is to be filtered, could be sets, lists, tuples, or containers of any iterators"
   ]
  },
  {
   "cell_type": "markdown",
   "metadata": {},
   "source": [
    "**Return value from filter()**\n",
    "\n",
    "filter() method returns an iterator that passed the function check for each element in the iterable.\n",
    "\n",
    "filter() method is equivalent to:\n",
    "\n",
    "- when function is defined\n",
    "(element for element in iterable if function(element))\n",
    "\n",
    "- when function is None\n",
    "(element for element in iterable if element)"
   ]
  },
  {
   "cell_type": "code",
   "execution_count": 65,
   "metadata": {},
   "outputs": [
    {
     "name": "stdout",
     "output_type": "stream",
     "text": [
      "The filtered vowels are:\n",
      "a\n",
      "e\n",
      "i\n",
      "o\n"
     ]
    }
   ],
   "source": [
    "# Example 1: How filter() works for iterable list?\n",
    "\n",
    "# list of letters\n",
    "letters = ['a', 'b', 'd', 'e', 'i', 'j', 'o']\n",
    "\n",
    "# function that filters vowels\n",
    "def filterVowels(letter):\n",
    "    vowels = ['a', 'e', 'i', 'o', 'u']\n",
    "\n",
    "    if(letter in vowels):\n",
    "        return True\n",
    "    else:\n",
    "        return False\n",
    "\n",
    "filteredVowels = filter(filterVowels, letters)\n",
    "\n",
    "print('The filtered vowels are:')\n",
    "for vowel in filteredVowels:\n",
    "    print(vowel)"
   ]
  },
  {
   "cell_type": "code",
   "execution_count": 66,
   "metadata": {},
   "outputs": [
    {
     "name": "stdout",
     "output_type": "stream",
     "text": [
      "The filtered elements are:\n",
      "1\n",
      "a\n",
      "True\n",
      "0\n"
     ]
    }
   ],
   "source": [
    "# Example 2: How filter() method works without the filter function?\n",
    "\n",
    "# random list\n",
    "randomList = [1, 'a', 0, False, True, '0']\n",
    "\n",
    "filteredList = filter(None, randomList)\n",
    "\n",
    "print('The filtered elements are:')\n",
    "\n",
    "for element in filteredList:\n",
    "    print(element)"
   ]
  },
  {
   "cell_type": "markdown",
   "metadata": {},
   "source": [
    "### 21. Python eval()"
   ]
  },
  {
   "cell_type": "markdown",
   "metadata": {},
   "source": [
    "The eval() method parses the expression passed to this method and runs python expression (code) within the program."
   ]
  },
  {
   "cell_type": "markdown",
   "metadata": {},
   "source": [
    "The syntax of eval() is:\n",
    "eval(expression, globals=None, locals=None)"
   ]
  },
  {
   "cell_type": "markdown",
   "metadata": {},
   "source": [
    "**eval() Parameters**\n",
    "\n",
    "The eval() function takes three parameters:\n",
    "\n",
    "- expression - the string parsed and evaluated as a Python expression\n",
    "\n",
    "- globals (optional) - a dictionary\n",
    "\n",
    "- locals (optional)- a mapping object. \n",
    "\n",
    "Dictionary is the standard and commonly used mapping type in Python."
   ]
  },
  {
   "cell_type": "markdown",
   "metadata": {},
   "source": [
    "**Return Value from eval()**\n",
    "\n",
    "The eval() method returns the result evaluated from the expression."
   ]
  },
  {
   "cell_type": "code",
   "execution_count": 1,
   "metadata": {},
   "outputs": [
    {
     "name": "stdout",
     "output_type": "stream",
     "text": [
      "2\n"
     ]
    }
   ],
   "source": [
    "# Example 1: How eval() works in Python\n",
    "\n",
    "x = 1\n",
    "\n",
    "print(eval('x + 1'))"
   ]
  },
  {
   "cell_type": "code",
   "execution_count": 12,
   "metadata": {},
   "outputs": [
    {
     "name": "stdout",
     "output_type": "stream",
     "text": [
      "Type a function: 2\n",
      "Wrong Function\n"
     ]
    }
   ],
   "source": [
    "# Example 2: Practical Example to Demonstrate Use of eval()\n",
    "\n",
    "# Perimeter of Square\n",
    "def calculatePerimeter(l):\n",
    "    return 4*l\n",
    "\n",
    "# Area of Square\n",
    "def calculateArea(l):\n",
    "    return l*l\n",
    "\n",
    "expression = input(\"Type a function: \")\n",
    "\n",
    "for l in range(1, 5):\n",
    "    if (expression == calculatePerimeter(l)):\n",
    "        print(\"If length is \", l, \", Perimeter = \", eval(expression))\n",
    "    elif (expression == calculateArea(l)):\n",
    "        print(\"If length is \", l, \", Area = \", eval(expression))\n",
    "    else:\n",
    "        print('Wrong Function')\n",
    "        break"
   ]
  },
  {
   "cell_type": "code",
   "execution_count": 13,
   "metadata": {},
   "outputs": [
    {
     "name": "stdout",
     "output_type": "stream",
     "text": [
      "['In', 'Out', '_', '__', '___', '__builtin__', '__builtins__', '__doc__', '__loader__', '__name__', '__package__', '__spec__', '_dh', '_i', '_i1', '_i10', '_i11', '_i12', '_i13', '_i2', '_i3', '_i4', '_i5', '_i6', '_i7', '_i8', '_i9', '_ih', '_ii', '_iii', '_oh', 'acos', 'acosh', 'asin', 'asinh', 'atan', 'atan2', 'atanh', 'calculateArea', 'calculatePerimeter', 'ceil', 'copysign', 'cos', 'cosh', 'degrees', 'e', 'erf', 'erfc', 'exit', 'exp', 'expm1', 'expression', 'fabs', 'factorial', 'floor', 'fmod', 'frexp', 'fsum', 'gamma', 'gcd', 'get_ipython', 'hypot', 'inf', 'isclose', 'isfinite', 'isinf', 'isnan', 'l', 'ldexp', 'lgamma', 'log', 'log10', 'log1p', 'log2', 'modf', 'nan', 'pi', 'pow', 'quit', 'radians', 'remainder', 'sin', 'sinh', 'sqrt', 'tan', 'tanh', 'tau', 'trunc', 'x']\n"
     ]
    }
   ],
   "source": [
    "from math import *\n",
    "print(eval('dir()'))"
   ]
  },
  {
   "cell_type": "code",
   "execution_count": 15,
   "metadata": {},
   "outputs": [
    {
     "name": "stdout",
     "output_type": "stream",
     "text": [
      "['__builtins__']\n"
     ]
    }
   ],
   "source": [
    "print(eval('dir()', {}))"
   ]
  },
  {
   "cell_type": "code",
   "execution_count": 16,
   "metadata": {},
   "outputs": [
    {
     "ename": "NameError",
     "evalue": "name 'sqrt' is not defined",
     "output_type": "error",
     "traceback": [
      "\u001b[1;31m---------------------------------------------------------------------------\u001b[0m",
      "\u001b[1;31mNameError\u001b[0m                                 Traceback (most recent call last)",
      "\u001b[1;32m<ipython-input-16-5fd7f7a7cafb>\u001b[0m in \u001b[0;36m<module>\u001b[1;34m\u001b[0m\n\u001b[0;32m      1\u001b[0m \u001b[1;31m# The code will raise an exception\u001b[0m\u001b[1;33m\u001b[0m\u001b[1;33m\u001b[0m\u001b[1;33m\u001b[0m\u001b[0m\n\u001b[1;32m----> 2\u001b[1;33m \u001b[0mprint\u001b[0m\u001b[1;33m(\u001b[0m\u001b[0meval\u001b[0m\u001b[1;33m(\u001b[0m\u001b[1;34m'sqrt(25)'\u001b[0m\u001b[1;33m,\u001b[0m \u001b[1;33m{\u001b[0m\u001b[1;33m}\u001b[0m\u001b[1;33m)\u001b[0m\u001b[1;33m)\u001b[0m\u001b[1;33m\u001b[0m\u001b[1;33m\u001b[0m\u001b[0m\n\u001b[0m",
      "\u001b[1;32m<string>\u001b[0m in \u001b[0;36m<module>\u001b[1;34m\u001b[0m\n",
      "\u001b[1;31mNameError\u001b[0m: name 'sqrt' is not defined"
     ]
    }
   ],
   "source": [
    "# The code will raise an exception\n",
    "\n",
    "print(eval('sqrt(25)', {}))"
   ]
  },
  {
   "cell_type": "markdown",
   "metadata": {},
   "source": [
    "### 22. Python float()"
   ]
  },
  {
   "cell_type": "markdown",
   "metadata": {},
   "source": [
    "The float() method returns a floating point number from a number or a string."
   ]
  },
  {
   "cell_type": "markdown",
   "metadata": {},
   "source": [
    "The syntax for float() is:\n",
    "float([x])"
   ]
  },
  {
   "cell_type": "markdown",
   "metadata": {},
   "source": [
    "**float() Parameters**\n",
    "\n",
    "The float() method takes a single parameter:\n",
    "\n",
    "x (Optional) - number or string that needs to be converted to floating point number\n",
    "\n",
    "If it's a string, the string should contain decimal points"
   ]
  },
  {
   "cell_type": "markdown",
   "metadata": {},
   "source": [
    "**Return value from float()**\n",
    "\n",
    "float() method returns:\n",
    "\n",
    "Equivalent floating point number if an argument is passed\n",
    "\n",
    "0.0 if no arguments passed\n",
    "\n",
    "OverflowError exception if the argument is outside the range of Python float"
   ]
  },
  {
   "cell_type": "code",
   "execution_count": 2,
   "metadata": {},
   "outputs": [
    {
     "name": "stdout",
     "output_type": "stream",
     "text": [
      "10.0\n"
     ]
    }
   ],
   "source": [
    "# Example 1: How float() works in Python?\n",
    "\n",
    "# for integers\n",
    "print(float(10))"
   ]
  },
  {
   "cell_type": "code",
   "execution_count": 3,
   "metadata": {},
   "outputs": [
    {
     "name": "stdout",
     "output_type": "stream",
     "text": [
      "11.22\n"
     ]
    }
   ],
   "source": [
    "# for floats\n",
    "print(float(11.22))"
   ]
  },
  {
   "cell_type": "code",
   "execution_count": 4,
   "metadata": {},
   "outputs": [
    {
     "name": "stdout",
     "output_type": "stream",
     "text": [
      "-13.33\n"
     ]
    }
   ],
   "source": [
    "# for string floats\n",
    "print(float(\"-13.33\"))"
   ]
  },
  {
   "cell_type": "code",
   "execution_count": 8,
   "metadata": {},
   "outputs": [
    {
     "name": "stdout",
     "output_type": "stream",
     "text": [
      "-24.45\n"
     ]
    }
   ],
   "source": [
    "# for string floats with whitespaces\n",
    "print(float(\"     -24.45\\n\"))"
   ]
  },
  {
   "cell_type": "code",
   "execution_count": 9,
   "metadata": {},
   "outputs": [
    {
     "ename": "ValueError",
     "evalue": "could not convert string to float: 'abc'",
     "output_type": "error",
     "traceback": [
      "\u001b[1;31m---------------------------------------------------------------------------\u001b[0m",
      "\u001b[1;31mValueError\u001b[0m                                Traceback (most recent call last)",
      "\u001b[1;32m<ipython-input-9-8fa9b7622da4>\u001b[0m in \u001b[0;36m<module>\u001b[1;34m\u001b[0m\n\u001b[0;32m      1\u001b[0m \u001b[1;31m# string float error\u001b[0m\u001b[1;33m\u001b[0m\u001b[1;33m\u001b[0m\u001b[1;33m\u001b[0m\u001b[0m\n\u001b[1;32m----> 2\u001b[1;33m \u001b[0mprint\u001b[0m\u001b[1;33m(\u001b[0m\u001b[0mfloat\u001b[0m\u001b[1;33m(\u001b[0m\u001b[1;34m\"abc\"\u001b[0m\u001b[1;33m)\u001b[0m\u001b[1;33m)\u001b[0m\u001b[1;33m\u001b[0m\u001b[1;33m\u001b[0m\u001b[0m\n\u001b[0m",
      "\u001b[1;31mValueError\u001b[0m: could not convert string to float: 'abc'"
     ]
    }
   ],
   "source": [
    "# string float error\n",
    "print(float(\"abc\"))"
   ]
  },
  {
   "cell_type": "code",
   "execution_count": 10,
   "metadata": {},
   "outputs": [
    {
     "name": "stdout",
     "output_type": "stream",
     "text": [
      "nan\n",
      "nan\n"
     ]
    }
   ],
   "source": [
    "# Example 2: float() for infinity and Nan(Not a number)?\n",
    "\n",
    "# for NaN\n",
    "print(float(\"nan\"))\n",
    "print(float(\"NaN\"))"
   ]
  },
  {
   "cell_type": "code",
   "execution_count": 11,
   "metadata": {},
   "outputs": [
    {
     "name": "stdout",
     "output_type": "stream",
     "text": [
      "inf\n",
      "inf\n",
      "inf\n",
      "inf\n"
     ]
    }
   ],
   "source": [
    "# for inf/infinity\n",
    "\n",
    "print(float(\"inf\"))\n",
    "print(float(\"InF\"))\n",
    "print(float(\"InFiNiTy\"))\n",
    "print(float(\"infinity\"))"
   ]
  },
  {
   "cell_type": "markdown",
   "metadata": {},
   "source": [
    "### 23. Python format()"
   ]
  },
  {
   "cell_type": "markdown",
   "metadata": {},
   "source": [
    "The built-in format() method returns a formatted representation of the given value controlled by the format specifier."
   ]
  },
  {
   "cell_type": "markdown",
   "metadata": {},
   "source": [
    "The syntax of format() is: format(value[, format_spec])"
   ]
  },
  {
   "cell_type": "markdown",
   "metadata": {},
   "source": [
    "**format() Parameters**\n",
    "\n",
    "The format() function takes two parameters:\n",
    "\n",
    "value - value that needs to be formatted\n",
    "\n",
    "format_spec - The specification on how the value should be formatted."
   ]
  },
  {
   "cell_type": "raw",
   "metadata": {},
   "source": [
    "[[fill]align][sign][#][0][width][,][.precision][type]\n",
    "where, the options are\n",
    "fill        ::=  any character\n",
    "align       ::=  \"<\" | \">\" | \"=\" | \"^\"\n",
    "sign        ::=  \"+\" | \"-\" | \" \"\n",
    "width       ::=  integer\n",
    "precision   ::=  integer\n",
    "type        ::=  \"b\" | \"c\" | \"d\" | \"e\" | \"E\" | \"f\" | \"F\" | \"g\" | \"G\" | \"n\" | \"o\" | \"s\" | \"x\" | \"X\" | \"%\""
   ]
  },
  {
   "cell_type": "markdown",
   "metadata": {},
   "source": [
    "**Return value from format()**\n",
    "\n",
    "The format() function returns a formatted representation of a given value specified by the format specifier."
   ]
  },
  {
   "cell_type": "code",
   "execution_count": 13,
   "metadata": {},
   "outputs": [
    {
     "name": "stdout",
     "output_type": "stream",
     "text": [
      "123\n"
     ]
    }
   ],
   "source": [
    "# Example 1: Number formatting with format()\n",
    "\n",
    "# d, f and b are type\n",
    "\n",
    "# integer\n",
    "print(format(123, \"d\"))"
   ]
  },
  {
   "cell_type": "code",
   "execution_count": 14,
   "metadata": {},
   "outputs": [
    {
     "name": "stdout",
     "output_type": "stream",
     "text": [
      "123.456790\n"
     ]
    }
   ],
   "source": [
    "# float arguments\n",
    "\n",
    "print(format(123.4567898, \"f\"))"
   ]
  },
  {
   "cell_type": "code",
   "execution_count": 15,
   "metadata": {},
   "outputs": [
    {
     "name": "stdout",
     "output_type": "stream",
     "text": [
      "1100\n"
     ]
    }
   ],
   "source": [
    "# binary format\n",
    "\n",
    "print(format(12, \"b\"))"
   ]
  },
  {
   "cell_type": "code",
   "execution_count": 16,
   "metadata": {},
   "outputs": [
    {
     "name": "stdout",
     "output_type": "stream",
     "text": [
      "*+1,234\n"
     ]
    }
   ],
   "source": [
    "# Example 2: Number formatting with fill, align, sign, width, precision and type\n",
    "\n",
    "# integer \n",
    "print(format(1234, \"*>+7,d\"))"
   ]
  },
  {
   "cell_type": "code",
   "execution_count": 17,
   "metadata": {},
   "outputs": [
    {
     "name": "stdout",
     "output_type": "stream",
     "text": [
      "0123.4570\n"
     ]
    }
   ],
   "source": [
    "# float number\n",
    "print(format(123.4567, \"^-09.3f\"))"
   ]
  },
  {
   "cell_type": "raw",
   "metadata": {},
   "source": [
    "Here, when formatting the integer 1234, we've specified the formatting specifier *>+7,d. Let's understand each option:\n",
    "\n",
    "* - It is the fill character that fills up the empty spaces after formatting\n",
    "> - It is the right alignment option that aligns the output string to the right\n",
    "+ - It is the sign option that forces the number to be signed (having a sign on its left)\n",
    "7 - It is the width option that forces the number to take a minimum width of 7, other spaces will be       filled by fill character\n",
    ", - It is the thousands operator that places a comma between all thousands.\n",
    "d - It is the type option that specifies the number is an integer."
   ]
  },
  {
   "cell_type": "raw",
   "metadata": {},
   "source": [
    "When formatting the floating point number 123.4567, we've specified the format specifier ^-09.3f. These are:\n",
    "\n",
    "^ - It is the center alignment option that aligns the output string to the center of the remaining         space\n",
    "- - It is the sign option that forces only negative numbers to show the sign\n",
    "0 - It is the character that is placed in place of the empty spaces.\n",
    "9 - It is the width option that sets the minimum width of the number to 9 (including decimal point,       thousands comma and sign)\n",
    ".3 - It is the precision operator that sets the precision of the given floating number to 3 places\n",
    "f - It is the type option that specifies the number is a float.\n"
   ]
  },
  {
   "cell_type": "code",
   "execution_count": 18,
   "metadata": {},
   "outputs": [
    {
     "name": "stdout",
     "output_type": "stream",
     "text": [
      "23\n"
     ]
    }
   ],
   "source": [
    "# Example 3: Using format() by overriding __format__()\n",
    "\n",
    "# custom __format__() method\n",
    "\n",
    "class Person:\n",
    "    def __format__(self, format):\n",
    "        if(format == 'age'):\n",
    "            return '23'\n",
    "        return 'None'\n",
    "\n",
    "print(format(Person(), \"age\"))"
   ]
  },
  {
   "cell_type": "markdown",
   "metadata": {},
   "source": [
    "### 24. Python frozenset()"
   ]
  },
  {
   "cell_type": "markdown",
   "metadata": {},
   "source": [
    "The frozenset() function returns an immutable frozenset object initialized with elements from the given iterable."
   ]
  },
  {
   "cell_type": "markdown",
   "metadata": {},
   "source": [
    "The syntax of frozenset() function is: frozenset([iterable])"
   ]
  },
  {
   "cell_type": "markdown",
   "metadata": {},
   "source": [
    "**frozenset() Parameters**\n",
    "\n",
    "The frozenset() function takes a single parameter:\n",
    "\n",
    "iterable (Optional) - the iterable which contains elements to initialize the frozenset with.\n",
    "\n",
    "Iterable can be set, dictionary, tuple, etc."
   ]
  },
  {
   "cell_type": "markdown",
   "metadata": {},
   "source": [
    "**Return value from frozenset()**\n",
    "\n",
    "The frozenset() function returns an immutable frozenset initialized with elements from the given iterable.\n",
    "\n",
    "If no parameters are passed, it returns an empty frozenset."
   ]
  },
  {
   "cell_type": "code",
   "execution_count": 20,
   "metadata": {},
   "outputs": [
    {
     "name": "stdout",
     "output_type": "stream",
     "text": [
      "The frozen set is: frozenset({'i', 'e', 'u', 'o', 'a'})\n",
      "The empty frozen set is: frozenset()\n"
     ]
    }
   ],
   "source": [
    "# Example 1: Working of Python frozenset()\n",
    "\n",
    "# tuple of vowels\n",
    "vowels = ('a', 'e', 'i', 'o', 'u')\n",
    "\n",
    "fSet = frozenset(vowels)\n",
    "\n",
    "print('The frozen set is:', fSet)\n",
    "\n",
    "print('The empty frozen set is:', frozenset())\n"
   ]
  },
  {
   "cell_type": "code",
   "execution_count": 21,
   "metadata": {},
   "outputs": [
    {
     "ename": "AttributeError",
     "evalue": "'frozenset' object has no attribute 'add'",
     "output_type": "error",
     "traceback": [
      "\u001b[1;31m---------------------------------------------------------------------------\u001b[0m",
      "\u001b[1;31mAttributeError\u001b[0m                            Traceback (most recent call last)",
      "\u001b[1;32m<ipython-input-21-f5ac825f9b00>\u001b[0m in \u001b[0;36m<module>\u001b[1;34m\u001b[0m\n\u001b[0;32m      1\u001b[0m \u001b[1;31m# frozensets are immutable\u001b[0m\u001b[1;33m\u001b[0m\u001b[1;33m\u001b[0m\u001b[1;33m\u001b[0m\u001b[0m\n\u001b[1;32m----> 2\u001b[1;33m \u001b[0mfSet\u001b[0m\u001b[1;33m.\u001b[0m\u001b[0madd\u001b[0m\u001b[1;33m(\u001b[0m\u001b[1;34m'v'\u001b[0m\u001b[1;33m)\u001b[0m\u001b[1;33m\u001b[0m\u001b[1;33m\u001b[0m\u001b[0m\n\u001b[0m",
      "\u001b[1;31mAttributeError\u001b[0m: 'frozenset' object has no attribute 'add'"
     ]
    }
   ],
   "source": [
    "# frozensets are immutable\n",
    "fSet.add('v')"
   ]
  },
  {
   "cell_type": "raw",
   "metadata": {},
   "source": [
    "Example 2: frozenset() for Dictionary\n",
    "\n",
    "    When you use a dictionary as an iterable for a frozen set, it only takes keys of the dictionary to create the set."
   ]
  },
  {
   "cell_type": "code",
   "execution_count": 23,
   "metadata": {},
   "outputs": [
    {
     "name": "stdout",
     "output_type": "stream",
     "text": [
      "The frozen set is: frozenset({'sex', 'age', 'name'})\n"
     ]
    }
   ],
   "source": [
    "# random dictionary\n",
    "person = {\"name\": \"John\", \"age\": 23, \"sex\": \"male\"}\n",
    "\n",
    "fSet = frozenset(person)\n",
    "\n",
    "print('The frozen set is:', fSet)"
   ]
  },
  {
   "cell_type": "markdown",
   "metadata": {},
   "source": [
    "**Frozenset operations**\n",
    "\n",
    "Like normal sets, frozenset can also perform different operations like copy, difference, intersection, symmetric_difference, and union"
   ]
  },
  {
   "cell_type": "code",
   "execution_count": 25,
   "metadata": {},
   "outputs": [
    {
     "name": "stdout",
     "output_type": "stream",
     "text": [
      "frozenset({1, 2, 3, 4})\n"
     ]
    }
   ],
   "source": [
    "# Frozensets\n",
    "\n",
    "# initialize A and B\n",
    "\n",
    "A = frozenset([1, 2, 3, 4])\n",
    "B = frozenset([3, 4, 5, 6])\n",
    "\n",
    "# copying a frozenset\n",
    "\n",
    "C = A.copy()  # Output: frozenset({1, 2, 3, 4})\n",
    "print(C)"
   ]
  },
  {
   "cell_type": "code",
   "execution_count": 26,
   "metadata": {},
   "outputs": [
    {
     "name": "stdout",
     "output_type": "stream",
     "text": [
      "frozenset({1, 2, 3, 4, 5, 6})\n"
     ]
    }
   ],
   "source": [
    "# union\n",
    "print(A.union(B))  # Output: frozenset({1, 2, 3, 4, 5, 6})"
   ]
  },
  {
   "cell_type": "code",
   "execution_count": 27,
   "metadata": {},
   "outputs": [
    {
     "name": "stdout",
     "output_type": "stream",
     "text": [
      "frozenset({3, 4})\n"
     ]
    }
   ],
   "source": [
    "# intersection\n",
    "print(A.intersection(B))  # Output: frozenset({3, 4})"
   ]
  },
  {
   "cell_type": "code",
   "execution_count": 28,
   "metadata": {},
   "outputs": [
    {
     "name": "stdout",
     "output_type": "stream",
     "text": [
      "frozenset({1, 2})\n"
     ]
    }
   ],
   "source": [
    "# difference\n",
    "print(A.difference(B))  # Output: frozenset({1, 2})"
   ]
  },
  {
   "cell_type": "code",
   "execution_count": 29,
   "metadata": {},
   "outputs": [
    {
     "name": "stdout",
     "output_type": "stream",
     "text": [
      "frozenset({1, 2, 5, 6})\n"
     ]
    }
   ],
   "source": [
    "# symmetric_difference\n",
    "print(A.symmetric_difference(B))  # Output: frozenset({1, 2, 5, 6})"
   ]
  },
  {
   "cell_type": "markdown",
   "metadata": {},
   "source": [
    "Similarly, other set methods like isdisjoint, issubset, and issuperset are also available."
   ]
  },
  {
   "cell_type": "code",
   "execution_count": 30,
   "metadata": {},
   "outputs": [
    {
     "name": "stdout",
     "output_type": "stream",
     "text": [
      "True\n"
     ]
    }
   ],
   "source": [
    "# Frozensets\n",
    "# initialize A, B and C\n",
    "A = frozenset([1, 2, 3, 4])\n",
    "B = frozenset([3, 4, 5, 6])\n",
    "C = frozenset([5, 6])\n",
    "\n",
    "# isdisjoint() method\n",
    "print(A.isdisjoint(C)) "
   ]
  },
  {
   "cell_type": "code",
   "execution_count": 31,
   "metadata": {},
   "outputs": [
    {
     "name": "stdout",
     "output_type": "stream",
     "text": [
      "True\n"
     ]
    }
   ],
   "source": [
    "# issubset() method\n",
    "print(C.issubset(B))"
   ]
  },
  {
   "cell_type": "code",
   "execution_count": 32,
   "metadata": {},
   "outputs": [
    {
     "name": "stdout",
     "output_type": "stream",
     "text": [
      "True\n"
     ]
    }
   ],
   "source": [
    "# issuperset() method\n",
    "print(B.issuperset(C))  "
   ]
  },
  {
   "cell_type": "markdown",
   "metadata": {},
   "source": [
    "### 25. Python getattr()"
   ]
  },
  {
   "cell_type": "markdown",
   "metadata": {},
   "source": [
    "The getattr() method returns the value of the named attribute of an object.\n",
    "\n",
    "If not found, it returns the default value provided to the function."
   ]
  },
  {
   "cell_type": "markdown",
   "metadata": {},
   "source": [
    "The syntax of getattr() method is: getattr(object, name[, default])"
   ]
  },
  {
   "cell_type": "markdown",
   "metadata": {},
   "source": [
    "The above syntax is equivalent to: object.name"
   ]
  },
  {
   "cell_type": "markdown",
   "metadata": {},
   "source": [
    "**getattr() Parameters**\n",
    "\n",
    "getattr() method takes multiple parameters:\n",
    "\n",
    "object - object whose named attribute's value is to be returned\n",
    "\n",
    "name - string that contains the attribute's name\n",
    "\n",
    "default (Optional) - value that is returned when the named attribute is not found"
   ]
  },
  {
   "cell_type": "markdown",
   "metadata": {},
   "source": [
    "**Return value from getattr()**\n",
    "\n",
    "getattr() method returns:\n",
    "\n",
    "value of the named attribute of the given object\n",
    "\n",
    "default, if no named attribute is found\n",
    "\n",
    "AttributeError exception, if named attribute is not found and default is not defined"
   ]
  },
  {
   "cell_type": "code",
   "execution_count": 34,
   "metadata": {},
   "outputs": [
    {
     "name": "stdout",
     "output_type": "stream",
     "text": [
      "The age is: 23\n",
      "The age is: 23\n"
     ]
    }
   ],
   "source": [
    "# Example 1: How getattr() works in Python?\n",
    "\n",
    "class Person:\n",
    "    age = 23\n",
    "    name = \"Adam\"\n",
    "\n",
    "person = Person()\n",
    "print('The age is:', getattr(person, \"age\"))\n",
    "print('The age is:', person.age)"
   ]
  },
  {
   "cell_type": "code",
   "execution_count": 36,
   "metadata": {},
   "outputs": [
    {
     "name": "stdout",
     "output_type": "stream",
     "text": [
      "The sex is: Male\n"
     ]
    }
   ],
   "source": [
    "# Example 2: getattr() when named attribute is not found\n",
    "\n",
    "class Person:\n",
    "    age = 23\n",
    "    name = \"Adam\"\n",
    "\n",
    "person = Person()\n",
    "\n",
    "# when default value is provided\n",
    "print('The sex is:', getattr(person, 'sex', 'Male'))"
   ]
  },
  {
   "cell_type": "code",
   "execution_count": 37,
   "metadata": {},
   "outputs": [
    {
     "ename": "AttributeError",
     "evalue": "'Person' object has no attribute 'sex'",
     "output_type": "error",
     "traceback": [
      "\u001b[1;31m---------------------------------------------------------------------------\u001b[0m",
      "\u001b[1;31mAttributeError\u001b[0m                            Traceback (most recent call last)",
      "\u001b[1;32m<ipython-input-37-bf52f2c8dbd7>\u001b[0m in \u001b[0;36m<module>\u001b[1;34m\u001b[0m\n\u001b[0;32m      1\u001b[0m \u001b[1;31m# when no default value is provided\u001b[0m\u001b[1;33m\u001b[0m\u001b[1;33m\u001b[0m\u001b[1;33m\u001b[0m\u001b[0m\n\u001b[1;32m----> 2\u001b[1;33m \u001b[0mprint\u001b[0m\u001b[1;33m(\u001b[0m\u001b[1;34m'The sex is:'\u001b[0m\u001b[1;33m,\u001b[0m \u001b[0mgetattr\u001b[0m\u001b[1;33m(\u001b[0m\u001b[0mperson\u001b[0m\u001b[1;33m,\u001b[0m \u001b[1;34m'sex'\u001b[0m\u001b[1;33m)\u001b[0m\u001b[1;33m)\u001b[0m\u001b[1;33m\u001b[0m\u001b[1;33m\u001b[0m\u001b[0m\n\u001b[0m",
      "\u001b[1;31mAttributeError\u001b[0m: 'Person' object has no attribute 'sex'"
     ]
    }
   ],
   "source": [
    "# when no default value is provided\n",
    "print('The sex is:', getattr(person, 'sex'))"
   ]
  },
  {
   "cell_type": "markdown",
   "metadata": {},
   "source": [
    "### 26. Python globals()"
   ]
  },
  {
   "cell_type": "markdown",
   "metadata": {},
   "source": [
    "The globals() method returns the dictionary of the current global symbol table."
   ]
  },
  {
   "cell_type": "markdown",
   "metadata": {},
   "source": [
    "A symbol table is a data structure maintained by a compiler which contains all necessary information about the program.\n",
    "\n",
    "These include variable names, methods, classes, etc.\n",
    "\n",
    "There are mainly two kinds of symbol table.\n",
    "\n",
    "- Local symbol table\n",
    "\n",
    "- Global symbol table"
   ]
  },
  {
   "cell_type": "markdown",
   "metadata": {},
   "source": [
    "Local symbol table stores all information related to the local scope of the program, and is accessed in Python using locals() method.\n",
    "\n",
    "Likewise, a Global symbol table stores all information related to the global scope of the program, and is accessed in Python using globals() method."
   ]
  },
  {
   "cell_type": "markdown",
   "metadata": {},
   "source": [
    "The syntax of globals() method is: globals()"
   ]
  },
  {
   "cell_type": "markdown",
   "metadata": {},
   "source": [
    "**globals() Parameters**\n",
    "\n",
    "globals() method doesn't take any parameters."
   ]
  },
  {
   "cell_type": "markdown",
   "metadata": {},
   "source": [
    "**Return value from globals()**\n",
    "\n",
    "globals() method returns the dictionary of the current global symbol table."
   ]
  },
  {
   "cell_type": "code",
   "execution_count": 2,
   "metadata": {},
   "outputs": [
    {
     "data": {
      "text/plain": [
       "{'__name__': '__main__',\n",
       " '__doc__': 'Automatically created module for IPython interactive environment',\n",
       " '__package__': None,\n",
       " '__loader__': None,\n",
       " '__spec__': None,\n",
       " '__builtin__': <module 'builtins' (built-in)>,\n",
       " '__builtins__': <module 'builtins' (built-in)>,\n",
       " '_ih': ['',\n",
       "  \"**globals() Parameters**\\n\\nglobals() method doesn't take any parameters.\",\n",
       "  '# Example 1: How globals() method works in Python?\\n\\nglobals()'],\n",
       " '_oh': {},\n",
       " '_dh': ['C:\\\\Users\\\\siddhi Golatkar\\\\Desktop\\\\Python'],\n",
       " 'In': ['',\n",
       "  \"**globals() Parameters**\\n\\nglobals() method doesn't take any parameters.\",\n",
       "  '# Example 1: How globals() method works in Python?\\n\\nglobals()'],\n",
       " 'Out': {},\n",
       " 'get_ipython': <bound method InteractiveShell.get_ipython of <ipykernel.zmqshell.ZMQInteractiveShell object at 0x000001A364A3EC48>>,\n",
       " 'exit': <IPython.core.autocall.ZMQExitAutocall at 0x1a364adfc48>,\n",
       " 'quit': <IPython.core.autocall.ZMQExitAutocall at 0x1a364adfc48>,\n",
       " '_': '',\n",
       " '__': '',\n",
       " '___': '',\n",
       " '_i': \"**globals() Parameters**\\n\\nglobals() method doesn't take any parameters.\",\n",
       " '_ii': '',\n",
       " '_iii': '',\n",
       " '_i1': \"**globals() Parameters**\\n\\nglobals() method doesn't take any parameters.\",\n",
       " '_i2': ' # Example 1: How globals() method works in Python?\\n\\nglobals()'}"
      ]
     },
     "execution_count": 2,
     "metadata": {},
     "output_type": "execute_result"
    }
   ],
   "source": [
    " # Example 1: How globals() method works in Python?\n",
    "\n",
    "globals()"
   ]
  },
  {
   "cell_type": "markdown",
   "metadata": {},
   "source": [
    "The output shows all global variables and other symbols for the current program."
   ]
  },
  {
   "cell_type": "code",
   "execution_count": 3,
   "metadata": {},
   "outputs": [
    {
     "name": "stdout",
     "output_type": "stream",
     "text": [
      "The age is: 25\n"
     ]
    }
   ],
   "source": [
    "# Example 2: Modify global variable using global()\n",
    "\n",
    "age = 23\n",
    "\n",
    "globals()['age'] = 25\n",
    "\n",
    "print('The age is:', age)"
   ]
  },
  {
   "cell_type": "markdown",
   "metadata": {},
   "source": [
    "### 27. Python exec()"
   ]
  },
  {
   "cell_type": "markdown",
   "metadata": {},
   "source": [
    "The exec() method executes the dynamically created program, which is either a string or a code object."
   ]
  },
  {
   "cell_type": "markdown",
   "metadata": {},
   "source": [
    "The syntax of exec(): exec(object, globals, locals)"
   ]
  },
  {
   "cell_type": "markdown",
   "metadata": {},
   "source": [
    "**exec() Parameters**\n",
    "\n",
    "exec() takes three parameters:\n",
    "\n",
    "- object - Either a string or a code object\n",
    "\n",
    "- globals (optional) - a dictionary\n",
    "\n",
    "- locals (optional)- a mapping object. Dictionary is the standard and commonly used mapping type in     Python."
   ]
  },
  {
   "cell_type": "markdown",
   "metadata": {},
   "source": [
    "**Return Value from exec()**\n",
    "\n",
    "exec() doesn't return any value, it returns None."
   ]
  },
  {
   "cell_type": "code",
   "execution_count": 4,
   "metadata": {},
   "outputs": [
    {
     "name": "stdout",
     "output_type": "stream",
     "text": [
      "Sum = 15\n"
     ]
    }
   ],
   "source": [
    "# Example 1: How exec() works?\n",
    "\n",
    "program = 'a = 5\\nb=10\\nprint(\"Sum =\", a+b)'\n",
    "\n",
    "exec(program)"
   ]
  },
  {
   "cell_type": "code",
   "execution_count": 7,
   "metadata": {},
   "outputs": [
    {
     "name": "stdout",
     "output_type": "stream",
     "text": [
      "Enter a program:[print(item) for item in [1, 2, 3]]\n",
      "1\n",
      "2\n",
      "3\n"
     ]
    }
   ],
   "source": [
    "# Example 2: Allow user to provide input\n",
    "\n",
    "program = input('Enter a program:')\n",
    "exec(program)"
   ]
  },
  {
   "cell_type": "markdown",
   "metadata": {},
   "source": [
    "If you want to take Python code from the user which allows multiline code (using '\\n'), you can use compile() method before using exec()."
   ]
  },
  {
   "cell_type": "code",
   "execution_count": 8,
   "metadata": {},
   "outputs": [
    {
     "name": "stdout",
     "output_type": "stream",
     "text": [
      "['In', 'Out', '_', '_2', '__', '___', '__builtin__', '__builtins__', '__doc__', '__loader__', '__name__', '__package__', '__spec__', '_dh', '_i', '_i1', '_i2', '_i3', '_i4', '_i5', '_i6', '_i7', '_i8', '_ih', '_ii', '_iii', '_oh', 'a', 'age', 'b', 'exit', 'get_ipython', 'program', 'quit']\n"
     ]
    }
   ],
   "source": [
    "exec('print(dir())')"
   ]
  },
  {
   "cell_type": "code",
   "execution_count": 9,
   "metadata": {},
   "outputs": [
    {
     "name": "stdout",
     "output_type": "stream",
     "text": [
      "['__builtins__', 'pow', 'sqrt']\n"
     ]
    }
   ],
   "source": [
    "from math import *\n",
    "exec('print(dir())', {'sqrt': sqrt, 'pow': pow})"
   ]
  },
  {
   "cell_type": "code",
   "execution_count": 10,
   "metadata": {},
   "outputs": [
    {
     "name": "stdout",
     "output_type": "stream",
     "text": [
      "3.0\n"
     ]
    }
   ],
   "source": [
    "# object can have sqrt() module\n",
    "exec('print(sqrt(9))', {'sqrt': sqrt, 'pow': pow})"
   ]
  },
  {
   "cell_type": "markdown",
   "metadata": {},
   "source": [
    "### 28. Python hasattr()"
   ]
  },
  {
   "cell_type": "markdown",
   "metadata": {},
   "source": [
    "The hasattr() method returns true if an object has the given named attribute and false if it does not."
   ]
  },
  {
   "cell_type": "markdown",
   "metadata": {},
   "source": [
    "The syntax of hasattr() method is: hasattr(object, name)"
   ]
  },
  {
   "cell_type": "markdown",
   "metadata": {},
   "source": [
    "**hasattr() Parameters**\n",
    "\n",
    "hasattr() method takes two parameters:\n",
    "\n",
    "- object - object whose named attribute is to be checked\n",
    "\n",
    "- name - name of the attribute to be searched"
   ]
  },
  {
   "cell_type": "markdown",
   "metadata": {},
   "source": [
    "**Return value from hasattr()**\n",
    "\n",
    "hasattr() method returns:\n",
    "\n",
    "- True, if object has the given named attribute\n",
    "\n",
    "- False, if object has no given named attribute"
   ]
  },
  {
   "cell_type": "code",
   "execution_count": 11,
   "metadata": {},
   "outputs": [
    {
     "name": "stdout",
     "output_type": "stream",
     "text": [
      "Person has age?: True\n",
      "Person has salary?: False\n"
     ]
    }
   ],
   "source": [
    "# Example: How hasattr() works in Python?\n",
    "\n",
    "class Person:\n",
    "    age = 23\n",
    "    name = 'Adam'\n",
    "\n",
    "person = Person()\n",
    "\n",
    "print('Person has age?:', hasattr(person, 'age'))\n",
    "\n",
    "print('Person has salary?:', hasattr(person, 'salary'))"
   ]
  },
  {
   "cell_type": "markdown",
   "metadata": {},
   "source": [
    "### 29. Python help()"
   ]
  },
  {
   "cell_type": "markdown",
   "metadata": {},
   "source": [
    "The help() method calls the built-in Python help system."
   ]
  },
  {
   "cell_type": "markdown",
   "metadata": {},
   "source": [
    "The syntax of help() is: help(object)"
   ]
  },
  {
   "cell_type": "markdown",
   "metadata": {},
   "source": [
    "**help() Parameters**\n",
    "\n",
    "The help() method takes a maximum of one parameter.\n",
    "\n",
    "- object (optional) - you want to generate the help of the given object"
   ]
  },
  {
   "cell_type": "markdown",
   "metadata": {},
   "source": [
    "**How help() works in Python?**\n",
    "\n",
    "The help() method is used for interactive use. \n",
    "\n",
    "It's recommended to try it in your interpreter when you need help to write Python program and use Python modules."
   ]
  },
  {
   "cell_type": "markdown",
   "metadata": {},
   "source": [
    "Note: object is passed to help() (not a string)"
   ]
  },
  {
   "cell_type": "code",
   "execution_count": 12,
   "metadata": {},
   "outputs": [
    {
     "name": "stdout",
     "output_type": "stream",
     "text": [
      "Help on class list in module builtins:\n",
      "\n",
      "class list(object)\n",
      " |  list(iterable=(), /)\n",
      " |  \n",
      " |  Built-in mutable sequence.\n",
      " |  \n",
      " |  If no argument is given, the constructor creates a new empty list.\n",
      " |  The argument must be an iterable if specified.\n",
      " |  \n",
      " |  Methods defined here:\n",
      " |  \n",
      " |  __add__(self, value, /)\n",
      " |      Return self+value.\n",
      " |  \n",
      " |  __contains__(self, key, /)\n",
      " |      Return key in self.\n",
      " |  \n",
      " |  __delitem__(self, key, /)\n",
      " |      Delete self[key].\n",
      " |  \n",
      " |  __eq__(self, value, /)\n",
      " |      Return self==value.\n",
      " |  \n",
      " |  __ge__(self, value, /)\n",
      " |      Return self>=value.\n",
      " |  \n",
      " |  __getattribute__(self, name, /)\n",
      " |      Return getattr(self, name).\n",
      " |  \n",
      " |  __getitem__(...)\n",
      " |      x.__getitem__(y) <==> x[y]\n",
      " |  \n",
      " |  __gt__(self, value, /)\n",
      " |      Return self>value.\n",
      " |  \n",
      " |  __iadd__(self, value, /)\n",
      " |      Implement self+=value.\n",
      " |  \n",
      " |  __imul__(self, value, /)\n",
      " |      Implement self*=value.\n",
      " |  \n",
      " |  __init__(self, /, *args, **kwargs)\n",
      " |      Initialize self.  See help(type(self)) for accurate signature.\n",
      " |  \n",
      " |  __iter__(self, /)\n",
      " |      Implement iter(self).\n",
      " |  \n",
      " |  __le__(self, value, /)\n",
      " |      Return self<=value.\n",
      " |  \n",
      " |  __len__(self, /)\n",
      " |      Return len(self).\n",
      " |  \n",
      " |  __lt__(self, value, /)\n",
      " |      Return self<value.\n",
      " |  \n",
      " |  __mul__(self, value, /)\n",
      " |      Return self*value.\n",
      " |  \n",
      " |  __ne__(self, value, /)\n",
      " |      Return self!=value.\n",
      " |  \n",
      " |  __repr__(self, /)\n",
      " |      Return repr(self).\n",
      " |  \n",
      " |  __reversed__(self, /)\n",
      " |      Return a reverse iterator over the list.\n",
      " |  \n",
      " |  __rmul__(self, value, /)\n",
      " |      Return value*self.\n",
      " |  \n",
      " |  __setitem__(self, key, value, /)\n",
      " |      Set self[key] to value.\n",
      " |  \n",
      " |  __sizeof__(self, /)\n",
      " |      Return the size of the list in memory, in bytes.\n",
      " |  \n",
      " |  append(self, object, /)\n",
      " |      Append object to the end of the list.\n",
      " |  \n",
      " |  clear(self, /)\n",
      " |      Remove all items from list.\n",
      " |  \n",
      " |  copy(self, /)\n",
      " |      Return a shallow copy of the list.\n",
      " |  \n",
      " |  count(self, value, /)\n",
      " |      Return number of occurrences of value.\n",
      " |  \n",
      " |  extend(self, iterable, /)\n",
      " |      Extend list by appending elements from the iterable.\n",
      " |  \n",
      " |  index(self, value, start=0, stop=9223372036854775807, /)\n",
      " |      Return first index of value.\n",
      " |      \n",
      " |      Raises ValueError if the value is not present.\n",
      " |  \n",
      " |  insert(self, index, object, /)\n",
      " |      Insert object before index.\n",
      " |  \n",
      " |  pop(self, index=-1, /)\n",
      " |      Remove and return item at index (default last).\n",
      " |      \n",
      " |      Raises IndexError if list is empty or index is out of range.\n",
      " |  \n",
      " |  remove(self, value, /)\n",
      " |      Remove first occurrence of value.\n",
      " |      \n",
      " |      Raises ValueError if the value is not present.\n",
      " |  \n",
      " |  reverse(self, /)\n",
      " |      Reverse *IN PLACE*.\n",
      " |  \n",
      " |  sort(self, /, *, key=None, reverse=False)\n",
      " |      Stable sort *IN PLACE*.\n",
      " |  \n",
      " |  ----------------------------------------------------------------------\n",
      " |  Static methods defined here:\n",
      " |  \n",
      " |  __new__(*args, **kwargs) from builtins.type\n",
      " |      Create and return a new object.  See help(type) for accurate signature.\n",
      " |  \n",
      " |  ----------------------------------------------------------------------\n",
      " |  Data and other attributes defined here:\n",
      " |  \n",
      " |  __hash__ = None\n",
      "\n"
     ]
    }
   ],
   "source": [
    "help(list)"
   ]
  },
  {
   "cell_type": "code",
   "execution_count": 13,
   "metadata": {},
   "outputs": [
    {
     "name": "stdout",
     "output_type": "stream",
     "text": [
      "Help on class dict in module builtins:\n",
      "\n",
      "class dict(object)\n",
      " |  dict() -> new empty dictionary\n",
      " |  dict(mapping) -> new dictionary initialized from a mapping object's\n",
      " |      (key, value) pairs\n",
      " |  dict(iterable) -> new dictionary initialized as if via:\n",
      " |      d = {}\n",
      " |      for k, v in iterable:\n",
      " |          d[k] = v\n",
      " |  dict(**kwargs) -> new dictionary initialized with the name=value pairs\n",
      " |      in the keyword argument list.  For example:  dict(one=1, two=2)\n",
      " |  \n",
      " |  Methods defined here:\n",
      " |  \n",
      " |  __contains__(self, key, /)\n",
      " |      True if the dictionary has the specified key, else False.\n",
      " |  \n",
      " |  __delitem__(self, key, /)\n",
      " |      Delete self[key].\n",
      " |  \n",
      " |  __eq__(self, value, /)\n",
      " |      Return self==value.\n",
      " |  \n",
      " |  __ge__(self, value, /)\n",
      " |      Return self>=value.\n",
      " |  \n",
      " |  __getattribute__(self, name, /)\n",
      " |      Return getattr(self, name).\n",
      " |  \n",
      " |  __getitem__(...)\n",
      " |      x.__getitem__(y) <==> x[y]\n",
      " |  \n",
      " |  __gt__(self, value, /)\n",
      " |      Return self>value.\n",
      " |  \n",
      " |  __init__(self, /, *args, **kwargs)\n",
      " |      Initialize self.  See help(type(self)) for accurate signature.\n",
      " |  \n",
      " |  __iter__(self, /)\n",
      " |      Implement iter(self).\n",
      " |  \n",
      " |  __le__(self, value, /)\n",
      " |      Return self<=value.\n",
      " |  \n",
      " |  __len__(self, /)\n",
      " |      Return len(self).\n",
      " |  \n",
      " |  __lt__(self, value, /)\n",
      " |      Return self<value.\n",
      " |  \n",
      " |  __ne__(self, value, /)\n",
      " |      Return self!=value.\n",
      " |  \n",
      " |  __repr__(self, /)\n",
      " |      Return repr(self).\n",
      " |  \n",
      " |  __setitem__(self, key, value, /)\n",
      " |      Set self[key] to value.\n",
      " |  \n",
      " |  __sizeof__(...)\n",
      " |      D.__sizeof__() -> size of D in memory, in bytes\n",
      " |  \n",
      " |  clear(...)\n",
      " |      D.clear() -> None.  Remove all items from D.\n",
      " |  \n",
      " |  copy(...)\n",
      " |      D.copy() -> a shallow copy of D\n",
      " |  \n",
      " |  get(self, key, default=None, /)\n",
      " |      Return the value for key if key is in the dictionary, else default.\n",
      " |  \n",
      " |  items(...)\n",
      " |      D.items() -> a set-like object providing a view on D's items\n",
      " |  \n",
      " |  keys(...)\n",
      " |      D.keys() -> a set-like object providing a view on D's keys\n",
      " |  \n",
      " |  pop(...)\n",
      " |      D.pop(k[,d]) -> v, remove specified key and return the corresponding value.\n",
      " |      If key is not found, d is returned if given, otherwise KeyError is raised\n",
      " |  \n",
      " |  popitem(...)\n",
      " |      D.popitem() -> (k, v), remove and return some (key, value) pair as a\n",
      " |      2-tuple; but raise KeyError if D is empty.\n",
      " |  \n",
      " |  setdefault(self, key, default=None, /)\n",
      " |      Insert key with a value of default if key is not in the dictionary.\n",
      " |      \n",
      " |      Return the value for key if key is in the dictionary, else default.\n",
      " |  \n",
      " |  update(...)\n",
      " |      D.update([E, ]**F) -> None.  Update D from dict/iterable E and F.\n",
      " |      If E is present and has a .keys() method, then does:  for k in E: D[k] = E[k]\n",
      " |      If E is present and lacks a .keys() method, then does:  for k, v in E: D[k] = v\n",
      " |      In either case, this is followed by: for k in F:  D[k] = F[k]\n",
      " |  \n",
      " |  values(...)\n",
      " |      D.values() -> an object providing a view on D's values\n",
      " |  \n",
      " |  ----------------------------------------------------------------------\n",
      " |  Class methods defined here:\n",
      " |  \n",
      " |  fromkeys(iterable, value=None, /) from builtins.type\n",
      " |      Create a new dictionary with keys from iterable and values set to value.\n",
      " |  \n",
      " |  ----------------------------------------------------------------------\n",
      " |  Static methods defined here:\n",
      " |  \n",
      " |  __new__(*args, **kwargs) from builtins.type\n",
      " |      Create and return a new object.  See help(type) for accurate signature.\n",
      " |  \n",
      " |  ----------------------------------------------------------------------\n",
      " |  Data and other attributes defined here:\n",
      " |  \n",
      " |  __hash__ = None\n",
      "\n"
     ]
    }
   ],
   "source": [
    "help(dict)"
   ]
  },
  {
   "cell_type": "code",
   "execution_count": 14,
   "metadata": {},
   "outputs": [
    {
     "name": "stdout",
     "output_type": "stream",
     "text": [
      "Help on built-in function print in module builtins:\n",
      "\n",
      "print(...)\n",
      "    print(value, ..., sep=' ', end='\\n', file=sys.stdout, flush=False)\n",
      "    \n",
      "    Prints the values to a stream, or to sys.stdout by default.\n",
      "    Optional keyword arguments:\n",
      "    file:  a file-like object (stream); defaults to the current sys.stdout.\n",
      "    sep:   string inserted between values, default a space.\n",
      "    end:   string appended after the last value, default a newline.\n",
      "    flush: whether to forcibly flush the stream.\n",
      "\n"
     ]
    }
   ],
   "source": [
    "help(print)"
   ]
  },
  {
   "cell_type": "code",
   "execution_count": 15,
   "metadata": {},
   "outputs": [
    {
     "name": "stdout",
     "output_type": "stream",
     "text": [
      "Help on list object:\n",
      "\n",
      "class list(object)\n",
      " |  list(iterable=(), /)\n",
      " |  \n",
      " |  Built-in mutable sequence.\n",
      " |  \n",
      " |  If no argument is given, the constructor creates a new empty list.\n",
      " |  The argument must be an iterable if specified.\n",
      " |  \n",
      " |  Methods defined here:\n",
      " |  \n",
      " |  __add__(self, value, /)\n",
      " |      Return self+value.\n",
      " |  \n",
      " |  __contains__(self, key, /)\n",
      " |      Return key in self.\n",
      " |  \n",
      " |  __delitem__(self, key, /)\n",
      " |      Delete self[key].\n",
      " |  \n",
      " |  __eq__(self, value, /)\n",
      " |      Return self==value.\n",
      " |  \n",
      " |  __ge__(self, value, /)\n",
      " |      Return self>=value.\n",
      " |  \n",
      " |  __getattribute__(self, name, /)\n",
      " |      Return getattr(self, name).\n",
      " |  \n",
      " |  __getitem__(...)\n",
      " |      x.__getitem__(y) <==> x[y]\n",
      " |  \n",
      " |  __gt__(self, value, /)\n",
      " |      Return self>value.\n",
      " |  \n",
      " |  __iadd__(self, value, /)\n",
      " |      Implement self+=value.\n",
      " |  \n",
      " |  __imul__(self, value, /)\n",
      " |      Implement self*=value.\n",
      " |  \n",
      " |  __init__(self, /, *args, **kwargs)\n",
      " |      Initialize self.  See help(type(self)) for accurate signature.\n",
      " |  \n",
      " |  __iter__(self, /)\n",
      " |      Implement iter(self).\n",
      " |  \n",
      " |  __le__(self, value, /)\n",
      " |      Return self<=value.\n",
      " |  \n",
      " |  __len__(self, /)\n",
      " |      Return len(self).\n",
      " |  \n",
      " |  __lt__(self, value, /)\n",
      " |      Return self<value.\n",
      " |  \n",
      " |  __mul__(self, value, /)\n",
      " |      Return self*value.\n",
      " |  \n",
      " |  __ne__(self, value, /)\n",
      " |      Return self!=value.\n",
      " |  \n",
      " |  __repr__(self, /)\n",
      " |      Return repr(self).\n",
      " |  \n",
      " |  __reversed__(self, /)\n",
      " |      Return a reverse iterator over the list.\n",
      " |  \n",
      " |  __rmul__(self, value, /)\n",
      " |      Return value*self.\n",
      " |  \n",
      " |  __setitem__(self, key, value, /)\n",
      " |      Set self[key] to value.\n",
      " |  \n",
      " |  __sizeof__(self, /)\n",
      " |      Return the size of the list in memory, in bytes.\n",
      " |  \n",
      " |  append(self, object, /)\n",
      " |      Append object to the end of the list.\n",
      " |  \n",
      " |  clear(self, /)\n",
      " |      Remove all items from list.\n",
      " |  \n",
      " |  copy(self, /)\n",
      " |      Return a shallow copy of the list.\n",
      " |  \n",
      " |  count(self, value, /)\n",
      " |      Return number of occurrences of value.\n",
      " |  \n",
      " |  extend(self, iterable, /)\n",
      " |      Extend list by appending elements from the iterable.\n",
      " |  \n",
      " |  index(self, value, start=0, stop=9223372036854775807, /)\n",
      " |      Return first index of value.\n",
      " |      \n",
      " |      Raises ValueError if the value is not present.\n",
      " |  \n",
      " |  insert(self, index, object, /)\n",
      " |      Insert object before index.\n",
      " |  \n",
      " |  pop(self, index=-1, /)\n",
      " |      Remove and return item at index (default last).\n",
      " |      \n",
      " |      Raises IndexError if list is empty or index is out of range.\n",
      " |  \n",
      " |  remove(self, value, /)\n",
      " |      Remove first occurrence of value.\n",
      " |      \n",
      " |      Raises ValueError if the value is not present.\n",
      " |  \n",
      " |  reverse(self, /)\n",
      " |      Reverse *IN PLACE*.\n",
      " |  \n",
      " |  sort(self, /, *, key=None, reverse=False)\n",
      " |      Stable sort *IN PLACE*.\n",
      " |  \n",
      " |  ----------------------------------------------------------------------\n",
      " |  Static methods defined here:\n",
      " |  \n",
      " |  __new__(*args, **kwargs) from builtins.type\n",
      " |      Create and return a new object.  See help(type) for accurate signature.\n",
      " |  \n",
      " |  ----------------------------------------------------------------------\n",
      " |  Data and other attributes defined here:\n",
      " |  \n",
      " |  __hash__ = None\n",
      "\n"
     ]
    }
   ],
   "source": [
    "help([1,2,3])"
   ]
  },
  {
   "cell_type": "code",
   "execution_count": 16,
   "metadata": {},
   "outputs": [
    {
     "name": "stdout",
     "output_type": "stream",
     "text": [
      "No Python documentation found for 'random thing'.\n",
      "Use help() to get the interactive help utility.\n",
      "Use help(str) for help on the str class.\n",
      "\n"
     ]
    }
   ],
   "source": [
    "help('random thing')"
   ]
  },
  {
   "cell_type": "code",
   "execution_count": 17,
   "metadata": {},
   "outputs": [
    {
     "name": "stdout",
     "output_type": "stream",
     "text": [
      "Help on built-in function print in module builtins:\n",
      "\n",
      "print(...)\n",
      "    print(value, ..., sep=' ', end='\\n', file=sys.stdout, flush=False)\n",
      "    \n",
      "    Prints the values to a stream, or to sys.stdout by default.\n",
      "    Optional keyword arguments:\n",
      "    file:  a file-like object (stream); defaults to the current sys.stdout.\n",
      "    sep:   string inserted between values, default a space.\n",
      "    end:   string appended after the last value, default a newline.\n",
      "    flush: whether to forcibly flush the stream.\n",
      "\n"
     ]
    }
   ],
   "source": [
    "help('print')"
   ]
  },
  {
   "cell_type": "code",
   "execution_count": 18,
   "metadata": {},
   "outputs": [
    {
     "name": "stdout",
     "output_type": "stream",
     "text": [
      "Function definitions\n",
      "********************\n",
      "\n",
      "A function definition defines a user-defined function object (see\n",
      "section The standard type hierarchy):\n",
      "\n",
      "   funcdef                 ::= [decorators] \"def\" funcname \"(\" [parameter_list] \")\"\n",
      "               [\"->\" expression] \":\" suite\n",
      "   decorators              ::= decorator+\n",
      "   decorator               ::= \"@\" dotted_name [\"(\" [argument_list [\",\"]] \")\"] NEWLINE\n",
      "   dotted_name             ::= identifier (\".\" identifier)*\n",
      "   parameter_list          ::= defparameter (\",\" defparameter)* [\",\" [parameter_list_starargs]]\n",
      "                      | parameter_list_starargs\n",
      "   parameter_list_starargs ::= \"*\" [parameter] (\",\" defparameter)* [\",\" [\"**\" parameter [\",\"]]]\n",
      "                               | \"**\" parameter [\",\"]\n",
      "   parameter               ::= identifier [\":\" expression]\n",
      "   defparameter            ::= parameter [\"=\" expression]\n",
      "   funcname                ::= identifier\n",
      "\n",
      "A function definition is an executable statement.  Its execution binds\n",
      "the function name in the current local namespace to a function object\n",
      "(a wrapper around the executable code for the function).  This\n",
      "function object contains a reference to the current global namespace\n",
      "as the global namespace to be used when the function is called.\n",
      "\n",
      "The function definition does not execute the function body; this gets\n",
      "executed only when the function is called. [2]\n",
      "\n",
      "A function definition may be wrapped by one or more *decorator*\n",
      "expressions. Decorator expressions are evaluated when the function is\n",
      "defined, in the scope that contains the function definition.  The\n",
      "result must be a callable, which is invoked with the function object\n",
      "as the only argument. The returned value is bound to the function name\n",
      "instead of the function object.  Multiple decorators are applied in\n",
      "nested fashion. For example, the following code\n",
      "\n",
      "   @f1(arg)\n",
      "   @f2\n",
      "   def func(): pass\n",
      "\n",
      "is roughly equivalent to\n",
      "\n",
      "   def func(): pass\n",
      "   func = f1(arg)(f2(func))\n",
      "\n",
      "except that the original function is not temporarily bound to the name\n",
      "\"func\".\n",
      "\n",
      "When one or more *parameters* have the form *parameter* \"=\"\n",
      "*expression*, the function is said to have “default parameter values.”\n",
      "For a parameter with a default value, the corresponding *argument* may\n",
      "be omitted from a call, in which case the parameter’s default value is\n",
      "substituted.  If a parameter has a default value, all following\n",
      "parameters up until the “\"*\"” must also have a default value — this is\n",
      "a syntactic restriction that is not expressed by the grammar.\n",
      "\n",
      "**Default parameter values are evaluated from left to right when the\n",
      "function definition is executed.** This means that the expression is\n",
      "evaluated once, when the function is defined, and that the same “pre-\n",
      "computed” value is used for each call.  This is especially important\n",
      "to understand when a default parameter is a mutable object, such as a\n",
      "list or a dictionary: if the function modifies the object (e.g. by\n",
      "appending an item to a list), the default value is in effect modified.\n",
      "This is generally not what was intended.  A way around this is to use\n",
      "\"None\" as the default, and explicitly test for it in the body of the\n",
      "function, e.g.:\n",
      "\n",
      "   def whats_on_the_telly(penguin=None):\n",
      "       if penguin is None:\n",
      "           penguin = []\n",
      "       penguin.append(\"property of the zoo\")\n",
      "       return penguin\n",
      "\n",
      "Function call semantics are described in more detail in section Calls.\n",
      "A function call always assigns values to all parameters mentioned in\n",
      "the parameter list, either from position arguments, from keyword\n",
      "arguments, or from default values.  If the form “\"*identifier\"” is\n",
      "present, it is initialized to a tuple receiving any excess positional\n",
      "parameters, defaulting to the empty tuple. If the form\n",
      "“\"**identifier\"” is present, it is initialized to a new ordered\n",
      "mapping receiving any excess keyword arguments, defaulting to a new\n",
      "empty mapping of the same type.  Parameters after “\"*\"” or\n",
      "“\"*identifier\"” are keyword-only parameters and may only be passed\n",
      "used keyword arguments.\n",
      "\n",
      "Parameters may have an *annotation* of the form “\": expression\"”\n",
      "following the parameter name.  Any parameter may have an annotation,\n",
      "even those of the form \"*identifier\" or \"**identifier\".  Functions may\n",
      "have “return” annotation of the form “\"-> expression\"” after the\n",
      "parameter list.  These annotations can be any valid Python expression.\n",
      "The presence of annotations does not change the semantics of a\n",
      "function.  The annotation values are available as values of a\n",
      "dictionary keyed by the parameters’ names in the \"__annotations__\"\n",
      "attribute of the function object.  If the \"annotations\" import from\n",
      "\"__future__\" is used, annotations are preserved as strings at runtime\n",
      "which enables postponed evaluation.  Otherwise, they are evaluated\n",
      "when the function definition is executed.  In this case annotations\n",
      "may be evaluated in a different order than they appear in the source\n",
      "code.\n",
      "\n",
      "It is also possible to create anonymous functions (functions not bound\n",
      "to a name), for immediate use in expressions.  This uses lambda\n",
      "expressions, described in section Lambdas.  Note that the lambda\n",
      "expression is merely a shorthand for a simplified function definition;\n",
      "a function defined in a “\"def\"” statement can be passed around or\n",
      "assigned to another name just like a function defined by a lambda\n",
      "expression.  The “\"def\"” form is actually more powerful since it\n",
      "allows the execution of multiple statements and annotations.\n",
      "\n",
      "**Programmer’s note:** Functions are first-class objects.  A “\"def\"”\n",
      "statement executed inside a function definition defines a local\n",
      "function that can be returned or passed around.  Free variables used\n",
      "in the nested function can access the local variables of the function\n",
      "containing the def.  See section Naming and binding for details.\n",
      "\n",
      "See also:\n",
      "\n",
      "  **PEP 3107** - Function Annotations\n",
      "     The original specification for function annotations.\n",
      "\n",
      "  **PEP 484** - Type Hints\n",
      "     Definition of a standard meaning for annotations: type hints.\n",
      "\n",
      "  **PEP 526** - Syntax for Variable Annotations\n",
      "     Ability to type hint variable declarations, including class\n",
      "     variables and instance variables\n",
      "\n",
      "  **PEP 563** - Postponed Evaluation of Annotations\n",
      "     Support for forward references within annotations by preserving\n",
      "     annotations in a string form at runtime instead of eager\n",
      "     evaluation.\n",
      "\n"
     ]
    }
   ],
   "source": [
    "help('def')"
   ]
  },
  {
   "cell_type": "code",
   "execution_count": 20,
   "metadata": {},
   "outputs": [
    {
     "name": "stdout",
     "output_type": "stream",
     "text": [
      "Help on built-in function pow in math:\n",
      "\n",
      "math.pow = pow(x, y, /)\n",
      "    Return x**y (x to the power of y).\n",
      "\n"
     ]
    }
   ],
   "source": [
    "from math import * \n",
    "\n",
    "help('math.pow')"
   ]
  },
  {
   "cell_type": "code",
   "execution_count": 24,
   "metadata": {},
   "outputs": [
    {
     "name": "stdout",
     "output_type": "stream",
     "text": [
      "\n",
      "Welcome to Python 3.7's help utility!\n",
      "\n",
      "If this is your first time using Python, you should definitely check out\n",
      "the tutorial on the Internet at https://docs.python.org/3.7/tutorial/.\n",
      "\n",
      "Enter the name of any module, keyword, or topic to get help on writing\n",
      "Python programs and using Python modules.  To quit this help utility and\n",
      "return to the interpreter, just type \"quit\".\n",
      "\n",
      "To get a list of available modules, keywords, symbols, or topics, type\n",
      "\"modules\", \"keywords\", \"symbols\", or \"topics\".  Each module also comes\n",
      "with a one-line summary of what it does; to list the modules whose name\n",
      "or summary contain a given string such as \"spam\", type \"modules spam\".\n",
      "\n",
      "help> 1\n",
      "No Python documentation found for '1'.\n",
      "Use help() to get the interactive help utility.\n",
      "Use help(str) for help on the str class.\n",
      "\n",
      "help> True\n",
      "Help on bool object:\n",
      "\n",
      "class bool(int)\n",
      " |  bool(x) -> bool\n",
      " |  \n",
      " |  Returns True when the argument x is true, False otherwise.\n",
      " |  The builtins True and False are the only two instances of the class bool.\n",
      " |  The class bool is a subclass of the class int, and cannot be subclassed.\n",
      " |  \n",
      " |  Method resolution order:\n",
      " |      bool\n",
      " |      int\n",
      " |      object\n",
      " |  \n",
      " |  Methods defined here:\n",
      " |  \n",
      " |  __and__(self, value, /)\n",
      " |      Return self&value.\n",
      " |  \n",
      " |  __or__(self, value, /)\n",
      " |      Return self|value.\n",
      " |  \n",
      " |  __rand__(self, value, /)\n",
      " |      Return value&self.\n",
      " |  \n",
      " |  __repr__(self, /)\n",
      " |      Return repr(self).\n",
      " |  \n",
      " |  __ror__(self, value, /)\n",
      " |      Return value|self.\n",
      " |  \n",
      " |  __rxor__(self, value, /)\n",
      " |      Return value^self.\n",
      " |  \n",
      " |  __str__(self, /)\n",
      " |      Return str(self).\n",
      " |  \n",
      " |  __xor__(self, value, /)\n",
      " |      Return self^value.\n",
      " |  \n",
      " |  ----------------------------------------------------------------------\n",
      " |  Static methods defined here:\n",
      " |  \n",
      " |  __new__(*args, **kwargs) from builtins.type\n",
      " |      Create and return a new object.  See help(type) for accurate signature.\n",
      " |  \n",
      " |  ----------------------------------------------------------------------\n",
      " |  Methods inherited from int:\n",
      " |  \n",
      " |  __abs__(self, /)\n",
      " |      abs(self)\n",
      " |  \n",
      " |  __add__(self, value, /)\n",
      " |      Return self+value.\n",
      " |  \n",
      " |  __bool__(self, /)\n",
      " |      self != 0\n",
      " |  \n",
      " |  __ceil__(...)\n",
      " |      Ceiling of an Integral returns itself.\n",
      " |  \n",
      " |  __divmod__(self, value, /)\n",
      " |      Return divmod(self, value).\n",
      " |  \n",
      " |  __eq__(self, value, /)\n",
      " |      Return self==value.\n",
      " |  \n",
      " |  __float__(self, /)\n",
      " |      float(self)\n",
      " |  \n",
      " |  __floor__(...)\n",
      " |      Flooring an Integral returns itself.\n",
      " |  \n",
      " |  __floordiv__(self, value, /)\n",
      " |      Return self//value.\n",
      " |  \n",
      " |  __format__(self, format_spec, /)\n",
      " |      Default object formatter.\n",
      " |  \n",
      " |  __ge__(self, value, /)\n",
      " |      Return self>=value.\n",
      " |  \n",
      " |  __getattribute__(self, name, /)\n",
      " |      Return getattr(self, name).\n",
      " |  \n",
      " |  __getnewargs__(self, /)\n",
      " |  \n",
      " |  __gt__(self, value, /)\n",
      " |      Return self>value.\n",
      " |  \n",
      " |  __hash__(self, /)\n",
      " |      Return hash(self).\n",
      " |  \n",
      " |  __index__(self, /)\n",
      " |      Return self converted to an integer, if self is suitable for use as an index into a list.\n",
      " |  \n",
      " |  __int__(self, /)\n",
      " |      int(self)\n",
      " |  \n",
      " |  __invert__(self, /)\n",
      " |      ~self\n",
      " |  \n",
      " |  __le__(self, value, /)\n",
      " |      Return self<=value.\n",
      " |  \n",
      " |  __lshift__(self, value, /)\n",
      " |      Return self<<value.\n",
      " |  \n",
      " |  __lt__(self, value, /)\n",
      " |      Return self<value.\n",
      " |  \n",
      " |  __mod__(self, value, /)\n",
      " |      Return self%value.\n",
      " |  \n",
      " |  __mul__(self, value, /)\n",
      " |      Return self*value.\n",
      " |  \n",
      " |  __ne__(self, value, /)\n",
      " |      Return self!=value.\n",
      " |  \n",
      " |  __neg__(self, /)\n",
      " |      -self\n",
      " |  \n",
      " |  __pos__(self, /)\n",
      " |      +self\n",
      " |  \n",
      " |  __pow__(self, value, mod=None, /)\n",
      " |      Return pow(self, value, mod).\n",
      " |  \n",
      " |  __radd__(self, value, /)\n",
      " |      Return value+self.\n",
      " |  \n",
      " |  __rdivmod__(self, value, /)\n",
      " |      Return divmod(value, self).\n",
      " |  \n",
      " |  __rfloordiv__(self, value, /)\n",
      " |      Return value//self.\n",
      " |  \n",
      " |  __rlshift__(self, value, /)\n",
      " |      Return value<<self.\n",
      " |  \n",
      " |  __rmod__(self, value, /)\n",
      " |      Return value%self.\n",
      " |  \n",
      " |  __rmul__(self, value, /)\n",
      " |      Return value*self.\n",
      " |  \n",
      " |  __round__(...)\n",
      " |      Rounding an Integral returns itself.\n",
      " |      Rounding with an ndigits argument also returns an integer.\n",
      " |  \n",
      " |  __rpow__(self, value, mod=None, /)\n",
      " |      Return pow(value, self, mod).\n",
      " |  \n",
      " |  __rrshift__(self, value, /)\n",
      " |      Return value>>self.\n",
      " |  \n",
      " |  __rshift__(self, value, /)\n",
      " |      Return self>>value.\n",
      " |  \n",
      " |  __rsub__(self, value, /)\n",
      " |      Return value-self.\n",
      " |  \n",
      " |  __rtruediv__(self, value, /)\n",
      " |      Return value/self.\n",
      " |  \n",
      " |  __sizeof__(self, /)\n",
      " |      Returns size in memory, in bytes.\n",
      " |  \n",
      " |  __sub__(self, value, /)\n",
      " |      Return self-value.\n",
      " |  \n",
      " |  __truediv__(self, value, /)\n",
      " |      Return self/value.\n",
      " |  \n",
      " |  __trunc__(...)\n",
      " |      Truncating an Integral returns itself.\n",
      " |  \n",
      " |  bit_length(self, /)\n",
      " |      Number of bits necessary to represent self in binary.\n",
      " |      \n",
      " |      >>> bin(37)\n",
      " |      '0b100101'\n",
      " |      >>> (37).bit_length()\n",
      " |      6\n",
      " |  \n",
      " |  conjugate(...)\n",
      " |      Returns self, the complex conjugate of any int.\n",
      " |  \n",
      " |  to_bytes(self, /, length, byteorder, *, signed=False)\n",
      " |      Return an array of bytes representing an integer.\n",
      " |      \n",
      " |      length\n",
      " |        Length of bytes object to use.  An OverflowError is raised if the\n",
      " |        integer is not representable with the given number of bytes.\n",
      " |      byteorder\n",
      " |        The byte order used to represent the integer.  If byteorder is 'big',\n",
      " |        the most significant byte is at the beginning of the byte array.  If\n",
      " |        byteorder is 'little', the most significant byte is at the end of the\n",
      " |        byte array.  To request the native byte order of the host system, use\n",
      " |        `sys.byteorder' as the byte order value.\n",
      " |      signed\n",
      " |        Determines whether two's complement is used to represent the integer.\n",
      " |        If signed is False and a negative integer is given, an OverflowError\n",
      " |        is raised.\n",
      " |  \n",
      " |  ----------------------------------------------------------------------\n",
      " |  Class methods inherited from int:\n",
      " |  \n",
      " |  from_bytes(bytes, byteorder, *, signed=False) from builtins.type\n",
      " |      Return the integer represented by the given array of bytes.\n",
      " |      \n",
      " |      bytes\n",
      " |        Holds the array of bytes to convert.  The argument must either\n",
      " |        support the buffer protocol or be an iterable object producing bytes.\n",
      " |        Bytes and bytearray are examples of built-in objects that support the\n",
      " |        buffer protocol.\n",
      " |      byteorder\n",
      " |        The byte order used to represent the integer.  If byteorder is 'big',\n",
      " |        the most significant byte is at the beginning of the byte array.  If\n",
      " |        byteorder is 'little', the most significant byte is at the end of the\n",
      " |        byte array.  To request the native byte order of the host system, use\n",
      " |        `sys.byteorder' as the byte order value.\n",
      " |      signed\n",
      " |        Indicates whether two's complement is used to represent the integer.\n",
      " |  \n",
      " |  ----------------------------------------------------------------------\n",
      " |  Data descriptors inherited from int:\n",
      " |  \n",
      " |  denominator\n",
      " |      the denominator of a rational number in lowest terms\n",
      " |  \n",
      " |  imag\n",
      " |      the imaginary part of a complex number\n",
      " |  \n",
      " |  numerator\n",
      " |      the numerator of a rational number in lowest terms\n",
      " |  \n",
      " |  real\n",
      " |      the real part of a complex number\n",
      "\n",
      "help> quit\n",
      "\n",
      "You are now leaving help and returning to the Python interpreter.\n",
      "If you want to ask for help on a particular object directly from the\n",
      "interpreter, you can type \"help(object)\".  Executing \"help('string')\"\n",
      "has the same effect as typing a particular string at the help> prompt.\n"
     ]
    }
   ],
   "source": [
    "help()"
   ]
  },
  {
   "cell_type": "markdown",
   "metadata": {},
   "source": [
    "### 30. Python hex()"
   ]
  },
  {
   "cell_type": "markdown",
   "metadata": {},
   "source": [
    "The hex() function converts an integer number to the corresponding hexadecimal string."
   ]
  },
  {
   "cell_type": "markdown",
   "metadata": {},
   "source": [
    "The syntax of hex() is: hex(x)"
   ]
  },
  {
   "cell_type": "markdown",
   "metadata": {},
   "source": [
    "**hex() Parameters**\n",
    "\n",
    "hex() function takes a single argument.\n",
    "\n",
    "x - integer number (int object or it has to define __index__() method that returns an integer)"
   ]
  },
  {
   "cell_type": "markdown",
   "metadata": {},
   "source": [
    "**Return Value from hex()**\n",
    "\n",
    "hex() function converts an integer to the corresponding hexadecimal number in string form and returns it.\n",
    "\n",
    "The returned hexadecimal string starts with the prefix 0x indicating it's in hexadecimal form."
   ]
  },
  {
   "cell_type": "code",
   "execution_count": 27,
   "metadata": {},
   "outputs": [
    {
     "name": "stdout",
     "output_type": "stream",
     "text": [
      "435 in hex = 0x1b3\n"
     ]
    }
   ],
   "source": [
    "# Example 1: How hex() works?\n",
    "\n",
    "number = 435\n",
    "print(number, 'in hex =', hex(number))"
   ]
  },
  {
   "cell_type": "code",
   "execution_count": 28,
   "metadata": {},
   "outputs": [
    {
     "name": "stdout",
     "output_type": "stream",
     "text": [
      "0 in hex = 0x0\n"
     ]
    }
   ],
   "source": [
    "number = 0\n",
    "print(number, 'in hex =', hex(number))"
   ]
  },
  {
   "cell_type": "code",
   "execution_count": 29,
   "metadata": {},
   "outputs": [
    {
     "name": "stdout",
     "output_type": "stream",
     "text": [
      "-34 in hex = -0x22\n"
     ]
    }
   ],
   "source": [
    "number = -34\n",
    "print(number, 'in hex =', hex(number))"
   ]
  },
  {
   "cell_type": "code",
   "execution_count": 30,
   "metadata": {},
   "outputs": [
    {
     "name": "stdout",
     "output_type": "stream",
     "text": [
      "Return type from hex() is <class 'str'>\n"
     ]
    }
   ],
   "source": [
    "returnType = type(hex(number))\n",
    "print('Return type from hex() is', returnType)"
   ]
  },
  {
   "cell_type": "markdown",
   "metadata": {},
   "source": [
    "If you need to find a hexadecimal representation of a float, you need to use float.hex() method."
   ]
  },
  {
   "cell_type": "code",
   "execution_count": 31,
   "metadata": {},
   "outputs": [
    {
     "name": "stdout",
     "output_type": "stream",
     "text": [
      "2.5 in hex = 0x1.4000000000000p+1\n"
     ]
    }
   ],
   "source": [
    "# Example 2: Hexadecimal representation of a float\n",
    "\n",
    "number = 2.5\n",
    "print(number, 'in hex =', float.hex(number))"
   ]
  },
  {
   "cell_type": "code",
   "execution_count": 32,
   "metadata": {},
   "outputs": [
    {
     "name": "stdout",
     "output_type": "stream",
     "text": [
      "0.0 in hex = 0x0.0p+0\n",
      "10.5 in hex = 0x1.5000000000000p+3\n"
     ]
    }
   ],
   "source": [
    "number = 0.0\n",
    "print(number, 'in hex =', float.hex(number))\n",
    "\n",
    "number = 10.5\n",
    "print(number, 'in hex =', float.hex(number))"
   ]
  },
  {
   "cell_type": "markdown",
   "metadata": {},
   "source": [
    "### 31. Python hash()"
   ]
  },
  {
   "cell_type": "markdown",
   "metadata": {},
   "source": [
    "The hash() method returns the hash value of an object if it has one."
   ]
  },
  {
   "cell_type": "markdown",
   "metadata": {},
   "source": [
    "The syntax of hash() method is: hash(object)"
   ]
  },
  {
   "cell_type": "markdown",
   "metadata": {},
   "source": [
    "**hash() Parameters**\n",
    "\n",
    "hash() method takes a single parameter:\n",
    "\n",
    "- object - the object whose hash value is to be returned (integer, string, float)"
   ]
  },
  {
   "cell_type": "markdown",
   "metadata": {},
   "source": [
    "**Return value from hash()**\n",
    "\n",
    "hash() method returns the hash value of an object if it has one.\n",
    "\n",
    "If an object has custom __hash__() method, it truncates the return value to the size of Py_ssize_t."
   ]
  },
  {
   "cell_type": "code",
   "execution_count": 34,
   "metadata": {},
   "outputs": [
    {
     "name": "stdout",
     "output_type": "stream",
     "text": [
      "Hash for 181 is: 181\n"
     ]
    }
   ],
   "source": [
    "# Example 1: How hash() works in Python?\n",
    "\n",
    "# hash for integer unchanged\n",
    "print('Hash for 181 is:', hash(181))"
   ]
  },
  {
   "cell_type": "code",
   "execution_count": 35,
   "metadata": {},
   "outputs": [
    {
     "name": "stdout",
     "output_type": "stream",
     "text": [
      "Hash for 181.23 is: 530343892119126197\n"
     ]
    }
   ],
   "source": [
    "# hash for decimal\n",
    "print('Hash for 181.23 is:',hash(181.23))"
   ]
  },
  {
   "cell_type": "code",
   "execution_count": 36,
   "metadata": {},
   "outputs": [
    {
     "name": "stdout",
     "output_type": "stream",
     "text": [
      "Hash for Python is: -5217816644185088222\n"
     ]
    }
   ],
   "source": [
    "# hash for string\n",
    "print('Hash for Python is:', hash('Python'))"
   ]
  },
  {
   "cell_type": "code",
   "execution_count": 38,
   "metadata": {},
   "outputs": [
    {
     "name": "stdout",
     "output_type": "stream",
     "text": [
      "The hash is: 6014602340153726765\n"
     ]
    }
   ],
   "source": [
    "# Example 2: hash() for immutable tuple object?\n",
    "\n",
    "# hash() method only works for immutable objects as tuple.\n",
    "\n",
    "# tuple of vowels\n",
    "vowels = ('a', 'e', 'i', 'o', 'u')\n",
    "\n",
    "print('The hash is:', hash(vowels))"
   ]
  },
  {
   "cell_type": "code",
   "execution_count": 39,
   "metadata": {},
   "outputs": [
    {
     "name": "stdout",
     "output_type": "stream",
     "text": [
      "The hash is:\n",
      "-6578973257464777024\n"
     ]
    }
   ],
   "source": [
    "class Person:\n",
    "    def __init__(self, age, name):\n",
    "        self.age = age\n",
    "        self.name = name\n",
    "\n",
    "    def __eq__(self, other):\n",
    "        return self.age == other.age and self.name == other.name\n",
    "\n",
    "    def __hash__(self):\n",
    "        print('The hash is:')\n",
    "        return hash((self.age, self.name))\n",
    "\n",
    "person = Person(23, 'Adam')\n",
    "print(hash(person))"
   ]
  },
  {
   "cell_type": "markdown",
   "metadata": {},
   "source": [
    "### 32. Python input()"
   ]
  },
  {
   "cell_type": "markdown",
   "metadata": {},
   "source": [
    "The input() method reads a line from input, converts into a string and returns it."
   ]
  },
  {
   "cell_type": "markdown",
   "metadata": {},
   "source": [
    "The syntax of input() method is: input([prompt])"
   ]
  },
  {
   "cell_type": "markdown",
   "metadata": {},
   "source": [
    "**input() Parameters**\n",
    "\n",
    "The input() method takes a single optional argument:\n",
    "\n",
    "- prompt (Optional) - a string that is written to standard output (usually screen) without trailing newline"
   ]
  },
  {
   "cell_type": "markdown",
   "metadata": {},
   "source": [
    "**Return value from input()**\n",
    "\n",
    "The input() method reads a line from the input (usually from the user), converts the line into a string by removing the trailing newline, and returns it.\n",
    "\n",
    "If EOF is read, it raises an EOF Error exception."
   ]
  },
  {
   "cell_type": "code",
   "execution_count": 41,
   "metadata": {},
   "outputs": [
    {
     "name": "stdout",
     "output_type": "stream",
     "text": [
      "Python is interesting.\n",
      "The inputted string is: Python is interesting.\n"
     ]
    }
   ],
   "source": [
    "# Example 1: How input() works in Python?\n",
    "\n",
    "inputString = input()\n",
    "print('The inputted string is:', inputString)"
   ]
  },
  {
   "cell_type": "code",
   "execution_count": 42,
   "metadata": {},
   "outputs": [
    {
     "name": "stdout",
     "output_type": "stream",
     "text": [
      "Enter a string:Python is interesting.\n",
      "The inputted string is: Python is interesting.\n"
     ]
    }
   ],
   "source": [
    "# Example 2: Get input from user with a prompt\n",
    "\n",
    "inputString = input('Enter a string:')\n",
    "\n",
    "print('The inputted string is:', inputString)"
   ]
  },
  {
   "cell_type": "markdown",
   "metadata": {},
   "source": [
    "### 33. Python id()"
   ]
  },
  {
   "cell_type": "markdown",
   "metadata": {},
   "source": [
    "The id() function returns identity (unique integer) of an object."
   ]
  },
  {
   "cell_type": "markdown",
   "metadata": {},
   "source": [
    "The syntax of id() is: id(object)"
   ]
  },
  {
   "cell_type": "markdown",
   "metadata": {},
   "source": [
    "**id() Parameters**\n",
    "\n",
    "id() function takes a single parameter object."
   ]
  },
  {
   "cell_type": "markdown",
   "metadata": {},
   "source": [
    "**Return Value from id()**\n",
    "\n",
    "id() function returns the identity of the object.\n",
    "\n",
    "This is an integer that is unique for the given object and remains constant during its lifetime."
   ]
  },
  {
   "cell_type": "code",
   "execution_count": 43,
   "metadata": {},
   "outputs": [
    {
     "name": "stdout",
     "output_type": "stream",
     "text": [
      "id of dummyFoo = 1801281638472\n"
     ]
    }
   ],
   "source": [
    "# Example 1: How id() works?\n",
    "\n",
    "class Foo:\n",
    "    b = 5\n",
    "\n",
    "dummyFoo = Foo()\n",
    "print('id of dummyFoo =',id(dummyFoo))"
   ]
  },
  {
   "cell_type": "code",
   "execution_count": 44,
   "metadata": {},
   "outputs": [
    {
     "name": "stdout",
     "output_type": "stream",
     "text": [
      "id of 5 = 140727817642512\n"
     ]
    }
   ],
   "source": [
    "print('id of 5 =',id(5))"
   ]
  },
  {
   "cell_type": "code",
   "execution_count": 45,
   "metadata": {},
   "outputs": [
    {
     "name": "stdout",
     "output_type": "stream",
     "text": [
      "id of a = 140727817642512\n",
      "id of b = 140727817642512\n",
      "id of c = 1801280874736\n"
     ]
    }
   ],
   "source": [
    "a = 5\n",
    "print('id of a =',id(a))\n",
    "\n",
    "b = a\n",
    "print('id of b =',id(b))\n",
    "\n",
    "c = 5.0\n",
    "print('id of c =',id(c))"
   ]
  },
  {
   "cell_type": "markdown",
   "metadata": {},
   "source": [
    "It's important to note that everything in Python is an object, even numbers, and Classes.\n",
    "\n",
    "Hence, integer 5 has a unique id. The id of the integer 5 remains constant during the lifetime. \n",
    "\n",
    "Similar is the case for float 5.0 and other objects."
   ]
  },
  {
   "cell_type": "code",
   "execution_count": 46,
   "metadata": {},
   "outputs": [
    {
     "name": "stdout",
     "output_type": "stream",
     "text": [
      "id of c = 1801270729104\n"
     ]
    }
   ],
   "source": [
    "d = 5.01\n",
    "print('id of c =',id(d))"
   ]
  },
  {
   "cell_type": "markdown",
   "metadata": {},
   "source": [
    "### 34. Python isinstance()"
   ]
  },
  {
   "cell_type": "markdown",
   "metadata": {},
   "source": [
    "The isinstance() function checks if the object (first argument) is an instance or subclass of classinfo class (second argument)."
   ]
  },
  {
   "cell_type": "markdown",
   "metadata": {},
   "source": [
    "The syntax of isinstance() is: isinstance(object, classinfo)"
   ]
  },
  {
   "cell_type": "markdown",
   "metadata": {},
   "source": [
    "**isinstance() Parameters**\n",
    "\n",
    "isinstance() takes two parameters:\n",
    "\n",
    "- object - object to be checked\n",
    "\n",
    "- classinfo - class, type, or tuple of classes and types"
   ]
  },
  {
   "cell_type": "markdown",
   "metadata": {},
   "source": [
    "**Return Value from isinstance()**\n",
    "\n",
    "isinstance() returns:\n",
    "\n",
    "True if the object is an instance or subclass of a class or any element of the tuple\n",
    "\n",
    "False otherwise\n",
    "\n",
    "If classinfo is not a type or tuple of types, a TypeError exception is raised."
   ]
  },
  {
   "cell_type": "code",
   "execution_count": 48,
   "metadata": {},
   "outputs": [
    {
     "name": "stdout",
     "output_type": "stream",
     "text": [
      "True\n"
     ]
    }
   ],
   "source": [
    "# Example 1: How isinstance() works?\n",
    "\n",
    "class Foo:\n",
    "    a = 5\n",
    "  \n",
    "fooInstance = Foo()\n",
    "\n",
    "print(isinstance(fooInstance, Foo))"
   ]
  },
  {
   "cell_type": "code",
   "execution_count": 49,
   "metadata": {},
   "outputs": [
    {
     "name": "stdout",
     "output_type": "stream",
     "text": [
      "False\n"
     ]
    }
   ],
   "source": [
    "print(isinstance(fooInstance, (list, tuple)))"
   ]
  },
  {
   "cell_type": "code",
   "execution_count": 50,
   "metadata": {},
   "outputs": [
    {
     "name": "stdout",
     "output_type": "stream",
     "text": [
      "True\n"
     ]
    }
   ],
   "source": [
    "print(isinstance(fooInstance, (list, tuple, Foo))) "
   ]
  },
  {
   "cell_type": "code",
   "execution_count": 51,
   "metadata": {},
   "outputs": [
    {
     "name": "stdout",
     "output_type": "stream",
     "text": [
      "[1, 2, 3] instance of list? True\n"
     ]
    }
   ],
   "source": [
    "# Example 2: Working of isinstance() with Native Types\n",
    "\n",
    "numbers = [1, 2, 3]\n",
    "\n",
    "result = isinstance(numbers, list)\n",
    "print(numbers,'instance of list?', result)"
   ]
  },
  {
   "cell_type": "code",
   "execution_count": 52,
   "metadata": {},
   "outputs": [
    {
     "name": "stdout",
     "output_type": "stream",
     "text": [
      "[1, 2, 3] instance of dict? False\n"
     ]
    }
   ],
   "source": [
    "result = isinstance(numbers, dict)\n",
    "print(numbers,'instance of dict?', result)"
   ]
  },
  {
   "cell_type": "code",
   "execution_count": 53,
   "metadata": {},
   "outputs": [
    {
     "name": "stdout",
     "output_type": "stream",
     "text": [
      "[1, 2, 3] instance of dict or list? True\n"
     ]
    }
   ],
   "source": [
    "result = isinstance(numbers, (dict, list))\n",
    "print(numbers,'instance of dict or list?', result)"
   ]
  },
  {
   "cell_type": "code",
   "execution_count": 54,
   "metadata": {},
   "outputs": [
    {
     "name": "stdout",
     "output_type": "stream",
     "text": [
      "5 instance of list? False\n"
     ]
    }
   ],
   "source": [
    "number = 5\n",
    "\n",
    "result = isinstance(number, list)\n",
    "print(number,'instance of list?', result)"
   ]
  },
  {
   "cell_type": "code",
   "execution_count": 55,
   "metadata": {},
   "outputs": [
    {
     "name": "stdout",
     "output_type": "stream",
     "text": [
      "5 instance of int? True\n"
     ]
    }
   ],
   "source": [
    "result = isinstance(number, int)\n",
    "print(number,'instance of int?', result)"
   ]
  },
  {
   "cell_type": "markdown",
   "metadata": {},
   "source": [
    "### 35. Python int()"
   ]
  },
  {
   "cell_type": "markdown",
   "metadata": {},
   "source": [
    "The int() method returns an integer object from any number or string."
   ]
  },
  {
   "cell_type": "markdown",
   "metadata": {},
   "source": [
    "The syntax of int() method is: int(x=0, base=10)"
   ]
  },
  {
   "cell_type": "markdown",
   "metadata": {},
   "source": [
    "**int() Parameters**\n",
    "\n",
    "int() method takes two arguments:\n",
    "\n",
    "- x - Number or string to be converted to integer object.\n",
    "  The default argument is zero.\n",
    "\n",
    "- base - Base of the number in x.\n",
    "  Can be 0 (code literal) or 2-36."
   ]
  },
  {
   "cell_type": "markdown",
   "metadata": {},
   "source": [
    "**Return value from int()**\n",
    "\n",
    "int() method returns:\n",
    "\n",
    "- an integer object from the given number or string treats default base as 10\n",
    "\n",
    "- (No parameters) returns 0\n",
    "\n",
    "- (If base given) treats the string in the given base (0, 2, 8, 10, 16)"
   ]
  },
  {
   "cell_type": "code",
   "execution_count": 56,
   "metadata": {},
   "outputs": [
    {
     "name": "stdout",
     "output_type": "stream",
     "text": [
      "int(123) is: 123\n"
     ]
    }
   ],
   "source": [
    "# Example 1: How int() works in Python?\n",
    "\n",
    "# integer\n",
    "print(\"int(123) is:\", int(123))"
   ]
  },
  {
   "cell_type": "code",
   "execution_count": 57,
   "metadata": {},
   "outputs": [
    {
     "name": "stdout",
     "output_type": "stream",
     "text": [
      "int(123.23) is: 123\n"
     ]
    }
   ],
   "source": [
    "# float\n",
    "print(\"int(123.23) is:\", int(123.23))"
   ]
  },
  {
   "cell_type": "code",
   "execution_count": 58,
   "metadata": {},
   "outputs": [
    {
     "name": "stdout",
     "output_type": "stream",
     "text": [
      "int('123') is: 123\n"
     ]
    }
   ],
   "source": [
    "# string\n",
    "print(\"int('123') is:\", int('123'))"
   ]
  },
  {
   "cell_type": "code",
   "execution_count": 59,
   "metadata": {},
   "outputs": [
    {
     "name": "stdout",
     "output_type": "stream",
     "text": [
      "For 1010, int is: 10\n",
      "For 0b1010, int is: 10\n"
     ]
    }
   ],
   "source": [
    "# Example 2: How int() works for decimal, octal and hexadecimal?\n",
    "\n",
    "# binary 0b or 0B\n",
    "print(\"For 1010, int is:\", int('1010', 2))\n",
    "print(\"For 0b1010, int is:\", int('0b1010', 2))"
   ]
  },
  {
   "cell_type": "code",
   "execution_count": 60,
   "metadata": {},
   "outputs": [
    {
     "name": "stdout",
     "output_type": "stream",
     "text": [
      "For 12, int is: 10\n",
      "For 0o12, int is: 10\n"
     ]
    }
   ],
   "source": [
    "# octal 0o or 0O\n",
    "print(\"For 12, int is:\", int('12', 8))\n",
    "print(\"For 0o12, int is:\", int('0o12', 8))"
   ]
  },
  {
   "cell_type": "code",
   "execution_count": 61,
   "metadata": {},
   "outputs": [
    {
     "name": "stdout",
     "output_type": "stream",
     "text": [
      "For A, int is: 10\n",
      "For 0xA, int is: 10\n"
     ]
    }
   ],
   "source": [
    "# hexadecimal\n",
    "print(\"For A, int is:\", int('A', 16))\n",
    "print(\"For 0xA, int is:\", int('0xA', 16))"
   ]
  },
  {
   "cell_type": "code",
   "execution_count": 62,
   "metadata": {},
   "outputs": [
    {
     "name": "stdout",
     "output_type": "stream",
     "text": [
      "int(person) is: 23\n"
     ]
    }
   ],
   "source": [
    "# Example 3: int() for custom objects\n",
    "\n",
    "class Person:\n",
    "    age = 23\n",
    "\n",
    "    def __index__(self):\n",
    "        return self.age\n",
    "    \n",
    "    def __int__(self):\n",
    "        return self.age\n",
    "\n",
    "person = Person()\n",
    "print('int(person) is:', int(person))"
   ]
  },
  {
   "cell_type": "code",
   "execution_count": 63,
   "metadata": {},
   "outputs": [
    {
     "ename": "TypeError",
     "evalue": "int() argument must be a string, a bytes-like object or a number, not 'Person'",
     "output_type": "error",
     "traceback": [
      "\u001b[1;31m---------------------------------------------------------------------------\u001b[0m",
      "\u001b[1;31mTypeError\u001b[0m                                 Traceback (most recent call last)",
      "\u001b[1;32m<ipython-input-63-1cee9cb4e1a0>\u001b[0m in \u001b[0;36m<module>\u001b[1;34m\u001b[0m\n\u001b[0;32m      3\u001b[0m \u001b[1;33m\u001b[0m\u001b[0m\n\u001b[0;32m      4\u001b[0m \u001b[0mperson\u001b[0m \u001b[1;33m=\u001b[0m \u001b[0mPerson\u001b[0m\u001b[1;33m(\u001b[0m\u001b[1;33m)\u001b[0m\u001b[1;33m\u001b[0m\u001b[1;33m\u001b[0m\u001b[0m\n\u001b[1;32m----> 5\u001b[1;33m \u001b[0mprint\u001b[0m\u001b[1;33m(\u001b[0m\u001b[1;34m'int(person) is:'\u001b[0m\u001b[1;33m,\u001b[0m \u001b[0mint\u001b[0m\u001b[1;33m(\u001b[0m\u001b[0mperson\u001b[0m\u001b[1;33m)\u001b[0m\u001b[1;33m)\u001b[0m\u001b[1;33m\u001b[0m\u001b[1;33m\u001b[0m\u001b[0m\n\u001b[0m",
      "\u001b[1;31mTypeError\u001b[0m: int() argument must be a string, a bytes-like object or a number, not 'Person'"
     ]
    }
   ],
   "source": [
    "class Person:\n",
    "    age = 23\n",
    "\n",
    "person = Person()\n",
    "print('int(person) is:', int(person))"
   ]
  },
  {
   "cell_type": "code",
   "execution_count": 64,
   "metadata": {},
   "outputs": [
    {
     "ename": "TypeError",
     "evalue": "int() argument must be a string, a bytes-like object or a number, not 'Person'",
     "output_type": "error",
     "traceback": [
      "\u001b[1;31m---------------------------------------------------------------------------\u001b[0m",
      "\u001b[1;31mTypeError\u001b[0m                                 Traceback (most recent call last)",
      "\u001b[1;32m<ipython-input-64-8e49014233d3>\u001b[0m in \u001b[0;36m<module>\u001b[1;34m\u001b[0m\n\u001b[0;32m      6\u001b[0m \u001b[1;33m\u001b[0m\u001b[0m\n\u001b[0;32m      7\u001b[0m \u001b[0mperson\u001b[0m \u001b[1;33m=\u001b[0m \u001b[0mPerson\u001b[0m\u001b[1;33m(\u001b[0m\u001b[1;33m)\u001b[0m\u001b[1;33m\u001b[0m\u001b[1;33m\u001b[0m\u001b[0m\n\u001b[1;32m----> 8\u001b[1;33m \u001b[0mprint\u001b[0m\u001b[1;33m(\u001b[0m\u001b[1;34m'int(person) is:'\u001b[0m\u001b[1;33m,\u001b[0m \u001b[0mint\u001b[0m\u001b[1;33m(\u001b[0m\u001b[0mperson\u001b[0m\u001b[1;33m)\u001b[0m\u001b[1;33m)\u001b[0m\u001b[1;33m\u001b[0m\u001b[1;33m\u001b[0m\u001b[0m\n\u001b[0m",
      "\u001b[1;31mTypeError\u001b[0m: int() argument must be a string, a bytes-like object or a number, not 'Person'"
     ]
    }
   ],
   "source": [
    "class Person:\n",
    "    age = 23\n",
    "    \n",
    "    def __index__(self):\n",
    "        return self.age\n",
    "\n",
    "person = Person()\n",
    "print('int(person) is:', int(person))"
   ]
  },
  {
   "cell_type": "code",
   "execution_count": 65,
   "metadata": {},
   "outputs": [
    {
     "name": "stdout",
     "output_type": "stream",
     "text": [
      "int(person) is: 23\n"
     ]
    }
   ],
   "source": [
    "class Person:\n",
    "    age = 23\n",
    "    \n",
    "    def __int__(self):\n",
    "        return self.age\n",
    "\n",
    "person = Person()\n",
    "print('int(person) is:', int(person))"
   ]
  },
  {
   "cell_type": "markdown",
   "metadata": {},
   "source": [
    "### 36. Python issubclass()"
   ]
  },
  {
   "cell_type": "markdown",
   "metadata": {},
   "source": [
    "The issubclass() function checks if the class argument (first argument) is a subclass of classinfo class (second argument).\n"
   ]
  },
  {
   "cell_type": "markdown",
   "metadata": {},
   "source": [
    "The syntax of issubclass() is: issubclass(class, classinfo)"
   ]
  },
  {
   "cell_type": "markdown",
   "metadata": {},
   "source": [
    "**issubclass() Parameters**\n",
    "\n",
    "issubclass() takes two parameters:\n",
    "\n",
    "- class - class to be checked\n",
    "\n",
    "- classinfo - class, type, or tuple of classes and types"
   ]
  },
  {
   "cell_type": "markdown",
   "metadata": {},
   "source": [
    "**Return Value from issubclass()**\n",
    "\n",
    "issubclass() returns:\n",
    "\n",
    "- True if class is subclass of a class, or any element of the tuple\n",
    "\n",
    "- False otherwise"
   ]
  },
  {
   "cell_type": "code",
   "execution_count": 66,
   "metadata": {},
   "outputs": [
    {
     "name": "stdout",
     "output_type": "stream",
     "text": [
      "True\n"
     ]
    }
   ],
   "source": [
    "# Example: How issubclass() works?\n",
    "\n",
    "class Polygon:\n",
    "    def __init__(polygonType):\n",
    "        print('Polygon is a ', polygonType)\n",
    "\n",
    "class Triangle(Polygon):\n",
    "    def __init__(self):\n",
    "\n",
    "        Polygon.__init__('triangle')\n",
    "    \n",
    "print(issubclass(Triangle, Polygon))"
   ]
  },
  {
   "cell_type": "code",
   "execution_count": 72,
   "metadata": {},
   "outputs": [
    {
     "name": "stdout",
     "output_type": "stream",
     "text": [
      "False\n"
     ]
    }
   ],
   "source": [
    "print(issubclass(Polygon, Triangle))"
   ]
  },
  {
   "cell_type": "code",
   "execution_count": 67,
   "metadata": {},
   "outputs": [
    {
     "name": "stdout",
     "output_type": "stream",
     "text": [
      "False\n"
     ]
    }
   ],
   "source": [
    "print(issubclass(Triangle, list))"
   ]
  },
  {
   "cell_type": "code",
   "execution_count": 73,
   "metadata": {},
   "outputs": [
    {
     "name": "stdout",
     "output_type": "stream",
     "text": [
      "False\n"
     ]
    }
   ],
   "source": [
    "print(issubclass(Polygon, list))"
   ]
  },
  {
   "cell_type": "code",
   "execution_count": 68,
   "metadata": {},
   "outputs": [
    {
     "name": "stdout",
     "output_type": "stream",
     "text": [
      "True\n"
     ]
    }
   ],
   "source": [
    "print(issubclass(Triangle, (list, Polygon)))"
   ]
  },
  {
   "cell_type": "code",
   "execution_count": 69,
   "metadata": {},
   "outputs": [
    {
     "name": "stdout",
     "output_type": "stream",
     "text": [
      "True\n"
     ]
    }
   ],
   "source": [
    "print(issubclass(Polygon, (list, Polygon)))"
   ]
  },
  {
   "cell_type": "markdown",
   "metadata": {},
   "source": [
    "It's important to note that class is considered a subclass of itself."
   ]
  },
  {
   "cell_type": "code",
   "execution_count": 70,
   "metadata": {},
   "outputs": [
    {
     "name": "stdout",
     "output_type": "stream",
     "text": [
      "True\n"
     ]
    }
   ],
   "source": [
    "print(issubclass(Triangle, (list, Triangle)))"
   ]
  },
  {
   "cell_type": "code",
   "execution_count": 71,
   "metadata": {},
   "outputs": [
    {
     "name": "stdout",
     "output_type": "stream",
     "text": [
      "False\n"
     ]
    }
   ],
   "source": [
    "print(issubclass(Polygon, (list, Triangle)))"
   ]
  },
  {
   "cell_type": "markdown",
   "metadata": {},
   "source": [
    "### 37. Python iter()"
   ]
  },
  {
   "cell_type": "markdown",
   "metadata": {},
   "source": [
    "The Python iter() function returns an iterator for the given object."
   ]
  },
  {
   "cell_type": "markdown",
   "metadata": {},
   "source": [
    "The iter() function creates an object which can be iterated one element at a time.\n",
    "\n",
    "These objects are useful when coupled with loops like for loop, while loop."
   ]
  },
  {
   "cell_type": "markdown",
   "metadata": {},
   "source": [
    "The syntax of the iter() function is: iter(object, sentinel)"
   ]
  },
  {
   "cell_type": "markdown",
   "metadata": {},
   "source": [
    "**iter() Parameters**\n",
    "\n",
    "The iter() function takes two parameters:\n",
    "\n",
    "- object - object whose iterator has to be created (can be sets, tuples, etc.)\n",
    "\n",
    "- sentinel (optional) - special value that is used to represent the end of a sequence"
   ]
  },
  {
   "cell_type": "markdown",
   "metadata": {},
   "source": [
    "**Return value from iter()**\n",
    "\n",
    "The iter() function returns an iterator object for the given object.\n",
    "\n",
    "If the user-defined object doesn't implement __iter__(), and __next__() or __getitem()__, the TypeError exception is raised.\n",
    "\n",
    "If the sentinel parameter is also provided, iter() returns an iterator until the sentinel character isn't found."
   ]
  },
  {
   "cell_type": "code",
   "execution_count": 78,
   "metadata": {},
   "outputs": [
    {
     "name": "stdout",
     "output_type": "stream",
     "text": [
      "a\n",
      "e\n",
      "i\n",
      "o\n",
      "u\n"
     ]
    }
   ],
   "source": [
    "# Example 1: Working of Python iter()\n",
    "\n",
    "# list of vowels\n",
    "vowels = ['a', 'e', 'i', 'o', 'u']\n",
    "\n",
    "vowels_iter = iter(vowels)\n",
    "\n",
    "print(next(vowels_iter))  \n",
    "print(next(vowels_iter))\n",
    "print(next(vowels_iter))\n",
    "print(next(vowels_iter))\n",
    "print(next(vowels_iter))"
   ]
  },
  {
   "cell_type": "code",
   "execution_count": 79,
   "metadata": {},
   "outputs": [
    {
     "name": "stdout",
     "output_type": "stream",
     "text": [
      "1\n",
      "2\n",
      "3\n"
     ]
    },
    {
     "ename": "StopIteration",
     "evalue": "",
     "output_type": "error",
     "traceback": [
      "\u001b[1;31m---------------------------------------------------------------------------\u001b[0m",
      "\u001b[1;31mStopIteration\u001b[0m                             Traceback (most recent call last)",
      "\u001b[1;32m<ipython-input-79-8f3071e54df6>\u001b[0m in \u001b[0;36m<module>\u001b[1;34m\u001b[0m\n\u001b[0;32m     23\u001b[0m \u001b[1;33m\u001b[0m\u001b[0m\n\u001b[0;32m     24\u001b[0m \u001b[1;31m# raises StopIteration\u001b[0m\u001b[1;33m\u001b[0m\u001b[1;33m\u001b[0m\u001b[1;33m\u001b[0m\u001b[0m\n\u001b[1;32m---> 25\u001b[1;33m \u001b[0mprint\u001b[0m\u001b[1;33m(\u001b[0m\u001b[0mnext\u001b[0m\u001b[1;33m(\u001b[0m\u001b[0mprint_num_iter\u001b[0m\u001b[1;33m)\u001b[0m\u001b[1;33m)\u001b[0m\u001b[1;33m\u001b[0m\u001b[1;33m\u001b[0m\u001b[0m\n\u001b[0m",
      "\u001b[1;32m<ipython-input-79-8f3071e54df6>\u001b[0m in \u001b[0;36m__next__\u001b[1;34m(self)\u001b[0m\n\u001b[0;32m     11\u001b[0m     \u001b[1;32mdef\u001b[0m \u001b[0m__next__\u001b[0m\u001b[1;33m(\u001b[0m\u001b[0mself\u001b[0m\u001b[1;33m)\u001b[0m\u001b[1;33m:\u001b[0m\u001b[1;33m\u001b[0m\u001b[1;33m\u001b[0m\u001b[0m\n\u001b[0;32m     12\u001b[0m         \u001b[1;32mif\u001b[0m\u001b[1;33m(\u001b[0m\u001b[0mself\u001b[0m\u001b[1;33m.\u001b[0m\u001b[0mnum\u001b[0m \u001b[1;33m>=\u001b[0m \u001b[0mself\u001b[0m\u001b[1;33m.\u001b[0m\u001b[0mmax\u001b[0m\u001b[1;33m)\u001b[0m\u001b[1;33m:\u001b[0m\u001b[1;33m\u001b[0m\u001b[1;33m\u001b[0m\u001b[0m\n\u001b[1;32m---> 13\u001b[1;33m             \u001b[1;32mraise\u001b[0m \u001b[0mStopIteration\u001b[0m\u001b[1;33m\u001b[0m\u001b[1;33m\u001b[0m\u001b[0m\n\u001b[0m\u001b[0;32m     14\u001b[0m         \u001b[0mself\u001b[0m\u001b[1;33m.\u001b[0m\u001b[0mnum\u001b[0m \u001b[1;33m+=\u001b[0m \u001b[1;36m1\u001b[0m\u001b[1;33m\u001b[0m\u001b[1;33m\u001b[0m\u001b[0m\n\u001b[0;32m     15\u001b[0m         \u001b[1;32mreturn\u001b[0m \u001b[0mself\u001b[0m\u001b[1;33m.\u001b[0m\u001b[0mnum\u001b[0m\u001b[1;33m\u001b[0m\u001b[1;33m\u001b[0m\u001b[0m\n",
      "\u001b[1;31mStopIteration\u001b[0m: "
     ]
    }
   ],
   "source": [
    "# Example 2: iter() for custom objects\n",
    "\n",
    "class PrintNumber:\n",
    "    def __init__(self, max):\n",
    "        self.max = max\n",
    "\n",
    "    def __iter__(self):\n",
    "        self.num = 0\n",
    "        return self\n",
    "\n",
    "    def __next__(self):\n",
    "        if(self.num >= self.max):\n",
    "            raise StopIteration\n",
    "        self.num += 1\n",
    "        return self.num\n",
    "\n",
    "print_num = PrintNumber(3)\n",
    "\n",
    "print_num_iter = iter(print_num)\n",
    "print(next(print_num_iter))  # 1\n",
    "print(next(print_num_iter))  # 2\n",
    "print(next(print_num_iter))  # 3\n",
    "\n",
    "# raises StopIteration\n",
    "print(next(print_num_iter))"
   ]
  },
  {
   "cell_type": "markdown",
   "metadata": {},
   "source": [
    "### 38. Python list()"
   ]
  },
  {
   "cell_type": "markdown",
   "metadata": {},
   "source": [
    "The list() constructor returns a list in Python."
   ]
  },
  {
   "cell_type": "markdown",
   "metadata": {},
   "source": [
    "The syntax of list() is: list([iterable])"
   ]
  },
  {
   "cell_type": "markdown",
   "metadata": {},
   "source": [
    "**list() Parameters**\n",
    "\n",
    "The list() constructor takes a single argument:\n",
    "\n",
    "iterable (optional) - an object that could be a sequence (string, tuples) or collection (set, dictionary) or any iterator object"
   ]
  },
  {
   "cell_type": "markdown",
   "metadata": {},
   "source": [
    "**Return value from list()**\n",
    "\n",
    "The list() constructor returns a list.\n",
    "\n",
    "If no parameters are passed, it returns an empty list\n",
    "\n",
    "If iterable is passed as a parameter, it creates a list consisting of iterable's items."
   ]
  },
  {
   "cell_type": "code",
   "execution_count": 88,
   "metadata": {},
   "outputs": [
    {
     "name": "stdout",
     "output_type": "stream",
     "text": [
      "[]\n"
     ]
    }
   ],
   "source": [
    "# Example 1: Create lists from string, tuple, and list\n",
    "\n",
    "# empty list\n",
    "print(list())"
   ]
  },
  {
   "cell_type": "code",
   "execution_count": 92,
   "metadata": {},
   "outputs": [
    {
     "name": "stdout",
     "output_type": "stream",
     "text": [
      "['a', 'e', 'i', 'o', 'u']\n",
      "<class 'str'>\n"
     ]
    }
   ],
   "source": [
    "# vowel string\n",
    "vowel_string = 'aeiou'\n",
    "print(list(vowel_string))\n",
    "print(type(vowel_string))"
   ]
  },
  {
   "cell_type": "code",
   "execution_count": 93,
   "metadata": {},
   "outputs": [
    {
     "name": "stdout",
     "output_type": "stream",
     "text": [
      "['a', 'e', 'i', 'o', 'u']\n",
      "<class 'str'>\n"
     ]
    }
   ],
   "source": [
    "#vowel tuple\n",
    "vowel_tuple = ('a', 'e', 'i', 'o', 'u')\n",
    "print(list(vowel_tuple))\n",
    "print(type(vowel_string))"
   ]
  },
  {
   "cell_type": "code",
   "execution_count": 94,
   "metadata": {},
   "outputs": [
    {
     "name": "stdout",
     "output_type": "stream",
     "text": [
      "['a', 'e', 'i', 'o', 'u']\n",
      "<class 'str'>\n"
     ]
    }
   ],
   "source": [
    "# vowel list\n",
    "vowel_list = ['a', 'e', 'i', 'o', 'u']\n",
    "print(list(vowel_list))\n",
    "print(type(vowel_string))"
   ]
  },
  {
   "cell_type": "code",
   "execution_count": 95,
   "metadata": {},
   "outputs": [
    {
     "name": "stdout",
     "output_type": "stream",
     "text": [
      "['u', 'i', 'e', 'o', 'a']\n"
     ]
    }
   ],
   "source": [
    "# Example 2: Create lists from set and dictionary\n",
    "\n",
    "# vowel set\n",
    "vowel_set = {'a', 'e', 'i', 'o', 'u'}\n",
    "print(list(vowel_set))"
   ]
  },
  {
   "cell_type": "code",
   "execution_count": 96,
   "metadata": {},
   "outputs": [
    {
     "name": "stdout",
     "output_type": "stream",
     "text": [
      "['a', 'e', 'i', 'o', 'u']\n"
     ]
    }
   ],
   "source": [
    "# vowel dictionary\n",
    "vowel_dictionary = {'a': 1, 'e': 2, 'i': 3, 'o':4, 'u':5}\n",
    "print(list(vowel_dictionary))"
   ]
  },
  {
   "cell_type": "markdown",
   "metadata": {},
   "source": [
    "Note: In the case of dictionaries, the keys of the dictionary will be the items of the list. \n",
    "\n",
    "Also, the order of the elements will be random."
   ]
  },
  {
   "cell_type": "code",
   "execution_count": 98,
   "metadata": {},
   "outputs": [
    {
     "name": "stdout",
     "output_type": "stream",
     "text": [
      "[1, 2, 4, 8, 16, 32]\n"
     ]
    }
   ],
   "source": [
    "# Example 3: Create a list from an iterator object\n",
    "\n",
    "# objects of this class are iterators\n",
    "\n",
    "class PowTwo:\n",
    "    def __init__(self, max):\n",
    "        self.max = max\n",
    "    \n",
    "    def __iter__(self):\n",
    "        self.num = 0\n",
    "        return self\n",
    "    \n",
    "    def __next__(self):\n",
    "        if(self.num >= self.max):\n",
    "            raise StopIteration\n",
    "        result = 2 ** self.num\n",
    "        self.num += 1\n",
    "        return result\n",
    "    \n",
    "pow_two = PowTwo(6)\n",
    "pow_two_iter = iter(pow_two)\n",
    "\n",
    "print(list(pow_two_iter))"
   ]
  },
  {
   "cell_type": "markdown",
   "metadata": {},
   "source": [
    "### 39. Python locals()"
   ]
  },
  {
   "cell_type": "markdown",
   "metadata": {},
   "source": [
    "The locals() method updates and returns a dictionary of the current local symbol table."
   ]
  },
  {
   "cell_type": "markdown",
   "metadata": {},
   "source": [
    "A symbol table is a data structure maintained by a compiler which contains all necessary information about the program.\n",
    "\n",
    "These include variable names, methods, classes, etc.\n",
    "\n",
    "There are mainly two kinds of symbol table.\n",
    "\n",
    "- Global symbol table\n",
    "- Local symbol table"
   ]
  },
  {
   "cell_type": "markdown",
   "metadata": {},
   "source": [
    "A Global symbol table stores all information related to the global scope of the program, and is accessed in Python using globals() method.\n",
    "\n",
    "The global scope contains all functions, variables which are not associated with any class or function.\n",
    "\n",
    "Likewise, Local symbol table stores all information related to the local scope of the program, and is accessed in Python using locals() method."
   ]
  },
  {
   "cell_type": "markdown",
   "metadata": {},
   "source": [
    "The local scope could be within a function, within a class, etc."
   ]
  },
  {
   "cell_type": "markdown",
   "metadata": {},
   "source": [
    "Syntax of locals()\n",
    "The syntax of locals() method is: locals()"
   ]
  },
  {
   "cell_type": "markdown",
   "metadata": {},
   "source": [
    "**locals() Parameters**\n",
    "\n",
    "locals() method doesn't take any parameters."
   ]
  },
  {
   "cell_type": "markdown",
   "metadata": {},
   "source": [
    "**Return value from locals()**\n",
    "\n",
    "locals() method updates and returns the dictionary associated with the current local symbol table."
   ]
  },
  {
   "cell_type": "code",
   "execution_count": 99,
   "metadata": {},
   "outputs": [
    {
     "data": {
      "text/plain": [
       "{'__name__': '__main__',\n",
       " '__doc__': 'Automatically created module for IPython interactive environment',\n",
       " '__package__': None,\n",
       " '__loader__': None,\n",
       " '__spec__': None,\n",
       " '__builtin__': <module 'builtins' (built-in)>,\n",
       " '__builtins__': <module 'builtins' (built-in)>,\n",
       " '_ih': ['',\n",
       "  \"**globals() Parameters**\\n\\nglobals() method doesn't take any parameters.\",\n",
       "  '# Example 1: How globals() method works in Python?\\n\\nglobals()',\n",
       "  \"# Example 2: Modify global variable using global()\\n\\nage = 23\\n\\nglobals()['age'] = 25\\n\\nprint('The age is:', age)\",\n",
       "  '# Example 1: How exec() works?\\n\\nprogram = \\'a = 5\\\\nb=10\\\\nprint(\"Sum =\", a+b)\\'\\n\\nexec(program)',\n",
       "  \"# Example 2: Allow user to provide input\\n\\nprogram = input('Enter a program:')\\nexec(program)\",\n",
       "  \"# Example 2: Allow user to provide input\\n\\nprogram = input('Enter a program:')\\nexec(program)\",\n",
       "  \"# Example 2: Allow user to provide input\\n\\nprogram = input('Enter a program:')\\nexec(program)\",\n",
       "  \"exec('print(dir())')\",\n",
       "  \"from math import *\\nexec('print(dir())', {'sqrt': sqrt, 'pow': pow})\",\n",
       "  \"# object can have sqrt() module\\nexec('print(sqrt(9))', {'sqrt': sqrt, 'pow': pow})\",\n",
       "  \"# Example: How hasattr() works in Python?\\n\\nclass Person:\\n    age = 23\\n    name = 'Adam'\\n\\nperson = Person()\\n\\nprint('Person has age?:', hasattr(person, 'age'))\\nprint('Person has salary?:', hasattr(person, 'salary'))\",\n",
       "  'help(list)',\n",
       "  'help(dict)',\n",
       "  'help(print)',\n",
       "  'help([1,2,3])',\n",
       "  \"help('random thing')\",\n",
       "  \"help('print')\",\n",
       "  \"help('def')\",\n",
       "  \"from math import * \\n    help('math.pow')\",\n",
       "  \"from math import * \\n\\nhelp('math.pow')\",\n",
       "  '2**2',\n",
       "  '2**3',\n",
       "  '2**4',\n",
       "  'help()',\n",
       "  'help > quit',\n",
       "  'The syntax of hex() is: hex(x)',\n",
       "  \"# Example 1: How hex() works?\\n\\nnumber = 435\\nprint(number, 'in hex =', hex(number))\",\n",
       "  \"number = 0\\nprint(number, 'in hex =', hex(number))\",\n",
       "  \"number = -34\\nprint(number, 'in hex =', hex(number))\",\n",
       "  \"returnType = type(hex(number))\\nprint('Return type from hex() is', returnType)\",\n",
       "  \"# Example 2: Hexadecimal representation of a float\\n\\nnumber = 2.5\\nprint(number, 'in hex =', float.hex(number))\",\n",
       "  \"number = 0.0\\nprint(number, 'in hex =', float.hex(number))\\n\\nnumber = 10.5\\nprint(number, 'in hex =', float.hex(number))\",\n",
       "  '**hash() Parameters**\\n\\nhash() method takes a single parameter:\\n\\n- object - the object whose hash value is to be returned (integer, string, float)',\n",
       "  \"# Example 1: How hash() works in Python?\\n\\n# hash for integer unchanged\\nprint('Hash for 181 is:', hash(181))\",\n",
       "  \"# hash for decimal\\nprint('Hash for 181.23 is:',hash(181.23))\",\n",
       "  \"# hash for string\\nprint('Hash for Python is:', hash('Python'))\",\n",
       "  \"# Example 2: hash() for immutable tuple object?\\n\\nhash() method only works for immutable objects as tuple.\\n\\n# tuple of vowels\\nvowels = ('a', 'e', 'i', 'o', 'u')\\n\\nprint('The hash is:', hash(vowels))\",\n",
       "  \"# Example 2: hash() for immutable tuple object?\\n\\n# hash() method only works for immutable objects as tuple.\\n\\n# tuple of vowels\\nvowels = ('a', 'e', 'i', 'o', 'u')\\n\\nprint('The hash is:', hash(vowels))\",\n",
       "  \"class Person:\\n    def __init__(self, age, name):\\n        self.age = age\\n        self.name = name\\n\\n    def __eq__(self, other):\\n        return self.age == other.age and self.name == other.name\\n\\n    def __hash__(self):\\n        print('The hash is:')\\n        return hash((self.age, self.name))\\n\\nperson = Person(23, 'Adam')\\nprint(hash(person))\",\n",
       "  'The syntax of input() method is: input([prompt])',\n",
       "  \"# Example 1: How input() works in Python?\\n\\ninputString = input()\\nprint('The inputted string is:', inputString)\",\n",
       "  \"# Example 2: Get input from user with a prompt\\n\\ninputString = input('Enter a string:')\\n\\nprint('The inputted string is:', inputString)\",\n",
       "  \"# Example 1: How id() works?\\n\\nclass Foo:\\n    b = 5\\n\\ndummyFoo = Foo()\\nprint('id of dummyFoo =',id(dummyFoo))\",\n",
       "  \"print('id of 5 =',id(5))\",\n",
       "  \"a = 5\\nprint('id of a =',id(a))\\n\\nb = a\\nprint('id of b =',id(b))\\n\\nc = 5.0\\nprint('id of c =',id(c))\",\n",
       "  \"d = 5.01\\nprint('id of c =',id(d))\",\n",
       "  'The syntax of isinstance() is: isinstance(object, classinfo)',\n",
       "  '# Example 1: How isinstance() works?\\n\\nclass Foo:\\n    a = 5\\n  \\nfooInstance = Foo()\\n\\nprint(isinstance(fooInstance, Foo))',\n",
       "  'print(isinstance(fooInstance, (list, tuple)))',\n",
       "  'print(isinstance(fooInstance, (list, tuple, Foo))) ',\n",
       "  \"# Example 2: Working of isinstance() with Native Types\\n\\nnumbers = [1, 2, 3]\\n\\nresult = isinstance(numbers, list)\\nprint(numbers,'instance of list?', result)\",\n",
       "  \"result = isinstance(numbers, dict)\\nprint(numbers,'instance of dict?', result)\",\n",
       "  \"result = isinstance(numbers, (dict, list))\\nprint(numbers,'instance of dict or list?', result)\",\n",
       "  \"number = 5\\n\\nresult = isinstance(number, list)\\nprint(number,'instance of list?', result)\",\n",
       "  \"result = isinstance(number, int)\\nprint(number,'instance of int?', result)\",\n",
       "  '# Example 1: How int() works in Python?\\n\\n# integer\\nprint(\"int(123) is:\", int(123))',\n",
       "  '# float\\nprint(\"int(123.23) is:\", int(123.23))',\n",
       "  '# string\\nprint(\"int(\\'123\\') is:\", int(\\'123\\'))',\n",
       "  '# Example 2: How int() works for decimal, octal and hexadecimal?\\n\\n# binary 0b or 0B\\nprint(\"For 1010, int is:\", int(\\'1010\\', 2))\\nprint(\"For 0b1010, int is:\", int(\\'0b1010\\', 2))',\n",
       "  '# octal 0o or 0O\\nprint(\"For 12, int is:\", int(\\'12\\', 8))\\nprint(\"For 0o12, int is:\", int(\\'0o12\\', 8))',\n",
       "  '# hexadecimal\\nprint(\"For A, int is:\", int(\\'A\\', 16))\\nprint(\"For 0xA, int is:\", int(\\'0xA\\', 16))',\n",
       "  \"# Example 3: int() for custom objects\\n\\nclass Person:\\n    age = 23\\n\\n    def __index__(self):\\n        return self.age\\n    \\n    def __int__(self):\\n        return self.age\\n\\nperson = Person()\\nprint('int(person) is:', int(person))\",\n",
       "  \"class Person:\\n    age = 23\\n\\nperson = Person()\\nprint('int(person) is:', int(person))\",\n",
       "  \"class Person:\\n    age = 23\\n    \\n    def __index__(self):\\n        return self.age\\n\\nperson = Person()\\nprint('int(person) is:', int(person))\",\n",
       "  \"class Person:\\n    age = 23\\n    \\n    def __int__(self):\\n        return self.age\\n\\nperson = Person()\\nprint('int(person) is:', int(person))\",\n",
       "  \"# Example: How issubclass() works?\\n\\nclass Polygon:\\n    def __init__(polygonType):\\n        print('Polygon is a ', polygonType)\\n\\nclass Triangle(Polygon):\\n    def __init__(self):\\n\\n        Polygon.__init__('triangle')\\n    \\nprint(issubclass(Triangle, Polygon))\",\n",
       "  'print(issubclass(Triangle, list))',\n",
       "  'print(issubclass(Triangle, (list, Polygon)))',\n",
       "  'print(issubclass(Polygon, (list, Polygon)))',\n",
       "  'print(issubclass(Triangle, (list, Triangle)))',\n",
       "  'print(issubclass(Polygon, (list, Triangle)))',\n",
       "  'print(issubclass(Polygon, Triangle))',\n",
       "  'print(issubclass(Polygon, list))',\n",
       "  \"# Example 1: Working of Python iter()\\n\\n# list of vowels\\nvowels = ['a', 'e', 'i', 'o', 'u']\\n\\nvowels_iter = iter(vowels)\\n\\nprint(next(vowels_iter))    \",\n",
       "  \"# Example 1: Working of Python iter()\\n\\n# list of vowels\\nvowels = ['a', 'e', 'i', 'o', 'u']\\n\\nvowels_iter = iter(vowels)\\n\\nprint(next(vowels_iter))  \\nprint(next(vowels_iter))\",\n",
       "  \"# Example 1: Working of Python iter()\\n\\n# list of vowels\\nvowels = ['a', 'e', 'i', 'o', 'u']\\n\\nvowels_iter = iter(vowels)\\n\\nprint(next(vowels_iter))  \\nprint(next(vowels_iter))\\nprint(next(vowels_iter))\",\n",
       "  \"# Example 1: Working of Python iter()\\n\\n# list of vowels\\nvowels = ['a', 'e', 'i', 'o', 'u']\\n\\nvowels_iter = iter(vowels)\\n\\nprint(next(vowels_iter))  \\nprint(next(vowels_iter))\\nprint(next(vowels_iter))\\nprint(next(vowels_iter))\",\n",
       "  \"# Example 1: Working of Python iter()\\n\\n# list of vowels\\nvowels = ['a', 'e', 'i', 'o', 'u']\\n\\nvowels_iter = iter(vowels)\\n\\nprint(next(vowels_iter))  \\nprint(next(vowels_iter))\\nprint(next(vowels_iter))\\nprint(next(vowels_iter))\\nprint(next(vowels_iter))\",\n",
       "  '# Example 2: iter() for custom objects\\n\\nclass PrintNumber:\\n    def __init__(self, max):\\n        self.max = max\\n\\n    def __iter__(self):\\n        self.num = 0\\n        return self\\n\\n    def __next__(self):\\n        if(self.num >= self.max):\\n            raise StopIteration\\n        self.num += 1\\n        return self.num\\n\\nprint_num = PrintNumber(3)\\n\\nprint_num_iter = iter(print_num)\\nprint(next(print_num_iter))  # 1\\nprint(next(print_num_iter))  # 2\\nprint(next(print_num_iter))  # 3\\n\\n# raises StopIteration\\nprint(next(print_num_iter))',\n",
       "  \"# Example 3: iter() with sentinel parameter\\n\\nwith open('mydata.txt') as fp:\\n    for line in iter(fp.readline, ''):\\n        processLine(line)\",\n",
       "  \"# Example 3: iter() with sentinel parameter\\n\\nwith open('mydata.txt') as fp:\\n    for line in iter(fp.readline, ''):\\n        processLine(line)\",\n",
       "  \"# Example 3: iter() with sentinel parameter\\n\\nwith open('mydata.txt') as fp:\\n    for line in iter(fp.readline, ''):\\n        processline(line)\",\n",
       "  \"# Example 3: iter() with sentinel parameter\\n\\nwith open('mydata.txt') as fp:\\n    for line in iter(fp.readline, ''):\\n        processLine(line)\",\n",
       "  \"# Example 3: iter() with sentinel parameter\\n\\nwith open('mydata.txt') as fp:\\n    for line in iter(fp.readline, ''):\",\n",
       "  \"# Example 3: iter() with sentinel parameter\\n\\nwith open('mydata.txt') as fp:\\n    for line in iter(fp.readline, '')\",\n",
       "  \"# Example 3: iter() with sentinel parameter\\n\\nwith open('mydata.txt') as fp:\\n    for line in iter(fp.readline, ''):\\n        readline(line)\",\n",
       "  \"# Example 3: iter() with sentinel parameter\\n\\nwith open('mydata.txt') as fp:\\n    for line in iter(fp.readline, ''):\\n        fp.readline(line)\",\n",
       "  '# Example 1: Create lists from string, tuple, and list\\n\\n# empty list\\nprint(list())',\n",
       "  \"# vowel string\\nvowel_string = 'aeiou'\\nprint(list(vowel_string))\",\n",
       "  \"#vowel tuple\\nvowel_tuple = ('a', 'e', 'i', 'o', 'u')\\nprint(list(vowel_tuple))\",\n",
       "  \"# vowel list\\nvowel_list = ['a', 'e', 'i', 'o', 'u']\\nprint(list(vowel_list))\",\n",
       "  \"# vowel string\\nvowel_string = 'aeiou'\\nprint(list(vowel_string))\\nprint(type(vowel_string))\",\n",
       "  \"#vowel tuple\\nvowel_tuple = ('a', 'e', 'i', 'o', 'u')\\nprint(list(vowel_tuple))\\nprint(type(vowel_string))\",\n",
       "  \"# vowel list\\nvowel_list = ['a', 'e', 'i', 'o', 'u']\\nprint(list(vowel_list))\\nprint(type(vowel_string))\",\n",
       "  \"# Example 2: Create lists from set and dictionary\\n\\n# vowel set\\nvowel_set = {'a', 'e', 'i', 'o', 'u'}\\nprint(list(vowel_set))\",\n",
       "  \"# vowel dictionary\\nvowel_dictionary = {'a': 1, 'e': 2, 'i': 3, 'o':4, 'u':5}\\nprint(list(vowel_dictionary))\",\n",
       "  '# Example 3: Create a list from an iterator object\\n\\n# objects of this class are iterators\\nclass PowTwo:\\n    def __init__(self, max):\\n        self.max = max\\n    \\n    def __iter__(self):\\n        self.num = 0\\n        return self\\n    \\n    def __next__(self):\\n        if(self.num >= self.max):\\n            raise StopIteration\\n        result = 2 ** self.num\\n        self.num += 1\\n        return result\\n    \\npow_two = PowTwo(5)\\npow_two_iter = iter(pow_two)\\n\\nprint(list(pow_two_iter))',\n",
       "  '# Example 3: Create a list from an iterator object\\n\\n# objects of this class are iterators\\n\\nclass PowTwo:\\n    def __init__(self, max):\\n        self.max = max\\n    \\n    def __iter__(self):\\n        self.num = 0\\n        return self\\n    \\n    def __next__(self):\\n        if(self.num >= self.max):\\n            raise StopIteration\\n        result = 2 ** self.num\\n        self.num += 1\\n        return result\\n    \\npow_two = PowTwo(6)\\npow_two_iter = iter(pow_two)\\n\\nprint(list(pow_two_iter))',\n",
       "  '# Example 1: How locals() works in Python?\\n\\nlocals()'],\n",
       " '_oh': {2: {...}, 21: 4, 22: 8, 23: 16},\n",
       " '_dh': ['C:\\\\Users\\\\siddhi Golatkar\\\\Desktop\\\\Python'],\n",
       " 'In': ['',\n",
       "  \"**globals() Parameters**\\n\\nglobals() method doesn't take any parameters.\",\n",
       "  '# Example 1: How globals() method works in Python?\\n\\nglobals()',\n",
       "  \"# Example 2: Modify global variable using global()\\n\\nage = 23\\n\\nglobals()['age'] = 25\\n\\nprint('The age is:', age)\",\n",
       "  '# Example 1: How exec() works?\\n\\nprogram = \\'a = 5\\\\nb=10\\\\nprint(\"Sum =\", a+b)\\'\\n\\nexec(program)',\n",
       "  \"# Example 2: Allow user to provide input\\n\\nprogram = input('Enter a program:')\\nexec(program)\",\n",
       "  \"# Example 2: Allow user to provide input\\n\\nprogram = input('Enter a program:')\\nexec(program)\",\n",
       "  \"# Example 2: Allow user to provide input\\n\\nprogram = input('Enter a program:')\\nexec(program)\",\n",
       "  \"exec('print(dir())')\",\n",
       "  \"from math import *\\nexec('print(dir())', {'sqrt': sqrt, 'pow': pow})\",\n",
       "  \"# object can have sqrt() module\\nexec('print(sqrt(9))', {'sqrt': sqrt, 'pow': pow})\",\n",
       "  \"# Example: How hasattr() works in Python?\\n\\nclass Person:\\n    age = 23\\n    name = 'Adam'\\n\\nperson = Person()\\n\\nprint('Person has age?:', hasattr(person, 'age'))\\nprint('Person has salary?:', hasattr(person, 'salary'))\",\n",
       "  'help(list)',\n",
       "  'help(dict)',\n",
       "  'help(print)',\n",
       "  'help([1,2,3])',\n",
       "  \"help('random thing')\",\n",
       "  \"help('print')\",\n",
       "  \"help('def')\",\n",
       "  \"from math import * \\n    help('math.pow')\",\n",
       "  \"from math import * \\n\\nhelp('math.pow')\",\n",
       "  '2**2',\n",
       "  '2**3',\n",
       "  '2**4',\n",
       "  'help()',\n",
       "  'help > quit',\n",
       "  'The syntax of hex() is: hex(x)',\n",
       "  \"# Example 1: How hex() works?\\n\\nnumber = 435\\nprint(number, 'in hex =', hex(number))\",\n",
       "  \"number = 0\\nprint(number, 'in hex =', hex(number))\",\n",
       "  \"number = -34\\nprint(number, 'in hex =', hex(number))\",\n",
       "  \"returnType = type(hex(number))\\nprint('Return type from hex() is', returnType)\",\n",
       "  \"# Example 2: Hexadecimal representation of a float\\n\\nnumber = 2.5\\nprint(number, 'in hex =', float.hex(number))\",\n",
       "  \"number = 0.0\\nprint(number, 'in hex =', float.hex(number))\\n\\nnumber = 10.5\\nprint(number, 'in hex =', float.hex(number))\",\n",
       "  '**hash() Parameters**\\n\\nhash() method takes a single parameter:\\n\\n- object - the object whose hash value is to be returned (integer, string, float)',\n",
       "  \"# Example 1: How hash() works in Python?\\n\\n# hash for integer unchanged\\nprint('Hash for 181 is:', hash(181))\",\n",
       "  \"# hash for decimal\\nprint('Hash for 181.23 is:',hash(181.23))\",\n",
       "  \"# hash for string\\nprint('Hash for Python is:', hash('Python'))\",\n",
       "  \"# Example 2: hash() for immutable tuple object?\\n\\nhash() method only works for immutable objects as tuple.\\n\\n# tuple of vowels\\nvowels = ('a', 'e', 'i', 'o', 'u')\\n\\nprint('The hash is:', hash(vowels))\",\n",
       "  \"# Example 2: hash() for immutable tuple object?\\n\\n# hash() method only works for immutable objects as tuple.\\n\\n# tuple of vowels\\nvowels = ('a', 'e', 'i', 'o', 'u')\\n\\nprint('The hash is:', hash(vowels))\",\n",
       "  \"class Person:\\n    def __init__(self, age, name):\\n        self.age = age\\n        self.name = name\\n\\n    def __eq__(self, other):\\n        return self.age == other.age and self.name == other.name\\n\\n    def __hash__(self):\\n        print('The hash is:')\\n        return hash((self.age, self.name))\\n\\nperson = Person(23, 'Adam')\\nprint(hash(person))\",\n",
       "  'The syntax of input() method is: input([prompt])',\n",
       "  \"# Example 1: How input() works in Python?\\n\\ninputString = input()\\nprint('The inputted string is:', inputString)\",\n",
       "  \"# Example 2: Get input from user with a prompt\\n\\ninputString = input('Enter a string:')\\n\\nprint('The inputted string is:', inputString)\",\n",
       "  \"# Example 1: How id() works?\\n\\nclass Foo:\\n    b = 5\\n\\ndummyFoo = Foo()\\nprint('id of dummyFoo =',id(dummyFoo))\",\n",
       "  \"print('id of 5 =',id(5))\",\n",
       "  \"a = 5\\nprint('id of a =',id(a))\\n\\nb = a\\nprint('id of b =',id(b))\\n\\nc = 5.0\\nprint('id of c =',id(c))\",\n",
       "  \"d = 5.01\\nprint('id of c =',id(d))\",\n",
       "  'The syntax of isinstance() is: isinstance(object, classinfo)',\n",
       "  '# Example 1: How isinstance() works?\\n\\nclass Foo:\\n    a = 5\\n  \\nfooInstance = Foo()\\n\\nprint(isinstance(fooInstance, Foo))',\n",
       "  'print(isinstance(fooInstance, (list, tuple)))',\n",
       "  'print(isinstance(fooInstance, (list, tuple, Foo))) ',\n",
       "  \"# Example 2: Working of isinstance() with Native Types\\n\\nnumbers = [1, 2, 3]\\n\\nresult = isinstance(numbers, list)\\nprint(numbers,'instance of list?', result)\",\n",
       "  \"result = isinstance(numbers, dict)\\nprint(numbers,'instance of dict?', result)\",\n",
       "  \"result = isinstance(numbers, (dict, list))\\nprint(numbers,'instance of dict or list?', result)\",\n",
       "  \"number = 5\\n\\nresult = isinstance(number, list)\\nprint(number,'instance of list?', result)\",\n",
       "  \"result = isinstance(number, int)\\nprint(number,'instance of int?', result)\",\n",
       "  '# Example 1: How int() works in Python?\\n\\n# integer\\nprint(\"int(123) is:\", int(123))',\n",
       "  '# float\\nprint(\"int(123.23) is:\", int(123.23))',\n",
       "  '# string\\nprint(\"int(\\'123\\') is:\", int(\\'123\\'))',\n",
       "  '# Example 2: How int() works for decimal, octal and hexadecimal?\\n\\n# binary 0b or 0B\\nprint(\"For 1010, int is:\", int(\\'1010\\', 2))\\nprint(\"For 0b1010, int is:\", int(\\'0b1010\\', 2))',\n",
       "  '# octal 0o or 0O\\nprint(\"For 12, int is:\", int(\\'12\\', 8))\\nprint(\"For 0o12, int is:\", int(\\'0o12\\', 8))',\n",
       "  '# hexadecimal\\nprint(\"For A, int is:\", int(\\'A\\', 16))\\nprint(\"For 0xA, int is:\", int(\\'0xA\\', 16))',\n",
       "  \"# Example 3: int() for custom objects\\n\\nclass Person:\\n    age = 23\\n\\n    def __index__(self):\\n        return self.age\\n    \\n    def __int__(self):\\n        return self.age\\n\\nperson = Person()\\nprint('int(person) is:', int(person))\",\n",
       "  \"class Person:\\n    age = 23\\n\\nperson = Person()\\nprint('int(person) is:', int(person))\",\n",
       "  \"class Person:\\n    age = 23\\n    \\n    def __index__(self):\\n        return self.age\\n\\nperson = Person()\\nprint('int(person) is:', int(person))\",\n",
       "  \"class Person:\\n    age = 23\\n    \\n    def __int__(self):\\n        return self.age\\n\\nperson = Person()\\nprint('int(person) is:', int(person))\",\n",
       "  \"# Example: How issubclass() works?\\n\\nclass Polygon:\\n    def __init__(polygonType):\\n        print('Polygon is a ', polygonType)\\n\\nclass Triangle(Polygon):\\n    def __init__(self):\\n\\n        Polygon.__init__('triangle')\\n    \\nprint(issubclass(Triangle, Polygon))\",\n",
       "  'print(issubclass(Triangle, list))',\n",
       "  'print(issubclass(Triangle, (list, Polygon)))',\n",
       "  'print(issubclass(Polygon, (list, Polygon)))',\n",
       "  'print(issubclass(Triangle, (list, Triangle)))',\n",
       "  'print(issubclass(Polygon, (list, Triangle)))',\n",
       "  'print(issubclass(Polygon, Triangle))',\n",
       "  'print(issubclass(Polygon, list))',\n",
       "  \"# Example 1: Working of Python iter()\\n\\n# list of vowels\\nvowels = ['a', 'e', 'i', 'o', 'u']\\n\\nvowels_iter = iter(vowels)\\n\\nprint(next(vowels_iter))    \",\n",
       "  \"# Example 1: Working of Python iter()\\n\\n# list of vowels\\nvowels = ['a', 'e', 'i', 'o', 'u']\\n\\nvowels_iter = iter(vowels)\\n\\nprint(next(vowels_iter))  \\nprint(next(vowels_iter))\",\n",
       "  \"# Example 1: Working of Python iter()\\n\\n# list of vowels\\nvowels = ['a', 'e', 'i', 'o', 'u']\\n\\nvowels_iter = iter(vowels)\\n\\nprint(next(vowels_iter))  \\nprint(next(vowels_iter))\\nprint(next(vowels_iter))\",\n",
       "  \"# Example 1: Working of Python iter()\\n\\n# list of vowels\\nvowels = ['a', 'e', 'i', 'o', 'u']\\n\\nvowels_iter = iter(vowels)\\n\\nprint(next(vowels_iter))  \\nprint(next(vowels_iter))\\nprint(next(vowels_iter))\\nprint(next(vowels_iter))\",\n",
       "  \"# Example 1: Working of Python iter()\\n\\n# list of vowels\\nvowels = ['a', 'e', 'i', 'o', 'u']\\n\\nvowels_iter = iter(vowels)\\n\\nprint(next(vowels_iter))  \\nprint(next(vowels_iter))\\nprint(next(vowels_iter))\\nprint(next(vowels_iter))\\nprint(next(vowels_iter))\",\n",
       "  '# Example 2: iter() for custom objects\\n\\nclass PrintNumber:\\n    def __init__(self, max):\\n        self.max = max\\n\\n    def __iter__(self):\\n        self.num = 0\\n        return self\\n\\n    def __next__(self):\\n        if(self.num >= self.max):\\n            raise StopIteration\\n        self.num += 1\\n        return self.num\\n\\nprint_num = PrintNumber(3)\\n\\nprint_num_iter = iter(print_num)\\nprint(next(print_num_iter))  # 1\\nprint(next(print_num_iter))  # 2\\nprint(next(print_num_iter))  # 3\\n\\n# raises StopIteration\\nprint(next(print_num_iter))',\n",
       "  \"# Example 3: iter() with sentinel parameter\\n\\nwith open('mydata.txt') as fp:\\n    for line in iter(fp.readline, ''):\\n        processLine(line)\",\n",
       "  \"# Example 3: iter() with sentinel parameter\\n\\nwith open('mydata.txt') as fp:\\n    for line in iter(fp.readline, ''):\\n        processLine(line)\",\n",
       "  \"# Example 3: iter() with sentinel parameter\\n\\nwith open('mydata.txt') as fp:\\n    for line in iter(fp.readline, ''):\\n        processline(line)\",\n",
       "  \"# Example 3: iter() with sentinel parameter\\n\\nwith open('mydata.txt') as fp:\\n    for line in iter(fp.readline, ''):\\n        processLine(line)\",\n",
       "  \"# Example 3: iter() with sentinel parameter\\n\\nwith open('mydata.txt') as fp:\\n    for line in iter(fp.readline, ''):\",\n",
       "  \"# Example 3: iter() with sentinel parameter\\n\\nwith open('mydata.txt') as fp:\\n    for line in iter(fp.readline, '')\",\n",
       "  \"# Example 3: iter() with sentinel parameter\\n\\nwith open('mydata.txt') as fp:\\n    for line in iter(fp.readline, ''):\\n        readline(line)\",\n",
       "  \"# Example 3: iter() with sentinel parameter\\n\\nwith open('mydata.txt') as fp:\\n    for line in iter(fp.readline, ''):\\n        fp.readline(line)\",\n",
       "  '# Example 1: Create lists from string, tuple, and list\\n\\n# empty list\\nprint(list())',\n",
       "  \"# vowel string\\nvowel_string = 'aeiou'\\nprint(list(vowel_string))\",\n",
       "  \"#vowel tuple\\nvowel_tuple = ('a', 'e', 'i', 'o', 'u')\\nprint(list(vowel_tuple))\",\n",
       "  \"# vowel list\\nvowel_list = ['a', 'e', 'i', 'o', 'u']\\nprint(list(vowel_list))\",\n",
       "  \"# vowel string\\nvowel_string = 'aeiou'\\nprint(list(vowel_string))\\nprint(type(vowel_string))\",\n",
       "  \"#vowel tuple\\nvowel_tuple = ('a', 'e', 'i', 'o', 'u')\\nprint(list(vowel_tuple))\\nprint(type(vowel_string))\",\n",
       "  \"# vowel list\\nvowel_list = ['a', 'e', 'i', 'o', 'u']\\nprint(list(vowel_list))\\nprint(type(vowel_string))\",\n",
       "  \"# Example 2: Create lists from set and dictionary\\n\\n# vowel set\\nvowel_set = {'a', 'e', 'i', 'o', 'u'}\\nprint(list(vowel_set))\",\n",
       "  \"# vowel dictionary\\nvowel_dictionary = {'a': 1, 'e': 2, 'i': 3, 'o':4, 'u':5}\\nprint(list(vowel_dictionary))\",\n",
       "  '# Example 3: Create a list from an iterator object\\n\\n# objects of this class are iterators\\nclass PowTwo:\\n    def __init__(self, max):\\n        self.max = max\\n    \\n    def __iter__(self):\\n        self.num = 0\\n        return self\\n    \\n    def __next__(self):\\n        if(self.num >= self.max):\\n            raise StopIteration\\n        result = 2 ** self.num\\n        self.num += 1\\n        return result\\n    \\npow_two = PowTwo(5)\\npow_two_iter = iter(pow_two)\\n\\nprint(list(pow_two_iter))',\n",
       "  '# Example 3: Create a list from an iterator object\\n\\n# objects of this class are iterators\\n\\nclass PowTwo:\\n    def __init__(self, max):\\n        self.max = max\\n    \\n    def __iter__(self):\\n        self.num = 0\\n        return self\\n    \\n    def __next__(self):\\n        if(self.num >= self.max):\\n            raise StopIteration\\n        result = 2 ** self.num\\n        self.num += 1\\n        return result\\n    \\npow_two = PowTwo(6)\\npow_two_iter = iter(pow_two)\\n\\nprint(list(pow_two_iter))',\n",
       "  '# Example 1: How locals() works in Python?\\n\\nlocals()'],\n",
       " 'Out': {2: {...}, 21: 4, 22: 8, 23: 16},\n",
       " 'get_ipython': <bound method InteractiveShell.get_ipython of <ipykernel.zmqshell.ZMQInteractiveShell object at 0x000001A364A3EC48>>,\n",
       " 'exit': <IPython.core.autocall.ZMQExitAutocall at 0x1a364adfc48>,\n",
       " 'quit': <IPython.core.autocall.ZMQExitAutocall at 0x1a364adfc48>,\n",
       " '_': 16,\n",
       " '__': 8,\n",
       " '___': 4,\n",
       " '_i': '# Example 3: Create a list from an iterator object\\n\\n# objects of this class are iterators\\n\\nclass PowTwo:\\n    def __init__(self, max):\\n        self.max = max\\n    \\n    def __iter__(self):\\n        self.num = 0\\n        return self\\n    \\n    def __next__(self):\\n        if(self.num >= self.max):\\n            raise StopIteration\\n        result = 2 ** self.num\\n        self.num += 1\\n        return result\\n    \\npow_two = PowTwo(6)\\npow_two_iter = iter(pow_two)\\n\\nprint(list(pow_two_iter))',\n",
       " '_ii': '# Example 3: Create a list from an iterator object\\n\\n# objects of this class are iterators\\nclass PowTwo:\\n    def __init__(self, max):\\n        self.max = max\\n    \\n    def __iter__(self):\\n        self.num = 0\\n        return self\\n    \\n    def __next__(self):\\n        if(self.num >= self.max):\\n            raise StopIteration\\n        result = 2 ** self.num\\n        self.num += 1\\n        return result\\n    \\npow_two = PowTwo(5)\\npow_two_iter = iter(pow_two)\\n\\nprint(list(pow_two_iter))',\n",
       " '_iii': \"# vowel dictionary\\nvowel_dictionary = {'a': 1, 'e': 2, 'i': 3, 'o':4, 'u':5}\\nprint(list(vowel_dictionary))\",\n",
       " '_i1': \"**globals() Parameters**\\n\\nglobals() method doesn't take any parameters.\",\n",
       " '_i2': ' # Example 1: How globals() method works in Python?\\n\\nglobals()',\n",
       " '_2': {...},\n",
       " '_i3': \"# Example 2: Modify global variable using global()\\n\\nage = 23\\n\\nglobals()['age'] = 25\\n\\nprint('The age is:', age)\",\n",
       " 'age': 25,\n",
       " '_i4': '# Example 1: How exec() works?\\n\\nprogram = \\'a = 5\\\\nb=10\\\\nprint(\"Sum =\", a+b)\\'\\n\\nexec(program)',\n",
       " 'program': '[print(item) for item in [1, 2, 3]]',\n",
       " 'a': 5,\n",
       " 'b': 5,\n",
       " '_i5': \"# Example 2: Allow user to provide input\\n\\nprogram = input('Enter a program:')\\nexec(program)\",\n",
       " '_i6': \"# Example 2: Allow user to provide input\\n\\nprogram = input('Enter a program:')\\nexec(program)\",\n",
       " '_i7': \"# Example 2: Allow user to provide input\\n\\nprogram = input('Enter a program:')\\nexec(program)\",\n",
       " '_i8': \"exec('print(dir())')\",\n",
       " '_i9': \"from math import *\\nexec('print(dir())', {'sqrt': sqrt, 'pow': pow})\",\n",
       " 'acos': <function math.acos(x, /)>,\n",
       " 'acosh': <function math.acosh(x, /)>,\n",
       " 'asin': <function math.asin(x, /)>,\n",
       " 'asinh': <function math.asinh(x, /)>,\n",
       " 'atan': <function math.atan(x, /)>,\n",
       " 'atan2': <function math.atan2(y, x, /)>,\n",
       " 'atanh': <function math.atanh(x, /)>,\n",
       " 'ceil': <function math.ceil(x, /)>,\n",
       " 'copysign': <function math.copysign(x, y, /)>,\n",
       " 'cos': <function math.cos(x, /)>,\n",
       " 'cosh': <function math.cosh(x, /)>,\n",
       " 'degrees': <function math.degrees(x, /)>,\n",
       " 'erf': <function math.erf(x, /)>,\n",
       " 'erfc': <function math.erfc(x, /)>,\n",
       " 'exp': <function math.exp(x, /)>,\n",
       " 'expm1': <function math.expm1(x, /)>,\n",
       " 'fabs': <function math.fabs(x, /)>,\n",
       " 'factorial': <function math.factorial(x, /)>,\n",
       " 'floor': <function math.floor(x, /)>,\n",
       " 'fmod': <function math.fmod(x, y, /)>,\n",
       " 'frexp': <function math.frexp(x, /)>,\n",
       " 'fsum': <function math.fsum(seq, /)>,\n",
       " 'gamma': <function math.gamma(x, /)>,\n",
       " 'gcd': <function math.gcd(x, y, /)>,\n",
       " 'hypot': <function math.hypot(x, y, /)>,\n",
       " 'isclose': <function math.isclose(a, b, *, rel_tol=1e-09, abs_tol=0.0)>,\n",
       " 'isfinite': <function math.isfinite(x, /)>,\n",
       " 'isinf': <function math.isinf(x, /)>,\n",
       " 'isnan': <function math.isnan(x, /)>,\n",
       " 'ldexp': <function math.ldexp(x, i, /)>,\n",
       " 'lgamma': <function math.lgamma(x, /)>,\n",
       " 'log': <function math.log>,\n",
       " 'log1p': <function math.log1p(x, /)>,\n",
       " 'log10': <function math.log10(x, /)>,\n",
       " 'log2': <function math.log2(x, /)>,\n",
       " 'modf': <function math.modf(x, /)>,\n",
       " 'pow': <function math.pow(x, y, /)>,\n",
       " 'radians': <function math.radians(x, /)>,\n",
       " 'remainder': <function math.remainder(x, y, /)>,\n",
       " 'sin': <function math.sin(x, /)>,\n",
       " 'sinh': <function math.sinh(x, /)>,\n",
       " 'sqrt': <function math.sqrt(x, /)>,\n",
       " 'tan': <function math.tan(x, /)>,\n",
       " 'tanh': <function math.tanh(x, /)>,\n",
       " 'trunc': <function math.trunc(x, /)>,\n",
       " 'pi': 3.141592653589793,\n",
       " 'e': 2.718281828459045,\n",
       " 'tau': 6.283185307179586,\n",
       " 'inf': inf,\n",
       " 'nan': nan,\n",
       " '_i10': \"# object can have sqrt() module\\nexec('print(sqrt(9))', {'sqrt': sqrt, 'pow': pow})\",\n",
       " '_i11': \"# Example: How hasattr() works in Python?\\n\\nclass Person:\\n    age = 23\\n    name = 'Adam'\\n\\nperson = Person()\\n\\nprint('Person has age?:', hasattr(person, 'age'))\\nprint('Person has salary?:', hasattr(person, 'salary'))\",\n",
       " 'Person': __main__.Person,\n",
       " 'person': <__main__.Person at 0x1a364c00f88>,\n",
       " '_i12': 'help(list)',\n",
       " '_i13': 'help(dict)',\n",
       " '_i14': 'help(print)',\n",
       " '_i15': 'help([1,2,3])',\n",
       " '_i16': \"help('random thing')\",\n",
       " '_i17': \"help('print')\",\n",
       " '_i18': \"help('def')\",\n",
       " '_i19': \"from math import * \\n    help('math.pow')\",\n",
       " '_i20': \"from math import * \\n\\nhelp('math.pow')\",\n",
       " '_i21': '2**2',\n",
       " '_21': 4,\n",
       " '_i22': '2**3',\n",
       " '_22': 8,\n",
       " '_i23': '2**4',\n",
       " '_23': 16,\n",
       " '_i24': 'help()',\n",
       " '_i25': 'help > quit',\n",
       " '_i26': 'The syntax of hex() is: hex(x)',\n",
       " '_i27': \"# Example 1: How hex() works?\\n\\nnumber = 435\\nprint(number, 'in hex =', hex(number))\",\n",
       " 'number': 5,\n",
       " '_i28': \"number = 0\\nprint(number, 'in hex =', hex(number))\",\n",
       " '_i29': \"number = -34\\nprint(number, 'in hex =', hex(number))\",\n",
       " '_i30': \"returnType = type(hex(number))\\nprint('Return type from hex() is', returnType)\",\n",
       " 'returnType': str,\n",
       " '_i31': \"# Example 2: Hexadecimal representation of a float\\n\\nnumber = 2.5\\nprint(number, 'in hex =', float.hex(number))\",\n",
       " '_i32': \"number = 0.0\\nprint(number, 'in hex =', float.hex(number))\\n\\nnumber = 10.5\\nprint(number, 'in hex =', float.hex(number))\",\n",
       " '_i33': '**hash() Parameters**\\n\\nhash() method takes a single parameter:\\n\\n- object - the object whose hash value is to be returned (integer, string, float)',\n",
       " '_i34': \"# Example 1: How hash() works in Python?\\n\\n# hash for integer unchanged\\nprint('Hash for 181 is:', hash(181))\",\n",
       " '_i35': \"# hash for decimal\\nprint('Hash for 181.23 is:',hash(181.23))\",\n",
       " '_i36': \"# hash for string\\nprint('Hash for Python is:', hash('Python'))\",\n",
       " '_i37': \"# Example 2: hash() for immutable tuple object?\\n\\nhash() method only works for immutable objects as tuple.\\n\\n# tuple of vowels\\nvowels = ('a', 'e', 'i', 'o', 'u')\\n\\nprint('The hash is:', hash(vowels))\",\n",
       " '_i38': \"# Example 2: hash() for immutable tuple object?\\n\\n# hash() method only works for immutable objects as tuple.\\n\\n# tuple of vowels\\nvowels = ('a', 'e', 'i', 'o', 'u')\\n\\nprint('The hash is:', hash(vowels))\",\n",
       " 'vowels': ['a', 'e', 'i', 'o', 'u'],\n",
       " '_i39': \"class Person:\\n    def __init__(self, age, name):\\n        self.age = age\\n        self.name = name\\n\\n    def __eq__(self, other):\\n        return self.age == other.age and self.name == other.name\\n\\n    def __hash__(self):\\n        print('The hash is:')\\n        return hash((self.age, self.name))\\n\\nperson = Person(23, 'Adam')\\nprint(hash(person))\",\n",
       " '_i40': 'The syntax of input() method is: input([prompt])',\n",
       " '_i41': \"# Example 1: How input() works in Python?\\n\\ninputString = input()\\nprint('The inputted string is:', inputString)\",\n",
       " 'inputString': 'Python is interesting.',\n",
       " '_i42': \"# Example 2: Get input from user with a prompt\\n\\ninputString = input('Enter a string:')\\n\\nprint('The inputted string is:', inputString)\",\n",
       " '_i43': \"# Example 1: How id() works?\\n\\nclass Foo:\\n    b = 5\\n\\ndummyFoo = Foo()\\nprint('id of dummyFoo =',id(dummyFoo))\",\n",
       " 'Foo': __main__.Foo,\n",
       " 'dummyFoo': <__main__.Foo at 0x1a364c09048>,\n",
       " '_i44': \"print('id of 5 =',id(5))\",\n",
       " '_i45': \"a = 5\\nprint('id of a =',id(a))\\n\\nb = a\\nprint('id of b =',id(b))\\n\\nc = 5.0\\nprint('id of c =',id(c))\",\n",
       " 'c': 5.0,\n",
       " '_i46': \"d = 5.01\\nprint('id of c =',id(d))\",\n",
       " 'd': 5.01,\n",
       " '_i47': 'The syntax of isinstance() is: isinstance(object, classinfo)',\n",
       " '_i48': '# Example 1: How isinstance() works?\\n\\nclass Foo:\\n    a = 5\\n  \\nfooInstance = Foo()\\n\\nprint(isinstance(fooInstance, Foo))',\n",
       " 'fooInstance': <__main__.Foo at 0x1a364c0ac08>,\n",
       " '_i49': 'print(isinstance(fooInstance, (list, tuple)))',\n",
       " '_i50': 'print(isinstance(fooInstance, (list, tuple, Foo))) ',\n",
       " '_i51': \"# Example 2: Working of isinstance() with Native Types\\n\\nnumbers = [1, 2, 3]\\n\\nresult = isinstance(numbers, list)\\nprint(numbers,'instance of list?', result)\",\n",
       " 'numbers': [1, 2, 3],\n",
       " 'result': True,\n",
       " '_i52': \"result = isinstance(numbers, dict)\\nprint(numbers,'instance of dict?', result)\",\n",
       " '_i53': \"result = isinstance(numbers, (dict, list))\\nprint(numbers,'instance of dict or list?', result)\",\n",
       " '_i54': \"number = 5\\n\\nresult = isinstance(number, list)\\nprint(number,'instance of list?', result)\",\n",
       " '_i55': \"result = isinstance(number, int)\\nprint(number,'instance of int?', result)\",\n",
       " '_i56': '# Example 1: How int() works in Python?\\n\\n# integer\\nprint(\"int(123) is:\", int(123))',\n",
       " '_i57': '# float\\nprint(\"int(123.23) is:\", int(123.23))',\n",
       " '_i58': '# string\\nprint(\"int(\\'123\\') is:\", int(\\'123\\'))',\n",
       " '_i59': '# Example 2: How int() works for decimal, octal and hexadecimal?\\n\\n# binary 0b or 0B\\nprint(\"For 1010, int is:\", int(\\'1010\\', 2))\\nprint(\"For 0b1010, int is:\", int(\\'0b1010\\', 2))',\n",
       " '_i60': '# octal 0o or 0O\\nprint(\"For 12, int is:\", int(\\'12\\', 8))\\nprint(\"For 0o12, int is:\", int(\\'0o12\\', 8))',\n",
       " '_i61': '# hexadecimal\\nprint(\"For A, int is:\", int(\\'A\\', 16))\\nprint(\"For 0xA, int is:\", int(\\'0xA\\', 16))',\n",
       " '_i62': \"# Example 3: int() for custom objects\\n\\nclass Person:\\n    age = 23\\n\\n    def __index__(self):\\n        return self.age\\n    \\n    def __int__(self):\\n        return self.age\\n\\nperson = Person()\\nprint('int(person) is:', int(person))\",\n",
       " '_i63': \"class Person:\\n    age = 23\\n\\nperson = Person()\\nprint('int(person) is:', int(person))\",\n",
       " '_i64': \"class Person:\\n    age = 23\\n    \\n    def __index__(self):\\n        return self.age\\n\\nperson = Person()\\nprint('int(person) is:', int(person))\",\n",
       " '_i65': \"class Person:\\n    age = 23\\n    \\n    def __int__(self):\\n        return self.age\\n\\nperson = Person()\\nprint('int(person) is:', int(person))\",\n",
       " '_i66': \"# Example: How issubclass() works?\\n\\nclass Polygon:\\n    def __init__(polygonType):\\n        print('Polygon is a ', polygonType)\\n\\nclass Triangle(Polygon):\\n    def __init__(self):\\n\\n        Polygon.__init__('triangle')\\n    \\nprint(issubclass(Triangle, Polygon))\",\n",
       " 'Polygon': __main__.Polygon,\n",
       " 'Triangle': __main__.Triangle,\n",
       " '_i67': 'print(issubclass(Triangle, list))',\n",
       " '_i68': 'print(issubclass(Triangle, (list, Polygon)))',\n",
       " '_i69': 'print(issubclass(Polygon, (list, Polygon)))',\n",
       " '_i70': 'print(issubclass(Triangle, (list, Triangle)))',\n",
       " '_i71': 'print(issubclass(Polygon, (list, Triangle)))',\n",
       " '_i72': 'print(issubclass(Polygon, Triangle))',\n",
       " '_i73': 'print(issubclass(Polygon, list))',\n",
       " '_i74': \"# Example 1: Working of Python iter()\\n\\n# list of vowels\\nvowels = ['a', 'e', 'i', 'o', 'u']\\n\\nvowels_iter = iter(vowels)\\n\\nprint(next(vowels_iter))    \",\n",
       " 'vowels_iter': <list_iterator at 0x1a364c1eac8>,\n",
       " '_i75': \"# Example 1: Working of Python iter()\\n\\n# list of vowels\\nvowels = ['a', 'e', 'i', 'o', 'u']\\n\\nvowels_iter = iter(vowels)\\n\\nprint(next(vowels_iter))  \\nprint(next(vowels_iter))\",\n",
       " '_i76': \"# Example 1: Working of Python iter()\\n\\n# list of vowels\\nvowels = ['a', 'e', 'i', 'o', 'u']\\n\\nvowels_iter = iter(vowels)\\n\\nprint(next(vowels_iter))  \\nprint(next(vowels_iter))\\nprint(next(vowels_iter))\",\n",
       " '_i77': \"# Example 1: Working of Python iter()\\n\\n# list of vowels\\nvowels = ['a', 'e', 'i', 'o', 'u']\\n\\nvowels_iter = iter(vowels)\\n\\nprint(next(vowels_iter))  \\nprint(next(vowels_iter))\\nprint(next(vowels_iter))\\nprint(next(vowels_iter))\",\n",
       " '_i78': \"# Example 1: Working of Python iter()\\n\\n# list of vowels\\nvowels = ['a', 'e', 'i', 'o', 'u']\\n\\nvowels_iter = iter(vowels)\\n\\nprint(next(vowels_iter))  \\nprint(next(vowels_iter))\\nprint(next(vowels_iter))\\nprint(next(vowels_iter))\\nprint(next(vowels_iter))\",\n",
       " '_i79': '# Example 2: iter() for custom objects\\n\\nclass PrintNumber:\\n    def __init__(self, max):\\n        self.max = max\\n\\n    def __iter__(self):\\n        self.num = 0\\n        return self\\n\\n    def __next__(self):\\n        if(self.num >= self.max):\\n            raise StopIteration\\n        self.num += 1\\n        return self.num\\n\\nprint_num = PrintNumber(3)\\n\\nprint_num_iter = iter(print_num)\\nprint(next(print_num_iter))  # 1\\nprint(next(print_num_iter))  # 2\\nprint(next(print_num_iter))  # 3\\n\\n# raises StopIteration\\nprint(next(print_num_iter))',\n",
       " 'PrintNumber': __main__.PrintNumber,\n",
       " 'print_num': <__main__.PrintNumber at 0x1a364c1ce08>,\n",
       " 'print_num_iter': <__main__.PrintNumber at 0x1a364c1ce08>,\n",
       " '_i80': \"# Example 3: iter() with sentinel parameter\\n\\nwith open('mydata.txt') as fp:\\n    for line in iter(fp.readline, ''):\\n        processLine(line)\",\n",
       " '_i81': \"# Example 3: iter() with sentinel parameter\\n\\nwith open('mydata.txt') as fp:\\n    for line in iter(fp.readline, ''):\\n        processLine(line)\",\n",
       " 'fp': <_io.TextIOWrapper name='mydata.txt' mode='r' encoding='cp1252'>,\n",
       " 'line': 'hi,\\n',\n",
       " '_i82': \"# Example 3: iter() with sentinel parameter\\n\\nwith open('mydata.txt') as fp:\\n    for line in iter(fp.readline, ''):\\n        processline(line)\",\n",
       " '_i83': \"# Example 3: iter() with sentinel parameter\\n\\nwith open('mydata.txt') as fp:\\n    for line in iter(fp.readline, ''):\\n        processLine(line)\",\n",
       " '_i84': \"# Example 3: iter() with sentinel parameter\\n\\nwith open('mydata.txt') as fp:\\n    for line in iter(fp.readline, ''):\",\n",
       " '_i85': \"# Example 3: iter() with sentinel parameter\\n\\nwith open('mydata.txt') as fp:\\n    for line in iter(fp.readline, '')\",\n",
       " '_i86': \"# Example 3: iter() with sentinel parameter\\n\\nwith open('mydata.txt') as fp:\\n    for line in iter(fp.readline, ''):\\n        readline(line)\",\n",
       " '_i87': \"# Example 3: iter() with sentinel parameter\\n\\nwith open('mydata.txt') as fp:\\n    for line in iter(fp.readline, ''):\\n        fp.readline(line)\",\n",
       " '_i88': '# Example 1: Create lists from string, tuple, and list\\n\\n# empty list\\nprint(list())',\n",
       " '_i89': \"# vowel string\\nvowel_string = 'aeiou'\\nprint(list(vowel_string))\",\n",
       " 'vowel_string': 'aeiou',\n",
       " '_i90': \"#vowel tuple\\nvowel_tuple = ('a', 'e', 'i', 'o', 'u')\\nprint(list(vowel_tuple))\",\n",
       " 'vowel_tuple': ('a', 'e', 'i', 'o', 'u'),\n",
       " '_i91': \"# vowel list\\nvowel_list = ['a', 'e', 'i', 'o', 'u']\\nprint(list(vowel_list))\",\n",
       " 'vowel_list': ['a', 'e', 'i', 'o', 'u'],\n",
       " '_i92': \"# vowel string\\nvowel_string = 'aeiou'\\nprint(list(vowel_string))\\nprint(type(vowel_string))\",\n",
       " '_i93': \"#vowel tuple\\nvowel_tuple = ('a', 'e', 'i', 'o', 'u')\\nprint(list(vowel_tuple))\\nprint(type(vowel_string))\",\n",
       " '_i94': \"# vowel list\\nvowel_list = ['a', 'e', 'i', 'o', 'u']\\nprint(list(vowel_list))\\nprint(type(vowel_string))\",\n",
       " '_i95': \"# Example 2: Create lists from set and dictionary\\n\\n# vowel set\\nvowel_set = {'a', 'e', 'i', 'o', 'u'}\\nprint(list(vowel_set))\",\n",
       " 'vowel_set': {'a', 'e', 'i', 'o', 'u'},\n",
       " '_i96': \"# vowel dictionary\\nvowel_dictionary = {'a': 1, 'e': 2, 'i': 3, 'o':4, 'u':5}\\nprint(list(vowel_dictionary))\",\n",
       " 'vowel_dictionary': {'a': 1, 'e': 2, 'i': 3, 'o': 4, 'u': 5},\n",
       " '_i97': '# Example 3: Create a list from an iterator object\\n\\n# objects of this class are iterators\\nclass PowTwo:\\n    def __init__(self, max):\\n        self.max = max\\n    \\n    def __iter__(self):\\n        self.num = 0\\n        return self\\n    \\n    def __next__(self):\\n        if(self.num >= self.max):\\n            raise StopIteration\\n        result = 2 ** self.num\\n        self.num += 1\\n        return result\\n    \\npow_two = PowTwo(5)\\npow_two_iter = iter(pow_two)\\n\\nprint(list(pow_two_iter))',\n",
       " 'PowTwo': __main__.PowTwo,\n",
       " 'pow_two': <__main__.PowTwo at 0x1a364c09588>,\n",
       " 'pow_two_iter': <__main__.PowTwo at 0x1a364c09588>,\n",
       " '_i98': '# Example 3: Create a list from an iterator object\\n\\n# objects of this class are iterators\\n\\nclass PowTwo:\\n    def __init__(self, max):\\n        self.max = max\\n    \\n    def __iter__(self):\\n        self.num = 0\\n        return self\\n    \\n    def __next__(self):\\n        if(self.num >= self.max):\\n            raise StopIteration\\n        result = 2 ** self.num\\n        self.num += 1\\n        return result\\n    \\npow_two = PowTwo(6)\\npow_two_iter = iter(pow_two)\\n\\nprint(list(pow_two_iter))',\n",
       " '_i99': '# Example 1: How locals() works in Python?\\n\\nlocals()'}"
      ]
     },
     "execution_count": 99,
     "metadata": {},
     "output_type": "execute_result"
    }
   ],
   "source": [
    "# Example 1: How locals() works in Python?\n",
    "\n",
    "locals()"
   ]
  },
  {
   "cell_type": "markdown",
   "metadata": {},
   "source": [
    "Note: globals() and locals() symbol table for the global environment is the same."
   ]
  },
  {
   "cell_type": "code",
   "execution_count": 100,
   "metadata": {},
   "outputs": [
    {
     "name": "stdout",
     "output_type": "stream",
     "text": [
      "localsNotPresent: {}\n",
      "localsPresent: {'present': True}\n"
     ]
    }
   ],
   "source": [
    "# Example 2: How locals() works inside a local scope?\n",
    "\n",
    "def localsNotPresent():\n",
    "    return locals()\n",
    "\n",
    "def localsPresent():\n",
    "    present = True\n",
    "    return locals()\n",
    "\n",
    "print('localsNotPresent:', localsNotPresent())\n",
    "print('localsPresent:', localsPresent())"
   ]
  },
  {
   "cell_type": "code",
   "execution_count": 101,
   "metadata": {},
   "outputs": [
    {
     "name": "stdout",
     "output_type": "stream",
     "text": [
      "True\n",
      "True\n"
     ]
    }
   ],
   "source": [
    "# Example 3: Updating locals() dictionary values\n",
    "\n",
    "def localsPresent():\n",
    "    present = True\n",
    "    print(present)\n",
    "    locals()['present'] = False;\n",
    "    print(present)\n",
    "\n",
    "localsPresent()"
   ]
  },
  {
   "cell_type": "markdown",
   "metadata": {},
   "source": [
    "Unlike, globals() dictionary which reflects the change to the actual global table, locals() dictionary may not change the information inside the locals table."
   ]
  },
  {
   "cell_type": "markdown",
   "metadata": {},
   "source": [
    "### 40. Python len()"
   ]
  },
  {
   "cell_type": "markdown",
   "metadata": {},
   "source": [
    "The len() function returns the number of items (length) in an object."
   ]
  },
  {
   "cell_type": "markdown",
   "metadata": {},
   "source": [
    "The syntax of len() is: len(s)"
   ]
  },
  {
   "cell_type": "markdown",
   "metadata": {},
   "source": [
    "**len() Parameters**\n",
    "\n",
    "s - a sequence (string, bytes, tuple, list, or range) or a collection (dictionary, set or frozen set)"
   ]
  },
  {
   "cell_type": "markdown",
   "metadata": {},
   "source": [
    "**Return Value from len()**\n",
    "\n",
    "len() function returns the number of items of an object.\n",
    "\n",
    "Failing to pass an argument or passing an invalid argument will raise a TypeError exception."
   ]
  },
  {
   "cell_type": "code",
   "execution_count": 105,
   "metadata": {},
   "outputs": [
    {
     "name": "stdout",
     "output_type": "stream",
     "text": [
      "[] length is 0\n"
     ]
    }
   ],
   "source": [
    "# Example 1: How len() works with tuples, lists and range?\n",
    "\n",
    "testList = []\n",
    "print(testList, 'length is', len(testList))"
   ]
  },
  {
   "cell_type": "code",
   "execution_count": 106,
   "metadata": {},
   "outputs": [
    {
     "name": "stdout",
     "output_type": "stream",
     "text": [
      "[1, 2, 3] length is 3\n"
     ]
    }
   ],
   "source": [
    "testList = [1, 2, 3]\n",
    "print(testList, 'length is', len(testList))"
   ]
  },
  {
   "cell_type": "code",
   "execution_count": 107,
   "metadata": {},
   "outputs": [
    {
     "name": "stdout",
     "output_type": "stream",
     "text": [
      "(1, 2, 3) length is 3\n"
     ]
    }
   ],
   "source": [
    "testTuple = (1, 2, 3)\n",
    "print(testTuple, 'length is', len(testTuple))"
   ]
  },
  {
   "cell_type": "code",
   "execution_count": 108,
   "metadata": {},
   "outputs": [
    {
     "name": "stdout",
     "output_type": "stream",
     "text": [
      "Length of range(1, 10) is 9\n"
     ]
    }
   ],
   "source": [
    "testRange = range(1, 10)\n",
    "print('Length of', testRange, 'is', len(testRange))"
   ]
  },
  {
   "cell_type": "code",
   "execution_count": 109,
   "metadata": {},
   "outputs": [
    {
     "name": "stdout",
     "output_type": "stream",
     "text": [
      "Length of  is 0\n"
     ]
    }
   ],
   "source": [
    "# Example 2: How len() works with strings and bytes?\n",
    "\n",
    "testString = ''\n",
    "print('Length of', testString, 'is', len(testString))"
   ]
  },
  {
   "cell_type": "code",
   "execution_count": 110,
   "metadata": {},
   "outputs": [
    {
     "name": "stdout",
     "output_type": "stream",
     "text": [
      "Length of Python is 6\n"
     ]
    }
   ],
   "source": [
    "testString = 'Python'\n",
    "print('Length of', testString, 'is', len(testString))"
   ]
  },
  {
   "cell_type": "code",
   "execution_count": 111,
   "metadata": {},
   "outputs": [
    {
     "name": "stdout",
     "output_type": "stream",
     "text": [
      "Length of b'Python' is 6\n"
     ]
    }
   ],
   "source": [
    "# byte object\n",
    "testByte = b'Python'\n",
    "print('Length of', testByte, 'is', len(testByte))"
   ]
  },
  {
   "cell_type": "code",
   "execution_count": 112,
   "metadata": {},
   "outputs": [
    {
     "name": "stdout",
     "output_type": "stream",
     "text": [
      "Length of b'\\x01\\x02\\x03' is 3\n"
     ]
    }
   ],
   "source": [
    "testList = [1, 2, 3]\n",
    "\n",
    "# converting to bytes object\n",
    "\n",
    "testByte = bytes(testList)\n",
    "print('Length of', testByte, 'is', len(testByte))"
   ]
  },
  {
   "cell_type": "code",
   "execution_count": 113,
   "metadata": {},
   "outputs": [
    {
     "name": "stdout",
     "output_type": "stream",
     "text": [
      "{1, 2, 3} length is 3\n"
     ]
    }
   ],
   "source": [
    "# Example 3: How len() works with dictionaries and sets?\n",
    "\n",
    "testSet = {1, 2, 3}\n",
    "print(testSet, 'length is', len(testSet))"
   ]
  },
  {
   "cell_type": "code",
   "execution_count": 114,
   "metadata": {},
   "outputs": [
    {
     "name": "stdout",
     "output_type": "stream",
     "text": [
      "set() length is 0\n"
     ]
    }
   ],
   "source": [
    "# Empty Set\n",
    "testSet = set()\n",
    "print(testSet, 'length is', len(testSet))"
   ]
  },
  {
   "cell_type": "code",
   "execution_count": 115,
   "metadata": {},
   "outputs": [
    {
     "name": "stdout",
     "output_type": "stream",
     "text": [
      "{1: 'one', 2: 'two'} length is 2\n"
     ]
    }
   ],
   "source": [
    "testDict = {1: 'one', 2: 'two'}\n",
    "print(testDict, 'length is', len(testDict))"
   ]
  },
  {
   "cell_type": "code",
   "execution_count": 116,
   "metadata": {},
   "outputs": [
    {
     "name": "stdout",
     "output_type": "stream",
     "text": [
      "{} length is 0\n"
     ]
    }
   ],
   "source": [
    "testDict = {}\n",
    "print(testDict, 'length is', len(testDict))"
   ]
  },
  {
   "cell_type": "code",
   "execution_count": 117,
   "metadata": {},
   "outputs": [
    {
     "name": "stdout",
     "output_type": "stream",
     "text": [
      "frozenset({1, 2}) length is 2\n"
     ]
    }
   ],
   "source": [
    "testSet = {1, 2}\n",
    "\n",
    "# frozenSet\n",
    "\n",
    "frozenTestSet = frozenset(testSet)\n",
    "\n",
    "print(frozenTestSet, 'length is', len(frozenTestSet))"
   ]
  },
  {
   "cell_type": "code",
   "execution_count": 118,
   "metadata": {},
   "outputs": [
    {
     "name": "stdout",
     "output_type": "stream",
     "text": [
      "0\n"
     ]
    }
   ],
   "source": [
    "# Example 4: How len() works for custom objects?\n",
    "\n",
    "class Session:\n",
    "    def __init__(self, number = 0):\n",
    "        self.number = number\n",
    "    \n",
    "    def __len__(self):\n",
    "        return self.number\n",
    "\n",
    "# default length is 0\n",
    "s1 = Session()\n",
    "print(len(s1))"
   ]
  },
  {
   "cell_type": "code",
   "execution_count": 119,
   "metadata": {},
   "outputs": [
    {
     "name": "stdout",
     "output_type": "stream",
     "text": [
      "6\n"
     ]
    }
   ],
   "source": [
    "# giving custom length\n",
    "s2 = Session(6)\n",
    "print(len(s2))"
   ]
  },
  {
   "cell_type": "markdown",
   "metadata": {},
   "source": [
    "### 41. Python max()"
   ]
  },
  {
   "cell_type": "markdown",
   "metadata": {},
   "source": [
    "The Python max() function returns the largest item in an iterable. \n",
    "\n",
    "It can also be used to find the largest item between two or more parameters."
   ]
  },
  {
   "cell_type": "raw",
   "metadata": {},
   "source": [
    "The max() function has two forms:\n",
    "\n",
    "// to find the largest item in an iterable\n",
    "max(iterable, *iterables, key, default)\n",
    "\n",
    "// to find the largest item between two or more objects\n",
    "max(arg1, arg2, *args, key)"
   ]
  },
  {
   "cell_type": "markdown",
   "metadata": {},
   "source": [
    "**1. max() with iterable arguments**\n",
    "\n",
    "To find the largest item in an iterable, we use this syntax: max(iterable, *iterables, key, default)"
   ]
  },
  {
   "cell_type": "markdown",
   "metadata": {},
   "source": [
    "**max() Parameters**\n",
    "\n",
    "- iterable - an iterable such as list, tuple, set, dictionary, etc.\n",
    "\n",
    "- *iterables (optional) - any number of iterables; can be more than one\n",
    "\n",
    "- key (optional) - key function where the iterables are passed and comparison is performed based on its return value\n",
    "\n",
    "- default (optional) - default value if the given iterable is empty"
   ]
  },
  {
   "cell_type": "code",
   "execution_count": 1,
   "metadata": {},
   "outputs": [
    {
     "name": "stdout",
     "output_type": "stream",
     "text": [
      "The largest number is: 10\n"
     ]
    }
   ],
   "source": [
    "# Example 1: Get the largest item in a list\n",
    "\n",
    "number = [3, 2, 8, 5, 10, 6]\n",
    "largest_number = max(number);\n",
    "\n",
    "print(\"The largest number is:\", largest_number)"
   ]
  },
  {
   "cell_type": "markdown",
   "metadata": {},
   "source": [
    "If the items in an iterable are strings, the largest item (ordered alphabetically) is returned."
   ]
  },
  {
   "cell_type": "code",
   "execution_count": 2,
   "metadata": {},
   "outputs": [
    {
     "name": "stdout",
     "output_type": "stream",
     "text": [
      "The largest string is: Python\n"
     ]
    }
   ],
   "source": [
    "# Example 2: the largest string in a list\n",
    "\n",
    "languages = [\"Python\", \"C Programming\", \"Java\", \"JavaScript\"]\n",
    "largest_string = max(languages);\n",
    "\n",
    "print(\"The largest string is:\", largest_string)"
   ]
  },
  {
   "cell_type": "markdown",
   "metadata": {},
   "source": [
    "In the case of dictionaries, max() returns the largest key. Let's use the key parameter so that we can find the dictionary's key having the largest value."
   ]
  },
  {
   "cell_type": "code",
   "execution_count": 3,
   "metadata": {},
   "outputs": [
    {
     "name": "stdout",
     "output_type": "stream",
     "text": [
      "The largest key: 2\n"
     ]
    }
   ],
   "source": [
    "# Example 3: max() in dictionaries\n",
    "\n",
    "square = {2: 4, -3: 9, -1: 1, -2: 4}\n",
    "\n",
    "# the largest key\n",
    "\n",
    "key1 = max(square)\n",
    "print(\"The largest key:\", key1)  "
   ]
  },
  {
   "cell_type": "code",
   "execution_count": 4,
   "metadata": {},
   "outputs": [
    {
     "name": "stdout",
     "output_type": "stream",
     "text": [
      "The key with the largest value: -3\n"
     ]
    }
   ],
   "source": [
    "# the key whose value is the largest\n",
    "\n",
    "key2 = max(square, key = lambda k: square[k])\n",
    "\n",
    "print(\"The key with the largest value:\", key2)"
   ]
  },
  {
   "cell_type": "code",
   "execution_count": 5,
   "metadata": {},
   "outputs": [
    {
     "name": "stdout",
     "output_type": "stream",
     "text": [
      "The largest value: 9\n"
     ]
    }
   ],
   "source": [
    "# getting the largest value\n",
    "\n",
    "print(\"The largest value:\", square[key2])"
   ]
  },
  {
   "cell_type": "markdown",
   "metadata": {},
   "source": [
    "In the second max() function, we have passed a lambda function to the key parameter."
   ]
  },
  {
   "cell_type": "code",
   "execution_count": 6,
   "metadata": {},
   "outputs": [],
   "source": [
    "key = lambda k: square[k]"
   ]
  },
  {
   "cell_type": "markdown",
   "metadata": {},
   "source": [
    "The function returns the values of dictionaries. Based on the values (rather than the dictionary's keys), the key having the maximum value is returned."
   ]
  },
  {
   "cell_type": "markdown",
   "metadata": {},
   "source": [
    "**2. max() without iterable**"
   ]
  },
  {
   "cell_type": "markdown",
   "metadata": {},
   "source": [
    "To find the largest object between two or more parameters, we can use this syntax:\n",
    "max(arg1, arg2, *args, key)"
   ]
  },
  {
   "cell_type": "markdown",
   "metadata": {},
   "source": [
    "**max() parameters**\n",
    "\n",
    "- arg1 - an object; can be numbers, strings, etc.\n",
    "\n",
    "- arg2 - an object; can be numbers, strings, etc.\n",
    "\n",
    "- *args (optional) - any number of objects\n",
    "\n",
    "- key (optional) - key function where each argument is passed, and comparison is performed based on its return value"
   ]
  },
  {
   "cell_type": "markdown",
   "metadata": {},
   "source": [
    "Basically, the max() function finds the largest item between two or more objects."
   ]
  },
  {
   "cell_type": "code",
   "execution_count": 7,
   "metadata": {},
   "outputs": [
    {
     "name": "stdout",
     "output_type": "stream",
     "text": [
      "The maximum number is: 23\n"
     ]
    }
   ],
   "source": [
    "# Example 4: Find the maximum among the given numbers\n",
    "\n",
    "result = max(4, -5, 23, 5)\n",
    "\n",
    "print(\"The maximum number is:\", result)"
   ]
  },
  {
   "cell_type": "markdown",
   "metadata": {},
   "source": [
    "### 42. Python min()"
   ]
  },
  {
   "cell_type": "markdown",
   "metadata": {},
   "source": [
    "The Python min() function returns the smallest item in an iterable. \n",
    "\n",
    "It can also be used to find the smallest item between two or more parameters."
   ]
  },
  {
   "cell_type": "raw",
   "metadata": {},
   "source": [
    "The min() function has two forms:\n",
    "\n",
    "// to find the smallest item in an iterable\n",
    "min(iterable, *iterables, key, default)\n",
    "\n",
    "// to find the smallest item between two or more objects\n",
    "min(arg1, arg2, *args, key)"
   ]
  },
  {
   "cell_type": "markdown",
   "metadata": {},
   "source": [
    "**1. min() with iterable arguments**\n",
    "\n",
    "To find the smallest item in an iterable, we use this syntax: min(iterable, *iterables, key, default)"
   ]
  },
  {
   "cell_type": "markdown",
   "metadata": {},
   "source": [
    "**min() Parameters**\n",
    "\n",
    "- iterable - an iterable such as list, tuple, set, dictionary, etc.\n",
    "\n",
    "- *iterables (optional) - any number of iterables; can be more than one\n",
    "\n",
    "- key (optional) - key function where the iterables are passed and comparison is performed based on its return value\n",
    "\n",
    "- default (optional) - default value if the given iterable is empty"
   ]
  },
  {
   "cell_type": "code",
   "execution_count": 9,
   "metadata": {},
   "outputs": [
    {
     "name": "stdout",
     "output_type": "stream",
     "text": [
      "The smallest number is: 2\n"
     ]
    }
   ],
   "source": [
    "# Example 1: Get the smallest item in a list\n",
    "\n",
    "number = [3, 2, 8, 5, 10, 6]\n",
    "smallest_number = min(number);\n",
    "\n",
    "print(\"The smallest number is:\", smallest_number)"
   ]
  },
  {
   "cell_type": "markdown",
   "metadata": {},
   "source": [
    "If the items in an iterable are strings, the smallest item (ordered alphabetically) is returned."
   ]
  },
  {
   "cell_type": "code",
   "execution_count": 10,
   "metadata": {},
   "outputs": [
    {
     "name": "stdout",
     "output_type": "stream",
     "text": [
      "The smallest string is: C Programming\n"
     ]
    }
   ],
   "source": [
    "# Example 2: The smallest string in a list\n",
    "\n",
    "languages = [\"Python\", \"C Programming\", \"Java\", \"JavaScript\"]\n",
    "smallest_string = min(languages);\n",
    "\n",
    "print(\"The smallest string is:\", smallest_string)"
   ]
  },
  {
   "cell_type": "markdown",
   "metadata": {},
   "source": [
    "In the case of dictionaries, min() returns the smallest key.\n",
    "\n",
    "Let's use the key parameter so that we can find the dictionary's key having the smallest value."
   ]
  },
  {
   "cell_type": "code",
   "execution_count": 11,
   "metadata": {},
   "outputs": [
    {
     "name": "stdout",
     "output_type": "stream",
     "text": [
      "The smallest key: -2\n"
     ]
    }
   ],
   "source": [
    "# Example 3: min() in dictionaries\n",
    "\n",
    "square = {2: 4, 3: 9, -1: 1, -2: 4}\n",
    "\n",
    "# the smallest key\n",
    "\n",
    "key1 = min(square)\n",
    "print(\"The smallest key:\", key1)"
   ]
  },
  {
   "cell_type": "code",
   "execution_count": 12,
   "metadata": {},
   "outputs": [
    {
     "name": "stdout",
     "output_type": "stream",
     "text": [
      "The key with the smallest value: -1\n"
     ]
    }
   ],
   "source": [
    "# the key whose value is the smallest\n",
    "\n",
    "key2 = min(square, key = lambda k: square[k])\n",
    "\n",
    "print(\"The key with the smallest value:\", key2) "
   ]
  },
  {
   "cell_type": "code",
   "execution_count": 13,
   "metadata": {},
   "outputs": [
    {
     "name": "stdout",
     "output_type": "stream",
     "text": [
      "The smallest value: 1\n"
     ]
    }
   ],
   "source": [
    "# getting the smallest value\n",
    "\n",
    "print(\"The smallest value:\", square[key2])"
   ]
  },
  {
   "cell_type": "markdown",
   "metadata": {},
   "source": [
    "In the second min() function, we have passed a lambda function to the key parameter."
   ]
  },
  {
   "cell_type": "code",
   "execution_count": 14,
   "metadata": {},
   "outputs": [],
   "source": [
    "key = lambda k: square[k]"
   ]
  },
  {
   "cell_type": "markdown",
   "metadata": {},
   "source": [
    "The function returns the values of dictionaries. \n",
    "\n",
    "Based on the values (rather than the dictionary's keys), the key having the minimum value is computed."
   ]
  },
  {
   "cell_type": "markdown",
   "metadata": {},
   "source": [
    "**2. min() without iterable**\n",
    "\n",
    "To find the smallest item between two or more parameters, we can use this syntax:\n",
    "min(arg1, arg2, *args, key)"
   ]
  },
  {
   "cell_type": "markdown",
   "metadata": {},
   "source": [
    "**min() parameters**\n",
    "\n",
    "- arg1 - an object; can be numbers, strings, etc.\n",
    "\n",
    "- arg2 - an object; can be numbers, strings, etc.\n",
    "\n",
    "- *args (optional) - any number of objects\n",
    "\n",
    "- key (optional) - key function where each argument is passed, and comparison is performed based on its return value"
   ]
  },
  {
   "cell_type": "markdown",
   "metadata": {},
   "source": [
    "Basically, the min() function can find the smallest item between two or more objects."
   ]
  },
  {
   "cell_type": "code",
   "execution_count": 15,
   "metadata": {},
   "outputs": [
    {
     "name": "stdout",
     "output_type": "stream",
     "text": [
      "The minimum number is: -5\n"
     ]
    }
   ],
   "source": [
    "# Example 4: Find the minimum among the given numbers\n",
    "\n",
    "result = min(4, -5, 23, 5)\n",
    "print(\"The minimum number is:\", result)"
   ]
  },
  {
   "cell_type": "markdown",
   "metadata": {},
   "source": [
    "### 43. Python map()"
   ]
  },
  {
   "cell_type": "markdown",
   "metadata": {},
   "source": [
    "The map() function applies a given function to each item of an iterable (list, tuple etc.) and returns a list of the results."
   ]
  },
  {
   "cell_type": "markdown",
   "metadata": {},
   "source": [
    "The syntax of map() is: map(function, iterable, ...)"
   ]
  },
  {
   "cell_type": "markdown",
   "metadata": {},
   "source": [
    "**map() Parameter**\n",
    "\n",
    "- function - map() passes each item of the iterable to this function.\n",
    "\n",
    "- iterable - iterable which is to be mapped\n",
    "\n",
    "You can pass more than one iterable to the map() function."
   ]
  },
  {
   "cell_type": "markdown",
   "metadata": {},
   "source": [
    "**Return Value from map()**\n",
    "\n",
    "The map() function applies a given to function to each item of an iterable and returns a list of the results.\n",
    "\n",
    "The returned value from map() (map object) can then be passed to functions like list() (to create a list), set() (to create a set) and so on."
   ]
  },
  {
   "cell_type": "code",
   "execution_count": 16,
   "metadata": {},
   "outputs": [
    {
     "name": "stdout",
     "output_type": "stream",
     "text": [
      "<map object at 0x0000022C8EEC12C8>\n"
     ]
    }
   ],
   "source": [
    "# Example 1: Working of map()\n",
    "\n",
    "def calculateSquare(n):\n",
    "    return n*n\n",
    "\n",
    "numbers = (1, 2, 3, 4)\n",
    "\n",
    "result = map(calculateSquare, numbers)\n",
    "\n",
    "print(result)"
   ]
  },
  {
   "cell_type": "code",
   "execution_count": 17,
   "metadata": {},
   "outputs": [
    {
     "name": "stdout",
     "output_type": "stream",
     "text": [
      "{16, 1, 4, 9}\n"
     ]
    }
   ],
   "source": [
    "# converting map object to set\n",
    "\n",
    "numbersSquare = set(result)\n",
    "\n",
    "print(numbersSquare)"
   ]
  },
  {
   "cell_type": "markdown",
   "metadata": {},
   "source": [
    "In the above example, each item of the tuple is squared."
   ]
  },
  {
   "cell_type": "markdown",
   "metadata": {},
   "source": [
    "Since map() expects a function to be passed in, lambda functions are commonly used while working with map() functions."
   ]
  },
  {
   "cell_type": "code",
   "execution_count": 18,
   "metadata": {},
   "outputs": [
    {
     "name": "stdout",
     "output_type": "stream",
     "text": [
      "<map object at 0x0000022C8EE73D08>\n"
     ]
    }
   ],
   "source": [
    "# Example 2: How to use lambda function with map()?\n",
    "\n",
    "numbers = (1, 2, 3, 4)\n",
    "\n",
    "result = map(lambda x: x*x, numbers)\n",
    "\n",
    "print(result)"
   ]
  },
  {
   "cell_type": "code",
   "execution_count": 19,
   "metadata": {},
   "outputs": [
    {
     "name": "stdout",
     "output_type": "stream",
     "text": [
      "{16, 1, 4, 9}\n"
     ]
    }
   ],
   "source": [
    "# converting map object to set\n",
    "\n",
    "numbersSquare = set(result)\n",
    "\n",
    "print(numbersSquare)"
   ]
  },
  {
   "cell_type": "markdown",
   "metadata": {},
   "source": [
    "There is no difference in functionalities of this example and Example 1."
   ]
  },
  {
   "cell_type": "code",
   "execution_count": 20,
   "metadata": {},
   "outputs": [],
   "source": [
    "# Example 3: Passing Multiple Iterators to map() Using Lambda\n",
    "\n",
    "num1 = [4, 5, 6]\n",
    "num2 = [5, 6, 7]\n",
    "\n",
    "result = map(lambda x,y : x+y, num1,num2)"
   ]
  },
  {
   "cell_type": "code",
   "execution_count": 23,
   "metadata": {},
   "outputs": [
    {
     "name": "stdout",
     "output_type": "stream",
     "text": [
      "[9, 11, 13]\n"
     ]
    }
   ],
   "source": [
    "print(list(result))"
   ]
  },
  {
   "cell_type": "markdown",
   "metadata": {},
   "source": [
    "### 44. Python next()"
   ]
  },
  {
   "cell_type": "markdown",
   "metadata": {},
   "source": [
    "The next() function returns the next item from the iterator."
   ]
  },
  {
   "cell_type": "markdown",
   "metadata": {},
   "source": [
    "The syntax of next() is: next(iterator, default)"
   ]
  },
  {
   "cell_type": "markdown",
   "metadata": {},
   "source": [
    "**next() Parameters**\n",
    "\n",
    "- iterator - next() retrieves next item from the iterator\n",
    "\n",
    "- default (optional) - this value is returned if the iterator is exhausted (there is no next item)"
   ]
  },
  {
   "cell_type": "markdown",
   "metadata": {},
   "source": [
    "**Return Value from next()**\n",
    "\n",
    "The next() function returns the next item from the iterator.\n",
    "\n",
    "If the iterator is exhausted, it returns the default value passed as an argument.\n",
    "\n",
    "If the default parameter is omitted and the iterator is exhausted, it raises StopIteration exception."
   ]
  },
  {
   "cell_type": "code",
   "execution_count": 26,
   "metadata": {},
   "outputs": [
    {
     "name": "stdout",
     "output_type": "stream",
     "text": [
      "<list_iterator object at 0x0000022C8EED60C8>\n"
     ]
    }
   ],
   "source": [
    "# Example 1: Get the next item\n",
    "\n",
    "random = [5, 9, 'cat']\n",
    "\n",
    "# converting the list to an iterator\n",
    "\n",
    "random_iterator = iter(random)\n",
    "\n",
    "print(random_iterator)"
   ]
  },
  {
   "cell_type": "code",
   "execution_count": 27,
   "metadata": {},
   "outputs": [
    {
     "name": "stdout",
     "output_type": "stream",
     "text": [
      "5\n"
     ]
    }
   ],
   "source": [
    "print(next(random_iterator))"
   ]
  },
  {
   "cell_type": "code",
   "execution_count": 28,
   "metadata": {},
   "outputs": [
    {
     "name": "stdout",
     "output_type": "stream",
     "text": [
      "9\n"
     ]
    }
   ],
   "source": [
    "print(next(random_iterator))"
   ]
  },
  {
   "cell_type": "code",
   "execution_count": 29,
   "metadata": {},
   "outputs": [
    {
     "name": "stdout",
     "output_type": "stream",
     "text": [
      "cat\n"
     ]
    }
   ],
   "source": [
    "print(next(random_iterator))"
   ]
  },
  {
   "cell_type": "code",
   "execution_count": 30,
   "metadata": {},
   "outputs": [
    {
     "ename": "StopIteration",
     "evalue": "",
     "output_type": "error",
     "traceback": [
      "\u001b[1;31m---------------------------------------------------------------------------\u001b[0m",
      "\u001b[1;31mStopIteration\u001b[0m                             Traceback (most recent call last)",
      "\u001b[1;32m<ipython-input-30-e908ab5612cf>\u001b[0m in \u001b[0;36m<module>\u001b[1;34m\u001b[0m\n\u001b[1;32m----> 1\u001b[1;33m \u001b[0mprint\u001b[0m\u001b[1;33m(\u001b[0m\u001b[0mnext\u001b[0m\u001b[1;33m(\u001b[0m\u001b[0mrandom_iterator\u001b[0m\u001b[1;33m)\u001b[0m\u001b[1;33m)\u001b[0m\u001b[1;33m\u001b[0m\u001b[1;33m\u001b[0m\u001b[0m\n\u001b[0m",
      "\u001b[1;31mStopIteration\u001b[0m: "
     ]
    }
   ],
   "source": [
    "print(next(random_iterator))"
   ]
  },
  {
   "cell_type": "markdown",
   "metadata": {},
   "source": [
    "A list is an iterable and you can get its iterator from it by using the iter() function in Python."
   ]
  },
  {
   "cell_type": "markdown",
   "metadata": {},
   "source": [
    "We got an error from the last statement in the above program because we tried to get the next item when no next item was available (iterator is exhausted)."
   ]
  },
  {
   "cell_type": "markdown",
   "metadata": {},
   "source": [
    "In such cases, you can give a default value as the second parameter."
   ]
  },
  {
   "cell_type": "code",
   "execution_count": 31,
   "metadata": {},
   "outputs": [],
   "source": [
    "# Example 2: Passing default value to next()\n",
    "\n",
    "random = [5, 9]\n",
    "\n",
    "# converting the list to an iterator\n",
    "random_iterator = iter(random)"
   ]
  },
  {
   "cell_type": "code",
   "execution_count": 32,
   "metadata": {},
   "outputs": [
    {
     "name": "stdout",
     "output_type": "stream",
     "text": [
      "5\n"
     ]
    }
   ],
   "source": [
    "print(next(random_iterator, '-1'))"
   ]
  },
  {
   "cell_type": "code",
   "execution_count": 33,
   "metadata": {},
   "outputs": [
    {
     "name": "stdout",
     "output_type": "stream",
     "text": [
      "9\n"
     ]
    }
   ],
   "source": [
    "print(next(random_iterator, '-1'))"
   ]
  },
  {
   "cell_type": "code",
   "execution_count": 34,
   "metadata": {},
   "outputs": [
    {
     "name": "stdout",
     "output_type": "stream",
     "text": [
      "-1\n"
     ]
    }
   ],
   "source": [
    "# random_iterator is exhausted\n",
    "\n",
    "print(next(random_iterator, '-1'))"
   ]
  },
  {
   "cell_type": "code",
   "execution_count": 35,
   "metadata": {},
   "outputs": [
    {
     "name": "stdout",
     "output_type": "stream",
     "text": [
      "-1\n"
     ]
    }
   ],
   "source": [
    "print(next(random_iterator, '-1'))"
   ]
  },
  {
   "cell_type": "code",
   "execution_count": 36,
   "metadata": {},
   "outputs": [
    {
     "name": "stdout",
     "output_type": "stream",
     "text": [
      "-1\n"
     ]
    }
   ],
   "source": [
    "print(next(random_iterator, '-1'))"
   ]
  },
  {
   "cell_type": "raw",
   "metadata": {},
   "source": [
    "Note: Internally, next() calls the __next__() method."
   ]
  },
  {
   "cell_type": "markdown",
   "metadata": {},
   "source": [
    "### 45. Python memoryview()"
   ]
  },
  {
   "cell_type": "markdown",
   "metadata": {},
   "source": [
    "The memoryview() function returns a memory view object of the given argument."
   ]
  },
  {
   "cell_type": "markdown",
   "metadata": {},
   "source": [
    "**What is a memory view?**\n",
    "\n",
    "A memory view is a safe way to expose the buffer protocol in Python.\n",
    "\n",
    "It allows you to access the internal buffers of an object by creating a memory view object."
   ]
  },
  {
   "cell_type": "markdown",
   "metadata": {},
   "source": [
    "**Python memoryview() Syntax**\n",
    "\n",
    "To expose the buffer protocol using memoryview(), we use this syntax: memoryview(obj)"
   ]
  },
  {
   "cell_type": "markdown",
   "metadata": {},
   "source": [
    "**memoryview() Parameters**\n",
    "\n",
    "The memoryview() function takes a single parameter:\n",
    "\n",
    "- obj - object whose internal data is to be exposed. obj must support the buffer protocol (bytes, bytearray)"
   ]
  },
  {
   "cell_type": "markdown",
   "metadata": {},
   "source": [
    "**Return value from memoryview()**\n",
    "\n",
    "The memoryview() function returns a memory view object."
   ]
  },
  {
   "cell_type": "code",
   "execution_count": 37,
   "metadata": {},
   "outputs": [],
   "source": [
    "# Example 1: How memoryview() works in Python?\n",
    "\n",
    "#random bytearray\n",
    "\n",
    "random_byte_array = bytearray('ABC', 'utf-8')\n",
    "\n",
    "mv = memoryview(random_byte_array)"
   ]
  },
  {
   "cell_type": "code",
   "execution_count": 38,
   "metadata": {},
   "outputs": [
    {
     "name": "stdout",
     "output_type": "stream",
     "text": [
      "65\n"
     ]
    }
   ],
   "source": [
    "# access memory view's zeroth index\n",
    "print(mv[0])"
   ]
  },
  {
   "cell_type": "code",
   "execution_count": 39,
   "metadata": {},
   "outputs": [
    {
     "name": "stdout",
     "output_type": "stream",
     "text": [
      "b'AB'\n"
     ]
    }
   ],
   "source": [
    "# create byte from memory view\n",
    "print(bytes(mv[0:2]))"
   ]
  },
  {
   "cell_type": "code",
   "execution_count": 40,
   "metadata": {},
   "outputs": [
    {
     "name": "stdout",
     "output_type": "stream",
     "text": [
      "[65, 66, 67]\n"
     ]
    }
   ],
   "source": [
    "# create list from memory view\n",
    "print(list(mv[0:3]))"
   ]
  },
  {
   "cell_type": "code",
   "execution_count": 41,
   "metadata": {},
   "outputs": [
    {
     "name": "stdout",
     "output_type": "stream",
     "text": [
      "Before updation: bytearray(b'ABC')\n"
     ]
    }
   ],
   "source": [
    "# Example 2: Modify internal data using memory view\n",
    "\n",
    "# random bytearray\n",
    "\n",
    "random_byte_array = bytearray('ABC', 'utf-8')\n",
    "\n",
    "print('Before updation:', random_byte_array)"
   ]
  },
  {
   "cell_type": "code",
   "execution_count": 42,
   "metadata": {},
   "outputs": [],
   "source": [
    "mv = memoryview(random_byte_array)"
   ]
  },
  {
   "cell_type": "code",
   "execution_count": 43,
   "metadata": {},
   "outputs": [
    {
     "name": "stdout",
     "output_type": "stream",
     "text": [
      "After updation: bytearray(b'AZC')\n"
     ]
    }
   ],
   "source": [
    "# update 1st index of mv to Z\n",
    "\n",
    "mv[1] = 90\n",
    "\n",
    "print('After updation:', random_byte_array)"
   ]
  },
  {
   "cell_type": "markdown",
   "metadata": {},
   "source": [
    "Here, we updated the memory view's 1st index to 90, the ASCII value of Z.\n",
    "\n",
    "Since, the memory view object mv references the same buffer/memory, updating the index in mv also updates random_byte_array."
   ]
  },
  {
   "cell_type": "markdown",
   "metadata": {},
   "source": [
    "### 46. Python object()"
   ]
  },
  {
   "cell_type": "markdown",
   "metadata": {},
   "source": [
    "The object() function returns a featureless object which is a base for all classes."
   ]
  },
  {
   "cell_type": "markdown",
   "metadata": {},
   "source": [
    "The syntax of object() is: o = object()"
   ]
  },
  {
   "cell_type": "markdown",
   "metadata": {},
   "source": [
    "**object() Parameters**\n",
    "\n",
    "The object() function doesn't accept any parameters."
   ]
  },
  {
   "cell_type": "markdown",
   "metadata": {},
   "source": [
    "**Return Value from object()**\n",
    "\n",
    "The object() function returns a featureless object."
   ]
  },
  {
   "cell_type": "code",
   "execution_count": 45,
   "metadata": {},
   "outputs": [
    {
     "name": "stdout",
     "output_type": "stream",
     "text": [
      "<class 'object'>\n",
      "['__class__', '__delattr__', '__dir__', '__doc__', '__eq__', '__format__', '__ge__', '__getattribute__', '__gt__', '__hash__', '__init__', '__init_subclass__', '__le__', '__lt__', '__ne__', '__new__', '__reduce__', '__reduce_ex__', '__repr__', '__setattr__', '__sizeof__', '__str__', '__subclasshook__']\n"
     ]
    }
   ],
   "source": [
    "# Example: How object() works?\n",
    "\n",
    "test = object()\n",
    "\n",
    "print(type(test))\n",
    "print(dir(test))"
   ]
  },
  {
   "cell_type": "markdown",
   "metadata": {},
   "source": [
    "### 47. Python oct()"
   ]
  },
  {
   "cell_type": "markdown",
   "metadata": {},
   "source": [
    "The oct() function takes an integer number and returns its octal representation."
   ]
  },
  {
   "cell_type": "markdown",
   "metadata": {},
   "source": [
    "The syntax of oct() is: oct(x)"
   ]
  },
  {
   "cell_type": "markdown",
   "metadata": {},
   "source": [
    "**oct() Parameters**\n",
    "\n",
    "The oct() function takes a single parameter x.\n",
    "\n",
    "This parameter could be:\n",
    "\n",
    "an integer number (binary, decimal or hexadecimal)\n",
    "\n",
    "if not an integer, it should implement __index__() to return an integer"
   ]
  },
  {
   "cell_type": "markdown",
   "metadata": {},
   "source": [
    "**Return value from oct()**\n",
    "\n",
    "The oct() function returns an octal string from the given integer number."
   ]
  },
  {
   "cell_type": "code",
   "execution_count": 46,
   "metadata": {},
   "outputs": [
    {
     "name": "stdout",
     "output_type": "stream",
     "text": [
      "oct(10) is: 0o12\n"
     ]
    }
   ],
   "source": [
    "# Example 1: How oct() works in Python?\n",
    "\n",
    "# decimal to octal\n",
    "print('oct(10) is:', oct(10))"
   ]
  },
  {
   "cell_type": "code",
   "execution_count": 47,
   "metadata": {},
   "outputs": [
    {
     "name": "stdout",
     "output_type": "stream",
     "text": [
      "oct(0b101) is: 0o5\n"
     ]
    }
   ],
   "source": [
    "# binary to octal\n",
    "print('oct(0b101) is:', oct(0b101))"
   ]
  },
  {
   "cell_type": "code",
   "execution_count": 48,
   "metadata": {},
   "outputs": [
    {
     "name": "stdout",
     "output_type": "stream",
     "text": [
      "oct(0XA) is: 0o12\n"
     ]
    }
   ],
   "source": [
    "# hexadecimal to octal\n",
    "print('oct(0XA) is:', oct(0XA))"
   ]
  },
  {
   "cell_type": "code",
   "execution_count": 49,
   "metadata": {},
   "outputs": [
    {
     "name": "stdout",
     "output_type": "stream",
     "text": [
      "The oct is: 0o27\n"
     ]
    }
   ],
   "source": [
    "# Example 2: oct() for custom objects\n",
    "\n",
    "class Person:\n",
    "    age = 23\n",
    "\n",
    "    def __index__(self):\n",
    "        return self.age\n",
    "\n",
    "    def __int__(self):\n",
    "        return self.age\n",
    "\n",
    "person = Person()\n",
    "print('The oct is:', oct(person))"
   ]
  },
  {
   "cell_type": "markdown",
   "metadata": {},
   "source": [
    "### 48. Python ord()"
   ]
  },
  {
   "cell_type": "markdown",
   "metadata": {},
   "source": [
    "The ord() function returns an integer representing the Unicode character."
   ]
  },
  {
   "cell_type": "markdown",
   "metadata": {},
   "source": [
    "The syntax of ord() is: ord(ch)"
   ]
  },
  {
   "cell_type": "markdown",
   "metadata": {},
   "source": [
    "**ord() Parameters**\n",
    "\n",
    "The ord() function takes a single parameter:\n",
    "\n",
    "- ch - a Unicode character"
   ]
  },
  {
   "cell_type": "markdown",
   "metadata": {},
   "source": [
    "**Return value from ord()**\n",
    "\n",
    "The ord() function returns an integer representing the Unicode character."
   ]
  },
  {
   "cell_type": "code",
   "execution_count": 50,
   "metadata": {},
   "outputs": [
    {
     "name": "stdout",
     "output_type": "stream",
     "text": [
      "53\n"
     ]
    }
   ],
   "source": [
    "# Example: How ord() works in Python?\n",
    "\n",
    "print(ord('5'))"
   ]
  },
  {
   "cell_type": "code",
   "execution_count": 51,
   "metadata": {},
   "outputs": [
    {
     "name": "stdout",
     "output_type": "stream",
     "text": [
      "65\n"
     ]
    }
   ],
   "source": [
    "print(ord('A')) "
   ]
  },
  {
   "cell_type": "code",
   "execution_count": 52,
   "metadata": {},
   "outputs": [
    {
     "name": "stdout",
     "output_type": "stream",
     "text": [
      "36\n"
     ]
    }
   ],
   "source": [
    "print(ord('$'))"
   ]
  },
  {
   "cell_type": "markdown",
   "metadata": {},
   "source": [
    "### 49. Python open()"
   ]
  },
  {
   "cell_type": "markdown",
   "metadata": {},
   "source": [
    "The open() function opens the file (if possible) and returns the corresponding file object."
   ]
  },
  {
   "cell_type": "markdown",
   "metadata": {},
   "source": [
    "The syntax of open() is: open(file, mode='r', buffering=-1, encoding=None, errors=None, newline=None, closefd=True, opener=None)"
   ]
  },
  {
   "cell_type": "markdown",
   "metadata": {},
   "source": [
    "**open() Parameters**\n",
    "\n",
    "- file - path-like object (representing a file system path)\n",
    "\n",
    "- buffering (optional) - used for setting buffering policy\n",
    "\n",
    "- encoding (optional) - the encoding format\n",
    "\n",
    "- errors (optional) - string specifying how to handle encoding/decoding errors\n",
    "\n",
    "- newline (optional) - how newlines mode works (available values: None, ' ', '\\n', 'r', and '\\r\\n'\n",
    "\n",
    "- closefd (optional) - must be True (default); if given otherwise, an exception will be raised\n",
    "\n",
    "- opener (optional) - a custom opener; must return an open file descriptor\n",
    "\n",
    "- mode (optional) - mode while opening a file. If not provided, it defaults to 'r' (open for reading in text mode). \n",
    "\n",
    "Available file modes are:\n",
    "\n",
    "- 'r' - Open a file for reading. (default)\n",
    "\n",
    "- 'w' - Open a file for writing. Creates a new file if it does not exist or truncates the file if it exists.\n",
    "\n",
    "- 'x' - Open a file for exclusive creation. If the file already exists, the operation fails.\n",
    "\n",
    "- 'a' - Open for appending at the end of the file without truncating it. Creates a new file if it does not exist.\n",
    "\n",
    "- 't' - Open in text mode. (default)\n",
    "\n",
    "- 'b' - Open in binary mode.\n",
    "\n",
    "- '+' - Open a file for updating (reading and writing)"
   ]
  },
  {
   "cell_type": "markdown",
   "metadata": {},
   "source": [
    "**Return Value from open()**\n",
    "\n",
    "The open() function returns a file object which can used to read, write and modify the file.\n",
    "\n",
    "If the file is not found, it raises the FileNotFoundError exception."
   ]
  },
  {
   "cell_type": "code",
   "execution_count": 56,
   "metadata": {},
   "outputs": [],
   "source": [
    "# Example 2: Providing mode to open()\n",
    "\n",
    "# opens the file in reading mode\n",
    "f = open(\"mydata.txt\", mode='r')\n",
    "\n",
    "# opens the file in writing mode \n",
    "f = open(\"mydata.txt\", mode = 'w')\n",
    "\n",
    "# opens for writing to the end \n",
    "f = open(\"mydata.txt\", mode = 'a')"
   ]
  },
  {
   "cell_type": "code",
   "execution_count": 57,
   "metadata": {},
   "outputs": [
    {
     "data": {
      "text/plain": [
       "<_io.TextIOWrapper name='mydata.txt' mode='a' encoding='cp1252'>"
      ]
     },
     "execution_count": 57,
     "metadata": {},
     "output_type": "execute_result"
    }
   ],
   "source": [
    "f"
   ]
  },
  {
   "cell_type": "markdown",
   "metadata": {},
   "source": [
    "Python's default encoding is ASCII. You can easily change it by passing the encoding parameter."
   ]
  },
  {
   "cell_type": "code",
   "execution_count": 62,
   "metadata": {},
   "outputs": [],
   "source": [
    "f = open(\"mydata.txt\", mode = 'r', encoding='utf-8')"
   ]
  },
  {
   "cell_type": "code",
   "execution_count": 60,
   "metadata": {},
   "outputs": [
    {
     "data": {
      "text/plain": [
       "<_io.TextIOWrapper name='mydata.txt' mode='r' encoding='utf-8'>"
      ]
     },
     "execution_count": 60,
     "metadata": {},
     "output_type": "execute_result"
    }
   ],
   "source": [
    "f"
   ]
  },
  {
   "cell_type": "code",
   "execution_count": 63,
   "metadata": {},
   "outputs": [],
   "source": [
    "f.close()"
   ]
  },
  {
   "cell_type": "code",
   "execution_count": 80,
   "metadata": {},
   "outputs": [],
   "source": [
    "with open(\"mydata.txt\",'w',encoding = 'utf-8') as f:\n",
    "    f.write(\"my first file\\n\")\n",
    "    f.write('I am 27 yrs old')\n",
    "    f.write('I live in Mumbai')\n",
    "    f.write('welcome to INSOFE')"
   ]
  },
  {
   "cell_type": "code",
   "execution_count": 81,
   "metadata": {},
   "outputs": [],
   "source": [
    "f = open(\"mydata.txt\",'r',encoding = 'utf-8')"
   ]
  },
  {
   "cell_type": "code",
   "execution_count": 73,
   "metadata": {},
   "outputs": [
    {
     "data": {
      "text/plain": [
       "''"
      ]
     },
     "execution_count": 73,
     "metadata": {},
     "output_type": "execute_result"
    }
   ],
   "source": [
    "f.read()"
   ]
  },
  {
   "cell_type": "code",
   "execution_count": 78,
   "metadata": {},
   "outputs": [
    {
     "name": "stdout",
     "output_type": "stream",
     "text": [
      "my first file\n",
      "I am 27 yrs oldI live in Mumbai"
     ]
    }
   ],
   "source": [
    "for line in f:\n",
    "...     print(line, end = '')"
   ]
  },
  {
   "cell_type": "code",
   "execution_count": 82,
   "metadata": {},
   "outputs": [
    {
     "data": {
      "text/plain": [
       "'my first file\\n'"
      ]
     },
     "execution_count": 82,
     "metadata": {},
     "output_type": "execute_result"
    }
   ],
   "source": [
    "f.readline()"
   ]
  },
  {
   "cell_type": "code",
   "execution_count": 83,
   "metadata": {},
   "outputs": [
    {
     "data": {
      "text/plain": [
       "['I am 27 yrs oldI live in Mumbaiwelcome to INSOFE']"
      ]
     },
     "execution_count": 83,
     "metadata": {},
     "output_type": "execute_result"
    }
   ],
   "source": [
    "f.readlines()"
   ]
  },
  {
   "cell_type": "markdown",
   "metadata": {},
   "source": [
    "### 50. Python pow()"
   ]
  },
  {
   "cell_type": "markdown",
   "metadata": {},
   "source": [
    "The pow() function returns the power of a number."
   ]
  },
  {
   "cell_type": "markdown",
   "metadata": {},
   "source": [
    "The syntax of pow() is: pow(x, y, z)"
   ]
  },
  {
   "cell_type": "markdown",
   "metadata": {},
   "source": [
    "**pow() Parameters**\n",
    "\n",
    "The pow() function takes three parameters:\n",
    "\n",
    "- x - a number, the base\n",
    "\n",
    "- y - a number, the exponent\n",
    "\n",
    "- z (optional) - a number, used for modulus"
   ]
  },
  {
   "cell_type": "code",
   "execution_count": 85,
   "metadata": {},
   "outputs": [
    {
     "name": "stdout",
     "output_type": "stream",
     "text": [
      "4\n"
     ]
    }
   ],
   "source": [
    "# Example 1: Python pow()\n",
    "\n",
    "# positive x, positive y (x**y)\n",
    "print(pow(2, 2))"
   ]
  },
  {
   "cell_type": "code",
   "execution_count": 86,
   "metadata": {},
   "outputs": [
    {
     "name": "stdout",
     "output_type": "stream",
     "text": [
      "4\n"
     ]
    }
   ],
   "source": [
    "# negative x, positive y\n",
    "print(pow(-2, 2))"
   ]
  },
  {
   "cell_type": "code",
   "execution_count": 87,
   "metadata": {},
   "outputs": [
    {
     "name": "stdout",
     "output_type": "stream",
     "text": [
      "0.25\n"
     ]
    }
   ],
   "source": [
    "# positive x, negative y\n",
    "print(pow(2, -2))"
   ]
  },
  {
   "cell_type": "code",
   "execution_count": 88,
   "metadata": {},
   "outputs": [
    {
     "name": "stdout",
     "output_type": "stream",
     "text": [
      "0.25\n"
     ]
    }
   ],
   "source": [
    "# negative x, negative y\n",
    "print(pow(-2, -2))"
   ]
  },
  {
   "cell_type": "code",
   "execution_count": 89,
   "metadata": {},
   "outputs": [
    {
     "name": "stdout",
     "output_type": "stream",
     "text": [
      "4\n"
     ]
    }
   ],
   "source": [
    "# Example 2: pow() with three arguments (x**y) % z\n",
    "\n",
    "x = 7\n",
    "y = 2\n",
    "z = 5\n",
    "\n",
    "print(pow(x, y, z))"
   ]
  },
  {
   "cell_type": "markdown",
   "metadata": {},
   "source": [
    "Here, 7 powered by 2 equals 49. Then, 49 modulus 5 equals 4."
   ]
  },
  {
   "cell_type": "markdown",
   "metadata": {},
   "source": [
    "### 51. Python print()"
   ]
  },
  {
   "cell_type": "markdown",
   "metadata": {},
   "source": [
    "The print() function prints the given object to the standard output device (screen) or to the text stream file."
   ]
  },
  {
   "cell_type": "markdown",
   "metadata": {},
   "source": [
    "The full syntax of print() is: print(*objects, sep=' ', end='\\n', file=sys.stdout, flush=False)"
   ]
  },
  {
   "cell_type": "markdown",
   "metadata": {},
   "source": [
    "**print() Parameters**\n",
    "\n",
    "objects - object to the printed. * indicates that there may be more than one object\n",
    "\n",
    "sep - objects are separated by sep. Default value: ' '\n",
    "\n",
    "end - end is printed at last\n",
    "\n",
    "file - must be an object with write(string) method. If omitted it, sys.stdout will be used which \n",
    "       prints objects on the screen.\n",
    "\n",
    "flush - If True, the stream is forcibly flushed. Default value: False"
   ]
  },
  {
   "cell_type": "markdown",
   "metadata": {},
   "source": [
    "Note: sep, end, file, and flush are keyword arguments. If you want to use sep argument, you have to use:"
   ]
  },
  {
   "cell_type": "markdown",
   "metadata": {},
   "source": [
    "**Return Value from print()**\n",
    "\n",
    "It doesn't return any value; returns None"
   ]
  },
  {
   "cell_type": "code",
   "execution_count": 1,
   "metadata": {},
   "outputs": [
    {
     "name": "stdout",
     "output_type": "stream",
     "text": [
      "Python is fun.\n"
     ]
    }
   ],
   "source": [
    "# Example 1: How print() works in Python?\n",
    "\n",
    "print(\"Python is fun.\")"
   ]
  },
  {
   "cell_type": "code",
   "execution_count": 2,
   "metadata": {},
   "outputs": [
    {
     "name": "stdout",
     "output_type": "stream",
     "text": [
      "a = 5\n"
     ]
    }
   ],
   "source": [
    "a = 5\n",
    "# Two objects are passed\n",
    "print(\"a =\", a)"
   ]
  },
  {
   "cell_type": "code",
   "execution_count": 3,
   "metadata": {},
   "outputs": [
    {
     "name": "stdout",
     "output_type": "stream",
     "text": [
      "a = 5 = b\n"
     ]
    }
   ],
   "source": [
    "b = a\n",
    "# Three objects are passed\n",
    "print('a =', a, '= b')"
   ]
  },
  {
   "cell_type": "markdown",
   "metadata": {},
   "source": [
    "In the above program, only objects parameter is passed to print() function (in all three print statements)."
   ]
  },
  {
   "cell_type": "code",
   "execution_count": 4,
   "metadata": {},
   "outputs": [
    {
     "name": "stdout",
     "output_type": "stream",
     "text": [
      "a =000005\n",
      "\n",
      "\n",
      "a =05"
     ]
    }
   ],
   "source": [
    "# Example 2: print() with separator and end parameters\n",
    "    \n",
    "a = 5\n",
    "\n",
    "print(\"a =\", a, sep='00000', end='\\n\\n\\n')\n",
    "\n",
    "print(\"a =\", a, sep='0', end='')"
   ]
  },
  {
   "cell_type": "code",
   "execution_count": 5,
   "metadata": {},
   "outputs": [],
   "source": [
    "# Example 3: print() with file parameter\n",
    "\n",
    "sourceFile = open('python.txt', 'w')\n",
    "\n",
    "print('Pretty cool, huh!', file = sourceFile)\n",
    "\n",
    "sourceFile.close()"
   ]
  },
  {
   "cell_type": "markdown",
   "metadata": {},
   "source": [
    "This program tries to open the python.txt in writing mode. \n",
    "\n",
    "If this file doesn't exist, python.txt file is created and opened in writing mode.\n",
    "\n",
    "Here, we have passed sourceFile file object to the file parameter. \n",
    "\n",
    "The string object 'Pretty cool, huh!' is printed to python.txt file (check it in your system).\n",
    "\n",
    "Finally, the file is closed using close() method."
   ]
  },
  {
   "cell_type": "markdown",
   "metadata": {},
   "source": [
    "### 52. Python property()"
   ]
  },
  {
   "cell_type": "markdown",
   "metadata": {},
   "source": [
    "The property() construct returns the property attribute."
   ]
  },
  {
   "cell_type": "markdown",
   "metadata": {},
   "source": [
    "The syntax of property() is: property(fget=None, fset=None, fdel=None, doc=None)"
   ]
  },
  {
   "cell_type": "markdown",
   "metadata": {},
   "source": [
    "**property() Parameters**\n",
    "\n",
    "The property() takes four optional parameters:\n",
    "\n",
    "- fget (optional) - Function for getting the attribute value. Defaults to None.\n",
    "- fset (optional) - Function for setting the attribute value. Defaults to None.\n",
    "- fdel (optional) - Function for deleting the attribute value. Defaults to None.\n",
    "- doc (optional) - A string that contains the documentation(docstring) for the attribute. Defaults to  None.\n"
   ]
  },
  {
   "cell_type": "markdown",
   "metadata": {},
   "source": [
    "**Return value from property()**\n",
    "\n",
    "property() returns the property attribute from the given getter, setter, and deleter.\n",
    "\n",
    "If no arguments are given, property() returns a base property attribute that doesn't contain any getter, setter or deleter.\n",
    "\n",
    "If doc isn't provided, property() takes the docstring of the getter function."
   ]
  },
  {
   "cell_type": "code",
   "execution_count": 6,
   "metadata": {},
   "outputs": [
    {
     "name": "stdout",
     "output_type": "stream",
     "text": [
      "Getting name\n",
      "Adam\n",
      "Setting name to John\n",
      "Deleting name\n"
     ]
    }
   ],
   "source": [
    "# Example 1: Create attribute with getter, setter, and deleter\n",
    "\n",
    "class Person:\n",
    "    def __init__(self, name):\n",
    "        self._name = name\n",
    "\n",
    "    def get_name(self):\n",
    "        print('Getting name')\n",
    "        return self._name\n",
    "\n",
    "    def set_name(self, value):\n",
    "        print('Setting name to ' + value)\n",
    "        self._name = value\n",
    "\n",
    "    def del_name(self):\n",
    "        print('Deleting name')\n",
    "        del self._name\n",
    "        \n",
    "        # Set property to use get_name, set_name\n",
    "    # and del_name methods\n",
    "    name = property(get_name, set_name, del_name, 'Name property')\n",
    "\n",
    "p = Person('Adam')\n",
    "print(p.name)\n",
    "\n",
    "p.name = 'John'\n",
    "\n",
    "del p.name"
   ]
  },
  {
   "cell_type": "markdown",
   "metadata": {},
   "source": [
    "**Example 2: Using @property decorator**\n",
    "\n",
    "Instead of using property(), you can use the Python decorator @property to assign the getter, setter, and deleter."
   ]
  },
  {
   "cell_type": "code",
   "execution_count": 7,
   "metadata": {},
   "outputs": [
    {
     "name": "stdout",
     "output_type": "stream",
     "text": [
      "Getting name\n",
      "The name is: Adam\n",
      "Setting name to John\n",
      "Deleting name\n"
     ]
    }
   ],
   "source": [
    "class Person:\n",
    "    def __init__(self, name):\n",
    "        self._name = name\n",
    "\n",
    "    @property\n",
    "    def name(self):\n",
    "        print('Getting name')\n",
    "        return self._name\n",
    "\n",
    "    @name.setter\n",
    "    def name(self, value):\n",
    "        print('Setting name to ' + value)\n",
    "        self._name = value\n",
    "\n",
    "    @name.deleter\n",
    "    def name(self):\n",
    "        print('Deleting name')\n",
    "        del self._name\n",
    "\n",
    "p = Person('Adam')\n",
    "print('The name is:', p.name)\n",
    "p.name = 'John'\n",
    "del p.name"
   ]
  },
  {
   "cell_type": "markdown",
   "metadata": {},
   "source": [
    "Now, whenever we use p.name, it internally calls the appropriate getter, setter, and deleter as shown by the printed output present inside the method."
   ]
  },
  {
   "cell_type": "markdown",
   "metadata": {},
   "source": [
    "### 53. Python range()"
   ]
  },
  {
   "cell_type": "markdown",
   "metadata": {},
   "source": [
    "The range() type returns an immutable sequence of numbers between the given start integer to the stop integer."
   ]
  },
  {
   "cell_type": "markdown",
   "metadata": {},
   "source": [
    "range() constructor has two forms of definition:\n",
    "\n",
    "- range(stop)\n",
    "\n",
    "- range(start, stop[, step])"
   ]
  },
  {
   "cell_type": "markdown",
   "metadata": {},
   "source": [
    "**range() Parameters**\n",
    "\n",
    "range() takes mainly three arguments having the same use in both definitions:\n",
    "\n",
    "- start - integer starting from which the sequence of integers is to be returned\n",
    "\n",
    "- stop - integer before which the sequence of integers is to be returned.\n",
    "\n",
    "The range of integers ends at stop - 1.\n",
    "\n",
    "- step (Optional) - integer value which determines the increment between each integer in the sequence"
   ]
  },
  {
   "cell_type": "code",
   "execution_count": 10,
   "metadata": {},
   "outputs": [
    {
     "name": "stdout",
     "output_type": "stream",
     "text": [
      "[]\n"
     ]
    }
   ],
   "source": [
    "# Example 1: How range works in Python?\n",
    "\n",
    "# empty range\n",
    "print(list(range(0)))"
   ]
  },
  {
   "cell_type": "code",
   "execution_count": 11,
   "metadata": {},
   "outputs": [
    {
     "name": "stdout",
     "output_type": "stream",
     "text": [
      "[0, 1, 2, 3, 4, 5, 6, 7, 8, 9]\n"
     ]
    }
   ],
   "source": [
    "# using range(stop)\n",
    "\n",
    "print(list(range(10)))"
   ]
  },
  {
   "cell_type": "code",
   "execution_count": 12,
   "metadata": {},
   "outputs": [
    {
     "name": "stdout",
     "output_type": "stream",
     "text": [
      "[1, 2, 3, 4, 5, 6, 7, 8, 9]\n"
     ]
    }
   ],
   "source": [
    "# using range(start, stop)\n",
    "\n",
    "print(list(range(1, 10)))"
   ]
  },
  {
   "cell_type": "markdown",
   "metadata": {},
   "source": [
    "Note: We've converted the range to a Python list, as range() returns a generator-like object that only prints the output on demand."
   ]
  },
  {
   "cell_type": "markdown",
   "metadata": {},
   "source": [
    "However, the range object returned by the range constructor can also be accessed by its index. It supports both positive and negative indices."
   ]
  },
  {
   "cell_type": "markdown",
   "metadata": {},
   "source": [
    "You can access the range object by index as: rangeObject[index]"
   ]
  },
  {
   "cell_type": "code",
   "execution_count": 13,
   "metadata": {},
   "outputs": [
    {
     "name": "stdout",
     "output_type": "stream",
     "text": [
      "[2, 4, 6, 8, 10, 12]\n"
     ]
    }
   ],
   "source": [
    "# Example 2: Create a list of even number between the given numbers using range()\n",
    "\n",
    "start = 2\n",
    "stop = 14\n",
    "step = 2\n",
    "\n",
    "print(list(range(start, stop, step)))"
   ]
  },
  {
   "cell_type": "code",
   "execution_count": 14,
   "metadata": {},
   "outputs": [
    {
     "name": "stdout",
     "output_type": "stream",
     "text": [
      "[2, 0, -2, -4, -6, -8, -10, -12]\n"
     ]
    }
   ],
   "source": [
    "# Example 3: How range() works with negative step?\n",
    "\n",
    "start = 2\n",
    "stop = -14\n",
    "step = -2\n",
    "\n",
    "print(list(range(start, stop, step)))"
   ]
  },
  {
   "cell_type": "code",
   "execution_count": 15,
   "metadata": {},
   "outputs": [
    {
     "name": "stdout",
     "output_type": "stream",
     "text": [
      "[]\n"
     ]
    }
   ],
   "source": [
    "# value constraint not met\n",
    "\n",
    "print(list(range(start, 14, step)))"
   ]
  },
  {
   "cell_type": "markdown",
   "metadata": {},
   "source": [
    "### 54. Python repr()"
   ]
  },
  {
   "cell_type": "markdown",
   "metadata": {},
   "source": [
    "The repr() function returns a printable representation of the given object."
   ]
  },
  {
   "cell_type": "markdown",
   "metadata": {},
   "source": [
    "The syntax of repr() is: repr(obj)"
   ]
  },
  {
   "cell_type": "markdown",
   "metadata": {},
   "source": [
    "**repr() Parameters**\n",
    "\n",
    "The repr() function takes a single parameter:\n",
    "\n",
    "- obj - the object whose printable representation has to be returned"
   ]
  },
  {
   "cell_type": "markdown",
   "metadata": {},
   "source": [
    "**Return value from repr()**\n",
    "\n",
    "The repr() function returns a printable representational string of the given object."
   ]
  },
  {
   "cell_type": "code",
   "execution_count": 16,
   "metadata": {},
   "outputs": [
    {
     "name": "stdout",
     "output_type": "stream",
     "text": [
      "'foo'\n"
     ]
    }
   ],
   "source": [
    "# Example 1: How repr() works in Python?\n",
    "\n",
    "var = 'foo'\n",
    "\n",
    "print(repr(var))"
   ]
  },
  {
   "cell_type": "code",
   "execution_count": 17,
   "metadata": {},
   "outputs": [
    {
     "data": {
      "text/plain": [
       "'foo'"
      ]
     },
     "execution_count": 17,
     "metadata": {},
     "output_type": "execute_result"
    }
   ],
   "source": [
    "eval(repr(var))"
   ]
  },
  {
   "cell_type": "code",
   "execution_count": 18,
   "metadata": {},
   "outputs": [
    {
     "name": "stdout",
     "output_type": "stream",
     "text": [
      "'Hello Adam'\n"
     ]
    }
   ],
   "source": [
    "# Example 2: Implement __repr__() for custom objects\n",
    "\n",
    "class Person:\n",
    "    name = 'Adam'\n",
    "\n",
    "    def __repr__(self):\n",
    "        return repr('Hello ' + self.name )\n",
    "\n",
    "print(repr(Person()))"
   ]
  },
  {
   "cell_type": "code",
   "execution_count": 21,
   "metadata": {},
   "outputs": [
    {
     "name": "stdout",
     "output_type": "stream",
     "text": [
      "'I am 40 years Old.'\n"
     ]
    }
   ],
   "source": [
    "class Person:\n",
    "    name = 'Adam'\n",
    "    Age = '40'\n",
    "\n",
    "    def __repr__(self):\n",
    "        return repr('Hello ' + self.name )\n",
    "    \n",
    "    def __repr__(self):\n",
    "        return repr('I am ' + self.Age + ' years Old.' )\n",
    "\n",
    "print(repr(Person()))"
   ]
  },
  {
   "cell_type": "code",
   "execution_count": 28,
   "metadata": {},
   "outputs": [
    {
     "name": "stdout",
     "output_type": "stream",
     "text": [
      "'Hello Adam. I am 40 years Old.'\n"
     ]
    }
   ],
   "source": [
    "class Person:\n",
    "    name = 'Adam'\n",
    "    Age = '40'\n",
    "\n",
    "    def __repr__(self):\n",
    "        return repr('Hello ' + self.name + '. ' +\n",
    "                    'I am ' + self.Age + ' years Old.')\n",
    "\n",
    "print(repr(Person()))"
   ]
  },
  {
   "cell_type": "markdown",
   "metadata": {},
   "source": [
    "### 55. Python reversed()"
   ]
  },
  {
   "cell_type": "markdown",
   "metadata": {},
   "source": [
    "The reversed() function returns the reversed iterator of the given sequence."
   ]
  },
  {
   "cell_type": "markdown",
   "metadata": {},
   "source": [
    "The syntax of reversed() is: reversed(seq)"
   ]
  },
  {
   "cell_type": "markdown",
   "metadata": {},
   "source": [
    "**reversed() Parameters**\n",
    "\n",
    "The reversed() function takes a single parameter:\n",
    "\n",
    "- seq - the sequence to be reversed\n",
    "\n",
    "A sequence is an object that supports sequence protocols: __len__() and __getitem__() methods. \n",
    "\n",
    "For example, tuple, string, list, range, etc.\n",
    "\n",
    "We can also use reversed() in any object that implements __reverse__()."
   ]
  },
  {
   "cell_type": "markdown",
   "metadata": {},
   "source": [
    "**Return value from reversed()**\n",
    "\n",
    "The reversed() function returns an iterator that accesses the given sequence in the reverse order."
   ]
  },
  {
   "cell_type": "code",
   "execution_count": 29,
   "metadata": {},
   "outputs": [
    {
     "name": "stdout",
     "output_type": "stream",
     "text": [
      "['n', 'o', 'h', 't', 'y', 'P']\n"
     ]
    }
   ],
   "source": [
    "# Example 1: Using reveresed() in string, tuple, list, and range\n",
    "\n",
    "# for string\n",
    "\n",
    "seq_string = 'Python'\n",
    "\n",
    "print(list(reversed(seq_string)))"
   ]
  },
  {
   "cell_type": "code",
   "execution_count": 30,
   "metadata": {},
   "outputs": [
    {
     "data": {
      "text/plain": [
       "<reversed at 0x1ea0488c548>"
      ]
     },
     "execution_count": 30,
     "metadata": {},
     "output_type": "execute_result"
    }
   ],
   "source": [
    "reversed(seq_string)"
   ]
  },
  {
   "cell_type": "code",
   "execution_count": 31,
   "metadata": {},
   "outputs": [
    {
     "name": "stdout",
     "output_type": "stream",
     "text": [
      "['n', 'o', 'h', 't', 'y', 'P']\n"
     ]
    }
   ],
   "source": [
    "# for tuple\n",
    "\n",
    "seq_tuple = ('P', 'y', 't', 'h', 'o', 'n')\n",
    "\n",
    "print(list(reversed(seq_tuple)))"
   ]
  },
  {
   "cell_type": "code",
   "execution_count": 32,
   "metadata": {},
   "outputs": [
    {
     "name": "stdout",
     "output_type": "stream",
     "text": [
      "[8, 7, 6, 5]\n"
     ]
    }
   ],
   "source": [
    "# for range\n",
    "\n",
    "seq_range = range(5, 9)\n",
    "\n",
    "print(list(reversed(seq_range)))"
   ]
  },
  {
   "cell_type": "code",
   "execution_count": 33,
   "metadata": {},
   "outputs": [
    {
     "name": "stdout",
     "output_type": "stream",
     "text": [
      "[5, 3, 4, 2, 1]\n"
     ]
    }
   ],
   "source": [
    "# for list\n",
    "\n",
    "seq_list = [1, 2, 4, 3, 5]\n",
    "\n",
    "print(list(reversed(seq_list)))"
   ]
  },
  {
   "cell_type": "code",
   "execution_count": 34,
   "metadata": {},
   "outputs": [
    {
     "name": "stdout",
     "output_type": "stream",
     "text": [
      "['u', 'o', 'i', 'e', 'a']\n"
     ]
    }
   ],
   "source": [
    "# Example 2: reversed() in custom objects\n",
    "\n",
    "class Vowels:\n",
    "    vowels = ['a', 'e', 'i', 'o', 'u']\n",
    "\n",
    "    def __reversed__(self):\n",
    "        return reversed(self.vowels)\n",
    "\n",
    "v = Vowels()\n",
    "\n",
    "print(list(reversed(v)))"
   ]
  },
  {
   "cell_type": "code",
   "execution_count": 36,
   "metadata": {},
   "outputs": [
    {
     "ename": "TypeError",
     "evalue": "'type' object is not reversible",
     "output_type": "error",
     "traceback": [
      "\u001b[1;31m---------------------------------------------------------------------------\u001b[0m",
      "\u001b[1;31mTypeError\u001b[0m                                 Traceback (most recent call last)",
      "\u001b[1;32m<ipython-input-36-3b5317c5295a>\u001b[0m in \u001b[0;36m<module>\u001b[1;34m\u001b[0m\n\u001b[0;32m      5\u001b[0m         \u001b[1;32mreturn\u001b[0m \u001b[0mreversed\u001b[0m\u001b[1;33m(\u001b[0m\u001b[0mself\u001b[0m\u001b[1;33m.\u001b[0m\u001b[0mvowels\u001b[0m\u001b[1;33m)\u001b[0m\u001b[1;33m\u001b[0m\u001b[1;33m\u001b[0m\u001b[0m\n\u001b[0;32m      6\u001b[0m \u001b[1;33m\u001b[0m\u001b[0m\n\u001b[1;32m----> 7\u001b[1;33m \u001b[0mprint\u001b[0m\u001b[1;33m(\u001b[0m\u001b[0mlist\u001b[0m\u001b[1;33m(\u001b[0m\u001b[0mreversed\u001b[0m\u001b[1;33m(\u001b[0m\u001b[0mVowels\u001b[0m\u001b[1;33m)\u001b[0m\u001b[1;33m)\u001b[0m\u001b[1;33m)\u001b[0m\u001b[1;33m\u001b[0m\u001b[1;33m\u001b[0m\u001b[0m\n\u001b[0m",
      "\u001b[1;31mTypeError\u001b[0m: 'type' object is not reversible"
     ]
    }
   ],
   "source": [
    "class Vowels:\n",
    "    vowels = ['a', 'e', 'i', 'o', 'u']\n",
    "\n",
    "    def __reversed__(self):\n",
    "        return reversed(self.vowels)\n",
    "\n",
    "print(list(reversed(Vowels)))"
   ]
  },
  {
   "cell_type": "code",
   "execution_count": 37,
   "metadata": {},
   "outputs": [
    {
     "ename": "NameError",
     "evalue": "name 'vowels' is not defined",
     "output_type": "error",
     "traceback": [
      "\u001b[1;31m---------------------------------------------------------------------------\u001b[0m",
      "\u001b[1;31mNameError\u001b[0m                                 Traceback (most recent call last)",
      "\u001b[1;32m<ipython-input-37-17340972f8df>\u001b[0m in \u001b[0;36m<module>\u001b[1;34m\u001b[0m\n\u001b[0;32m      5\u001b[0m         \u001b[1;32mreturn\u001b[0m \u001b[0mreversed\u001b[0m\u001b[1;33m(\u001b[0m\u001b[0mself\u001b[0m\u001b[1;33m.\u001b[0m\u001b[0mvowels\u001b[0m\u001b[1;33m)\u001b[0m\u001b[1;33m\u001b[0m\u001b[1;33m\u001b[0m\u001b[0m\n\u001b[0;32m      6\u001b[0m \u001b[1;33m\u001b[0m\u001b[0m\n\u001b[1;32m----> 7\u001b[1;33m \u001b[0mprint\u001b[0m\u001b[1;33m(\u001b[0m\u001b[0mlist\u001b[0m\u001b[1;33m(\u001b[0m\u001b[0mreversed\u001b[0m\u001b[1;33m(\u001b[0m\u001b[0mvowels\u001b[0m\u001b[1;33m)\u001b[0m\u001b[1;33m)\u001b[0m\u001b[1;33m)\u001b[0m\u001b[1;33m\u001b[0m\u001b[1;33m\u001b[0m\u001b[0m\n\u001b[0m",
      "\u001b[1;31mNameError\u001b[0m: name 'vowels' is not defined"
     ]
    }
   ],
   "source": [
    "class Vowels:\n",
    "    vowels = ['a', 'e', 'i', 'o', 'u']\n",
    "\n",
    "    def __reversed__(self):\n",
    "        return reversed(self.vowels)\n",
    "\n",
    "print(list(reversed(vowels)))"
   ]
  },
  {
   "cell_type": "markdown",
   "metadata": {},
   "source": [
    "### 56. Python round()"
   ]
  },
  {
   "cell_type": "markdown",
   "metadata": {},
   "source": [
    "The round() function returns a floating-point number rounded to the specified number of decimals."
   ]
  },
  {
   "cell_type": "markdown",
   "metadata": {},
   "source": [
    "The syntax of the round() function is: round(number, ndigits)"
   ]
  },
  {
   "cell_type": "markdown",
   "metadata": {},
   "source": [
    "**round() Parameters**\n",
    "\n",
    "The round() function takes two parameters:\n",
    "\n",
    "- number - the number to be rounded\n",
    "\n",
    "- ndigits (optional) - number up to which the given number is rounded; defaults to 0"
   ]
  },
  {
   "cell_type": "markdown",
   "metadata": {},
   "source": [
    "**Return value from round()**\n",
    "\n",
    "If ndigits is not provided, round() returns the nearest integer to the given number.\n",
    "\n",
    "If ndigits is given, round() returns the number rounded off to the ndigits digits."
   ]
  },
  {
   "cell_type": "code",
   "execution_count": 38,
   "metadata": {},
   "outputs": [
    {
     "name": "stdout",
     "output_type": "stream",
     "text": [
      "10\n"
     ]
    }
   ],
   "source": [
    "# Example 1: How round() works in Python?\n",
    "\n",
    "# for integers\n",
    "print(round(10))"
   ]
  },
  {
   "cell_type": "code",
   "execution_count": 39,
   "metadata": {},
   "outputs": [
    {
     "name": "stdout",
     "output_type": "stream",
     "text": [
      "11\n",
      "6\n"
     ]
    }
   ],
   "source": [
    "# for floating point\n",
    "print(round(10.7))\n",
    "\n",
    "# even choice\n",
    "print(round(5.5))"
   ]
  },
  {
   "cell_type": "code",
   "execution_count": 40,
   "metadata": {},
   "outputs": [
    {
     "name": "stdout",
     "output_type": "stream",
     "text": [
      "2.67\n"
     ]
    }
   ],
   "source": [
    "# Example 2: Round a number to the given number of decimal places\n",
    "\n",
    "print(round(2.665, 2))"
   ]
  },
  {
   "cell_type": "code",
   "execution_count": 41,
   "metadata": {},
   "outputs": [
    {
     "name": "stdout",
     "output_type": "stream",
     "text": [
      "2.67\n"
     ]
    }
   ],
   "source": [
    "print(round(2.675, 2))"
   ]
  },
  {
   "cell_type": "markdown",
   "metadata": {},
   "source": [
    "Note: The behavior of round() for floats can be surprising. \n",
    "\n",
    "Notice round(2.675, 2) gives 2.67 instead of the expected 2.68. \n",
    "\n",
    "This is not a bug: it's a result of the fact that most decimal fractions can't be represented exactly as a float.\n",
    "\n",
    "When the decimal 2.675 is converted to a binary floating-point number, it's again replaced with a binary approximation, whose exact value is: 2.67499999999999982236431605997495353221893310546875\n",
    "\n",
    "Due to this, it is rounded down to 2.67."
   ]
  },
  {
   "cell_type": "markdown",
   "metadata": {},
   "source": [
    "If you're in a situation where this precision is needed, consider using the decimal module, which is designed for floating-point arithmetic:"
   ]
  },
  {
   "cell_type": "code",
   "execution_count": 42,
   "metadata": {},
   "outputs": [
    {
     "name": "stdout",
     "output_type": "stream",
     "text": [
      "2.67\n"
     ]
    }
   ],
   "source": [
    "from decimal import Decimal\n",
    "\n",
    "# normal float\n",
    "\n",
    "num = 2.675\n",
    "\n",
    "print(round(num, 2))"
   ]
  },
  {
   "cell_type": "code",
   "execution_count": 43,
   "metadata": {},
   "outputs": [
    {
     "name": "stdout",
     "output_type": "stream",
     "text": [
      "2.68\n"
     ]
    }
   ],
   "source": [
    "# using decimal.Decimal (passed float as string for precision)\n",
    "\n",
    "num = Decimal('2.675')\n",
    "\n",
    "print(round(num, 2))"
   ]
  },
  {
   "cell_type": "markdown",
   "metadata": {},
   "source": [
    "### 57. Python set()"
   ]
  },
  {
   "cell_type": "markdown",
   "metadata": {},
   "source": [
    "The set() builtin creates a set in Python."
   ]
  },
  {
   "cell_type": "markdown",
   "metadata": {},
   "source": [
    "The syntax of set() is: set(iterable)"
   ]
  },
  {
   "cell_type": "markdown",
   "metadata": {},
   "source": [
    "**set() Parameters**\n",
    "\n",
    "set() takes a single optional parameter:\n",
    "\n",
    "- iterable (optional) - a sequence (string, tuple, etc.) or collection (set, dictionary, etc.) or an iterator object to be converted into a set."
   ]
  },
  {
   "cell_type": "markdown",
   "metadata": {},
   "source": [
    "**Return value from set()**\n",
    "\n",
    "set() returns:\n",
    "\n",
    "- an empty set if no parameters are passed\n",
    "\n",
    "- a set constructed from the given iterable parameter"
   ]
  },
  {
   "cell_type": "code",
   "execution_count": 44,
   "metadata": {},
   "outputs": [
    {
     "name": "stdout",
     "output_type": "stream",
     "text": [
      "set()\n"
     ]
    }
   ],
   "source": [
    "# Example 1: Create sets from string, tuple, list, and range\n",
    "\n",
    "# empty set\n",
    "print(set())"
   ]
  },
  {
   "cell_type": "code",
   "execution_count": 45,
   "metadata": {},
   "outputs": [
    {
     "name": "stdout",
     "output_type": "stream",
     "text": [
      "{'n', 'P', 'y', 'o', 't', 'h'}\n"
     ]
    }
   ],
   "source": [
    "# from string\n",
    "\n",
    "print(set('Python'))"
   ]
  },
  {
   "cell_type": "code",
   "execution_count": 46,
   "metadata": {},
   "outputs": [
    {
     "name": "stdout",
     "output_type": "stream",
     "text": [
      "{'o', 'u', 'a', 'i', 'e'}\n"
     ]
    }
   ],
   "source": [
    "# from tuple\n",
    "\n",
    "print(set(('a', 'e', 'i', 'o', 'u')))"
   ]
  },
  {
   "cell_type": "code",
   "execution_count": 47,
   "metadata": {},
   "outputs": [
    {
     "name": "stdout",
     "output_type": "stream",
     "text": [
      "{'o', 'u', 'a', 'i', 'e'}\n"
     ]
    }
   ],
   "source": [
    "# from list\n",
    "\n",
    "print(set(['a', 'e', 'i', 'o', 'u']))"
   ]
  },
  {
   "cell_type": "code",
   "execution_count": 48,
   "metadata": {},
   "outputs": [
    {
     "name": "stdout",
     "output_type": "stream",
     "text": [
      "{0, 1, 2, 3, 4}\n"
     ]
    }
   ],
   "source": [
    "# from range\n",
    "\n",
    "print(set(range(5)))"
   ]
  },
  {
   "cell_type": "code",
   "execution_count": 49,
   "metadata": {},
   "outputs": [
    {
     "name": "stdout",
     "output_type": "stream",
     "text": [
      "{'a', 'i', 'o', 'u', 'e'}\n"
     ]
    }
   ],
   "source": [
    "# Example 2: Create sets from another set, dictionary and frozen set\n",
    "\n",
    "# from set\n",
    "print(set({'a', 'e', 'i', 'o', 'u'}))"
   ]
  },
  {
   "cell_type": "code",
   "execution_count": 50,
   "metadata": {},
   "outputs": [
    {
     "name": "stdout",
     "output_type": "stream",
     "text": [
      "{'a', 'i', 'o', 'u', 'e'}\n"
     ]
    }
   ],
   "source": [
    "# from dictionary\n",
    "\n",
    "print(set({'a':1, 'e': 2, 'i':3, 'o':4, 'u':5}))"
   ]
  },
  {
   "cell_type": "code",
   "execution_count": 51,
   "metadata": {},
   "outputs": [
    {
     "name": "stdout",
     "output_type": "stream",
     "text": [
      "{'a', 'i', 'o', 'u', 'e'}\n"
     ]
    }
   ],
   "source": [
    "# from frozen set\n",
    "\n",
    "frozen_set = frozenset(('a', 'e', 'i', 'o', 'u'))\n",
    "\n",
    "print(set(frozen_set))"
   ]
  },
  {
   "cell_type": "code",
   "execution_count": 53,
   "metadata": {},
   "outputs": [
    {
     "name": "stdout",
     "output_type": "stream",
     "text": [
      "{1, 2, 3, 4, 5}\n"
     ]
    }
   ],
   "source": [
    "# Example 3: Create set() for a custom iterable object\n",
    "\n",
    "class PrintNumber:\n",
    "        \n",
    "    def __init__(self, max):\n",
    "        self.max = max\n",
    "        \n",
    "    def __iter__(self):\n",
    "        self.num = 0\n",
    "        return self\n",
    "\n",
    "    def __next__(self):\n",
    "        if(self.num >= self.max):\n",
    "            raise StopIteration\n",
    "        self.num += 1\n",
    "        return self.num\n",
    "\n",
    "# print_num is an iterable\n",
    "print_num = PrintNumber(5)\n",
    "\n",
    "# creating a set\n",
    "print(set(print_num))"
   ]
  },
  {
   "cell_type": "markdown",
   "metadata": {},
   "source": [
    "### 58. Python setattr()"
   ]
  },
  {
   "cell_type": "markdown",
   "metadata": {},
   "source": [
    "The setattr() function sets the value of the attribute of an object."
   ]
  },
  {
   "cell_type": "markdown",
   "metadata": {},
   "source": [
    "The syntax of the setattr() function is: setattr(object, name, value)"
   ]
  },
  {
   "cell_type": "markdown",
   "metadata": {},
   "source": [
    "**setattr() Parameters**\n",
    "\n",
    "The setattr() function takes three parameters:\n",
    "\n",
    "- object - object whose attribute has to be set\n",
    "- name - attribute name\n",
    "- value - value given to the attribute"
   ]
  },
  {
   "cell_type": "markdown",
   "metadata": {},
   "source": [
    "**Return value from setattr()**\n",
    "\n",
    "The setattr() method doesn't return anything; returns None."
   ]
  },
  {
   "cell_type": "code",
   "execution_count": 54,
   "metadata": {},
   "outputs": [
    {
     "name": "stdout",
     "output_type": "stream",
     "text": [
      "Before modification: Adam\n"
     ]
    }
   ],
   "source": [
    "# Example 1: How setattr() works in Python?\n",
    "\n",
    "class Person:\n",
    "    name = 'Adam'\n",
    "    \n",
    "p = Person()\n",
    "print('Before modification:', p.name)"
   ]
  },
  {
   "cell_type": "code",
   "execution_count": 55,
   "metadata": {},
   "outputs": [
    {
     "name": "stdout",
     "output_type": "stream",
     "text": [
      "After modification: John\n"
     ]
    }
   ],
   "source": [
    "# setting name to 'John'\n",
    "setattr(p, 'name', 'John')\n",
    "\n",
    "print('After modification:', p.name)"
   ]
  },
  {
   "cell_type": "code",
   "execution_count": 56,
   "metadata": {},
   "outputs": [
    {
     "name": "stdout",
     "output_type": "stream",
     "text": [
      "Name is: John\n",
      "Age is: 23\n"
     ]
    }
   ],
   "source": [
    "# Example 2: When the attribute is not found in setattr()\n",
    "\n",
    "class Person:\n",
    "    name = 'Adam'\n",
    "    \n",
    "p = Person()\n",
    "\n",
    "# setting attribute name to John\n",
    "setattr(p, 'name', 'John')\n",
    "print('Name is:', p.name)\n",
    "\n",
    "# setting an attribute not present in Person\n",
    "setattr(p, 'age', 23)\n",
    "print('Age is:', p.age)"
   ]
  },
  {
   "cell_type": "markdown",
   "metadata": {},
   "source": [
    "### 59. Python slice()"
   ]
  },
  {
   "cell_type": "markdown",
   "metadata": {},
   "source": [
    "The slice() function returns a slice object that can use used to slice strings, lists, tuple etc."
   ]
  },
  {
   "cell_type": "markdown",
   "metadata": {},
   "source": [
    "The syntax of slice() is: slice(start, stop, step)"
   ]
  },
  {
   "cell_type": "markdown",
   "metadata": {},
   "source": [
    "**slice() Parameters**\n",
    "\n",
    "slice() can take three parameters:\n",
    "\n",
    "- start (optional) - Starting integer where the slicing of the object starts. Default to None if not provided.\n",
    "- stop - Integer until which the slicing takes place. The slicing stops at index stop -1 (last element).\n",
    "- step (optional) - Integer value which determines the increment between each index for slicing. Defaults to None if not provided."
   ]
  },
  {
   "cell_type": "code",
   "execution_count": 1,
   "metadata": {},
   "outputs": [
    {
     "name": "stdout",
     "output_type": "stream",
     "text": [
      "slice(None, 3, None)\n"
     ]
    }
   ],
   "source": [
    "# Example 1: Create a slice object for slicing\n",
    "\n",
    "# contains indices (0, 1, 2)\n",
    "result1 = slice(3)\n",
    "print(result1)"
   ]
  },
  {
   "cell_type": "code",
   "execution_count": 2,
   "metadata": {},
   "outputs": [
    {
     "name": "stdout",
     "output_type": "stream",
     "text": [
      "slice(1, 5, 2)\n"
     ]
    }
   ],
   "source": [
    "# contains indices (1, 3)\n",
    "result2 = slice(1, 5, 2)\n",
    "print(slice(1, 5, 2))"
   ]
  },
  {
   "cell_type": "code",
   "execution_count": 3,
   "metadata": {},
   "outputs": [
    {
     "name": "stdout",
     "output_type": "stream",
     "text": [
      "Pyt\n"
     ]
    }
   ],
   "source": [
    "# Example 2: Get substring using slice object\n",
    "\n",
    "# Program to get a substring from the given string \n",
    "\n",
    "py_string = 'Python'\n",
    "\n",
    "# stop = 3\n",
    "# contains 0, 1 and 2 indices\n",
    "slice_object = slice(3) \n",
    "print(py_string[slice_object])"
   ]
  },
  {
   "cell_type": "code",
   "execution_count": 4,
   "metadata": {},
   "outputs": [
    {
     "name": "stdout",
     "output_type": "stream",
     "text": [
      "yhn\n"
     ]
    }
   ],
   "source": [
    "# start = 1, stop = 6, step = 2\n",
    "\n",
    "# contains 1, 3 and 5 indices\n",
    "\n",
    "slice_object = slice(1, 6, 2)\n",
    "\n",
    "print(py_string[slice_object]) "
   ]
  },
  {
   "cell_type": "code",
   "execution_count": 5,
   "metadata": {},
   "outputs": [
    {
     "name": "stdout",
     "output_type": "stream",
     "text": [
      "noh\n"
     ]
    }
   ],
   "source": [
    "# Example 3: Get substring using negative index\n",
    "\n",
    "py_string = 'Python'\n",
    "\n",
    "# start = -1, stop = -4, step = -1\n",
    "# contains indices -1, -2 and -3\n",
    "slice_object = slice(-1, -4, -1)\n",
    "\n",
    "print(py_string[slice_object]) "
   ]
  },
  {
   "cell_type": "code",
   "execution_count": 6,
   "metadata": {},
   "outputs": [
    {
     "name": "stdout",
     "output_type": "stream",
     "text": [
      "['P', 'y', 't']\n"
     ]
    }
   ],
   "source": [
    "# Example 4: Get sublist and sub-tuple\n",
    "\n",
    "py_list = ['P', 'y', 't', 'h', 'o', 'n']\n",
    "py_tuple = ('P', 'y', 't', 'h', 'o', 'n')\n",
    "\n",
    "# contains indices 0, 1 and 2\n",
    "slice_object = slice(3)\n",
    "\n",
    "print(py_list[slice_object]) # ['P', 'y', 't']"
   ]
  },
  {
   "cell_type": "code",
   "execution_count": 7,
   "metadata": {},
   "outputs": [
    {
     "name": "stdout",
     "output_type": "stream",
     "text": [
      "('y', 'h')\n"
     ]
    }
   ],
   "source": [
    "# contains indices 1 and 3\n",
    "\n",
    "slice_object = slice(1, 5, 2)\n",
    "\n",
    "print(py_tuple[slice_object])"
   ]
  },
  {
   "cell_type": "code",
   "execution_count": 8,
   "metadata": {},
   "outputs": [
    {
     "name": "stdout",
     "output_type": "stream",
     "text": [
      "['n', 'o', 'h']\n"
     ]
    }
   ],
   "source": [
    "# Example 5: Get sublist and sub-tuple using negative index\n",
    "\n",
    "py_list = ['P', 'y', 't', 'h', 'o', 'n']\n",
    "\n",
    "py_tuple = ('P', 'y', 't', 'h', 'o', 'n')\n",
    "\n",
    "# contains indices -1, -2 and -3\n",
    "\n",
    "slice_object = slice(-1, -4, -1) \n",
    "\n",
    "print(py_list[slice_object])"
   ]
  },
  {
   "cell_type": "code",
   "execution_count": 9,
   "metadata": {},
   "outputs": [
    {
     "name": "stdout",
     "output_type": "stream",
     "text": [
      "('n', 'h')\n"
     ]
    }
   ],
   "source": [
    "# contains indices -1 and -3\n",
    "\n",
    "slice_object = slice(-1, -5, -2)\n",
    "\n",
    "print(py_tuple[slice_object])"
   ]
  },
  {
   "cell_type": "raw",
   "metadata": {},
   "source": [
    "# Example 6: Using Indexing Syntax for Slicing\n",
    "\n",
    "The slice object can be substituted with the indexing syntax in Python.\n",
    "\n",
    "You can alternately use the following syntax for slicing: obj[start:stop:step]"
   ]
  },
  {
   "cell_type": "code",
   "execution_count": 10,
   "metadata": {},
   "outputs": [
    {
     "name": "stdout",
     "output_type": "stream",
     "text": [
      "Pyt\n"
     ]
    }
   ],
   "source": [
    "py_string = 'Python'\n",
    "\n",
    "# contains indices 0, 1 and 2\n",
    "\n",
    "print(py_string[0:3]) "
   ]
  },
  {
   "cell_type": "code",
   "execution_count": 11,
   "metadata": {},
   "outputs": [
    {
     "name": "stdout",
     "output_type": "stream",
     "text": [
      "yh\n"
     ]
    }
   ],
   "source": [
    "# contains indices 1 and 3\n",
    "\n",
    "print(py_string[1:5:2])"
   ]
  },
  {
   "cell_type": "markdown",
   "metadata": {},
   "source": [
    "### 60. Python sorted()"
   ]
  },
  {
   "cell_type": "markdown",
   "metadata": {},
   "source": [
    "The sorted() function returns a sorted list from the items in an iterable."
   ]
  },
  {
   "cell_type": "markdown",
   "metadata": {},
   "source": [
    "The sorted() function sorts the elements of a given iterable in a specific order (either ascending or descending) and returns the sorted iterable as a list.\n",
    "\n",
    "The syntax of the sorted() function is: sorted(iterable, key=None, reverse=False)"
   ]
  },
  {
   "cell_type": "markdown",
   "metadata": {},
   "source": [
    "**Parameters for the sorted() function**\n",
    "\n",
    "sorted() can take a maximum of three parameters:\n",
    "\n",
    "- iterable - A sequence (string, tuple, list) or collection (set, dictionary, frozen set) or any other iterator.\n",
    "- reverse (Optional) - If True, the sorted list is reversed (or sorted in descending order). Defaults to False if not provided.\n",
    "- key (Optional) - A function that serves as a key for the sort comparison. Defaults to None."
   ]
  },
  {
   "cell_type": "code",
   "execution_count": 12,
   "metadata": {},
   "outputs": [
    {
     "name": "stdout",
     "output_type": "stream",
     "text": [
      "['a', 'e', 'i', 'o', 'u']\n"
     ]
    }
   ],
   "source": [
    "# Example 1: Sort string, list, and tuple\n",
    "\n",
    "# vowels list\n",
    "py_list = ['e', 'a', 'u', 'o', 'i']\n",
    "print(sorted(py_list))"
   ]
  },
  {
   "cell_type": "code",
   "execution_count": 13,
   "metadata": {},
   "outputs": [
    {
     "name": "stdout",
     "output_type": "stream",
     "text": [
      "['P', 'h', 'n', 'o', 't', 'y']\n"
     ]
    }
   ],
   "source": [
    "# string\n",
    "py_string = 'Python'\n",
    "print(sorted(py_string))"
   ]
  },
  {
   "cell_type": "code",
   "execution_count": 14,
   "metadata": {},
   "outputs": [
    {
     "name": "stdout",
     "output_type": "stream",
     "text": [
      "['a', 'e', 'i', 'o', 'u']\n"
     ]
    }
   ],
   "source": [
    "# vowels tuple\n",
    "py_tuple = ('e', 'a', 'u', 'o', 'i')\n",
    "print(sorted(py_tuple))"
   ]
  },
  {
   "cell_type": "markdown",
   "metadata": {},
   "source": [
    "**Example 2: Sort in descending order**\n",
    "\n",
    "The sorted() function accepts a reverse parameter as an optional argument.\n",
    "\n",
    "Setting reverse = True sorts the iterable in the descending order."
   ]
  },
  {
   "cell_type": "code",
   "execution_count": 15,
   "metadata": {},
   "outputs": [
    {
     "name": "stdout",
     "output_type": "stream",
     "text": [
      "['u', 'o', 'i', 'e', 'a']\n"
     ]
    }
   ],
   "source": [
    "# set\n",
    "py_set = {'e', 'a', 'u', 'o', 'i'}\n",
    "print(sorted(py_set, reverse=True))"
   ]
  },
  {
   "cell_type": "code",
   "execution_count": 16,
   "metadata": {},
   "outputs": [
    {
     "name": "stdout",
     "output_type": "stream",
     "text": [
      "['u', 'o', 'i', 'e', 'a']\n"
     ]
    }
   ],
   "source": [
    "# dictionary\n",
    "py_dict = {'e': 1, 'a': 2, 'u': 3, 'o': 4, 'i': 5}\n",
    "print(sorted(py_dict, reverse=True))"
   ]
  },
  {
   "cell_type": "code",
   "execution_count": 17,
   "metadata": {},
   "outputs": [
    {
     "name": "stdout",
     "output_type": "stream",
     "text": [
      "['u', 'o', 'i', 'e', 'a']\n"
     ]
    }
   ],
   "source": [
    "# frozen set\n",
    "frozen_set = frozenset(('e', 'a', 'u', 'o', 'i'))\n",
    "print(sorted(frozen_set, reverse=True))"
   ]
  },
  {
   "cell_type": "code",
   "execution_count": 18,
   "metadata": {},
   "outputs": [
    {
     "name": "stdout",
     "output_type": "stream",
     "text": [
      "Sorted list: [(4, 1), (2, 2), (1, 3), (3, 4)]\n"
     ]
    }
   ],
   "source": [
    "# Example 3: Sort the list using sorted() having a key function\n",
    "\n",
    "# take the second element for sort\n",
    "def take_second(elem):\n",
    "    return elem[1]\n",
    "\n",
    "\n",
    "# random list\n",
    "random = [(2, 2), (3, 4), (4, 1), (1, 3)]\n",
    "\n",
    "# sort list with key\n",
    "sorted_list = sorted(random, key=take_second)\n",
    "\n",
    "# print list\n",
    "print('Sorted list:', sorted_list)"
   ]
  },
  {
   "cell_type": "code",
   "execution_count": 19,
   "metadata": {},
   "outputs": [],
   "source": [
    "# Example 4: Sorting with multiple keys\n",
    "\n",
    "# Nested list of student's info in a Science Olympiad\n",
    "# List elements: (Student's Name, Marks out of 100, Age)\n",
    "\n",
    "participant_list = [\n",
    "    ('Alison', 50, 18),\n",
    "    ('Terence', 75, 12),\n",
    "    ('David', 75, 20),\n",
    "    ('Jimmy', 90, 22),\n",
    "    ('John', 45, 12)\n",
    "]"
   ]
  },
  {
   "cell_type": "markdown",
   "metadata": {},
   "source": [
    "Two tuples can be compared by comparing their elements starting from first. If there is a tie (elements are equal), the second element is compared, and so on."
   ]
  },
  {
   "cell_type": "code",
   "execution_count": 20,
   "metadata": {},
   "outputs": [
    {
     "data": {
      "text/plain": [
       "False"
      ]
     },
     "execution_count": 20,
     "metadata": {},
     "output_type": "execute_result"
    }
   ],
   "source": [
    "(1,3) > (1, 4)"
   ]
  },
  {
   "cell_type": "code",
   "execution_count": 21,
   "metadata": {},
   "outputs": [
    {
     "data": {
      "text/plain": [
       "True"
      ]
     },
     "execution_count": 21,
     "metadata": {},
     "output_type": "execute_result"
    }
   ],
   "source": [
    " (1, 4) < (2,2)"
   ]
  },
  {
   "cell_type": "code",
   "execution_count": 22,
   "metadata": {},
   "outputs": [
    {
     "data": {
      "text/plain": [
       "True"
      ]
     },
     "execution_count": 22,
     "metadata": {},
     "output_type": "execute_result"
    }
   ],
   "source": [
    "(1, 4, 1) < (2, 1)"
   ]
  },
  {
   "cell_type": "code",
   "execution_count": 23,
   "metadata": {},
   "outputs": [
    {
     "name": "stdout",
     "output_type": "stream",
     "text": [
      "[('Jimmy', 90, 22), ('Terence', 75, 12), ('David', 75, 20), ('Alison', 50, 18), ('John', 45, 12)]\n"
     ]
    }
   ],
   "source": [
    "# Nested list of student's info in a Science Olympiad\n",
    "# List elements: (Student's Name, Marks out of 100 , Age)\n",
    "participant_list = [\n",
    "    ('Alison', 50, 18),\n",
    "    ('Terence', 75, 12),\n",
    "    ('David', 75, 20),\n",
    "    ('Jimmy', 90, 22),\n",
    "    ('John', 45, 12)\n",
    "]\n",
    "\n",
    "\n",
    "def sorter(item):\n",
    "    # Since highest marks first, least error = most marks\n",
    "    error = 100 - item[1]\n",
    "    age = item[2]\n",
    "    return (error, age)\n",
    "\n",
    "\n",
    "sorted_list = sorted(participant_list, key=sorter)\n",
    "print(sorted_list)"
   ]
  },
  {
   "cell_type": "markdown",
   "metadata": {},
   "source": [
    "The above program can be written using the lambda function in the following way:"
   ]
  },
  {
   "cell_type": "code",
   "execution_count": 24,
   "metadata": {},
   "outputs": [
    {
     "name": "stdout",
     "output_type": "stream",
     "text": [
      "[('Jimmy', 90, 22), ('Terence', 75, 12), ('David', 75, 20), ('Alison', 50, 18), ('John', 45, 12)]\n"
     ]
    }
   ],
   "source": [
    "# Nested list of student's info in a Science Olympiad\n",
    "\n",
    "# List elements: (Student's Name, Marks out of 100 , Age)\n",
    "\n",
    "participant_list = [\n",
    "    ('Alison', 50, 18),\n",
    "    ('Terence', 75, 12),\n",
    "    ('David', 75, 20),\n",
    "    ('Jimmy', 90, 22),\n",
    "    ('John', 45, 12)\n",
    "]\n",
    "\n",
    "sorted_list = sorted(participant_list, key=lambda item: (100-item[1], item[2]))\n",
    "\n",
    "print(sorted_list)"
   ]
  },
  {
   "cell_type": "markdown",
   "metadata": {},
   "source": [
    "### 61. Python str()"
   ]
  },
  {
   "cell_type": "markdown",
   "metadata": {},
   "source": [
    "The str() function returns the string version of the given object."
   ]
  },
  {
   "cell_type": "markdown",
   "metadata": {},
   "source": [
    "The syntax of str() is: str(object, encoding='utf-8', errors='strict')"
   ]
  },
  {
   "cell_type": "markdown",
   "metadata": {},
   "source": [
    "**str() Parameters**\n",
    "\n",
    "The str()method takes three parameters:\n",
    "\n",
    "- object - The object whose string representation is to be returned. If not provided, returns the empty string\n",
    "- encoding - Encoding of the given object. Defaults of UTF-8 when not provided.\n",
    "- errors - Response when decoding fails. Defaults to 'strict'."
   ]
  },
  {
   "cell_type": "markdown",
   "metadata": {},
   "source": [
    "There are six types of errors:\n",
    "\n",
    "- strict - default response which raises a UnicodeDecodeError exception on failure\n",
    "- ignore - ignores the unencodable Unicode from the result\n",
    "- replace - replaces the unencodable Unicode to a question mark\n",
    "- xmlcharrefreplace - inserts XML character reference instead of unencodable Unicode\n",
    "- backslashreplace - inserts a \\uNNNN espace sequence instead of unencodable Unicode\n",
    "- namereplace - inserts a \\N{...} escape sequence instead of unencodable Unicode"
   ]
  },
  {
   "cell_type": "markdown",
   "metadata": {},
   "source": [
    "**Return value from str()**\n",
    "\n",
    "The str() method returns a string, which is considered an informal or nicely printable representation of the given object."
   ]
  },
  {
   "cell_type": "code",
   "execution_count": 26,
   "metadata": {},
   "outputs": [
    {
     "name": "stdout",
     "output_type": "stream",
     "text": [
      "10\n"
     ]
    }
   ],
   "source": [
    "# Example 1: Convert to String\n",
    "\n",
    "result = str(10)\n",
    "print(result)"
   ]
  },
  {
   "cell_type": "code",
   "execution_count": 27,
   "metadata": {},
   "outputs": [
    {
     "data": {
      "text/plain": [
       "'Adam'"
      ]
     },
     "execution_count": 27,
     "metadata": {},
     "output_type": "execute_result"
    }
   ],
   "source": [
    "str('Adam')"
   ]
  },
  {
   "cell_type": "code",
   "execution_count": 28,
   "metadata": {},
   "outputs": [
    {
     "data": {
      "text/plain": [
       "\"b'Python!'\""
      ]
     },
     "execution_count": 28,
     "metadata": {},
     "output_type": "execute_result"
    }
   ],
   "source": [
    "str(b'Python!')"
   ]
  },
  {
   "cell_type": "code",
   "execution_count": 29,
   "metadata": {},
   "outputs": [
    {
     "name": "stdout",
     "output_type": "stream",
     "text": [
      "pythn\n"
     ]
    }
   ],
   "source": [
    "# Example 2: How str() works for bytes?\n",
    "\n",
    "# bytes\n",
    "b = bytes('pythön', encoding='utf-8')\n",
    "\n",
    "print(str(b, encoding='ascii', errors='ignore'))"
   ]
  },
  {
   "cell_type": "markdown",
   "metadata": {},
   "source": [
    "Here, the character 'ö' cannot be decoded by ASCII. Hence, it should give an error. However, we have set the errors ='ignore'. Hence, Python ignores the character which cannot be decoded by str()."
   ]
  },
  {
   "cell_type": "code",
   "execution_count": 31,
   "metadata": {},
   "outputs": [
    {
     "ename": "UnicodeDecodeError",
     "evalue": "'ascii' codec can't decode byte 0xc3 in position 4: ordinal not in range(128)",
     "output_type": "error",
     "traceback": [
      "\u001b[1;31m---------------------------------------------------------------------------\u001b[0m",
      "\u001b[1;31mUnicodeDecodeError\u001b[0m                        Traceback (most recent call last)",
      "\u001b[1;32m<ipython-input-31-b59e4c603991>\u001b[0m in \u001b[0;36m<module>\u001b[1;34m\u001b[0m\n\u001b[0;32m      2\u001b[0m \u001b[0mb\u001b[0m \u001b[1;33m=\u001b[0m \u001b[0mbytes\u001b[0m\u001b[1;33m(\u001b[0m\u001b[1;34m'pythön'\u001b[0m\u001b[1;33m,\u001b[0m \u001b[0mencoding\u001b[0m\u001b[1;33m=\u001b[0m\u001b[1;34m'utf-8'\u001b[0m\u001b[1;33m)\u001b[0m\u001b[1;33m\u001b[0m\u001b[1;33m\u001b[0m\u001b[0m\n\u001b[0;32m      3\u001b[0m \u001b[1;33m\u001b[0m\u001b[0m\n\u001b[1;32m----> 4\u001b[1;33m \u001b[0mprint\u001b[0m\u001b[1;33m(\u001b[0m\u001b[0mstr\u001b[0m\u001b[1;33m(\u001b[0m\u001b[0mb\u001b[0m\u001b[1;33m,\u001b[0m \u001b[0mencoding\u001b[0m\u001b[1;33m=\u001b[0m\u001b[1;34m'ascii'\u001b[0m\u001b[1;33m)\u001b[0m\u001b[1;33m)\u001b[0m\u001b[1;33m\u001b[0m\u001b[1;33m\u001b[0m\u001b[0m\n\u001b[0m",
      "\u001b[1;31mUnicodeDecodeError\u001b[0m: 'ascii' codec can't decode byte 0xc3 in position 4: ordinal not in range(128)"
     ]
    }
   ],
   "source": [
    "# bytes\n",
    "b = bytes('pythön', encoding='utf-8')\n",
    "\n",
    "print(str(b, encoding='ascii'))"
   ]
  },
  {
   "cell_type": "markdown",
   "metadata": {},
   "source": [
    "### 62.Python sum()"
   ]
  },
  {
   "cell_type": "markdown",
   "metadata": {},
   "source": [
    "The sum() function adds the items of an iterable and returns the sum."
   ]
  },
  {
   "cell_type": "markdown",
   "metadata": {},
   "source": [
    "The syntax of the sum() function is: sum(iterable, start)"
   ]
  },
  {
   "cell_type": "markdown",
   "metadata": {},
   "source": [
    "**sum() Parameters**\n",
    "\n",
    "- iterable - iterable (list, tuple, dict, etc). The items of the iterable should be numbers.\n",
    "- start (optional) - this value is added to the sum of items of the iterable. The default value of start is 0 (if omitted)"
   ]
  },
  {
   "cell_type": "markdown",
   "metadata": {},
   "source": [
    "**Return Value from sum()**\n",
    "\n",
    "sum() returns the sum of start and items of the given iterable."
   ]
  },
  {
   "cell_type": "code",
   "execution_count": 32,
   "metadata": {},
   "outputs": [
    {
     "name": "stdout",
     "output_type": "stream",
     "text": [
      "4.5\n"
     ]
    }
   ],
   "source": [
    "# Example: Working of Python sum()\n",
    "\n",
    "numbers = [2.5, 3, 4, -5]\n",
    "\n",
    "# start parameter is not provided\n",
    "numbers_sum = sum(numbers)\n",
    "print(numbers_sum)"
   ]
  },
  {
   "cell_type": "code",
   "execution_count": 33,
   "metadata": {},
   "outputs": [
    {
     "name": "stdout",
     "output_type": "stream",
     "text": [
      "14.5\n"
     ]
    }
   ],
   "source": [
    "# start = 10\n",
    "numbers_sum = sum(numbers, 10)\n",
    "print(numbers_sum)"
   ]
  },
  {
   "cell_type": "markdown",
   "metadata": {},
   "source": [
    "### 63. Python tuple()"
   ]
  },
  {
   "cell_type": "markdown",
   "metadata": {},
   "source": [
    "The tuple() builtin can be used to create tuples in Python."
   ]
  },
  {
   "cell_type": "markdown",
   "metadata": {},
   "source": [
    "The syntax of tuple() is: tuple(iterable)"
   ]
  },
  {
   "cell_type": "markdown",
   "metadata": {},
   "source": [
    "**tuple() Parameters**\n",
    "\n",
    "- iterable (optional) - an iterable (list, range, etc.) or an iterator object\n",
    "\n",
    "If the iterable is not passed to tuple(), the function returns an empty tuple."
   ]
  },
  {
   "cell_type": "code",
   "execution_count": 34,
   "metadata": {},
   "outputs": [
    {
     "name": "stdout",
     "output_type": "stream",
     "text": [
      "t1 = ()\n"
     ]
    }
   ],
   "source": [
    "# Example: Create tuples using tuple()\n",
    "\n",
    "t1 = tuple()\n",
    "print('t1 =', t1)"
   ]
  },
  {
   "cell_type": "code",
   "execution_count": 35,
   "metadata": {},
   "outputs": [
    {
     "name": "stdout",
     "output_type": "stream",
     "text": [
      "t2 = (1, 4, 6)\n"
     ]
    }
   ],
   "source": [
    "# creating a tuple from a list\n",
    "t2 = tuple([1, 4, 6])\n",
    "print('t2 =', t2)"
   ]
  },
  {
   "cell_type": "code",
   "execution_count": 36,
   "metadata": {},
   "outputs": [
    {
     "name": "stdout",
     "output_type": "stream",
     "text": [
      "t1 = ('P', 'y', 't', 'h', 'o', 'n')\n"
     ]
    }
   ],
   "source": [
    "# creating a tuple from a string\n",
    "t1 = tuple('Python')\n",
    "print('t1 =',t1)"
   ]
  },
  {
   "cell_type": "code",
   "execution_count": 37,
   "metadata": {},
   "outputs": [
    {
     "name": "stdout",
     "output_type": "stream",
     "text": [
      "t1 = (1, 2)\n"
     ]
    }
   ],
   "source": [
    "# creating a tuple from a dictionary\n",
    "\n",
    "t1 = tuple({1: 'one', 2: 'two'})\n",
    "print('t1 =',t1)"
   ]
  },
  {
   "cell_type": "markdown",
   "metadata": {},
   "source": [
    "### 64. Python type()"
   ]
  },
  {
   "cell_type": "markdown",
   "metadata": {},
   "source": [
    "The type() function either returns the type of the object or returns a new type object based on the arguments passed."
   ]
  },
  {
   "cell_type": "markdown",
   "metadata": {},
   "source": [
    "The type() function has two different forms:\n",
    "\n",
    "type(object)\n",
    "type(name, bases, dict)"
   ]
  },
  {
   "cell_type": "markdown",
   "metadata": {},
   "source": [
    "**type() With a Single Object Parameter**\n",
    "\n",
    "If a single object is passed to type(), the function returns its type."
   ]
  },
  {
   "cell_type": "code",
   "execution_count": 39,
   "metadata": {},
   "outputs": [
    {
     "name": "stdout",
     "output_type": "stream",
     "text": [
      "<class 'list'>\n",
      "<class 'dict'>\n",
      "<class '__main__.Foo'>\n"
     ]
    }
   ],
   "source": [
    "# Example 1: Get Type of an Object\n",
    "\n",
    "numbers_list = [1, 2]\n",
    "print(type(numbers_list))\n",
    "\n",
    "numbers_dict = {1: 'one', 2: 'two'}\n",
    "print(type(numbers_dict))\n",
    "\n",
    "class Foo:\n",
    "    a = 0\n",
    "\n",
    "foo = Foo()\n",
    "print(type(foo))"
   ]
  },
  {
   "cell_type": "markdown",
   "metadata": {},
   "source": [
    "**type() With name, bases and dict Parameters**\n",
    "\n",
    "If three parameters are passed to type(), it returns a new type object.\n",
    "\n",
    "The three parameters are:\n",
    "\n",
    "- a class name; becomes the __name__ attribute\n",
    "\n",
    "- a tuple that itemizes the base class; becomes the __bases__ attribute\n",
    "\n",
    "- a dictionary which is the namespace containing definitions for the class body; becomes the __dict__ attribute"
   ]
  },
  {
   "cell_type": "code",
   "execution_count": 40,
   "metadata": {},
   "outputs": [
    {
     "name": "stdout",
     "output_type": "stream",
     "text": [
      "<class 'type'>\n",
      "{'a': 'Foo', 'b': 12, '__module__': '__main__', '__dict__': <attribute '__dict__' of 'X' objects>, '__weakref__': <attribute '__weakref__' of 'X' objects>, '__doc__': None}\n",
      "<class 'type'>\n",
      "{'a': 'Foo', 'b': 12, '__module__': '__main__', '__doc__': None}\n"
     ]
    }
   ],
   "source": [
    "# Example 2: Create a type object\n",
    "\n",
    "o1 = type('X', (object,), dict(a='Foo', b=12))\n",
    "\n",
    "print(type(o1))\n",
    "print(vars(o1))\n",
    "\n",
    "class test:\n",
    "    a = 'Foo'\n",
    "    b = 12\n",
    "  \n",
    "o2 = type('Y', (test,), dict(a='Foo', b=12))\n",
    "print(type(o2))\n",
    "print(vars(o2))"
   ]
  },
  {
   "cell_type": "markdown",
   "metadata": {},
   "source": [
    "### 65. Python vars()"
   ]
  },
  {
   "cell_type": "markdown",
   "metadata": {},
   "source": [
    "The vars() function returns the __dict__ attribute of the given object."
   ]
  },
  {
   "cell_type": "markdown",
   "metadata": {},
   "source": [
    "The syntax of the vars() function is: vars(object)"
   ]
  },
  {
   "cell_type": "markdown",
   "metadata": {},
   "source": [
    "**vars() Parameters**\n",
    "\n",
    "vars() takes a maximum of one parameter.\n",
    "\n",
    "- object - can be module, class, instance, or any object having the __dict__ attribute."
   ]
  },
  {
   "cell_type": "markdown",
   "metadata": {},
   "source": [
    "**Return Value from vars()**\n",
    "\n",
    "vars() returns the __dict__ attribute of the given object.\n",
    "\n",
    "If the object passed to vars() doesn't have the __dict__ attribute, it raises a TypeError exception.\n",
    "\n",
    "If no argument is passed to vars(), this function acts like locals() function."
   ]
  },
  {
   "cell_type": "code",
   "execution_count": 41,
   "metadata": {},
   "outputs": [
    {
     "name": "stdout",
     "output_type": "stream",
     "text": [
      "{'a': 5, 'b': 10}\n"
     ]
    }
   ],
   "source": [
    "# Example: Working of Python vars()\n",
    "\n",
    "class Foo:\n",
    "    def __init__(self, a = 5, b = 10):\n",
    "        self.a = a\n",
    "        self.b = b\n",
    "  \n",
    "object = Foo()\n",
    "print(vars(object))"
   ]
  },
  {
   "cell_type": "code",
   "execution_count": 42,
   "metadata": {},
   "outputs": [
    {
     "data": {
      "text/plain": [
       "mappingproxy({'__repr__': <slot wrapper '__repr__' of 'list' objects>,\n",
       "              '__hash__': None,\n",
       "              '__getattribute__': <slot wrapper '__getattribute__' of 'list' objects>,\n",
       "              '__lt__': <slot wrapper '__lt__' of 'list' objects>,\n",
       "              '__le__': <slot wrapper '__le__' of 'list' objects>,\n",
       "              '__eq__': <slot wrapper '__eq__' of 'list' objects>,\n",
       "              '__ne__': <slot wrapper '__ne__' of 'list' objects>,\n",
       "              '__gt__': <slot wrapper '__gt__' of 'list' objects>,\n",
       "              '__ge__': <slot wrapper '__ge__' of 'list' objects>,\n",
       "              '__iter__': <slot wrapper '__iter__' of 'list' objects>,\n",
       "              '__init__': <slot wrapper '__init__' of 'list' objects>,\n",
       "              '__len__': <slot wrapper '__len__' of 'list' objects>,\n",
       "              '__getitem__': <method '__getitem__' of 'list' objects>,\n",
       "              '__setitem__': <slot wrapper '__setitem__' of 'list' objects>,\n",
       "              '__delitem__': <slot wrapper '__delitem__' of 'list' objects>,\n",
       "              '__add__': <slot wrapper '__add__' of 'list' objects>,\n",
       "              '__mul__': <slot wrapper '__mul__' of 'list' objects>,\n",
       "              '__rmul__': <slot wrapper '__rmul__' of 'list' objects>,\n",
       "              '__contains__': <slot wrapper '__contains__' of 'list' objects>,\n",
       "              '__iadd__': <slot wrapper '__iadd__' of 'list' objects>,\n",
       "              '__imul__': <slot wrapper '__imul__' of 'list' objects>,\n",
       "              '__new__': <function list.__new__(*args, **kwargs)>,\n",
       "              '__reversed__': <method '__reversed__' of 'list' objects>,\n",
       "              '__sizeof__': <method '__sizeof__' of 'list' objects>,\n",
       "              'clear': <method 'clear' of 'list' objects>,\n",
       "              'copy': <method 'copy' of 'list' objects>,\n",
       "              'append': <method 'append' of 'list' objects>,\n",
       "              'insert': <method 'insert' of 'list' objects>,\n",
       "              'extend': <method 'extend' of 'list' objects>,\n",
       "              'pop': <method 'pop' of 'list' objects>,\n",
       "              'remove': <method 'remove' of 'list' objects>,\n",
       "              'index': <method 'index' of 'list' objects>,\n",
       "              'count': <method 'count' of 'list' objects>,\n",
       "              'reverse': <method 'reverse' of 'list' objects>,\n",
       "              'sort': <method 'sort' of 'list' objects>,\n",
       "              '__doc__': 'Built-in mutable sequence.\\n\\nIf no argument is given, the constructor creates a new empty list.\\nThe argument must be an iterable if specified.'})"
      ]
     },
     "execution_count": 42,
     "metadata": {},
     "output_type": "execute_result"
    }
   ],
   "source": [
    "vars(list)"
   ]
  },
  {
   "cell_type": "code",
   "execution_count": 44,
   "metadata": {},
   "outputs": [
    {
     "data": {
      "text/plain": [
       "mappingproxy({'__repr__': <slot wrapper '__repr__' of 'str' objects>,\n",
       "              '__hash__': <slot wrapper '__hash__' of 'str' objects>,\n",
       "              '__str__': <slot wrapper '__str__' of 'str' objects>,\n",
       "              '__getattribute__': <slot wrapper '__getattribute__' of 'str' objects>,\n",
       "              '__lt__': <slot wrapper '__lt__' of 'str' objects>,\n",
       "              '__le__': <slot wrapper '__le__' of 'str' objects>,\n",
       "              '__eq__': <slot wrapper '__eq__' of 'str' objects>,\n",
       "              '__ne__': <slot wrapper '__ne__' of 'str' objects>,\n",
       "              '__gt__': <slot wrapper '__gt__' of 'str' objects>,\n",
       "              '__ge__': <slot wrapper '__ge__' of 'str' objects>,\n",
       "              '__iter__': <slot wrapper '__iter__' of 'str' objects>,\n",
       "              '__mod__': <slot wrapper '__mod__' of 'str' objects>,\n",
       "              '__rmod__': <slot wrapper '__rmod__' of 'str' objects>,\n",
       "              '__len__': <slot wrapper '__len__' of 'str' objects>,\n",
       "              '__getitem__': <slot wrapper '__getitem__' of 'str' objects>,\n",
       "              '__add__': <slot wrapper '__add__' of 'str' objects>,\n",
       "              '__mul__': <slot wrapper '__mul__' of 'str' objects>,\n",
       "              '__rmul__': <slot wrapper '__rmul__' of 'str' objects>,\n",
       "              '__contains__': <slot wrapper '__contains__' of 'str' objects>,\n",
       "              '__new__': <function str.__new__(*args, **kwargs)>,\n",
       "              'encode': <method 'encode' of 'str' objects>,\n",
       "              'replace': <method 'replace' of 'str' objects>,\n",
       "              'split': <method 'split' of 'str' objects>,\n",
       "              'rsplit': <method 'rsplit' of 'str' objects>,\n",
       "              'join': <method 'join' of 'str' objects>,\n",
       "              'capitalize': <method 'capitalize' of 'str' objects>,\n",
       "              'casefold': <method 'casefold' of 'str' objects>,\n",
       "              'title': <method 'title' of 'str' objects>,\n",
       "              'center': <method 'center' of 'str' objects>,\n",
       "              'count': <method 'count' of 'str' objects>,\n",
       "              'expandtabs': <method 'expandtabs' of 'str' objects>,\n",
       "              'find': <method 'find' of 'str' objects>,\n",
       "              'partition': <method 'partition' of 'str' objects>,\n",
       "              'index': <method 'index' of 'str' objects>,\n",
       "              'ljust': <method 'ljust' of 'str' objects>,\n",
       "              'lower': <method 'lower' of 'str' objects>,\n",
       "              'lstrip': <method 'lstrip' of 'str' objects>,\n",
       "              'rfind': <method 'rfind' of 'str' objects>,\n",
       "              'rindex': <method 'rindex' of 'str' objects>,\n",
       "              'rjust': <method 'rjust' of 'str' objects>,\n",
       "              'rstrip': <method 'rstrip' of 'str' objects>,\n",
       "              'rpartition': <method 'rpartition' of 'str' objects>,\n",
       "              'splitlines': <method 'splitlines' of 'str' objects>,\n",
       "              'strip': <method 'strip' of 'str' objects>,\n",
       "              'swapcase': <method 'swapcase' of 'str' objects>,\n",
       "              'translate': <method 'translate' of 'str' objects>,\n",
       "              'upper': <method 'upper' of 'str' objects>,\n",
       "              'startswith': <method 'startswith' of 'str' objects>,\n",
       "              'endswith': <method 'endswith' of 'str' objects>,\n",
       "              'isascii': <method 'isascii' of 'str' objects>,\n",
       "              'islower': <method 'islower' of 'str' objects>,\n",
       "              'isupper': <method 'isupper' of 'str' objects>,\n",
       "              'istitle': <method 'istitle' of 'str' objects>,\n",
       "              'isspace': <method 'isspace' of 'str' objects>,\n",
       "              'isdecimal': <method 'isdecimal' of 'str' objects>,\n",
       "              'isdigit': <method 'isdigit' of 'str' objects>,\n",
       "              'isnumeric': <method 'isnumeric' of 'str' objects>,\n",
       "              'isalpha': <method 'isalpha' of 'str' objects>,\n",
       "              'isalnum': <method 'isalnum' of 'str' objects>,\n",
       "              'isidentifier': <method 'isidentifier' of 'str' objects>,\n",
       "              'isprintable': <method 'isprintable' of 'str' objects>,\n",
       "              'zfill': <method 'zfill' of 'str' objects>,\n",
       "              'format': <method 'format' of 'str' objects>,\n",
       "              'format_map': <method 'format_map' of 'str' objects>,\n",
       "              '__format__': <method '__format__' of 'str' objects>,\n",
       "              'maketrans': <staticmethod at 0x1f9b2204f08>,\n",
       "              '__sizeof__': <method '__sizeof__' of 'str' objects>,\n",
       "              '__getnewargs__': <method '__getnewargs__' of 'str' objects>,\n",
       "              '__doc__': \"str(object='') -> str\\nstr(bytes_or_buffer[, encoding[, errors]]) -> str\\n\\nCreate a new string object from the given object. If encoding or\\nerrors is specified, then the object must expose a data buffer\\nthat will be decoded using the given encoding and error handler.\\nOtherwise, returns the result of object.__str__() (if defined)\\nor repr(object).\\nencoding defaults to sys.getdefaultencoding().\\nerrors defaults to 'strict'.\"})"
      ]
     },
     "execution_count": 44,
     "metadata": {},
     "output_type": "execute_result"
    }
   ],
   "source": [
    "vars(str)"
   ]
  },
  {
   "cell_type": "code",
   "execution_count": 45,
   "metadata": {},
   "outputs": [
    {
     "data": {
      "text/plain": [
       "mappingproxy({'__repr__': <slot wrapper '__repr__' of 'dict' objects>,\n",
       "              '__hash__': None,\n",
       "              '__getattribute__': <slot wrapper '__getattribute__' of 'dict' objects>,\n",
       "              '__lt__': <slot wrapper '__lt__' of 'dict' objects>,\n",
       "              '__le__': <slot wrapper '__le__' of 'dict' objects>,\n",
       "              '__eq__': <slot wrapper '__eq__' of 'dict' objects>,\n",
       "              '__ne__': <slot wrapper '__ne__' of 'dict' objects>,\n",
       "              '__gt__': <slot wrapper '__gt__' of 'dict' objects>,\n",
       "              '__ge__': <slot wrapper '__ge__' of 'dict' objects>,\n",
       "              '__iter__': <slot wrapper '__iter__' of 'dict' objects>,\n",
       "              '__init__': <slot wrapper '__init__' of 'dict' objects>,\n",
       "              '__len__': <slot wrapper '__len__' of 'dict' objects>,\n",
       "              '__getitem__': <method '__getitem__' of 'dict' objects>,\n",
       "              '__setitem__': <slot wrapper '__setitem__' of 'dict' objects>,\n",
       "              '__delitem__': <slot wrapper '__delitem__' of 'dict' objects>,\n",
       "              '__contains__': <method '__contains__' of 'dict' objects>,\n",
       "              '__new__': <function dict.__new__(*args, **kwargs)>,\n",
       "              '__sizeof__': <method '__sizeof__' of 'dict' objects>,\n",
       "              'get': <method 'get' of 'dict' objects>,\n",
       "              'setdefault': <method 'setdefault' of 'dict' objects>,\n",
       "              'pop': <method 'pop' of 'dict' objects>,\n",
       "              'popitem': <method 'popitem' of 'dict' objects>,\n",
       "              'keys': <method 'keys' of 'dict' objects>,\n",
       "              'items': <method 'items' of 'dict' objects>,\n",
       "              'values': <method 'values' of 'dict' objects>,\n",
       "              'update': <method 'update' of 'dict' objects>,\n",
       "              'fromkeys': <method 'fromkeys' of 'dict' objects>,\n",
       "              'clear': <method 'clear' of 'dict' objects>,\n",
       "              'copy': <method 'copy' of 'dict' objects>,\n",
       "              '__doc__': \"dict() -> new empty dictionary\\ndict(mapping) -> new dictionary initialized from a mapping object's\\n    (key, value) pairs\\ndict(iterable) -> new dictionary initialized as if via:\\n    d = {}\\n    for k, v in iterable:\\n        d[k] = v\\ndict(**kwargs) -> new dictionary initialized with the name=value pairs\\n    in the keyword argument list.  For example:  dict(one=1, two=2)\"})"
      ]
     },
     "execution_count": 45,
     "metadata": {},
     "output_type": "execute_result"
    }
   ],
   "source": [
    "vars(dict)"
   ]
  },
  {
   "cell_type": "markdown",
   "metadata": {},
   "source": [
    "### 66. Python zip()"
   ]
  },
  {
   "cell_type": "markdown",
   "metadata": {},
   "source": [
    "The zip() function takes iterables (can be zero or more), aggregates them in a tuple, and return it."
   ]
  },
  {
   "cell_type": "markdown",
   "metadata": {},
   "source": [
    "The syntax of the zip() function is: zip(*iterables)"
   ]
  },
  {
   "cell_type": "markdown",
   "metadata": {},
   "source": [
    "zip() Parameters\n",
    "\n",
    "- iterables - can be built-in iterables (like: list, string, dict), or user-defined iterables"
   ]
  },
  {
   "cell_type": "code",
   "execution_count": 47,
   "metadata": {},
   "outputs": [],
   "source": [
    "# Example 1: Python zip()\n",
    "\n",
    "number_list = [1, 2, 3]\n",
    "str_list = ['one', 'two', 'three']\n",
    "\n",
    "# No iterables are passed\n",
    "result = zip()"
   ]
  },
  {
   "cell_type": "code",
   "execution_count": 48,
   "metadata": {},
   "outputs": [
    {
     "name": "stdout",
     "output_type": "stream",
     "text": [
      "[]\n"
     ]
    }
   ],
   "source": [
    "# Converting itertor to list\n",
    "result_list = list(result)\n",
    "print(result_list)"
   ]
  },
  {
   "cell_type": "code",
   "execution_count": 49,
   "metadata": {},
   "outputs": [
    {
     "name": "stdout",
     "output_type": "stream",
     "text": [
      "{(1, 'one'), (2, 'two'), (3, 'three')}\n"
     ]
    }
   ],
   "source": [
    "# Two iterables are passed\n",
    "result = zip(number_list, str_list)\n",
    "\n",
    "# Converting itertor to set\n",
    "result_set = set(result)\n",
    "print(result_set)"
   ]
  },
  {
   "cell_type": "code",
   "execution_count": 50,
   "metadata": {},
   "outputs": [
    {
     "data": {
      "text/plain": [
       "<zip at 0x1f9b6850d88>"
      ]
     },
     "execution_count": 50,
     "metadata": {},
     "output_type": "execute_result"
    }
   ],
   "source": [
    "result"
   ]
  },
  {
   "cell_type": "code",
   "execution_count": 51,
   "metadata": {},
   "outputs": [
    {
     "data": {
      "text/plain": [
       "[]"
      ]
     },
     "execution_count": 51,
     "metadata": {},
     "output_type": "execute_result"
    }
   ],
   "source": [
    "list(result)"
   ]
  },
  {
   "cell_type": "code",
   "execution_count": 52,
   "metadata": {},
   "outputs": [
    {
     "data": {
      "text/plain": [
       "set()"
      ]
     },
     "execution_count": 52,
     "metadata": {},
     "output_type": "execute_result"
    }
   ],
   "source": [
    "set(result)"
   ]
  },
  {
   "cell_type": "code",
   "execution_count": 54,
   "metadata": {},
   "outputs": [],
   "source": [
    "# Example 2: Different number of iterable elements\n",
    "\n",
    "numbersList = [1, 2, 3]\n",
    "\n",
    "str_list = ['one', 'two']\n",
    "\n",
    "numbers_tuple = ('ONE', 'TWO', 'THREE', 'FOUR')"
   ]
  },
  {
   "cell_type": "code",
   "execution_count": 55,
   "metadata": {},
   "outputs": [],
   "source": [
    "# Notice, the size of numbersList and numbers_tuple is different\n",
    "result = zip(numbersList, numbers_tuple)"
   ]
  },
  {
   "cell_type": "code",
   "execution_count": 57,
   "metadata": {},
   "outputs": [
    {
     "data": {
      "text/plain": [
       "{(1, 'ONE'), (2, 'TWO'), (3, 'THREE')}"
      ]
     },
     "execution_count": 57,
     "metadata": {},
     "output_type": "execute_result"
    }
   ],
   "source": [
    "set(result)"
   ]
  },
  {
   "cell_type": "code",
   "execution_count": 58,
   "metadata": {},
   "outputs": [
    {
     "data": {
      "text/plain": [
       "{(1, 'one', 'ONE'), (2, 'two', 'TWO')}"
      ]
     },
     "execution_count": 58,
     "metadata": {},
     "output_type": "execute_result"
    }
   ],
   "source": [
    "result = zip(numbersList, str_list, numbers_tuple)\n",
    "set(result)"
   ]
  },
  {
   "cell_type": "markdown",
   "metadata": {},
   "source": [
    "The * operator can be used in conjunction with zip() to unzip the list."
   ]
  },
  {
   "cell_type": "markdown",
   "metadata": {},
   "source": [
    "zip(*zippedList)"
   ]
  },
  {
   "cell_type": "code",
   "execution_count": 59,
   "metadata": {},
   "outputs": [
    {
     "name": "stdout",
     "output_type": "stream",
     "text": [
      "[('x', 3), ('y', 4), ('z', 5)]\n"
     ]
    }
   ],
   "source": [
    "# Example 3: Unzipping the Value Using zip()\n",
    "\n",
    "coordinate = ['x', 'y', 'z']\n",
    "value = [3, 4, 5]\n",
    "\n",
    "result = zip(coordinate, value)\n",
    "result_list = list(result)\n",
    "print(result_list)"
   ]
  },
  {
   "cell_type": "code",
   "execution_count": 60,
   "metadata": {},
   "outputs": [
    {
     "name": "stdout",
     "output_type": "stream",
     "text": [
      "c = ('x', 'y', 'z')\n",
      "v = (3, 4, 5)\n"
     ]
    }
   ],
   "source": [
    "c, v =  zip(*result_list)\n",
    "print('c =', c)\n",
    "print('v =', v)"
   ]
  },
  {
   "cell_type": "markdown",
   "metadata": {},
   "source": [
    "### 67. Python __import__()"
   ]
  },
  {
   "cell_type": "raw",
   "metadata": {},
   "source": [
    "The __import__() is a function that is called by the import statement."
   ]
  },
  {
   "cell_type": "raw",
   "metadata": {},
   "source": [
    "The syntax of the __import__() function is:\n",
    "\n",
    "__import__(name, globals=None, locals=None, fromlist=(), level=0)"
   ]
  },
  {
   "cell_type": "markdown",
   "metadata": {},
   "source": [
    "**__import__() Parameters**\n",
    "\n",
    "- name - the name of the module you want to import\n",
    "- globals and locals - determines how to interpret name\n",
    "- fromlist - objects or submodules that should be imported by name\n",
    "- level - specifies whether to use absolute or relative imports"
   ]
  },
  {
   "cell_type": "raw",
   "metadata": {},
   "source": [
    "The fabs() method is defined in the math module. You can call this function using the following syntax:\n",
    "\n",
    "import math\n",
    "math.fabs(x)"
   ]
  },
  {
   "cell_type": "markdown",
   "metadata": {},
   "source": [
    "### 68. Python super()"
   ]
  },
  {
   "cell_type": "markdown",
   "metadata": {},
   "source": [
    "The super() builtin returns a proxy object (temporary object of the superclass) that allows us to access methods of the base class."
   ]
  },
  {
   "cell_type": "markdown",
   "metadata": {},
   "source": [
    "**super() with Multiple Inheritance**"
   ]
  },
  {
   "cell_type": "code",
   "execution_count": 65,
   "metadata": {},
   "outputs": [
    {
     "name": "stdout",
     "output_type": "stream",
     "text": [
      "Dog has 4 legs.\n",
      "Dog can't swim.\n",
      "Dog can't fly.\n",
      "Dog is a warm-blooded animal.\n",
      "Dog is an animal.\n",
      "\n",
      "Bat can't swim.\n",
      "Bat is a warm-blooded animal.\n",
      "Bat is an animal.\n"
     ]
    }
   ],
   "source": [
    "class Animal:\n",
    "  def __init__(self, Animal):\n",
    "    print(Animal, 'is an animal.');\n",
    "\n",
    "class Mammal(Animal):\n",
    "  def __init__(self, mammalName):\n",
    "    print(mammalName, 'is a warm-blooded animal.')\n",
    "    super().__init__(mammalName)\n",
    "    \n",
    "class NonWingedMammal(Mammal):\n",
    "  def __init__(self, NonWingedMammal):\n",
    "    print(NonWingedMammal, \"can't fly.\")\n",
    "    super().__init__(NonWingedMammal)\n",
    "\n",
    "class NonMarineMammal(Mammal):\n",
    "  def __init__(self, NonMarineMammal):\n",
    "    print(NonMarineMammal, \"can't swim.\")\n",
    "    super().__init__(NonMarineMammal)\n",
    "\n",
    "class Dog(NonMarineMammal, NonWingedMammal):\n",
    "  def __init__(self):\n",
    "    print('Dog has 4 legs.');\n",
    "    super().__init__('Dog')\n",
    "    \n",
    "d = Dog()\n",
    "print('')\n",
    "bat = NonMarineMammal('Bat')"
   ]
  },
  {
   "cell_type": "code",
   "execution_count": 66,
   "metadata": {},
   "outputs": [
    {
     "data": {
      "text/plain": [
       "(__main__.Dog,\n",
       " __main__.NonMarineMammal,\n",
       " __main__.NonWingedMammal,\n",
       " __main__.Mammal,\n",
       " __main__.Animal,\n",
       " object)"
      ]
     },
     "execution_count": 66,
     "metadata": {},
     "output_type": "execute_result"
    }
   ],
   "source": [
    "Dog.__mro__"
   ]
  },
  {
   "cell_type": "code",
   "execution_count": null,
   "metadata": {},
   "outputs": [],
   "source": []
  },
  {
   "cell_type": "code",
   "execution_count": null,
   "metadata": {},
   "outputs": [],
   "source": []
  },
  {
   "cell_type": "code",
   "execution_count": null,
   "metadata": {},
   "outputs": [],
   "source": []
  }
 ],
 "metadata": {
  "kernelspec": {
   "display_name": "Python 3",
   "language": "python",
   "name": "python3"
  },
  "language_info": {
   "codemirror_mode": {
    "name": "ipython",
    "version": 3
   },
   "file_extension": ".py",
   "mimetype": "text/x-python",
   "name": "python",
   "nbconvert_exporter": "python",
   "pygments_lexer": "ipython3",
   "version": "3.7.6"
  }
 },
 "nbformat": 4,
 "nbformat_minor": 4
}
